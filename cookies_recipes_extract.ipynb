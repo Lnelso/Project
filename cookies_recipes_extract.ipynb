{
 "cells": [
  {
   "cell_type": "code",
   "execution_count": null,
   "metadata": {
    "collapsed": true
   },
   "outputs": [],
   "source": [
    "import re\n",
    "import csv\n",
    "import numpy as np\n",
    "import pandas as pd\n",
    "import inflect\n",
    "import matplotlib.pyplot as plt"
   ]
  },
  {
   "cell_type": "code",
   "execution_count": null,
   "metadata": {
    "collapsed": true
   },
   "outputs": [],
   "source": [
    "engine = inflect.engine()"
   ]
  },
  {
   "cell_type": "code",
   "execution_count": null,
   "metadata": {},
   "outputs": [],
   "source": [
    "engine.singular_noun(' ')"
   ]
  },
  {
   "cell_type": "code",
   "execution_count": null,
   "metadata": {
    "collapsed": true
   },
   "outputs": [],
   "source": [
    "ingredients = open(\"data/recipeClean/ingredients.txt\", mode='r', buffering=-1, encoding=\"ISO-8859-1\", errors=None, newline=None, closefd=True, opener=None)\n",
    "with open('data/to_remove.csv', 'r') as f:\n",
    "    reader = csv.reader(f)\n",
    "    to_remove = [item.lower() for sublist in list(reader) for item in sublist]"
   ]
  },
  {
   "cell_type": "code",
   "execution_count": null,
   "metadata": {
    "collapsed": true
   },
   "outputs": [],
   "source": [
    "content = ingredients.readlines()"
   ]
  },
  {
   "cell_type": "code",
   "execution_count": null,
   "metadata": {
    "collapsed": true
   },
   "outputs": [],
   "source": [
    "ids = np.zeros(len(content), dtype=object)\n",
    "titles = np.zeros(len(content), dtype=object)\n",
    "ingredients = np.zeros(len(content), dtype=object)\n",
    "for i in range(len(content)):\n",
    "    line = content[i].split('\\t')\n",
    "    if len(line) > 4:\n",
    "        id_recipe, title, ingredient = line[0], line[3], line[4]\n",
    "        ids[i] = id_recipe\n",
    "        titles[i] = title\n",
    "        ingredients[i] = ingredient\n",
    "    else:\n",
    "        ids[i] = line[0]\n",
    "        titles[i] = line[2]\n",
    "        ingredients[i] = \"\""
   ]
  },
  {
   "cell_type": "code",
   "execution_count": null,
   "metadata": {},
   "outputs": [],
   "source": [
    "titles_pd = pd.DataFrame(titles)\n",
    "titles_pd = titles_pd.rename(columns={'0':'Titles'})\n",
    "titles_pd.head(5)"
   ]
  },
  {
   "cell_type": "code",
   "execution_count": null,
   "metadata": {
    "collapsed": true
   },
   "outputs": [],
   "source": [
    "ingredients_pd = pd.DataFrame(ingredients)"
   ]
  },
  {
   "cell_type": "code",
   "execution_count": null,
   "metadata": {
    "collapsed": true
   },
   "outputs": [],
   "source": [
    "def split_ingredient(ingredient):\n",
    "    return ingredient.split('|')"
   ]
  },
  {
   "cell_type": "code",
   "execution_count": null,
   "metadata": {
    "collapsed": true
   },
   "outputs": [],
   "source": [
    "def clean_ingredient(ingredient):\n",
    "    ingredient = remove_par(ingredient)\n",
    "    ingredient = remove_special_char(ingredient)\n",
    "    ingredient = remove_letter(ingredient)\n",
    "    ingredient = remove_number(ingredient)\n",
    "    ingredient = remove_whitespace_comma(ingredient)\n",
    "    ingredient = remove_useless_words(ingredient)\n",
    "    ingredient = remove_adjective(ingredient)\n",
    "    ingredient = remove_alternative(ingredient)\n",
    "    ingredient = ingredient.lower()\n",
    "    ingredient = remove_minus(ingredient)\n",
    "    ingredient = remove_conjonction(ingredient)\n",
    "    ingredient = remove_space(ingredient)\n",
    "    if engine.singular_noun(ingredient):\n",
    "        return engine.singular_noun(ingredient)\n",
    "    else:\n",
    "        return ingredient\n",
    "    \n",
    "def remove_par(ingredient):\n",
    "    return re.sub(r\" \\([^)]*\\)\",\"\", ingredient)\n",
    "\n",
    "def remove_special_char(ingredient):\n",
    "    return re.sub(r'/|\\n|%|:|\\*|\\.|#' , '', ingredient)\n",
    "\n",
    "def remove_letter(ingredient):\n",
    "    ingredient = re.sub(r'(\\A| )s( |\\Z)' , ' ', ingredient)\n",
    "    ingredient = re.sub(r'(\\A| )(t|T)( |\\Z)' , ' ', ingredient)\n",
    "    ingredient = re.sub(r'(\\A| )c( |\\Z)' , ' ', ingredient)\n",
    "    ingredient = re.sub(r'(\\A| )a ' , ' ', ingredient)\n",
    "    ingredient = re.sub(r'(\\A| )g ' , ' ', ingredient)\n",
    "    return ingredient\n",
    "\n",
    "def remove_number(ingredient):\n",
    "    return re.sub(r\"\\d+\", '', ingredient)\n",
    "\n",
    "def remove_whitespace_comma(ingredient):\n",
    "    return ingredient.lstrip().split(',')[0]\n",
    "\n",
    "def remove_useless_words(ingredient):\n",
    "    ingredient_list = ingredient.split(' ')\n",
    "    ingredient_list = [word for word in ingredient_list if (word not in to_remove)]\n",
    "    ingredient = ' '.join(ingredient_list)\n",
    "    return ingredient\n",
    "\n",
    "def remove_adjective(ingredient):\n",
    "    return re.sub(r'\\w+ed\\s','',ingredient)\n",
    "\n",
    "def remove_alternative(ingredient):\n",
    "    return ingredient.split(' or ')[0]\n",
    "\n",
    "def remove_minus(ingredient):\n",
    "    return re.sub(r'\\A-', '', ingredient)\n",
    "\n",
    "def remove_conjonction(ingredient):\n",
    "    return re.sub(r'\\Aof |\\Aand |\\Ato ', '', ingredient)\n",
    "\n",
    "def remove_space(ingredient):\n",
    "    ingredient = re.sub(r'( )+', ' ', ingredient)\n",
    "    return re.sub(r'\\A ', '', ingredient)"
   ]
  },
  {
   "cell_type": "code",
   "execution_count": null,
   "metadata": {},
   "outputs": [],
   "source": [
    "list(map(lambda x: clean_ingredient(x), split_ingredient(ingredients[0])))"
   ]
  },
  {
   "cell_type": "code",
   "execution_count": null,
   "metadata": {
    "collapsed": true,
    "scrolled": false
   },
   "outputs": [],
   "source": [
    "#for ingredient in ingredients:\n",
    "#    print(list(map(lambda x: clean_ingredient(x), split_ingredient(ingredient))))"
   ]
  },
  {
   "cell_type": "code",
   "execution_count": null,
   "metadata": {},
   "outputs": [],
   "source": [
    "\"\"\"for i in range(len(ingredients)):\n",
    "    print(\"cleaned: \")\n",
    "    print(list(map(lambda x: clean_ingredient(x), split_ingredient(ingredients[i]))))\n",
    "    print(\"original: \")\n",
    "    print(ingredients[i])\n",
    "    #a = split_ingredient(ingredients[i])\n",
    "    #for b in a:  \n",
    "    #    if('tb' in b):\n",
    "    #        print(b)\n",
    "    #        print('\\n')\"\"\""
   ]
  },
  {
   "cell_type": "code",
   "execution_count": null,
   "metadata": {},
   "outputs": [],
   "source": [
    "clean_recipes = []\n",
    "for i in range(len(ingredients)):\n",
    "    clean_recipe = list(map(lambda x: clean_ingredient(x), split_ingredient(ingredients[i])))\n",
    "    clean_recipe = [x for x in clean_recipe if x != '' or x != '\\'' or x != '\\\\n' or x != ['']]\n",
    "    if clean_recipe:\n",
    "        clean_recipes.append(clean_recipe)"
   ]
  },
  {
   "cell_type": "code",
   "execution_count": null,
   "metadata": {},
   "outputs": [],
   "source": [
    "len(clean_recipes)"
   ]
  },
  {
   "cell_type": "code",
   "execution_count": null,
   "metadata": {
    "collapsed": true
   },
   "outputs": [],
   "source": [
    "ids_titles_recipes = list(zip(ids, titles, clean_recipes))"
   ]
  },
  {
   "cell_type": "code",
   "execution_count": null,
   "metadata": {
    "collapsed": true
   },
   "outputs": [],
   "source": [
    "ids_titles_recipes = [x for x in ids_titles_recipes if (x[2] != [''])]"
   ]
  },
  {
   "cell_type": "code",
   "execution_count": null,
   "metadata": {
    "collapsed": true
   },
   "outputs": [],
   "source": [
    "ids_clean = np.array([x[0] for x in ids_titles_recipes])\n",
    "titles_clean = np.array([x[1] for x in ids_titles_recipes])\n",
    "recipes_clean = np.array([x[2] for x in ids_titles_recipes])"
   ]
  },
  {
   "cell_type": "code",
   "execution_count": null,
   "metadata": {},
   "outputs": [],
   "source": [
    "df = pd.DataFrame({'id': ids_clean, 'title': titles_clean, 'recipe': recipes_clean})\n",
    "df"
   ]
  },
  {
   "cell_type": "code",
   "execution_count": null,
   "metadata": {
    "collapsed": true
   },
   "outputs": [],
   "source": [
    "df.to_json(\"clean_cookies_recipes.json\")"
   ]
  },
  {
   "cell_type": "code",
   "execution_count": null,
   "metadata": {
    "collapsed": true
   },
   "outputs": [],
   "source": [
    "df_recipe = df['recipe'].apply(pd.Series).stack().to_frame().reset_index()\n",
    "df_test = df['recipe']\n",
    "df_recipe = df_recipe[0].to_frame()"
   ]
  },
  {
   "cell_type": "code",
   "execution_count": null,
   "metadata": {
    "collapsed": true
   },
   "outputs": [],
   "source": [
    "df_recipe"
   ]
  },
  {
   "cell_type": "code",
   "execution_count": null,
   "metadata": {
    "collapsed": true
   },
   "outputs": [],
   "source": [
    "recipes_list = list(df_test.values)\n",
    "recipes_list\n",
    "b = pd.DataFrame(recipes_list)\n",
    "b"
   ]
  },
  {
   "cell_type": "code",
   "execution_count": null,
   "metadata": {
    "collapsed": true
   },
   "outputs": [],
   "source": [
    "df_recipe = df_recipe.rename(columns={0: 'ingredient'})"
   ]
  },
  {
   "cell_type": "code",
   "execution_count": null,
   "metadata": {
    "collapsed": true
   },
   "outputs": [],
   "source": [
    "df_unique = df_recipe['ingredient'].unique()\n",
    "len(df_unique)"
   ]
  },
  {
   "cell_type": "code",
   "execution_count": null,
   "metadata": {
    "collapsed": true
   },
   "outputs": [],
   "source": [
    "df_test"
   ]
  },
  {
   "cell_type": "code",
   "execution_count": null,
   "metadata": {
    "collapsed": true
   },
   "outputs": [],
   "source": [
    "ls = list()\n",
    "for i in df_test:\n",
    "    for ingr in i:\n",
    "        ls.append(ingr)"
   ]
  },
  {
   "cell_type": "code",
   "execution_count": null,
   "metadata": {
    "collapsed": true
   },
   "outputs": [],
   "source": [
    "se = pd.Series(ls)"
   ]
  },
  {
   "cell_type": "code",
   "execution_count": null,
   "metadata": {
    "collapsed": true
   },
   "outputs": [],
   "source": [
    "count_table = se.value_counts().to_frame()\n",
    "#count_table[count_table[0] > 10]\n",
    "count_table.hist(bins=500, figsize=(15, 8))\n",
    "plt.show()"
   ]
  },
  {
   "cell_type": "code",
   "execution_count": null,
   "metadata": {
    "collapsed": true
   },
   "outputs": [],
   "source": [
    "a = count_table.reset_index()\n",
    "print(a[a['index'] == 'cucumbers'])\n",
    "print('\\n')\n",
    "print(a[a['index'] == 'cucumber'])\n",
    "print('\\n')\n",
    "print(a[a['index'] == 'tomato'])\n",
    "print('\\n')\n",
    "print(a[a['index'] == 'tomatoes'])\n",
    "print('\\n')\n",
    "print(a[a['index'] == 'eggs'])\n",
    "print('\\n')\n",
    "print(a[a['index'] == 'egg'])"
   ]
  },
  {
   "cell_type": "code",
   "execution_count": null,
   "metadata": {
    "collapsed": true
   },
   "outputs": [],
   "source": [
    "count_table.plot(logy=True)\n",
    "plt.show()"
   ]
  }
 ],
 "metadata": {
  "kernelspec": {
   "display_name": "Python 3",
   "language": "python",
   "name": "python3"
  },
  "language_info": {
   "codemirror_mode": {
    "name": "ipython",
    "version": 3
   },
   "file_extension": ".py",
   "mimetype": "text/x-python",
   "name": "python",
   "nbconvert_exporter": "python",
   "pygments_lexer": "ipython3",
   "version": "3.7.0"
  }
 },
 "nbformat": 4,
 "nbformat_minor": 2
}

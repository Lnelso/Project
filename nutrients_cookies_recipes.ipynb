{
 "cells": [
  {
   "cell_type": "markdown",
   "metadata": {},
   "source": [
    "# Cooking Recipes dataset"
   ]
  },
  {
   "cell_type": "markdown",
   "metadata": {},
   "source": [
    "The cooking recipes dataset is a collection of html webpage. On the webpage that host the dataset, we found two perl scripts: one that extract the indredient from the recipes and another that extract the nutrients from a recipe.\n",
    "In order to use those scripts, we clean the log file that came with the data set to transform it into a list of http link. We then exectute those script with this cleaned file as input and redirect the output into another file that we format in order to use it."
   ]
  },
  {
   "cell_type": "markdown",
   "metadata": {},
   "source": [
    "## Cleaning msg.txt"
   ]
  },
  {
   "cell_type": "code",
   "execution_count": 1,
   "metadata": {
    "collapsed": true
   },
   "outputs": [],
   "source": [
    "import numpy as np\n",
    "import pandas as pd\n",
    "import re"
   ]
  },
  {
   "cell_type": "code",
   "execution_count": 2,
   "metadata": {
    "collapsed": true
   },
   "outputs": [],
   "source": [
    "log = open(\"data/msg.txt\", mode='r', buffering=-1, encoding=None, errors=None, newline=None, closefd=True, opener=None)\n",
    "clean_log = open(\"data/msg_clean.txt\", mode='w', buffering=-1, encoding=None, errors=None, newline=None, closefd=True, opener=None)"
   ]
  },
  {
   "cell_type": "code",
   "execution_count": 3,
   "metadata": {
    "collapsed": true
   },
   "outputs": [],
   "source": [
    "content = log.readlines()"
   ]
  },
  {
   "cell_type": "code",
   "execution_count": 4,
   "metadata": {
    "collapsed": true
   },
   "outputs": [],
   "source": [
    "for i in range(len(content)):\n",
    "    line = content[i]\n",
    "    breaked_line = line.split(' ')\n",
    "    if len(breaked_line) == 1:\n",
    "        breaked_line = line.split('\\t')\n",
    "        url = breaked_line[1]\n",
    "        cleaned_url = url[4:]\n",
    "        clean_log.write(cleaned_url)\n",
    "        clean_log.write('\\n')\n",
    "    else:\n",
    "        url = breaked_line[2]\n",
    "        cleaned_url = url[4:]\n",
    "        clean_log.write(cleaned_url)\n",
    "        clean_log.write('\\n')"
   ]
  },
  {
   "cell_type": "markdown",
   "metadata": {},
   "source": [
    "## Cleaning nutrients.txt"
   ]
  },
  {
   "cell_type": "markdown",
   "metadata": {},
   "source": [
    "The nutrients.txt file is the result of the extractNutrientsFromRecipes perl script when executed on the msg.txt file. It contains the nutrients of a recipe (in mg). Recipes are identified by a md5 encryptyon of their html. Therefore, their ids are the same than the one we can find in ingredients.txt"
   ]
  },
  {
   "cell_type": "code",
   "execution_count": 5,
   "metadata": {
    "collapsed": true
   },
   "outputs": [],
   "source": [
    "# Open the file\n",
    "nutrients_txt = open(\"data/recipeClean/nutrients.txt\", mode='r', buffering=-1, encoding=\"ISO-8859-1\", errors=None, newline=None, closefd=True, opener=None)"
   ]
  },
  {
   "cell_type": "code",
   "execution_count": 6,
   "metadata": {
    "collapsed": true
   },
   "outputs": [],
   "source": [
    "# Get all the lines\n",
    "content = nutrients_txt.readlines()"
   ]
  },
  {
   "cell_type": "code",
   "execution_count": 7,
   "metadata": {},
   "outputs": [],
   "source": [
    "# Retrieve each nutrient and the id of the recipes\n",
    "nutrients = []\n",
    "ids = np.zeros(len(content), dtype=object)\n",
    "\n",
    "def check_nan(nutrient):\n",
    "    if(nutrient == '?' or nutrient == '-'):\n",
    "        return np.nan\n",
    "    else:\n",
    "        return float(nutrient)\n",
    "\n",
    "for i in range(len(content)):\n",
    "    line = content[i].split('\\t')\n",
    "    nutrients.append((check_nan(line[0]),\n",
    "                     check_nan(line[1]),\n",
    "                     check_nan(line[2]),\n",
    "                     check_nan(line[3]),\n",
    "                     check_nan(line[4]),\n",
    "                     check_nan(line[5])))\n",
    "    ids[i] = line[6]"
   ]
  },
  {
   "cell_type": "code",
   "execution_count": 8,
   "metadata": {},
   "outputs": [],
   "source": [
    "# Construct a DataFrame where nutrients are indexed by the ids of the recipes\n",
    "nutrients = np.array(nutrients)\n",
    "nutrients_df = pd.DataFrame(nutrients, columns= ('kcal', 'carb', 'fat', 'prot', 'sodium', 'chol'), index=ids)\n",
    "#nutrients_df.to_json(\"nutrients_cookies_recipes.json\")"
   ]
  },
  {
   "cell_type": "markdown",
   "metadata": {},
   "source": [
    "### Light Analysis of the nutrients dataframe"
   ]
  },
  {
   "cell_type": "code",
   "execution_count": 9,
   "metadata": {},
   "outputs": [
    {
     "data": {
      "text/html": [
       "<div>\n",
       "<style scoped>\n",
       "    .dataframe tbody tr th:only-of-type {\n",
       "        vertical-align: middle;\n",
       "    }\n",
       "\n",
       "    .dataframe tbody tr th {\n",
       "        vertical-align: top;\n",
       "    }\n",
       "\n",
       "    .dataframe thead th {\n",
       "        text-align: right;\n",
       "    }\n",
       "</style>\n",
       "<table border=\"1\" class=\"dataframe\">\n",
       "  <thead>\n",
       "    <tr style=\"text-align: right;\">\n",
       "      <th></th>\n",
       "      <th>kcal</th>\n",
       "      <th>carb</th>\n",
       "      <th>fat</th>\n",
       "      <th>prot</th>\n",
       "      <th>sodium</th>\n",
       "      <th>chol</th>\n",
       "    </tr>\n",
       "  </thead>\n",
       "  <tbody>\n",
       "    <tr>\n",
       "      <th>count</th>\n",
       "      <td>34675.000000</td>\n",
       "      <td>34634.000000</td>\n",
       "      <td>34623.000000</td>\n",
       "      <td>34630.000000</td>\n",
       "      <td>33824.000000</td>\n",
       "      <td>33631.000000</td>\n",
       "    </tr>\n",
       "    <tr>\n",
       "      <th>mean</th>\n",
       "      <td>347.626311</td>\n",
       "      <td>140.007216</td>\n",
       "      <td>154.379675</td>\n",
       "      <td>56.039255</td>\n",
       "      <td>614.618764</td>\n",
       "      <td>63.253001</td>\n",
       "    </tr>\n",
       "    <tr>\n",
       "      <th>std</th>\n",
       "      <td>438.068277</td>\n",
       "      <td>233.083793</td>\n",
       "      <td>246.405880</td>\n",
       "      <td>73.188498</td>\n",
       "      <td>1937.704896</td>\n",
       "      <td>105.702694</td>\n",
       "    </tr>\n",
       "    <tr>\n",
       "      <th>min</th>\n",
       "      <td>0.000000</td>\n",
       "      <td>0.000000</td>\n",
       "      <td>0.000000</td>\n",
       "      <td>0.000000</td>\n",
       "      <td>0.000000</td>\n",
       "      <td>0.000000</td>\n",
       "    </tr>\n",
       "    <tr>\n",
       "      <th>25%</th>\n",
       "      <td>158.000000</td>\n",
       "      <td>48.500000</td>\n",
       "      <td>45.450000</td>\n",
       "      <td>12.000000</td>\n",
       "      <td>147.000000</td>\n",
       "      <td>4.000000</td>\n",
       "    </tr>\n",
       "    <tr>\n",
       "      <th>50%</th>\n",
       "      <td>270.000000</td>\n",
       "      <td>102.400000</td>\n",
       "      <td>102.600000</td>\n",
       "      <td>28.800000</td>\n",
       "      <td>343.000000</td>\n",
       "      <td>35.000000</td>\n",
       "    </tr>\n",
       "    <tr>\n",
       "      <th>75%</th>\n",
       "      <td>422.050000</td>\n",
       "      <td>172.000000</td>\n",
       "      <td>193.500000</td>\n",
       "      <td>84.800000</td>\n",
       "      <td>714.000000</td>\n",
       "      <td>84.600000</td>\n",
       "    </tr>\n",
       "    <tr>\n",
       "      <th>max</th>\n",
       "      <td>14082.000000</td>\n",
       "      <td>11342.800000</td>\n",
       "      <td>11222.100000</td>\n",
       "      <td>2770.680000</td>\n",
       "      <td>113226.600000</td>\n",
       "      <td>4149.400000</td>\n",
       "    </tr>\n",
       "  </tbody>\n",
       "</table>\n",
       "</div>"
      ],
      "text/plain": [
       "               kcal          carb           fat          prot         sodium  \\\n",
       "count  34675.000000  34634.000000  34623.000000  34630.000000   33824.000000   \n",
       "mean     347.626311    140.007216    154.379675     56.039255     614.618764   \n",
       "std      438.068277    233.083793    246.405880     73.188498    1937.704896   \n",
       "min        0.000000      0.000000      0.000000      0.000000       0.000000   \n",
       "25%      158.000000     48.500000     45.450000     12.000000     147.000000   \n",
       "50%      270.000000    102.400000    102.600000     28.800000     343.000000   \n",
       "75%      422.050000    172.000000    193.500000     84.800000     714.000000   \n",
       "max    14082.000000  11342.800000  11222.100000   2770.680000  113226.600000   \n",
       "\n",
       "               chol  \n",
       "count  33631.000000  \n",
       "mean      63.253001  \n",
       "std      105.702694  \n",
       "min        0.000000  \n",
       "25%        4.000000  \n",
       "50%       35.000000  \n",
       "75%       84.600000  \n",
       "max     4149.400000  "
      ]
     },
     "execution_count": 9,
     "metadata": {},
     "output_type": "execute_result"
    }
   ],
   "source": [
    "nutrients_df.describe()"
   ]
  },
  {
   "cell_type": "code",
   "execution_count": 10,
   "metadata": {},
   "outputs": [],
   "source": [
    "# If values of all the different nutrients are set to 0, it should be NaN values instead\n",
    "nutrients_df[(nutrients_df['kcal'] == 0) & \n",
    "             (nutrients_df['carb'] == 0) & \n",
    "             (nutrients_df['fat'] == 0) & \n",
    "             (nutrients_df['prot'] == 0) &\n",
    "             (nutrients_df['sodium'] == 0) &\n",
    "             (nutrients_df['chol'] == 0)] = np.nan"
   ]
  },
  {
   "cell_type": "code",
   "execution_count": 11,
   "metadata": {},
   "outputs": [
    {
     "data": {
      "text/html": [
       "<div>\n",
       "<style scoped>\n",
       "    .dataframe tbody tr th:only-of-type {\n",
       "        vertical-align: middle;\n",
       "    }\n",
       "\n",
       "    .dataframe tbody tr th {\n",
       "        vertical-align: top;\n",
       "    }\n",
       "\n",
       "    .dataframe thead th {\n",
       "        text-align: right;\n",
       "    }\n",
       "</style>\n",
       "<table border=\"1\" class=\"dataframe\">\n",
       "  <thead>\n",
       "    <tr style=\"text-align: right;\">\n",
       "      <th></th>\n",
       "      <th>kcal</th>\n",
       "      <th>carb</th>\n",
       "      <th>fat</th>\n",
       "      <th>prot</th>\n",
       "      <th>sodium</th>\n",
       "      <th>chol</th>\n",
       "    </tr>\n",
       "  </thead>\n",
       "  <tbody>\n",
       "    <tr>\n",
       "      <th>count</th>\n",
       "      <td>34637.000000</td>\n",
       "      <td>34596.000000</td>\n",
       "      <td>34585.000000</td>\n",
       "      <td>34592.000000</td>\n",
       "      <td>33786.000000</td>\n",
       "      <td>33593.000000</td>\n",
       "    </tr>\n",
       "    <tr>\n",
       "      <th>mean</th>\n",
       "      <td>348.007689</td>\n",
       "      <td>140.160999</td>\n",
       "      <td>154.549299</td>\n",
       "      <td>56.100815</td>\n",
       "      <td>615.310041</td>\n",
       "      <td>63.324552</td>\n",
       "    </tr>\n",
       "    <tr>\n",
       "      <th>std</th>\n",
       "      <td>438.157086</td>\n",
       "      <td>233.165552</td>\n",
       "      <td>246.488042</td>\n",
       "      <td>73.205102</td>\n",
       "      <td>1938.684615</td>\n",
       "      <td>105.741041</td>\n",
       "    </tr>\n",
       "    <tr>\n",
       "      <th>min</th>\n",
       "      <td>0.000000</td>\n",
       "      <td>0.000000</td>\n",
       "      <td>0.000000</td>\n",
       "      <td>0.000000</td>\n",
       "      <td>0.000000</td>\n",
       "      <td>0.000000</td>\n",
       "    </tr>\n",
       "    <tr>\n",
       "      <th>25%</th>\n",
       "      <td>158.300000</td>\n",
       "      <td>48.800000</td>\n",
       "      <td>45.900000</td>\n",
       "      <td>12.000000</td>\n",
       "      <td>148.000000</td>\n",
       "      <td>4.100000</td>\n",
       "    </tr>\n",
       "    <tr>\n",
       "      <th>50%</th>\n",
       "      <td>270.000000</td>\n",
       "      <td>102.400000</td>\n",
       "      <td>102.600000</td>\n",
       "      <td>29.200000</td>\n",
       "      <td>344.000000</td>\n",
       "      <td>35.000000</td>\n",
       "    </tr>\n",
       "    <tr>\n",
       "      <th>75%</th>\n",
       "      <td>422.500000</td>\n",
       "      <td>172.000000</td>\n",
       "      <td>193.500000</td>\n",
       "      <td>84.800000</td>\n",
       "      <td>715.000000</td>\n",
       "      <td>85.000000</td>\n",
       "    </tr>\n",
       "    <tr>\n",
       "      <th>max</th>\n",
       "      <td>14082.000000</td>\n",
       "      <td>11342.800000</td>\n",
       "      <td>11222.100000</td>\n",
       "      <td>2770.680000</td>\n",
       "      <td>113226.600000</td>\n",
       "      <td>4149.400000</td>\n",
       "    </tr>\n",
       "  </tbody>\n",
       "</table>\n",
       "</div>"
      ],
      "text/plain": [
       "               kcal          carb           fat          prot         sodium  \\\n",
       "count  34637.000000  34596.000000  34585.000000  34592.000000   33786.000000   \n",
       "mean     348.007689    140.160999    154.549299     56.100815     615.310041   \n",
       "std      438.157086    233.165552    246.488042     73.205102    1938.684615   \n",
       "min        0.000000      0.000000      0.000000      0.000000       0.000000   \n",
       "25%      158.300000     48.800000     45.900000     12.000000     148.000000   \n",
       "50%      270.000000    102.400000    102.600000     29.200000     344.000000   \n",
       "75%      422.500000    172.000000    193.500000     84.800000     715.000000   \n",
       "max    14082.000000  11342.800000  11222.100000   2770.680000  113226.600000   \n",
       "\n",
       "               chol  \n",
       "count  33593.000000  \n",
       "mean      63.324552  \n",
       "std      105.741041  \n",
       "min        0.000000  \n",
       "25%        4.100000  \n",
       "50%       35.000000  \n",
       "75%       85.000000  \n",
       "max     4149.400000  "
      ]
     },
     "execution_count": 11,
     "metadata": {},
     "output_type": "execute_result"
    }
   ],
   "source": [
    "nutrients_df.describe()"
   ]
  },
  {
   "cell_type": "code",
   "execution_count": 12,
   "metadata": {},
   "outputs": [
    {
     "data": {
      "text/plain": [
       "kcal      29612\n",
       "carb      29653\n",
       "fat       29664\n",
       "prot      29657\n",
       "sodium    30463\n",
       "chol      30656\n",
       "dtype: int64"
      ]
     },
     "execution_count": 12,
     "metadata": {},
     "output_type": "execute_result"
    }
   ],
   "source": [
    "nutrients_df.isnull().sum()"
   ]
  },
  {
   "cell_type": "markdown",
   "metadata": {},
   "source": [
    "If we take the minumum NaN values among the different kind of nutrients and we divide it by the total number of row we get: 29612/64249 = 0.46. We are close to the 47% of nil values announced [here](http://infolab.stanford.edu/~west1/from-cookies-to-cooks/)"
   ]
  }
 ],
 "metadata": {
  "kernelspec": {
   "display_name": "Python 3",
   "language": "python",
   "name": "python3"
  },
  "language_info": {
   "codemirror_mode": {
    "name": "ipython",
    "version": 3
   },
   "file_extension": ".py",
   "mimetype": "text/x-python",
   "name": "python",
   "nbconvert_exporter": "python",
   "pygments_lexer": "ipython3",
   "version": "3.6.1"
  }
 },
 "nbformat": 4,
 "nbformat_minor": 2
}

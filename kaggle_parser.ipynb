{
 "cells": [
  {
   "cell_type": "code",
   "execution_count": 19,
   "metadata": {},
   "outputs": [],
   "source": [
    "import numpy as np\n",
    "import json\n",
    "import csv\n",
    "from urllib.request import urlopen\n",
    "from bs4 import BeautifulSoup\n",
    "import pandas as pd\n",
    "import re\n",
    "from IPython.display import display\n",
    "import matplotlib.pyplot as plt\n",
    "from tqdm import tqdm\n",
    "from efficient_apriori import apriori"
   ]
  },
  {
   "cell_type": "code",
   "execution_count": 2,
   "metadata": {},
   "outputs": [],
   "source": [
    "with open('data/kaggle/train.json') as f:\n",
    "    data = json.load(f)\n",
    "with open('data/nationalities.csv', 'r') as f:\n",
    "    reader = csv.reader(f)\n",
    "    nationalities = [item.lower() for sublist in list(reader)[1:] for item in sublist]\n",
    "with open('data/to_remove.csv', 'r') as f:\n",
    "    reader = csv.reader(f)\n",
    "    to_remove = [item.lower() for sublist in list(reader) for item in sublist]"
   ]
  },
  {
   "cell_type": "code",
   "execution_count": 3,
   "metadata": {},
   "outputs": [],
   "source": [
    "baseURL = \"https://en.wikipedia.org/wiki/\""
   ]
  },
  {
   "cell_type": "markdown",
   "metadata": {},
   "source": [
    "ingr_size = list(['small', 'medium', 'large', 'big', 'flat'])\n",
    "\n",
    "ingr_parts = list(['breast','breasts', 'tender', 'tenders', 'ribs', 'shoulder', 'fillet',\n",
    "                   'steak', 'tigh', 'liver', 'livers',\n",
    "                   'clove', 'cloves', 'leaf', 'leaves', 'flakes', 'threads', 'paste',\n",
    "                   'piece', 'pieces', 'slice', 'slices', 'crumbles', 'powder', 'blend', 'mix'])\n",
    "\n",
    "ingr_state = list(['grilled', 'roasted', 'toasted', 'fried', 'baked', 'cooked',\n",
    "              'chopped', 'cut', 'sliced', 'shredded',\n",
    "              'frozen', 'refrigerated', 'fresh', 'freshly', 'organic', 'natural', 'active',\n",
    "              'boneless', 'skinless', 'condensed', 'ground', 'warm', 'cold'])\n",
    "\n",
    "ingr_color = list(['purple', 'yellow', 'blue', 'red', 'white', 'black', 'green', 'brown'])\n",
    "\n",
    "#to_remove_step1 = ingr_size+ingr_parts+ingr_state\n",
    "to_remove_step2 = ingr_color\n",
    "\n"
   ]
  },
  {
   "cell_type": "markdown",
   "metadata": {},
   "source": [
    "to_remove_step1  = list(['crumbles', 'ground', 'grilled', 'roasted', 'toasted', 'fried', 'baked', 'chopped',\n",
    "                         'frozen', 'refrigerated', 'boneless', 'natural', 'organic', 'fresh', 'freshly',\n",
    "                         'medium', 'large','big', 'small', 'breasts', 'tender', 'ribs', 'shoulder', 'paste', 'cloves', 'slivered',\n",
    "                         'condensed', 'cut', 'piece', 'pieces', 'sliced', 'cooked', 'grated'])\n",
    "to_remove_step2  = list(['purple', 'yellow', 'blue', 'red', 'white', 'black', 'green', 'dried'])"
   ]
  },
  {
   "cell_type": "code",
   "execution_count": 4,
   "metadata": {},
   "outputs": [],
   "source": [
    "\"\"\"def try_find_ingredient2(ingr_list):\n",
    "    ingr = '+'.join(ingr_list)\n",
    "    str1 = \"Went to foodDB for: \"+ingr+\" -> \"\n",
    "    try:\n",
    "        url = urlopen(baseURL2+ingr)\n",
    "    except:\n",
    "        return \"\"\n",
    "    res = BeautifulSoup(url.read(),\"html5lib\");\n",
    "    title = res.find(class_= \"hit-name\").text.lower()\n",
    "    title = re.sub(r\" \\(.*\\)\",\"\", title)\n",
    "    join = [value for value in title.split() if value in ingr_list]\n",
    "    if len(join) > 0:\n",
    "        title = ' '.join(join)\n",
    "    print(str1+title)\n",
    "    return title\"\"\"\n",
    "\n",
    "def try_find_ingredient(ingr_list):\n",
    "    ingr = '_'.join(ingr_list)\n",
    "    try:\n",
    "        url = urlopen(baseURL+ingr)\n",
    "    except:\n",
    "        return \"\"\n",
    "    res = BeautifulSoup(url.read(),\"html5lib\");\n",
    "    title = res.find(id=\"firstHeading\").text.lower()\n",
    "    title = re.sub(r\" \\(.*\\)\",\"\", title) #remove (desambiguation)\n",
    "    return title"
   ]
  },
  {
   "cell_type": "code",
   "execution_count": 5,
   "metadata": {},
   "outputs": [],
   "source": [
    "\"\"\"def clean_ingredient(ingr):\n",
    "    ingr = ingr.split(',')[0].split('(')[0].replace('%', \"\").lower()\n",
    "    ingredient_list = [ing for ing in ingr.split() if (ing not in nationalities and not ing.isdigit()) ]\n",
    "    ingredient = try_find_ingredient(ingredient_list)\n",
    "    if ingredient == \"\":\n",
    "        ingredient_list = [word for word in ingredient_list if (word not in to_remove)]\n",
    "        ingredient = try_find_ingredient(ingredient_list)\n",
    "        if ingredient == \"\":\n",
    "            ingredient = ' '.join(ingredient_list)\n",
    "        else:\n",
    "            print('FOUND AT 2ND SEARCH')\n",
    "    return ingredient\"\"\"\n",
    "\n",
    "def clean_ingredient(ingr):\n",
    "    ingr = re.sub(r'\\([^)]*\\)','', ingr)\n",
    "    ingr = ingr.split(',')[0].replace('%', \"\").lower()\n",
    "    ingredient_list = [ing for ing in ingr.split() if (ing not in nationalities and not ing.isdigit()) ]\n",
    "    ingredient = \"\"#try_find_ingredient(ingredient_list)\n",
    "    if ingredient == \"\":\n",
    "        ingredient_list = [word for word in ingredient_list if (word not in to_remove)]\n",
    "        ingredient = ' '.join(ingredient_list)\n",
    "    return ingredient"
   ]
  },
  {
   "cell_type": "code",
   "execution_count": 6,
   "metadata": {},
   "outputs": [],
   "source": [
    "def get_ingredients_from_recipe(recipe):\n",
    "    ingredients = set()\n",
    "    for ingr in recipe['ingredients']:\n",
    "        cleaned_ingr = clean_ingredient(ingr)\n",
    "        if cleaned_ingr == \"\" and 'leaves' in ingr:\n",
    "            cleaned_ingr = 'lettuce'\n",
    "        if cleaned_ingr == \"\" and ingr == 'boneless, skinless chicken breast':\n",
    "            cleaned_ingr = 'chicken breasts'\n",
    "        if cleaned_ingr:\n",
    "            ingredients.add(cleaned_ingr)\n",
    "            \n",
    "    return list(ingredients)"
   ]
  },
  {
   "cell_type": "code",
   "execution_count": 7,
   "metadata": {},
   "outputs": [],
   "source": [
    "def print_ingredients_from_recipe(recipe):\n",
    "    table = list()\n",
    "    for ingr in recipe['ingredients']:\n",
    "        cleaned_ingr = clean_ingredient(ingr)\n",
    "        table.append((ingr, cleaned_ingr))\n",
    "    df = pd.DataFrame.from_records(table, columns=['from', 'to'])\n",
    "    display(df)"
   ]
  },
  {
   "cell_type": "code",
   "execution_count": 8,
   "metadata": {},
   "outputs": [
    {
     "data": {
      "text/plain": [
       "39774"
      ]
     },
     "execution_count": 8,
     "metadata": {},
     "output_type": "execute_result"
    }
   ],
   "source": [
    "len(data)"
   ]
  },
  {
   "cell_type": "code",
   "execution_count": 17,
   "metadata": {},
   "outputs": [
    {
     "name": "stderr",
     "output_type": "stream",
     "text": [
      "100%|██████████| 39774/39774 [00:05<00:00, 7271.38it/s]\n"
     ]
    },
    {
     "name": "stdout",
     "output_type": "stream",
     "text": [
      "Wall time: 5.5 s\n"
     ]
    }
   ],
   "source": [
    "%%time\n",
    "table = list()\n",
    "for recipe in tqdm(data):\n",
    "    ingredients = get_ingredients_from_recipe(recipe)\n",
    "    table.append(tuple(ingredients))"
   ]
  },
  {
   "cell_type": "code",
   "execution_count": 10,
   "metadata": {},
   "outputs": [
    {
     "data": {
      "text/plain": [
       "5552"
      ]
     },
     "execution_count": 10,
     "metadata": {},
     "output_type": "execute_result"
    }
   ],
   "source": [
    "df_unique = df['to'].unique()\n",
    "len(df_unique)"
   ]
  },
  {
   "cell_type": "code",
   "execution_count": 11,
   "metadata": {},
   "outputs": [
    {
     "data": {
      "text/plain": [
       "[]"
      ]
     },
     "execution_count": 11,
     "metadata": {},
     "output_type": "execute_result"
    },
    {
     "data": {
      "image/png": "[encoded data removed]",
      "text/plain": [
       "<Figure size 432x288 with 1 Axes>"
      ]
     },
     "metadata": {
      "needs_background": "light"
     },
     "output_type": "display_data"
    }
   ],
   "source": [
    "df_count = df.groupby('to').agg('count')\n",
    "df_count.hist(bins=100)\n",
    "plt.plot()"
   ]
  },
  {
   "cell_type": "code",
   "execution_count": 12,
   "metadata": {},
   "outputs": [
    {
     "data": {
      "text/plain": [
       "from    0.99067\n",
       "dtype: float64"
      ]
     },
     "execution_count": 12,
     "metadata": {},
     "output_type": "execute_result"
    }
   ],
   "source": [
    "(df_count[df_count['from']>=4].sum()) / df_count.sum()"
   ]
  },
  {
   "cell_type": "code",
   "execution_count": 13,
   "metadata": {},
   "outputs": [
    {
     "name": "stderr",
     "output_type": "stream",
     "text": [
      "C:\\Users\\Lucas\\Anaconda3\\lib\\site-packages\\pandas\\core\\indexes\\base.py:2084: VisibleDeprecationWarning: using a non-integer number instead of an integer will result in an error in the future\n",
      "  return getitem(key)\n"
     ]
    },
    {
     "data": {
      "text/plain": [
       "<matplotlib.axes._subplots.AxesSubplot at 0x2158dfcd710>"
      ]
     },
     "execution_count": 13,
     "metadata": {},
     "output_type": "execute_result"
    },
    {
     "data": {
      "image/png": "[encoded data removed]",
      "text/plain": [
       "<Figure size 432x288 with 1 Axes>"
      ]
     },
     "metadata": {
      "needs_background": "light"
     },
     "output_type": "display_data"
    }
   ],
   "source": [
    "df_count.sort_values(by='from',ascending=False).plot(logy = True)"
   ]
  },
  {
   "cell_type": "markdown",
   "metadata": {},
   "source": [
    "## Apriori implementation"
   ]
  },
  {
   "cell_type": "code",
   "execution_count": 28,
   "metadata": {},
   "outputs": [
    {
     "name": "stdout",
     "output_type": "stream",
     "text": [
      "[{baking powder} -> {salt}, {baking soda} -> {salt}, {tomatillos} -> {cilantro}, {coriander powder} -> {salt}, {cornmeal} -> {salt}, {garam masala} -> {salt}, {onion powder} -> {garlic powder}, {mirin} -> {soy sauce}, {mustard seeds} -> {salt}, {oyster sauce} -> {soy sauce}, {pepper} -> {salt}, {rice wine} -> {soy sauce}, {sake} -> {soy sauce}, {turmeric} -> {salt}, {yeast} -> {salt}, {yellow corn meal} -> {salt}, {sesame oil} -> {soy sauce}, {shaoxing wine} -> {soy sauce}, {yeast} -> {water}, {baking powder, baking soda} -> {all-purpose flour}, {baking powder, buttermilk} -> {all-purpose flour}, {all-purpose flour, baking powder} -> {salt}, {baking powder, unsalted butter} -> {all-purpose flour}, {baking powder, vanilla extract} -> {all-purpose flour}, {baking soda, buttermilk} -> {all-purpose flour}, {all-purpose flour, baking soda} -> {salt}, {baking soda, unsalted butter} -> {all-purpose flour}, {all-purpose flour, black pepper} -> {salt}, {all-purpose flour, brown sugar} -> {salt}, {all-purpose flour, buttermilk} -> {salt}, {all-purpose flour, cinnamon} -> {salt}, {all-purpose flour, cooking spray} -> {salt}, {all-purpose flour, egg yolks} -> {salt}, {all-purpose flour, vanilla extract} -> {eggs}, {all-purpose flour, granulated sugar} -> {salt}, {all-purpose flour, milk} -> {salt}, {all-purpose flour, pepper} -> {salt}, {all-purpose flour, sugar} -> {salt}, {all-purpose flour, vanilla extract} -> {salt}, {all-purpose flour, water} -> {salt}, {all-purpose flour, yeast} -> {salt}, {all-purpose flour, yeast} -> {water}, {avocado, cumin} -> {cilantro}, {avocado, garlic} -> {cilantro}, {avocado, jalapeno chilies} -> {cilantro}, {avocado, lime} -> {cilantro}, {avocado, lime juice} -> {cilantro}, {baking powder, buttermilk} -> {baking soda}, {baking powder, baking soda} -> {salt}, {baking powder, butter} -> {salt}, {baking powder, buttermilk} -> {salt}, {baking powder, eggs} -> {salt}, {baking powder, vanilla extract} -> {eggs}, {baking powder, milk} -> {salt}, {baking powder, sugar} -> {salt}, {baking powder, unsalted butter} -> {salt}, {baking powder, vanilla extract} -> {salt}, {baking powder, water} -> {salt}, {baking soda, butter} -> {salt}, {baking soda, buttermilk} -> {salt}, {baking soda, eggs} -> {salt}, {baking soda, sugar} -> {salt}, {baking soda, unsalted butter} -> {salt}, {basil, pepper} -> {salt}, {bay, pepper} -> {salt}, {beef, pepper} -> {salt}, {black beans, chili powder} -> {cumin}, {black pepper, butter} -> {salt}, {black pepper, celery} -> {salt}, {black pepper, cooking spray} -> {salt}, {black pepper, fat chicken broth} -> {salt}, {black pepper, onion powder} -> {garlic powder}, {black pepper, onion} -> {salt}, {black pepper, water} -> {salt}, {black pepper, sesame oil} -> {soy sauce}, {brown sugar, green onions} -> {soy sauce}, {brown sugar, sesame oil} -> {soy sauce}, {butter, flour} -> {salt}, {butter, nutmeg} -> {salt}, {butter, pepper} -> {salt}, {butter, water} -> {salt}, {buttermilk, sugar} -> {salt}, {carrots, potatoes} -> {onions}, {carrots, pepper} -> {salt}, {carrots, sesame oil} -> {soy sauce}, {cayenne pepper, pepper} -> {salt}, {celery, pepper} -> {salt}, {cheddar cheese, pepper} -> {salt}, {chicken, pepper} -> {salt}, {chicken breasts, pepper} -> {salt}, {chicken broth, pepper} -> {salt}, {chili powder, garlic powder} -> {cumin}, {chili powder, oregano} -> {cumin}, {chili powder, sour cream} -> {cumin}, {chili powder, garam masala} -> {salt}, {chili powder, ginger} -> {salt}, {chili powder, oil} -> {salt}, {chili powder, pepper} -> {salt}, {chili powder, turmeric} -> {salt}, {cilantro, coriander} -> {cumin}, {cumin, lime} -> {cilantro}, {cumin, lime juice} -> {cilantro}, {cilantro, garam masala} -> {salt}, {cilantro, green chilies} -> {salt}, {jalapeno chilies, lime} -> {cilantro}, {jalapeno chilies, lime juice} -> {cilantro}, {jalapeno chilies, purple onion} -> {cilantro}, {lime juice, olive oil} -> {cilantro}, {lime juice, purple onion} -> {cilantro}, {lime juice, tomatoes} -> {cilantro}, {cilantro, oil} -> {salt}, {cilantro, pepper} -> {salt}, {cilantro, turmeric} -> {salt}, {cooking spray, eggs} -> {salt}, {corn starch, garlic} -> {soy sauce}, {corn starch, ginger} -> {soy sauce}, {corn starch, green onions} -> {soy sauce}, {corn starch, rice vinegar} -> {soy sauce}, {corn starch, scallions} -> {soy sauce}, {corn starch, sesame oil} -> {soy sauce}, {corn starch, vegetable oil} -> {soy sauce}, {cumin, oil} -> {salt}, {cumin, pepper} -> {salt}, {cumin, turmeric} -> {salt}, {cumin seed, garam masala} -> {salt}, {cumin seed, onions} -> {salt}, {cumin seed, turmeric} -> {salt}, {cumin seed, water} -> {salt}, {diced tomatoes, pepper} -> {salt}, {eggs, pepper} -> {salt}, {eggs, sesame oil} -> {soy sauce}, {flour, milk} -> {salt}, {flour, onions} -> {salt}, {flour, pepper} -> {salt}, {flour, water} -> {salt}, {garam masala, garlic} -> {salt}, {garam masala, ginger} -> {salt}, {garam masala, oil} -> {salt}, {garam masala, onions} -> {salt}, {garam masala, tomatoes} -> {onions}, {garam masala, tomatoes} -> {salt}, {garam masala, turmeric} -> {salt}, {garam masala, water} -> {salt}, {garlic, green chilies} -> {salt}, {garlic, oil} -> {salt}, {garlic, pepper} -> {salt}, {garlic, tumeric} -> {salt}, {garlic, turmeric} -> {salt}, {garlic, sesame oil} -> {soy sauce}, {garlic, sesame seeds} -> {soy sauce}, {garlic cloves, pepper} -> {salt}, {garlic cloves, sesame oil} -> {soy sauce}, {onion powder, salt} -> {garlic powder}, {garlic powder, pepper} -> {salt}, {ginger, green chilies} -> {salt}, {ginger, oil} -> {salt}, {ginger, pepper} -> {salt}, {ginger, rice vinegar} -> {soy sauce}, {ginger, sesame oil} -> {soy sauce}, {ginger, sesame seeds} -> {soy sauce}, {green bell pepper, pepper} -> {salt}, {green chilies, oil} -> {salt}, {green chilies, onions} -> {salt}, {green onions, pepper} -> {salt}, {green onions, rice vinegar} -> {soy sauce}, {green onions, sesame oil} -> {soy sauce}, {green onions, sesame seeds} -> {soy sauce}, {jalapeno chilies, pepper} -> {salt}, {lemon, pepper} -> {salt}, {lemon juice, pepper} -> {salt}, {lime, pepper} -> {salt}, {lime juice, pepper} -> {salt}, {milk, pepper} -> {salt}, {oil, onions} -> {salt}, {oil, tomatoes} -> {onions}, {oil, pepper} -> {salt}, {oil, tomatoes} -> {salt}, {oil, turmeric} -> {salt}, {oil, water} -> {salt}, {olive oil, pepper} -> {salt}, {onions, pepper} -> {salt}, {onions, turmeric} -> {salt}, {onions, sesame oil} -> {soy sauce}, {tomatoes, turmeric} -> {onions}, {oregano, pepper} -> {salt}, {paprika, pepper} -> {salt}, {parmesan cheese, pepper} -> {salt}, {parsley, pepper} -> {salt}, {pepper, potatoes} -> {salt}, {pepper, purple onion} -> {salt}, {pepper, red bell pepper} -> {salt}, {pepper, red pepper} -> {salt}, {pepper, shrimp} -> {salt}, {pepper, sour cream} -> {salt}, {pepper, soy sauce} -> {salt}, {pepper, sugar} -> {salt}, {pepper, thyme} -> {salt}, {pepper, tomato} -> {salt}, {pepper, tomatoes} -> {salt}, {pepper, vegetable oil} -> {salt}, {pepper, water} -> {salt}, {pepper, white wine} -> {salt}, {potatoes, water} -> {salt}, {red pepper, sesame oil} -> {soy sauce}, {rice vinegar, sesame oil} -> {soy sauce}, {salt, sesame oil} -> {soy sauce}, {sugar, yeast} -> {salt}, {tomatoes, turmeric} -> {salt}, {turmeric, water} -> {salt}, {water, yeast} -> {salt}, {salt, yeast} -> {water}, {scallions, sesame oil} -> {soy sauce}, {sesame oil, sesame seeds} -> {soy sauce}, {sesame oil, sugar} -> {soy sauce}, {sesame oil, vegetable oil} -> {soy sauce}, {sesame oil, water} -> {soy sauce}, {sugar, yeast} -> {water}, {baking powder, baking soda, buttermilk} -> {all-purpose flour}, {all-purpose flour, baking soda, buttermilk} -> {baking powder}, {all-purpose flour, baking powder, buttermilk} -> {baking soda}, {baking powder, baking soda, eggs} -> {all-purpose flour}, {baking powder, baking soda, salt} -> {all-purpose flour}, {all-purpose flour, baking powder, baking soda} -> {salt}, {all-purpose flour, baking powder, butter} -> {salt}, {baking powder, buttermilk, salt} -> {all-purpose flour}, {all-purpose flour, baking powder, buttermilk} -> {salt}, {baking powder, eggs, salt} -> {all-purpose flour}, {all-purpose flour, baking powder, eggs} -> {salt}, {baking powder, eggs, unsalted butter} -> {all-purpose flour}, {baking powder, eggs, vanilla extract} -> {all-purpose flour}, {all-purpose flour, baking powder, vanilla extract} -> {eggs}, {all-purpose flour, baking powder, milk} -> {salt}, {all-purpose flour, baking powder, sugar} -> {salt}, {baking powder, salt, unsalted butter} -> {all-purpose flour}, {all-purpose flour, baking powder, unsalted butter} -> {salt}, {baking soda, buttermilk, salt} -> {all-purpose flour}, {all-purpose flour, baking soda, buttermilk} -> {salt}, {baking soda, eggs, salt} -> {all-purpose flour}, {all-purpose flour, baking soda, eggs} -> {salt}, {all-purpose flour, baking soda, sugar} -> {salt}, {all-purpose flour, butter, eggs} -> {salt}, {all-purpose flour, butter, vanilla extract} -> {eggs}, {all-purpose flour, butter, milk} -> {salt}, {all-purpose flour, butter, sugar} -> {salt}, {all-purpose flour, butter, water} -> {salt}, {all-purpose flour, buttermilk, eggs} -> {salt}, {all-purpose flour, eggs, milk} -> {salt}, {all-purpose flour, eggs, sugar} -> {salt}, {all-purpose flour, eggs, unsalted butter} -> {salt}, {all-purpose flour, salt, vanilla extract} -> {eggs}, {all-purpose flour, eggs, vanilla extract} -> {salt}, {all-purpose flour, eggs, vegetable oil} -> {salt}, {all-purpose flour, eggs, water} -> {salt}, {all-purpose flour, sugar, vanilla extract} -> {eggs}, {all-purpose flour, milk, sugar} -> {salt}, {all-purpose flour, sugar, unsalted butter} -> {salt}, {all-purpose flour, sugar, vanilla extract} -> {salt}, {all-purpose flour, sugar, water} -> {salt}, {baking soda, buttermilk, salt} -> {baking powder}, {baking powder, buttermilk, salt} -> {baking soda}, {baking powder, baking soda, buttermilk} -> {salt}, {baking powder, baking soda, eggs} -> {salt}, {baking powder, butter, eggs} -> {salt}, {baking powder, butter, sugar} -> {salt}, {baking powder, eggs, milk} -> {salt}, {baking powder, eggs, sugar} -> {salt}, {baking powder, eggs, unsalted butter} -> {salt}, {baking powder, sugar, unsalted butter} -> {salt}, {baking soda, buttermilk, eggs} -> {salt}, {basil, olive oil, pepper} -> {salt}, {black pepper, cooking spray, garlic cloves} -> {salt}, {black pepper, garlic, tomatoes} -> {salt}, {black pepper, garlic cloves, olive oil} -> {salt}, {black pepper, garlic cloves, water} -> {salt}, {black pepper, lemon juice, olive oil} -> {salt}, {black pepper, olive oil, tomatoes} -> {salt}, {black pepper, olive oil, water} -> {salt}, {black pepper, onions, parsley} -> {salt}, {black pepper, onions, tomatoes} -> {salt}, {black pepper, onions, water} -> {salt}, {black pepper, parsley, water} -> {salt}, {butter, eggs, milk} -> {salt}, {butter, salt, vanilla extract} -> {eggs}, {butter, eggs, water} -> {salt}, {butter, garlic, onions} -> {salt}, {butter, milk, sugar} -> {salt}, {butter, onions, pepper} -> {salt}, {carrots, onions, pepper} -> {salt}, {chili powder, cumin, pepper} -> {salt}, {chili powder, garlic, onions} -> {salt}, {cumin, lime juice, salt} -> {cilantro}, {cilantro, cumin, pepper} -> {salt}, {cilantro, garlic, pepper} -> {salt}, {jalapeno chilies, lime juice, salt} -> {cilantro}, {cilantro, olive oil, pepper} -> {salt}, {cilantro, onions, pepper} -> {salt}, {corn starch, garlic, ginger} -> {soy sauce}, {corn starch, ginger, sesame oil} -> {soy sauce}, {cumin, garlic, pepper} -> {salt}, {cumin, onions, pepper} -> {salt}, {cumin, onions, water} -> {salt}, {eggs, onions, pepper} -> {salt}, {salt, sugar, vanilla extract} -> {eggs}, {eggs, sugar, water} -> {salt}, {garam masala, garlic, ginger} -> {salt}, {garam masala, garlic, onions} -> {salt}, {garam masala, ginger, onions} -> {salt}, {garlic, ginger, green onions} -> {soy sauce}, {garlic, ginger, sesame oil} -> {soy sauce}, {garlic, green onions, sesame oil} -> {soy sauce}, {garlic, oil, onions} -> {salt}, {garlic, oil, water} -> {salt}, {garlic, olive oil, pepper} -> {salt}, {garlic, onions, pepper} -> {salt}, {garlic, onions, tomatoes} -> {salt}, {garlic, salt, turmeric} -> {onions}, {garlic, onions, turmeric} -> {salt}, {garlic, parsley, pepper} -> {salt}, {garlic, pepper, tomatoes} -> {salt}, {garlic, pepper, water} -> {salt}, {garlic, salt, sesame oil} -> {soy sauce}, {garlic, tomatoes, water} -> {salt}, {garlic, sesame oil, sugar} -> {soy sauce}, {garlic, sesame oil, water} -> {soy sauce}, {garlic cloves, olive oil, pepper} -> {salt}, {garlic cloves, onions, pepper} -> {salt}, {garlic cloves, pepper, water} -> {salt}, {ginger, green onions, sesame oil} -> {soy sauce}, {ginger, salt, tomatoes} -> {onions}, {ginger, onions, tomatoes} -> {salt}, {ginger, rice vinegar, sesame oil} -> {soy sauce}, {ginger, salt, sesame oil} -> {soy sauce}, {ginger, scallions, sesame oil} -> {soy sauce}, {ginger, sesame oil, sugar} -> {soy sauce}, {ginger, sesame oil, water} -> {soy sauce}, {oil, onions, water} -> {salt}, {olive oil, onions, pepper} -> {salt}, {olive oil, oregano, pepper} -> {salt}, {olive oil, parmesan cheese, pepper} -> {salt}, {olive oil, parsley, pepper} -> {salt}, {olive oil, pepper, tomatoes} -> {salt}, {olive oil, pepper, water} -> {salt}, {onions, parsley, pepper} -> {salt}, {onions, pepper, tomatoes} -> {salt}, {onions, pepper, water} -> {salt}, {onions, tomatoes, water} -> {salt}, {salt, sesame oil, sugar} -> {soy sauce}, {baking powder, eggs, salt, sugar} -> {all-purpose flour}, {all-purpose flour, baking powder, eggs, sugar} -> {salt}, {all-purpose flour, butter, eggs, milk} -> {salt}, {all-purpose flour, eggs, sugar, unsalted butter} -> {salt}, {garlic, olive oil, onions, pepper} -> {salt}, {garlic, onions, pepper, water} -> {salt}]"
     ]
    },
    {
     "name": "stdout",
     "output_type": "stream",
     "text": [
      "\n",
      "Wall time: 7min 31s\n"
     ]
    }
   ],
   "source": [
    "%%time\n",
    "itemsets, rules = apriori(table, min_support=0.005,  min_confidence=0.7)\n",
    "print(rules)"
   ]
  },
  {
   "cell_type": "code",
   "execution_count": 32,
   "metadata": {},
   "outputs": [
    {
     "data": {
      "text/plain": [
       "efficient_apriori.rules.Rule"
      ]
     },
     "execution_count": 32,
     "metadata": {},
     "output_type": "execute_result"
    }
   ],
   "source": []
  }
 ],
 "metadata": {
  "kernelspec": {
   "display_name": "Python 3",
   "language": "python",
   "name": "python3"
  },
  "language_info": {
   "codemirror_mode": {
    "name": "ipython",
    "version": 3
   },
   "file_extension": ".py",
   "mimetype": "text/x-python",
   "name": "python",
   "nbconvert_exporter": "python",
   "pygments_lexer": "ipython3",
   "version": "3.6.1"
  }
 },
 "nbformat": 4,
 "nbformat_minor": 2
}

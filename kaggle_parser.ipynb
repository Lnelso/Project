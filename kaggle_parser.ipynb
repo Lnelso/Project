{
 "cells": [
  {
   "cell_type": "code",
   "execution_count": 1,
   "metadata": {
    "collapsed": true
   },
   "outputs": [],
   "source": [
    "import numpy as np\n",
    "import json\n",
    "import csv\n",
    "from urllib.request import urlopen\n",
    "from bs4 import BeautifulSoup\n",
    "import pandas as pd\n",
    "import re\n",
    "from IPython.display import display\n",
    "import matplotlib.pyplot as plt\n",
    "from tqdm import tqdm\n",
    "from efficient_apriori import apriori"
   ]
  },
  {
   "cell_type": "code",
   "execution_count": 2,
   "metadata": {
    "collapsed": true
   },
   "outputs": [],
   "source": [
    "with open('data/kaggle/train.json') as f:\n",
    "    data = json.load(f)\n",
    "with open('data/nationalities.csv', 'r') as f:\n",
    "    reader = csv.reader(f)\n",
    "    nationalities = [item.lower() for sublist in list(reader)[1:] for item in sublist]\n",
    "with open('data/to_remove.csv', 'r') as f:\n",
    "    reader = csv.reader(f)\n",
    "    to_remove = [item.lower() for sublist in list(reader) for item in sublist]"
   ]
  },
  {
   "cell_type": "code",
   "execution_count": 3,
   "metadata": {
    "collapsed": true
   },
   "outputs": [],
   "source": [
    "baseURL = \"https://en.wikipedia.org/wiki/\""
   ]
  },
  {
   "cell_type": "markdown",
   "metadata": {},
   "source": [
    "ingr_size = list(['small', 'medium', 'large', 'big', 'flat'])\n",
    "\n",
    "ingr_parts = list(['breast','breasts', 'tender', 'tenders', 'ribs', 'shoulder', 'fillet',\n",
    "                   'steak', 'tigh', 'liver', 'livers',\n",
    "                   'clove', 'cloves', 'leaf', 'leaves', 'flakes', 'threads', 'paste',\n",
    "                   'piece', 'pieces', 'slice', 'slices', 'crumbles', 'powder', 'blend', 'mix'])\n",
    "\n",
    "ingr_state = list(['grilled', 'roasted', 'toasted', 'fried', 'baked', 'cooked',\n",
    "              'chopped', 'cut', 'sliced', 'shredded',\n",
    "              'frozen', 'refrigerated', 'fresh', 'freshly', 'organic', 'natural', 'active',\n",
    "              'boneless', 'skinless', 'condensed', 'ground', 'warm', 'cold'])\n",
    "\n",
    "ingr_color = list(['purple', 'yellow', 'blue', 'red', 'white', 'black', 'green', 'brown'])\n",
    "\n",
    "#to_remove_step1 = ingr_size+ingr_parts+ingr_state\n",
    "to_remove_step2 = ingr_color\n",
    "\n"
   ]
  },
  {
   "cell_type": "markdown",
   "metadata": {},
   "source": [
    "to_remove_step1  = list(['crumbles', 'ground', 'grilled', 'roasted', 'toasted', 'fried', 'baked', 'chopped',\n",
    "                         'frozen', 'refrigerated', 'boneless', 'natural', 'organic', 'fresh', 'freshly',\n",
    "                         'medium', 'large','big', 'small', 'breasts', 'tender', 'ribs', 'shoulder', 'paste', 'cloves', 'slivered',\n",
    "                         'condensed', 'cut', 'piece', 'pieces', 'sliced', 'cooked', 'grated'])\n",
    "to_remove_step2  = list(['purple', 'yellow', 'blue', 'red', 'white', 'black', 'green', 'dried'])"
   ]
  },
  {
   "cell_type": "code",
   "execution_count": 4,
   "metadata": {
    "collapsed": true
   },
   "outputs": [],
   "source": [
    "\"\"\"def try_find_ingredient2(ingr_list):\n",
    "    ingr = '+'.join(ingr_list)\n",
    "    str1 = \"Went to foodDB for: \"+ingr+\" -> \"\n",
    "    try:\n",
    "        url = urlopen(baseURL2+ingr)\n",
    "    except:\n",
    "        return \"\"\n",
    "    res = BeautifulSoup(url.read(),\"html5lib\");\n",
    "    title = res.find(class_= \"hit-name\").text.lower()\n",
    "    title = re.sub(r\" \\(.*\\)\",\"\", title)\n",
    "    join = [value for value in title.split() if value in ingr_list]\n",
    "    if len(join) > 0:\n",
    "        title = ' '.join(join)\n",
    "    print(str1+title)\n",
    "    return title\"\"\"\n",
    "\n",
    "def try_find_ingredient(ingr_list):\n",
    "    ingr = '_'.join(ingr_list)\n",
    "    try:\n",
    "        url = urlopen(baseURL+ingr)\n",
    "    except:\n",
    "        return \"\"\n",
    "    res = BeautifulSoup(url.read(),\"html5lib\");\n",
    "    title = res.find(id=\"firstHeading\").text.lower()\n",
    "    title = re.sub(r\" \\(.*\\)\",\"\", title) #remove (desambiguation)\n",
    "    return title"
   ]
  },
  {
   "cell_type": "code",
   "execution_count": 5,
   "metadata": {
    "collapsed": true
   },
   "outputs": [],
   "source": [
    "\"\"\"def clean_ingredient(ingr):\n",
    "    ingr = ingr.split(',')[0].split('(')[0].replace('%', \"\").lower()\n",
    "    ingredient_list = [ing for ing in ingr.split() if (ing not in nationalities and not ing.isdigit()) ]\n",
    "    ingredient = try_find_ingredient(ingredient_list)\n",
    "    if ingredient == \"\":\n",
    "        ingredient_list = [word for word in ingredient_list if (word not in to_remove)]\n",
    "        ingredient = try_find_ingredient(ingredient_list)\n",
    "        if ingredient == \"\":\n",
    "            ingredient = ' '.join(ingredient_list)\n",
    "        else:\n",
    "            print('FOUND AT 2ND SEARCH')\n",
    "    return ingredient\"\"\"\n",
    "\n",
    "def clean_ingredient(ingr):\n",
    "    ingr = re.sub(r'\\([^)]*\\)','', ingr)\n",
    "    ingr = ingr.split(',')[0].replace('%', \"\").lower()\n",
    "    ingredient_list = [ing for ing in ingr.split() if (ing not in nationalities and not ing.isdigit()) ]\n",
    "    ingredient = \"\"#try_find_ingredient(ingredient_list)\n",
    "    if ingredient == \"\":\n",
    "        ingredient_list = [word for word in ingredient_list if (word not in to_remove)]\n",
    "        ingredient = ' '.join(ingredient_list)\n",
    "    return ingredient"
   ]
  },
  {
   "cell_type": "code",
   "execution_count": 6,
   "metadata": {
    "collapsed": true
   },
   "outputs": [],
   "source": [
    "def get_ingredients_from_recipe(recipe):\n",
    "    ingredients = set()\n",
    "    for ingr in recipe['ingredients']:\n",
    "        cleaned_ingr = clean_ingredient(ingr)\n",
    "        if cleaned_ingr == \"\" and 'leaves' in ingr:\n",
    "            cleaned_ingr = 'lettuce'\n",
    "        if cleaned_ingr == \"\" and ingr == 'boneless, skinless chicken breast':\n",
    "            cleaned_ingr = 'chicken breasts'\n",
    "        if cleaned_ingr:\n",
    "            ingredients.add(cleaned_ingr)\n",
    "            \n",
    "    return list(ingredients)"
   ]
  },
  {
   "cell_type": "code",
   "execution_count": 7,
   "metadata": {
    "collapsed": true
   },
   "outputs": [],
   "source": [
    "def print_ingredients_from_recipe(recipe):\n",
    "    table = list()\n",
    "    for ingr in recipe['ingredients']:\n",
    "        cleaned_ingr = clean_ingredient(ingr)\n",
    "        table.append((ingr, cleaned_ingr))\n",
    "    df = pd.DataFrame.from_records(table, columns=['from', 'to'])\n",
    "    display(df)"
   ]
  },
  {
   "cell_type": "code",
   "execution_count": 8,
   "metadata": {},
   "outputs": [
    {
     "data": {
      "text/plain": [
       "39774"
      ]
     },
     "execution_count": 8,
     "metadata": {},
     "output_type": "execute_result"
    }
   ],
   "source": [
    "len(data)"
   ]
  },
  {
   "cell_type": "code",
   "execution_count": 9,
   "metadata": {},
   "outputs": [
    {
     "name": "stderr",
     "output_type": "stream",
     "text": [
      "100%|██████████| 39774/39774 [00:03<00:00, 11754.43it/s]"
     ]
    },
    {
     "name": "stdout",
     "output_type": "stream",
     "text": [
      "CPU times: user 3.36 s, sys: 30.7 ms, total: 3.39 s\n",
      "Wall time: 3.39 s\n"
     ]
    },
    {
     "name": "stderr",
     "output_type": "stream",
     "text": [
      "\n"
     ]
    }
   ],
   "source": [
    "%%time\n",
    "table = list()\n",
    "for recipe in tqdm(data):\n",
    "    ingredients = get_ingredients_from_recipe(recipe)\n",
    "    table.append(tuple(ingredients))"
   ]
  },
  {
   "cell_type": "code",
   "execution_count": 10,
   "metadata": {},
   "outputs": [
    {
     "ename": "NameError",
     "evalue": "name 'df' is not defined",
     "output_type": "error",
     "traceback": [
      "\u001b[0;31m---------------------------------------------------------------------------\u001b[0m",
      "\u001b[0;31mNameError\u001b[0m                                 Traceback (most recent call last)",
      "\u001b[0;32m<ipython-input-10-75abb9c50c87>\u001b[0m in \u001b[0;36m<module>\u001b[0;34m()\u001b[0m\n\u001b[0;32m----> 1\u001b[0;31m \u001b[0mdf_unique\u001b[0m \u001b[0;34m=\u001b[0m \u001b[0mdf\u001b[0m\u001b[0;34m[\u001b[0m\u001b[0;34m'to'\u001b[0m\u001b[0;34m]\u001b[0m\u001b[0;34m.\u001b[0m\u001b[0munique\u001b[0m\u001b[0;34m(\u001b[0m\u001b[0;34m)\u001b[0m\u001b[0;34m\u001b[0m\u001b[0m\n\u001b[0m\u001b[1;32m      2\u001b[0m \u001b[0mlen\u001b[0m\u001b[0;34m(\u001b[0m\u001b[0mdf_unique\u001b[0m\u001b[0;34m)\u001b[0m\u001b[0;34m\u001b[0m\u001b[0m\n",
      "\u001b[0;31mNameError\u001b[0m: name 'df' is not defined"
     ]
    }
   ],
   "source": [
    "df_unique = df['to'].unique()\n",
    "len(df_unique)"
   ]
  },
  {
   "cell_type": "code",
   "execution_count": null,
   "metadata": {},
   "outputs": [],
   "source": [
    "df_count = df.groupby('to').agg('count')\n",
    "df_count.hist(bins=100)\n",
    "plt.plot()"
   ]
  },
  {
   "cell_type": "code",
   "execution_count": null,
   "metadata": {},
   "outputs": [],
   "source": [
    "(df_count[df_count['from']>=4].sum()) / df_count.sum()"
   ]
  },
  {
   "cell_type": "code",
   "execution_count": null,
   "metadata": {},
   "outputs": [],
   "source": [
    "df_count.sort_values(by='from',ascending=False).plot(logy = True)"
   ]
  },
  {
   "cell_type": "markdown",
   "metadata": {},
   "source": [
    "## Apriori implementation"
   ]
  },
  {
   "cell_type": "code",
   "execution_count": null,
   "metadata": {},
   "outputs": [],
   "source": [
    "%%time\n",
    "itemsets, rules = apriori(table, min_support=0.005,  min_confidence=0.7)\n",
    "print(rules)"
   ]
  },
  {
   "cell_type": "code",
   "execution_count": null,
   "metadata": {},
   "outputs": [],
   "source": []
  }
 ],
 "metadata": {
  "kernelspec": {
   "display_name": "Python 3",
   "language": "python",
   "name": "python3"
  },
  "language_info": {
   "codemirror_mode": {
    "name": "ipython",
    "version": 3
   },
   "file_extension": ".py",
   "mimetype": "text/x-python",
   "name": "python",
   "nbconvert_exporter": "python",
   "pygments_lexer": "ipython3",
   "version": "3.6.1"
  }
 },
 "nbformat": 4,
 "nbformat_minor": 2
}

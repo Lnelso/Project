{
 "cells": [
  {
   "cell_type": "code",
   "execution_count": null,
   "metadata": {},
   "outputs": [],
   "source": [
    "import numpy as np\n",
    "import json\n",
    "import csv\n",
    "from urllib.request import urlopen\n",
    "from bs4 import BeautifulSoup\n",
    "import pandas as pd\n",
    "import re\n",
    "from IPython.display import display\n",
    "from efficient_apriori import apriori\n",
    "import matplotlib.pyplot as plt\n",
    "from tqdm import tqdm\n",
    "import collections\n",
    "from efficient_apriori import apriori\n",
    "import networkx as nx"
   ]
  },
  {
   "cell_type": "code",
   "execution_count": null,
   "metadata": {},
   "outputs": [],
   "source": [
    "with open('data/kaggle/train.json') as f:\n",
    "    data = json.load(f)\n",
    "with open('data/kaggle/test.json') as f:\n",
    "    data_test = json.load(f)\n",
    "with open('data/nationalities.csv', 'r') as f:\n",
    "    reader = csv.reader(f)\n",
    "    nationalities = [item.lower() for sublist in list(reader)[1:] for item in sublist]\n",
    "with open('data/to_remove.csv', 'r') as f:\n",
    "    reader = csv.reader(f)\n",
    "    to_remove = [item.lower() for sublist in list(reader) for item in sublist]"
   ]
  },
  {
   "cell_type": "code",
   "execution_count": null,
   "metadata": {},
   "outputs": [],
   "source": [
    "baseURL = \"https://en.wikipedia.org/wiki/\""
   ]
  },
  {
   "cell_type": "markdown",
   "metadata": {},
   "source": [
    "ingr_size = list(['small', 'medium', 'large', 'big', 'flat'])\n",
    "\n",
    "ingr_parts = list(['breast','breasts', 'tender', 'tenders', 'ribs', 'shoulder', 'fillet',\n",
    "                   'steak', 'tigh', 'liver', 'livers',\n",
    "                   'clove', 'cloves', 'leaf', 'leaves', 'flakes', 'threads', 'paste',\n",
    "                   'piece', 'pieces', 'slice', 'slices', 'crumbles', 'powder', 'blend', 'mix'])\n",
    "\n",
    "ingr_state = list(['grilled', 'roasted', 'toasted', 'fried', 'baked', 'cooked',\n",
    "              'chopped', 'cut', 'sliced', 'shredded',\n",
    "              'frozen', 'refrigerated', 'fresh', 'freshly', 'organic', 'natural', 'active',\n",
    "              'boneless', 'skinless', 'condensed', 'ground', 'warm', 'cold'])\n",
    "\n",
    "ingr_color = list(['purple', 'yellow', 'blue', 'red', 'white', 'black', 'green', 'brown'])\n",
    "\n",
    "#to_remove_step1 = ingr_size+ingr_parts+ingr_state\n",
    "to_remove_step2 = ingr_color\n",
    "\n"
   ]
  },
  {
   "cell_type": "markdown",
   "metadata": {},
   "source": [
    "to_remove_step1  = list(['crumbles', 'ground', 'grilled', 'roasted', 'toasted', 'fried', 'baked', 'chopped',\n",
    "                         'frozen', 'refrigerated', 'boneless', 'natural', 'organic', 'fresh', 'freshly',\n",
    "                         'medium', 'large','big', 'small', 'breasts', 'tender', 'ribs', 'shoulder', 'paste', 'cloves', 'slivered',\n",
    "                         'condensed', 'cut', 'piece', 'pieces', 'sliced', 'cooked', 'grated'])\n",
    "to_remove_step2  = list(['purple', 'yellow', 'blue', 'red', 'white', 'black', 'green', 'dried'])"
   ]
  },
  {
   "cell_type": "code",
   "execution_count": null,
   "metadata": {},
   "outputs": [],
   "source": [
    "\"\"\"def try_find_ingredient2(ingr_list):\n",
    "    ingr = '+'.join(ingr_list)\n",
    "    str1 = \"Went to foodDB for: \"+ingr+\" -> \"\n",
    "    try:\n",
    "        url = urlopen(baseURL2+ingr)\n",
    "    except:\n",
    "        return \"\"\n",
    "    res = BeautifulSoup(url.read(),\"html5lib\");\n",
    "    title = res.find(class_= \"hit-name\").text.lower()\n",
    "    title = re.sub(r\" \\(.*\\)\",\"\", title)\n",
    "    join = [value for value in title.split() if value in ingr_list]\n",
    "    if len(join) > 0:\n",
    "        title = ' '.join(join)\n",
    "    print(str1+title)\n",
    "    return title\"\"\"\n",
    "\n",
    "def try_find_ingredient(ingr_list):\n",
    "    ingr = '_'.join(ingr_list)\n",
    "    try:\n",
    "        url = urlopen(baseURL+ingr)\n",
    "    except:\n",
    "        return \"\"\n",
    "    res = BeautifulSoup(url.read(),\"html5lib\");\n",
    "    title = res.find(id=\"firstHeading\").text.lower()\n",
    "    title = re.sub(r\" \\(.*\\)\",\"\", title) #remove (desambiguation)\n",
    "    return title"
   ]
  },
  {
   "cell_type": "code",
   "execution_count": null,
   "metadata": {},
   "outputs": [],
   "source": [
    "\"\"\"def clean_ingredient(ingr):\n",
    "    ingr = ingr.split(',')[0].split('(')[0].replace('%', \"\").lower()\n",
    "    ingredient_list = [ing for ing in ingr.split() if (ing not in nationalities and not ing.isdigit()) ]\n",
    "    ingredient = try_find_ingredient(ingredient_list)\n",
    "    if ingredient == \"\":\n",
    "        ingredient_list = [word for word in ingredient_list if (word not in to_remove)]\n",
    "        ingredient = try_find_ingredient(ingredient_list)\n",
    "        if ingredient == \"\":\n",
    "            ingredient = ' '.join(ingredient_list)\n",
    "        else:\n",
    "            print('FOUND AT 2ND SEARCH')\n",
    "    return ingredient\"\"\"\n",
    "\n",
    "def clean_ingredient(ingr):\n",
    "    ingr = re.sub(r'\\([^)]*\\)','', ingr)\n",
    "    ingr = ingr.split(',')[0].replace('%', \"\").lower()\n",
    "    ingredient_list = [ing for ing in ingr.split() if (ing not in nationalities and not ing.isdigit()) ]\n",
    "    ingredient = \"\"\n",
    "    if ingredient == \"\":\n",
    "        ingredient_list = [word for word in ingredient_list if (word not in to_remove)]\n",
    "        ingredient = ' '.join(ingredient_list)\n",
    "    return ingredient"
   ]
  },
  {
   "cell_type": "code",
   "execution_count": null,
   "metadata": {},
   "outputs": [],
   "source": [
    "def get_ingredients_from_recipe(recipe):\n",
    "    ingredients = set()\n",
    "    for ingr in recipe['ingredients']:\n",
    "        cleaned_ingr = clean_ingredient(ingr)\n",
    "        if cleaned_ingr == \"\" and 'leaves' in ingr:\n",
    "            cleaned_ingr = 'lettuce'\n",
    "        if cleaned_ingr == \"\" and ingr == 'boneless, skinless chicken breast':\n",
    "            cleaned_ingr = 'chicken breasts'\n",
    "        if cleaned_ingr:\n",
    "            ingredients.add(cleaned_ingr)\n",
    "            \n",
    "    return list(ingredients)"
   ]
  },
  {
   "cell_type": "code",
   "execution_count": null,
   "metadata": {},
   "outputs": [],
   "source": [
    "def print_ingredients_from_recipe(recipe):\n",
    "    table = list()\n",
    "    for ingr in recipe['ingredients']:\n",
    "        cleaned_ingr = clean_ingredient(ingr)\n",
    "        table.append((ingr, cleaned_ingr))\n",
    "    df = pd.DataFrame.from_records(table, columns=['from', 'to'])\n",
    "    display(df)"
   ]
  },
  {
   "cell_type": "code",
   "execution_count": null,
   "metadata": {},
   "outputs": [],
   "source": [
    "len(data)"
   ]
  },
  {
   "cell_type": "code",
   "execution_count": null,
   "metadata": {},
   "outputs": [],
   "source": [
    "%%time\n",
    "table = list()\n",
    "for recipe in tqdm(data):\n",
    "    ingredients = get_ingredients_from_recipe(recipe)\n",
    "    for ingr in ingredients:\n",
    "        table.append(ingr)\n",
    "for recipe in tqdm(data_test):\n",
    "    ingredients = get_ingredients_from_recipe(recipe)\n",
    "    for ingr in ingredients:\n",
    "        table.append(ingr)"
   ]
  },
  {
   "cell_type": "code",
   "execution_count": null,
   "metadata": {},
   "outputs": [],
   "source": [
    "pd.Series(table).hist()"
   ]
  },
  {
   "cell_type": "code",
   "execution_count": null,
   "metadata": {},
   "outputs": [],
   "source": [
    "recipes_clean = list()\n",
    "for recipe in tqdm(data):\n",
    "    ingredients = get_ingredients_from_recipe(recipe)\n",
    "    ingredients = [ingr for ingr in ingredients if ingr in frequent_ingr]\n",
    "    recipes_clean.append(tuple(ingredients))\n",
    "    \n",
    "for recipe in tqdm(data_test):\n",
    "    ingredients = get_ingredients_from_recipe(recipe)\n",
    "    ingredients = [ingr for ingr in ingredients if ingr in frequent_ingr]\n",
    "    recipes_clean.append(tuple(ingredients))"
   ]
  },
  {
   "cell_type": "markdown",
   "metadata": {},
   "source": [
    "### Apriori implementation"
   ]
  },
  {
   "cell_type": "code",
   "execution_count": null,
   "metadata": {},
   "outputs": [],
   "source": [
    "%%time\n",
    "itemsets, rules = apriori(recipes_clean, min_support=0.005,  min_confidence=0.4)"
   ]
  },
  {
   "cell_type": "markdown",
   "metadata": {},
   "source": [
    "### What are the ingredients part of the rules ?"
   ]
  },
  {
   "cell_type": "code",
   "execution_count": null,
   "metadata": {},
   "outputs": [],
   "source": [
    "ing = collections.Counter()\n",
    "for r in rules :\n",
    "    ing.update(list(r.lhs))\n",
    "    ing.update(list(r.rhs))\n",
    "    \n",
    "labels, values = zip(*ing.most_common())\n",
    "\n",
    "indexes = np.arange(len(labels))\n",
    "width = 1\n",
    "\n",
    "plt.bar(indexes, values, width)\n",
    "#plt.xticks(indexes + width * 0.5, labels)\n",
    "plt.show()\n",
    "\n",
    "print(\"20 most common ingredients :\")\n",
    "ing.most_common(20)"
   ]
  },
  {
   "cell_type": "markdown",
   "metadata": {},
   "source": [
    "### Graph of connection between raw ingredients"
   ]
  },
  {
   "cell_type": "code",
   "execution_count": null,
   "metadata": {},
   "outputs": [],
   "source": [
    "#get raw ingredient associations\n",
    "ing_asso = collections.Counter()\n",
    "distinct_ingredients = set()\n",
    "\n",
    "for recipe in recipes_clean :\n",
    "    len_recipe = len(recipe)\n",
    "    combinations = []\n",
    "    for i in range(len_recipe - 1) :\n",
    "        for j in range(i + 1, len_recipe) :\n",
    "            #print(i, j)\n",
    "            ing1 = recipe[i]\n",
    "            ing2 = recipe[j]\n",
    "            \n",
    "            distinct_ingredients |= set(ing1)\n",
    "            \n",
    "            if ing1 < ing2 :\n",
    "                combinations.append(tuple([ing1, ing2]))\n",
    "            else :\n",
    "                combinations.append(tuple([ing2, ing1]))\n",
    "    \n",
    "    ing_asso.update(combinations)\n",
    "    \n",
    "\n",
    "#plot graph\n",
    "G=nx.Graph()\n",
    "\n",
    "for asso in ing_asso.most_common(100) :\n",
    "    G.add_edge(asso[0][0],asso[0][1],weight=asso[1])\n",
    "    \n",
    "    \n",
    "elarge=[(u,v) for (u,v,d) in G.edges(data=True) if d['weight'] >100]\n",
    "esmall=[(u,v) for (u,v,d) in G.edges(data=True) if d['weight'] <=100]\n",
    "\n",
    "pos=nx.spring_layout(G, scale=15) # positions for all nodes\n",
    "\n",
    "# nodes\n",
    "nx.draw_networkx_nodes(G,pos,node_size=20)\n",
    "\n",
    "# edges\n",
    "nx.draw_networkx_edges(G,pos,edgelist=elarge,\n",
    "                    width=0.5)\n",
    "nx.draw_networkx_edges(G,pos,edgelist=esmall,\n",
    "                    width=2,alpha=0.5,edge_color='b',style='dashed')\n",
    "\n",
    "# labels\n",
    "nx.draw_networkx_labels(G,pos,font_size=10,font_family='sans-serif')\n",
    "\n",
    "plt.axis('off')\n",
    "plt.savefig(\"weighted_graph.png\") # save as png\n",
    "plt.show() # display\n"
   ]
  }
 ],
 "metadata": {
  "kernelspec": {
   "display_name": "Python 3",
   "language": "python",
   "name": "python3"
  },
  "language_info": {
   "codemirror_mode": {
    "name": "ipython",
    "version": 3
   },
   "file_extension": ".py",
   "mimetype": "text/x-python",
   "name": "python",
   "nbconvert_exporter": "python",
   "pygments_lexer": "ipython3",
   "version": "3.7.0"
  }
 },
 "nbformat": 4,
 "nbformat_minor": 2
}

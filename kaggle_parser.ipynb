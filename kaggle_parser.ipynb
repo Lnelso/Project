{
 "cells": [
  {
   "cell_type": "code",
   "execution_count": 11,
   "metadata": {
    "collapsed": true
   },
   "outputs": [],
   "source": [
    "import numpy as np\n",
    "import json\n",
    "import csv\n",
    "from urllib.request import urlopen\n",
    "from bs4 import BeautifulSoup\n",
    "import pandas as pd\n",
    "import re\n",
    "from IPython.display import display\n",
    "from efficient_apriori import apriori\n",
    "import matplotlib.pyplot as plt\n",
    "from tqdm import tqdm\n",
    "from efficient_apriori import apriori"
   ]
  },
  {
   "cell_type": "code",
   "execution_count": 12,
   "metadata": {
    "collapsed": true
   },
   "outputs": [],
   "source": [
    "with open('data/kaggle/train.json') as f:\n",
    "    data = json.load(f)\n",
    "with open('data/kaggle/test.json') as f:\n",
    "    data_test = json.load(f)\n",
    "with open('data/nationalities.csv', 'r') as f:\n",
    "    reader = csv.reader(f)\n",
    "    nationalities = [item.lower() for sublist in list(reader)[1:] for item in sublist]\n",
    "with open('data/to_remove.csv', 'r') as f:\n",
    "    reader = csv.reader(f)\n",
    "    to_remove = [item.lower() for sublist in list(reader) for item in sublist]"
   ]
  },
  {
   "cell_type": "code",
   "execution_count": 13,
   "metadata": {
    "collapsed": true
   },
   "outputs": [],
   "source": [
    "baseURL = \"https://en.wikipedia.org/wiki/\""
   ]
  },
  {
   "cell_type": "markdown",
   "metadata": {},
   "source": [
    "ingr_size = list(['small', 'medium', 'large', 'big', 'flat'])\n",
    "\n",
    "ingr_parts = list(['breast','breasts', 'tender', 'tenders', 'ribs', 'shoulder', 'fillet',\n",
    "                   'steak', 'tigh', 'liver', 'livers',\n",
    "                   'clove', 'cloves', 'leaf', 'leaves', 'flakes', 'threads', 'paste',\n",
    "                   'piece', 'pieces', 'slice', 'slices', 'crumbles', 'powder', 'blend', 'mix'])\n",
    "\n",
    "ingr_state = list(['grilled', 'roasted', 'toasted', 'fried', 'baked', 'cooked',\n",
    "              'chopped', 'cut', 'sliced', 'shredded',\n",
    "              'frozen', 'refrigerated', 'fresh', 'freshly', 'organic', 'natural', 'active',\n",
    "              'boneless', 'skinless', 'condensed', 'ground', 'warm', 'cold'])\n",
    "\n",
    "ingr_color = list(['purple', 'yellow', 'blue', 'red', 'white', 'black', 'green', 'brown'])\n",
    "\n",
    "#to_remove_step1 = ingr_size+ingr_parts+ingr_state\n",
    "to_remove_step2 = ingr_color\n",
    "\n"
   ]
  },
  {
   "cell_type": "markdown",
   "metadata": {},
   "source": [
    "to_remove_step1  = list(['crumbles', 'ground', 'grilled', 'roasted', 'toasted', 'fried', 'baked', 'chopped',\n",
    "                         'frozen', 'refrigerated', 'boneless', 'natural', 'organic', 'fresh', 'freshly',\n",
    "                         'medium', 'large','big', 'small', 'breasts', 'tender', 'ribs', 'shoulder', 'paste', 'cloves', 'slivered',\n",
    "                         'condensed', 'cut', 'piece', 'pieces', 'sliced', 'cooked', 'grated'])\n",
    "to_remove_step2  = list(['purple', 'yellow', 'blue', 'red', 'white', 'black', 'green', 'dried'])"
   ]
  },
  {
   "cell_type": "code",
   "execution_count": 14,
   "metadata": {
    "collapsed": true
   },
   "outputs": [],
   "source": [
    "\"\"\"def try_find_ingredient2(ingr_list):\n",
    "    ingr = '+'.join(ingr_list)\n",
    "    str1 = \"Went to foodDB for: \"+ingr+\" -> \"\n",
    "    try:\n",
    "        url = urlopen(baseURL2+ingr)\n",
    "    except:\n",
    "        return \"\"\n",
    "    res = BeautifulSoup(url.read(),\"html5lib\");\n",
    "    title = res.find(class_= \"hit-name\").text.lower()\n",
    "    title = re.sub(r\" \\(.*\\)\",\"\", title)\n",
    "    join = [value for value in title.split() if value in ingr_list]\n",
    "    if len(join) > 0:\n",
    "        title = ' '.join(join)\n",
    "    print(str1+title)\n",
    "    return title\"\"\"\n",
    "\n",
    "def try_find_ingredient(ingr_list):\n",
    "    ingr = '_'.join(ingr_list)\n",
    "    try:\n",
    "        url = urlopen(baseURL+ingr)\n",
    "    except:\n",
    "        return \"\"\n",
    "    res = BeautifulSoup(url.read(),\"html5lib\");\n",
    "    title = res.find(id=\"firstHeading\").text.lower()\n",
    "    title = re.sub(r\" \\(.*\\)\",\"\", title) #remove (desambiguation)\n",
    "    return title"
   ]
  },
  {
   "cell_type": "code",
   "execution_count": 15,
   "metadata": {
    "collapsed": true
   },
   "outputs": [],
   "source": [
    "\"\"\"def clean_ingredient(ingr):\n",
    "    ingr = ingr.split(',')[0].split('(')[0].replace('%', \"\").lower()\n",
    "    ingredient_list = [ing for ing in ingr.split() if (ing not in nationalities and not ing.isdigit()) ]\n",
    "    ingredient = try_find_ingredient(ingredient_list)\n",
    "    if ingredient == \"\":\n",
    "        ingredient_list = [word for word in ingredient_list if (word not in to_remove)]\n",
    "        ingredient = try_find_ingredient(ingredient_list)\n",
    "        if ingredient == \"\":\n",
    "            ingredient = ' '.join(ingredient_list)\n",
    "        else:\n",
    "            print('FOUND AT 2ND SEARCH')\n",
    "    return ingredient\"\"\"\n",
    "\n",
    "def clean_ingredient(ingr):\n",
    "    ingr = re.sub(r'\\([^)]*\\)','', ingr)\n",
    "    ingr = ingr.split(',')[0].replace('%', \"\").lower()\n",
    "    ingredient_list = [ing for ing in ingr.split() if (ing not in nationalities and not ing.isdigit()) ]\n",
    "    ingredient = \"\"\n",
    "    if ingredient == \"\":\n",
    "        ingredient_list = [word for word in ingredient_list if (word not in to_remove)]\n",
    "        ingredient = ' '.join(ingredient_list)\n",
    "    return ingredient"
   ]
  },
  {
   "cell_type": "code",
   "execution_count": 16,
   "metadata": {
    "collapsed": true
   },
   "outputs": [],
   "source": [
    "def get_ingredients_from_recipe(recipe):\n",
    "    ingredients = set()\n",
    "    for ingr in recipe['ingredients']:\n",
    "        cleaned_ingr = clean_ingredient(ingr)\n",
    "        if cleaned_ingr == \"\" and 'leaves' in ingr:\n",
    "            cleaned_ingr = 'lettuce'\n",
    "        if cleaned_ingr == \"\" and ingr == 'boneless, skinless chicken breast':\n",
    "            cleaned_ingr = 'chicken breasts'\n",
    "        if cleaned_ingr:\n",
    "            ingredients.add(cleaned_ingr)\n",
    "            \n",
    "    return list(ingredients)"
   ]
  },
  {
   "cell_type": "code",
   "execution_count": 17,
   "metadata": {
    "collapsed": true
   },
   "outputs": [],
   "source": [
    "def print_ingredients_from_recipe(recipe):\n",
    "    table = list()\n",
    "    for ingr in recipe['ingredients']:\n",
    "        cleaned_ingr = clean_ingredient(ingr)\n",
    "        table.append((ingr, cleaned_ingr))\n",
    "    df = pd.DataFrame.from_records(table, columns=['from', 'to'])\n",
    "    display(df)"
   ]
  },
  {
   "cell_type": "code",
   "execution_count": 18,
   "metadata": {},
   "outputs": [
    {
     "data": {
      "text/plain": [
       "39774"
      ]
     },
     "execution_count": 18,
     "metadata": {},
     "output_type": "execute_result"
    }
   ],
   "source": [
    "len(data)"
   ]
  },
  {
   "cell_type": "code",
   "execution_count": 19,
   "metadata": {},
   "outputs": [
    {
     "name": "stderr",
     "output_type": "stream",
     "text": [
      "100%|██████████| 39774/39774 [00:03<00:00, 11828.98it/s]\n",
      "100%|██████████| 9944/9944 [00:00<00:00, 11822.98it/s]"
     ]
    },
    {
     "name": "stdout",
     "output_type": "stream",
     "text": [
      "CPU times: user 4.2 s, sys: 26.6 ms, total: 4.22 s\n",
      "Wall time: 4.22 s\n"
     ]
    },
    {
     "name": "stderr",
     "output_type": "stream",
     "text": [
      "\n"
     ]
    }
   ],
   "source": [
    "%%time\n",
    "table = list()\n",
    "for recipe in tqdm(data):\n",
    "    ingredients = get_ingredients_from_recipe(recipe)\n",
    "    for ingr in ingredients:\n",
    "        table.append(ingr)\n",
    "for recipe in tqdm(data_test):\n",
    "    ingredients = get_ingredients_from_recipe(recipe)\n",
    "    for ingr in ingredients:\n",
    "        table.append(ingr)"
   ]
  },
  {
   "cell_type": "code",
   "execution_count": 20,
   "metadata": {
    "collapsed": true
   },
   "outputs": [],
   "source": [
    "se = pd.Series(table)"
   ]
  },
  {
   "cell_type": "code",
   "execution_count": 21,
   "metadata": {},
   "outputs": [
    {
     "data": {
      "text/plain": [
       "[]"
      ]
     },
     "execution_count": 21,
     "metadata": {},
     "output_type": "execute_result"
    }
   ],
   "source": [
    "df_count = se.value_counts()\n",
    "df_count.hist(bins=100)\n",
    "plt.plot()"
   ]
  },
  {
   "cell_type": "code",
   "execution_count": 22,
   "metadata": {},
   "outputs": [
    {
     "data": {
      "text/plain": [
       "0.99222760458830539"
      ]
     },
     "execution_count": 22,
     "metadata": {},
     "output_type": "execute_result"
    }
   ],
   "source": [
    "(df_count[df_count>=4].sum()) / df_count.sum()"
   ]
  },
  {
   "cell_type": "code",
   "execution_count": 23,
   "metadata": {},
   "outputs": [
    {
     "data": {
      "text/plain": [
       "<matplotlib.axes._subplots.AxesSubplot at 0x112891fd0>"
      ]
     },
     "execution_count": 23,
     "metadata": {},
     "output_type": "execute_result"
    }
   ],
   "source": [
    "df_count.plot(logy = True)"
   ]
  },
  {
   "cell_type": "code",
   "execution_count": 24,
   "metadata": {
    "collapsed": true
   },
   "outputs": [],
   "source": [
    "frequent_ingr = df_count[df_count>=4].index.tolist()"
   ]
  },
  {
   "cell_type": "code",
   "execution_count": 25,
   "metadata": {},
   "outputs": [
    {
     "data": {
      "text/plain": [
       "3198"
      ]
     },
     "execution_count": 25,
     "metadata": {},
     "output_type": "execute_result"
    }
   ],
   "source": [
    "len(frequent_ingr)"
   ]
  },
  {
   "cell_type": "code",
   "execution_count": 26,
   "metadata": {},
   "outputs": [
    {
     "name": "stderr",
     "output_type": "stream",
     "text": [
      "100%|██████████| 39774/39774 [00:04<00:00, 8355.91it/s]\n",
      "100%|██████████| 9944/9944 [00:01<00:00, 8282.46it/s]\n"
     ]
    }
   ],
   "source": [
    "recipes_clean = list()\n",
    "for recipe in tqdm(data):\n",
    "    ingredients = get_ingredients_from_recipe(recipe)\n",
    "    ingredients = [ingr for ingr in ingredients if ingr in frequent_ingr]\n",
    "    recipes_clean.append(tuple(ingredients))\n",
    "    \n",
    "for recipe in tqdm(data_test):\n",
    "    ingredients = get_ingredients_from_recipe(recipe)\n",
    "    ingredients = [ingr for ingr in ingredients if ingr in frequent_ingr]\n",
    "    recipes_clean.append(tuple(ingredients))"
   ]
  },
  {
   "cell_type": "markdown",
   "metadata": {},
   "source": [
    "### Apriori implementation"
   ]
  },
  {
   "cell_type": "code",
   "execution_count": 27,
   "metadata": {},
   "outputs": [
    {
     "ename": "KeyboardInterrupt",
     "evalue": "",
     "output_type": "error",
     "traceback": [
      "\u001b[0;31m---------------------------------------------------------------------------\u001b[0m",
      "\u001b[0;31mKeyboardInterrupt\u001b[0m                         Traceback (most recent call last)",
      "\u001b[0;32m<ipython-input-27-fc41b79eb3a5>\u001b[0m in \u001b[0;36m<module>\u001b[0;34m()\u001b[0m\n\u001b[0;32m----> 1\u001b[0;31m \u001b[0mget_ipython\u001b[0m\u001b[0;34m(\u001b[0m\u001b[0;34m)\u001b[0m\u001b[0;34m.\u001b[0m\u001b[0mrun_cell_magic\u001b[0m\u001b[0;34m(\u001b[0m\u001b[0;34m'time'\u001b[0m\u001b[0;34m,\u001b[0m \u001b[0;34m''\u001b[0m\u001b[0;34m,\u001b[0m \u001b[0;34m'itemsets, rules = apriori(recipes_clean, min_support=0.005,  min_confidence=0.4)'\u001b[0m\u001b[0;34m)\u001b[0m\u001b[0;34m\u001b[0m\u001b[0m\n\u001b[0m",
      "\u001b[0;32m/Users/Lionel/anaconda/lib/python3.6/site-packages/IPython/core/interactiveshell.py\u001b[0m in \u001b[0;36mrun_cell_magic\u001b[0;34m(self, magic_name, line, cell)\u001b[0m\n\u001b[1;32m   2113\u001b[0m             \u001b[0mmagic_arg_s\u001b[0m \u001b[0;34m=\u001b[0m \u001b[0mself\u001b[0m\u001b[0;34m.\u001b[0m\u001b[0mvar_expand\u001b[0m\u001b[0;34m(\u001b[0m\u001b[0mline\u001b[0m\u001b[0;34m,\u001b[0m \u001b[0mstack_depth\u001b[0m\u001b[0;34m)\u001b[0m\u001b[0;34m\u001b[0m\u001b[0m\n\u001b[1;32m   2114\u001b[0m             \u001b[0;32mwith\u001b[0m \u001b[0mself\u001b[0m\u001b[0;34m.\u001b[0m\u001b[0mbuiltin_trap\u001b[0m\u001b[0;34m:\u001b[0m\u001b[0;34m\u001b[0m\u001b[0m\n\u001b[0;32m-> 2115\u001b[0;31m                 \u001b[0mresult\u001b[0m \u001b[0;34m=\u001b[0m \u001b[0mfn\u001b[0m\u001b[0;34m(\u001b[0m\u001b[0mmagic_arg_s\u001b[0m\u001b[0;34m,\u001b[0m \u001b[0mcell\u001b[0m\u001b[0;34m)\u001b[0m\u001b[0;34m\u001b[0m\u001b[0m\n\u001b[0m\u001b[1;32m   2116\u001b[0m             \u001b[0;32mreturn\u001b[0m \u001b[0mresult\u001b[0m\u001b[0;34m\u001b[0m\u001b[0m\n\u001b[1;32m   2117\u001b[0m \u001b[0;34m\u001b[0m\u001b[0m\n",
      "\u001b[0;32m<decorator-gen-59>\u001b[0m in \u001b[0;36mtime\u001b[0;34m(self, line, cell, local_ns)\u001b[0m\n",
      "\u001b[0;32m/Users/Lionel/anaconda/lib/python3.6/site-packages/IPython/core/magic.py\u001b[0m in \u001b[0;36m<lambda>\u001b[0;34m(f, *a, **k)\u001b[0m\n\u001b[1;32m    186\u001b[0m     \u001b[0;31m# but it's overkill for just that one bit of state.\u001b[0m\u001b[0;34m\u001b[0m\u001b[0;34m\u001b[0m\u001b[0m\n\u001b[1;32m    187\u001b[0m     \u001b[0;32mdef\u001b[0m \u001b[0mmagic_deco\u001b[0m\u001b[0;34m(\u001b[0m\u001b[0marg\u001b[0m\u001b[0;34m)\u001b[0m\u001b[0;34m:\u001b[0m\u001b[0;34m\u001b[0m\u001b[0m\n\u001b[0;32m--> 188\u001b[0;31m         \u001b[0mcall\u001b[0m \u001b[0;34m=\u001b[0m \u001b[0;32mlambda\u001b[0m \u001b[0mf\u001b[0m\u001b[0;34m,\u001b[0m \u001b[0;34m*\u001b[0m\u001b[0ma\u001b[0m\u001b[0;34m,\u001b[0m \u001b[0;34m**\u001b[0m\u001b[0mk\u001b[0m\u001b[0;34m:\u001b[0m \u001b[0mf\u001b[0m\u001b[0;34m(\u001b[0m\u001b[0;34m*\u001b[0m\u001b[0ma\u001b[0m\u001b[0;34m,\u001b[0m \u001b[0;34m**\u001b[0m\u001b[0mk\u001b[0m\u001b[0;34m)\u001b[0m\u001b[0;34m\u001b[0m\u001b[0m\n\u001b[0m\u001b[1;32m    189\u001b[0m \u001b[0;34m\u001b[0m\u001b[0m\n\u001b[1;32m    190\u001b[0m         \u001b[0;32mif\u001b[0m \u001b[0mcallable\u001b[0m\u001b[0;34m(\u001b[0m\u001b[0marg\u001b[0m\u001b[0;34m)\u001b[0m\u001b[0;34m:\u001b[0m\u001b[0;34m\u001b[0m\u001b[0m\n",
      "\u001b[0;32m/Users/Lionel/anaconda/lib/python3.6/site-packages/IPython/core/magics/execution.py\u001b[0m in \u001b[0;36mtime\u001b[0;34m(self, line, cell, local_ns)\u001b[0m\n\u001b[1;32m   1183\u001b[0m         \u001b[0;32melse\u001b[0m\u001b[0;34m:\u001b[0m\u001b[0;34m\u001b[0m\u001b[0m\n\u001b[1;32m   1184\u001b[0m             \u001b[0mst\u001b[0m \u001b[0;34m=\u001b[0m \u001b[0mclock2\u001b[0m\u001b[0;34m(\u001b[0m\u001b[0;34m)\u001b[0m\u001b[0;34m\u001b[0m\u001b[0m\n\u001b[0;32m-> 1185\u001b[0;31m             \u001b[0mexec\u001b[0m\u001b[0;34m(\u001b[0m\u001b[0mcode\u001b[0m\u001b[0;34m,\u001b[0m \u001b[0mglob\u001b[0m\u001b[0;34m,\u001b[0m \u001b[0mlocal_ns\u001b[0m\u001b[0;34m)\u001b[0m\u001b[0;34m\u001b[0m\u001b[0m\n\u001b[0m\u001b[1;32m   1186\u001b[0m             \u001b[0mend\u001b[0m \u001b[0;34m=\u001b[0m \u001b[0mclock2\u001b[0m\u001b[0;34m(\u001b[0m\u001b[0;34m)\u001b[0m\u001b[0;34m\u001b[0m\u001b[0m\n\u001b[1;32m   1187\u001b[0m             \u001b[0mout\u001b[0m \u001b[0;34m=\u001b[0m \u001b[0;32mNone\u001b[0m\u001b[0;34m\u001b[0m\u001b[0m\n",
      "\u001b[0;32m<timed exec>\u001b[0m in \u001b[0;36m<module>\u001b[0;34m()\u001b[0m\n",
      "\u001b[0;32m/Users/Lionel/anaconda/lib/python3.6/site-packages/efficient_apriori/apriori.py\u001b[0m in \u001b[0;36mapriori\u001b[0;34m(transactions, min_support, min_confidence, max_length, verbosity)\u001b[0m\n\u001b[1;32m     51\u001b[0m     \"\"\"\n\u001b[1;32m     52\u001b[0m     itemsets, num_trans = itemsets_from_transactions(transactions, min_support, \n\u001b[0;32m---> 53\u001b[0;31m                                                      max_length, verbosity)\n\u001b[0m\u001b[1;32m     54\u001b[0m     rules = generate_rules_apriori(itemsets, min_confidence, num_trans, \n\u001b[1;32m     55\u001b[0m                                    verbosity)\n",
      "\u001b[0;32m/Users/Lionel/anaconda/lib/python3.6/site-packages/efficient_apriori/itemsets.py\u001b[0m in \u001b[0;36mitemsets_from_transactions\u001b[0;34m(transactions, min_support, max_length, verbosity)\u001b[0m\n\u001b[1;32m    291\u001b[0m             \u001b[0;31m# Assert that no items were found in this row\u001b[0m\u001b[0;34m\u001b[0m\u001b[0;34m\u001b[0m\u001b[0m\n\u001b[1;32m    292\u001b[0m             \u001b[0mfound_any\u001b[0m \u001b[0;34m=\u001b[0m \u001b[0;32mFalse\u001b[0m\u001b[0;34m\u001b[0m\u001b[0m\n\u001b[0;32m--> 293\u001b[0;31m             \u001b[0;32mfor\u001b[0m \u001b[0mcandidate\u001b[0m\u001b[0;34m,\u001b[0m \u001b[0mcandidate_set\u001b[0m \u001b[0;32min\u001b[0m \u001b[0mzip\u001b[0m\u001b[0;34m(\u001b[0m\u001b[0mC_k\u001b[0m\u001b[0;34m,\u001b[0m \u001b[0mC_k_sets\u001b[0m\u001b[0;34m)\u001b[0m\u001b[0;34m:\u001b[0m\u001b[0;34m\u001b[0m\u001b[0m\n\u001b[0m\u001b[1;32m    294\u001b[0m \u001b[0;34m\u001b[0m\u001b[0m\n\u001b[1;32m    295\u001b[0m                 \u001b[0;31m# This is where most of the time is spent in the algorithm\u001b[0m\u001b[0;34m\u001b[0m\u001b[0;34m\u001b[0m\u001b[0m\n",
      "\u001b[0;31mKeyboardInterrupt\u001b[0m: "
     ]
    }
   ],
   "source": [
    "%%time\n",
    "itemsets, rules = apriori(recipes_clean, min_support=0.005,  min_confidence=0.4)"
   ]
  },
  {
   "cell_type": "code",
   "execution_count": null,
   "metadata": {
    "collapsed": true
   },
   "outputs": [],
   "source": [
    "rules"
   ]
  }
 ],
 "metadata": {
  "kernelspec": {
   "display_name": "Python 3",
   "language": "python",
   "name": "python3"
  },
  "language_info": {
   "codemirror_mode": {
    "name": "ipython",
    "version": 3
   },
   "file_extension": ".py",
   "mimetype": "text/x-python",
   "name": "python",
   "nbconvert_exporter": "python",
   "pygments_lexer": "ipython3",
   "version": "3.6.1"
  }
 },
 "nbformat": 4,
 "nbformat_minor": 2
}

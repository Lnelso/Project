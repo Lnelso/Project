{
 "cells": [
  {
   "cell_type": "code",
   "execution_count": 1,
   "metadata": {
    "collapsed": true
   },
   "outputs": [],
   "source": [
    "import numpy as np\n",
    "import pandas as pd\n",
    "import re"
   ]
  },
  {
   "cell_type": "code",
   "execution_count": 2,
   "metadata": {
    "collapsed": true
   },
   "outputs": [],
   "source": [
    "ingredients = open(\"data/recipeClean/ingredients.txt\", mode='r', buffering=-1, encoding=\"ISO-8859-1\", errors=None, newline=None, closefd=True, opener=None)"
   ]
  },
  {
   "cell_type": "code",
   "execution_count": 3,
   "metadata": {
    "collapsed": true
   },
   "outputs": [],
   "source": [
    "content = ingredients.readlines()"
   ]
  },
  {
   "cell_type": "code",
   "execution_count": 4,
   "metadata": {
    "collapsed": true
   },
   "outputs": [],
   "source": [
    "ids = np.zeros(len(content), dtype=object)\n",
    "titles = np.zeros(len(content), dtype=object)\n",
    "ingredients = np.zeros(len(content), dtype=object)\n",
    "for i in range(len(content)):\n",
    "    line = content[i].split('\\t')\n",
    "    if len(line) > 4:\n",
    "        id_recipe, title, ingredient = line[0], line[3], line[4]\n",
    "        ids[i] = id_recipe\n",
    "        titles[i] = title\n",
    "        ingredients[i] = ingredient\n",
    "    else:\n",
    "        ids[i] = line[0]\n",
    "        titles[i] = line[2]\n",
    "        ingredients[i] = \"\""
   ]
  },
  {
   "cell_type": "code",
   "execution_count": 5,
   "metadata": {},
   "outputs": [
    {
     "data": {
      "text/html": [
       "<div>\n",
       "<style scoped>\n",
       "    .dataframe tbody tr th:only-of-type {\n",
       "        vertical-align: middle;\n",
       "    }\n",
       "\n",
       "    .dataframe tbody tr th {\n",
       "        vertical-align: top;\n",
       "    }\n",
       "\n",
       "    .dataframe thead th {\n",
       "        text-align: right;\n",
       "    }\n",
       "</style>\n",
       "<table border=\"1\" class=\"dataframe\">\n",
       "  <thead>\n",
       "    <tr style=\"text-align: right;\">\n",
       "      <th></th>\n",
       "      <th>0</th>\n",
       "    </tr>\n",
       "  </thead>\n",
       "  <tbody>\n",
       "    <tr>\n",
       "      <th>0</th>\n",
       "      <td>Wild Rice Soup</td>\n",
       "    </tr>\n",
       "    <tr>\n",
       "      <th>1</th>\n",
       "      <td>Muffaletta Olive Spread Recipe</td>\n",
       "    </tr>\n",
       "    <tr>\n",
       "      <th>2</th>\n",
       "      <td>Holiday Jell-O Recipes By Kraft Foods</td>\n",
       "    </tr>\n",
       "    <tr>\n",
       "      <th>3</th>\n",
       "      <td>Thanksgiving Stuffing &amp; Dressing</td>\n",
       "    </tr>\n",
       "    <tr>\n",
       "      <th>4</th>\n",
       "      <td>Beef Stew VI Recipe</td>\n",
       "    </tr>\n",
       "  </tbody>\n",
       "</table>\n",
       "</div>"
      ],
      "text/plain": [
       "                                       0\n",
       "0                         Wild Rice Soup\n",
       "1         Muffaletta Olive Spread Recipe\n",
       "2  Holiday Jell-O Recipes By Kraft Foods\n",
       "3       Thanksgiving Stuffing & Dressing\n",
       "4                    Beef Stew VI Recipe"
      ]
     },
     "execution_count": 5,
     "metadata": {},
     "output_type": "execute_result"
    }
   ],
   "source": [
    "titles_pd = pd.DataFrame(titles)\n",
    "titles_pd = titles_pd.rename(columns={'0':'Titles'})\n",
    "titles_pd.head(5)"
   ]
  },
  {
   "cell_type": "code",
   "execution_count": 17,
   "metadata": {
    "collapsed": true
   },
   "outputs": [],
   "source": [
    "quantities_reserved = ['teaspoons ', 'teaspoon ', 'tablespoons ', 'tablespoon ', 'cups ', 'cup ', 'pints ', 'pint', 'quarts ', 'quart ', 'gallons ', 'gallon ', 'pounds ', 'pound ', 'pouch ', 'pouches ', 'can ']"
   ]
  },
  {
   "cell_type": "code",
   "execution_count": 18,
   "metadata": {},
   "outputs": [],
   "source": [
    "ingredients_pd = pd.DataFrame(ingredients)"
   ]
  },
  {
   "cell_type": "code",
   "execution_count": 19,
   "metadata": {
    "collapsed": true
   },
   "outputs": [],
   "source": [
    "def split_ingredient(ingredient):\n",
    "    return ingredient.split('|')"
   ]
  },
  {
   "cell_type": "code",
   "execution_count": 78,
   "metadata": {},
   "outputs": [],
   "source": [
    "def clean_ingredient(ingredient):\n",
    "    ingredient = remove_par(ingredient)\n",
    "    ingredient = remove_measure(ingredient)\n",
    "    ingredient = remove_special_char(ingredient)\n",
    "    ingredient = remove_plurial(ingredient)\n",
    "    ingredient = remove_number(ingredient)\n",
    "    return ingredient.lstrip()\n",
    "    \n",
    "def remove_par(ingredient):\n",
    "    return re.sub(r\" \\([^)]*\\)\",\"\", ingredient)\n",
    "\n",
    "def remove_measure(ingredient):\n",
    "    for reserved in quantities_reserved:\n",
    "        ingredient = ingredient.replace(reserved, '')\n",
    "    return ingredient\n",
    "\n",
    "def remove_special_char(ingredient):\n",
    "    return re.sub(r'/|\\n' , '', ingredient)\n",
    "\n",
    "def remove_plurial(ingredient):\n",
    "    return re.sub(r'(\\A| )s( |\\Z)' , ' ', ingredient)\n",
    "\n",
    "def remove_number(ingredient):\n",
    "    return re.sub(r\"\\d+\", '', ingredient)"
   ]
  },
  {
   "cell_type": "code",
   "execution_count": 79,
   "metadata": {},
   "outputs": [
    {
     "data": {
      "text/plain": [
       "['butter or margarine',\n",
       " 'medium stalks celery, sliced',\n",
       " 'medium carrot, coarsely shredded',\n",
       " 'medium onion, chopped',\n",
       " 'small green bell pepper, chopped',\n",
       " 'Gold medalÂ® all-purpose flour',\n",
       " 'pepper',\n",
       " 'frozen cooked wild rice',\n",
       " 'water',\n",
       " 'condensed chicken broth',\n",
       " 'half-and-half',\n",
       " 'slivered almonds, toasted, if desired',\n",
       " 'chopped fresh parsley']"
      ]
     },
     "execution_count": 79,
     "metadata": {},
     "output_type": "execute_result"
    }
   ],
   "source": [
    "list(map(lambda x: clean_ingredient(x), split_ingredient(ingredients[0])))"
   ]
  }
 ],
 "metadata": {
  "kernelspec": {
   "display_name": "Python 3",
   "language": "python",
   "name": "python3"
  },
  "language_info": {
   "codemirror_mode": {
    "name": "ipython",
    "version": 3
   },
   "file_extension": ".py",
   "mimetype": "text/x-python",
   "name": "python",
   "nbconvert_exporter": "python",
   "pygments_lexer": "ipython3",
   "version": "3.6.1"
  }
 },
 "nbformat": 4,
 "nbformat_minor": 2
}

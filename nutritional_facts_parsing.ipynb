{
 "cells": [
  {
   "cell_type": "markdown",
   "metadata": {},
   "source": [
    "# usual imports"
   ]
  },
  {
   "cell_type": "code",
   "execution_count": 1,
   "metadata": {},
   "outputs": [],
   "source": [
    "from urllib.request import urlopen\n",
    "from bs4 import BeautifulSoup\n",
    "import pandas as pd\n",
    "import re"
   ]
  },
  {
   "cell_type": "code",
   "execution_count": 9,
   "metadata": {},
   "outputs": [],
   "source": [
    "def parse_amount(amount) :\n",
    "    \n",
    "    \n",
    "    if 'g' not in amount :\n",
    "        raise ValueError('The amount string should contain mg.')\n",
    "       \n",
    "    elif '%' not in amount :\n",
    "        \n",
    "        if len(amount.replace(\"µ\", '')) != len(amount) or  len(re.sub('[μ]','',amount)) != len(amount):\n",
    "            \n",
    "            amount = re.sub('[μ]','',amount)\n",
    "            amount = amount.replace(\"µ\", '')\n",
    "            return str(float(re.sub('[mgμ]','',amount).strip())/1000.0)\n",
    "        \n",
    "        elif 'm' not in amount :\n",
    "            return str(float(re.sub('[mgμ]','',amount).strip())*1000.0)\n",
    "        \n",
    "        else :\n",
    "            return re.sub('[mμg]','',amount).strip()\n",
    "        \n",
    "    \n",
    "    else :\n",
    "        \n",
    "        to_parse = \"\"\n",
    "        \n",
    "        #determine if % is before or after g\n",
    "        if amount.index('%') < amount.index('g') :\n",
    "            to_parse = amount[amount.index('%')+1:]\n",
    "        \n",
    "        else :\n",
    "            to_parse = amount[:amount.index('g')]\n",
    "            \n",
    "        if len(to_parse.replace(\"µ\", '')) != len(to_parse) or len(re.sub('[μ]','',to_parse)) != len(to_parse):\n",
    "            \n",
    "            to_parse = to_parse.replace(\"µ\", '')\n",
    "            to_parse = re.sub('[μ]','',to_parse)\n",
    "            return str(float(re.sub('[mgμ]','',to_parse).strip())/1000.0)\n",
    "        \n",
    "        elif 'm' not in to_parse :\n",
    "            return str(float(re.sub('[mgμ]','',to_parse).strip())*1000.0)\n",
    "        \n",
    "        else :\n",
    "            return re.sub('[mgμ]','',to_parse).strip()\n",
    "        "
   ]
  },
  {
   "cell_type": "markdown",
   "metadata": {},
   "source": [
    "# load wanted elements names"
   ]
  },
  {
   "cell_type": "code",
   "execution_count": 3,
   "metadata": {},
   "outputs": [
    {
     "data": {
      "text/plain": [
       "array(['alpha-linoleic acid', 'Biotin', 'Calcium', 'Carbohydrate',\n",
       "       'Chloride', 'Choline', 'Chromium', 'Copper', 'Fat', 'Fiber',\n",
       "       'Fluoride', 'Folate', 'Iodine', 'Iron', 'Linoleic acid',\n",
       "       'Magnesium', 'Manganese', 'Molybdenum', 'Monousaturated fat',\n",
       "       'Niacin', 'Pantothenic acid', 'Phosphorus', 'Polyunsaturated fat',\n",
       "       'Potassium', 'Protein', 'Riboflavin', 'Saturated fat', 'Selenium',\n",
       "       'Sodium', 'Sugar', 'Thiamin', 'Vitamin A', 'Vitamin B6',\n",
       "       'Vitamin B12', 'Vitamin C', 'Vitamin D', 'Vitamin E', 'Vitamin K',\n",
       "       'Water', 'Zinc'], dtype=object)"
      ]
     },
     "execution_count": 3,
     "metadata": {},
     "output_type": "execute_result"
    }
   ],
   "source": [
    "elements_names = pd.read_excel('data/RDI.xlsx')['element'].values\n",
    "elements_names"
   ]
  },
  {
   "cell_type": "markdown",
   "metadata": {},
   "source": [
    "# look up the wikipedia tables"
   ]
  },
  {
   "cell_type": "code",
   "execution_count": 10,
   "metadata": {},
   "outputs": [],
   "source": [
    "def nutritional_facts(food) :\n",
    "    \n",
    "    html = urlopen(\"https://en.wikipedia.org/wiki/\" + food) \n",
    "    res = BeautifulSoup(html.read(),\"html5lib\");\n",
    "\n",
    "    nutritional_facts = {}\n",
    "\n",
    "    table = res.find(\"table\", {\"class\": \"infobox nowrap\"}) \n",
    "    table_body = table.find('tbody')\n",
    "\n",
    "\n",
    "    rows = table_body.find_all('tr')\n",
    "    for row in rows:\n",
    "\n",
    "        nut_element = \"\"\n",
    "\n",
    "        valid_name = False\n",
    "        found_name = \"\"\n",
    "\n",
    "        #find elements names\n",
    "        elem = row.find('th') \n",
    "\n",
    "        if elem is not None :\n",
    "            name = elem.find('a') \n",
    "\n",
    "            if name is None and elem.text is not None :\n",
    "                name = elem\n",
    "\n",
    "\n",
    "            if name is not None :\n",
    "\n",
    "                #check if the name contains something interesting\n",
    "                matching = [c.lower() in name.text.lower() for c in elements_names]\n",
    "                valid_name  = sum(matching) >= 1            \n",
    "\n",
    "                if valid_name :\n",
    "                    matching_name = elements_names[matching.index(True)]\n",
    "                    found_name = name.text\n",
    "                    nut_element = matching_name\n",
    "\n",
    "\n",
    "        #find element amount\n",
    "\n",
    "        if valid_name :\n",
    "            amount = row.find('td')\n",
    "\n",
    "            if amount is not None :  \n",
    "\n",
    "                #hard special case\n",
    "                if found_name == \"Vitamin A equiv.\" :\n",
    "                    whole_string = amount.text\n",
    "                    div_strings = [amount.find_all('div')[i].text for i in range(len(amount.find_all('div')))]\n",
    "                    div_strings = sorted(div_strings, key = len, reverse = True)\n",
    "\n",
    "                    for div_string in div_strings :\n",
    "                        whole_string = whole_string.replace(div_string, '')\n",
    "\n",
    "\n",
    "                    nutritional_facts[matching_name] = parse_amount(whole_string)\n",
    "\n",
    "                elif 'div' not in str(amount) :\n",
    "\n",
    "                    nutritional_facts[matching_name] = parse_amount(amount.text)\n",
    "\n",
    "                else :              \n",
    "\n",
    "                    #amount = parse_amount(amount.find_all('div')[0].text)\n",
    "                    amount = parse_amount(amount.text)\n",
    "                    nutritional_facts[matching_name] = amount\n",
    "\n",
    "    return nutritional_facts"
   ]
  },
  {
   "cell_type": "code",
   "execution_count": 14,
   "metadata": {},
   "outputs": [
    {
     "data": {
      "text/plain": [
       "{'Carbohydrate': '17440.0',\n",
       " 'Sugar': '9600.0',\n",
       " 'Fiber': '1600.0',\n",
       " 'Fat': '10.0',\n",
       " 'Protein': '2000.0',\n",
       " 'Thiamin': '0.2',\n",
       " 'Riboflavin': '0.06',\n",
       " 'Niacin': '1.3',\n",
       " 'Pantothenic acid': '0.397',\n",
       " 'Vitamin B6': '0.077',\n",
       " 'Folate': '0.013',\n",
       " 'Vitamin C': '4',\n",
       " 'Calcium': '14',\n",
       " 'Iron': '3.4',\n",
       " 'Magnesium': '17',\n",
       " 'Phosphorus': '78',\n",
       " 'Potassium': '429'}"
      ]
     },
     "execution_count": 14,
     "metadata": {},
     "output_type": "execute_result"
    }
   ],
   "source": [
    "nutritional_facts(\"Jerusalem_artichoke\")"
   ]
  }
 ],
 "metadata": {
  "kernelspec": {
   "display_name": "Python 3",
   "language": "python",
   "name": "python3"
  },
  "language_info": {
   "codemirror_mode": {
    "name": "ipython",
    "version": 3
   },
   "file_extension": ".py",
   "mimetype": "text/x-python",
   "name": "python",
   "nbconvert_exporter": "python",
   "pygments_lexer": "ipython3",
   "version": "3.7.0"
  }
 },
 "nbformat": 4,
 "nbformat_minor": 2
}

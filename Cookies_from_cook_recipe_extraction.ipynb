{
 "cells": [
  {
   "cell_type": "markdown",
   "metadata": {},
   "source": [
    "# Cooking Recipes dataset"
   ]
  },
  {
   "cell_type": "markdown",
   "metadata": {},
   "source": [
    "The cooking recipes dataset is a collection of html webpage. On the webpage that host the dataset, we found two perl scripts: one that extract the indredient from the recipes and another that extract the nutrients from a recipe.\n",
    "In order to use those scripts, we clean the log file that came with the data set to transform it into a list of http link. We then exectute those script with this cleaned file as input and redirect the output into another file that we format in order to use it."
   ]
  },
  {
   "cell_type": "markdown",
   "metadata": {},
   "source": [
    "## Cleaning msg.txt"
   ]
  },
  {
   "cell_type": "code",
   "execution_count": 1,
   "metadata": {
    "collapsed": true
   },
   "outputs": [],
   "source": [
    "import numpy as np\n",
    "import pandas as pd\n",
    "import re"
   ]
  },
  {
   "cell_type": "code",
   "execution_count": null,
   "metadata": {
    "collapsed": true
   },
   "outputs": [],
   "source": [
    "log = open(\"data/msg.txt\", mode='r', buffering=-1, encoding=None, errors=None, newline=None, closefd=True, opener=None)\n",
    "clean_log = open(\"data/msg_clean.txt\", mode='w', buffering=-1, encoding=None, errors=None, newline=None, closefd=True, opener=None)"
   ]
  },
  {
   "cell_type": "code",
   "execution_count": null,
   "metadata": {
    "collapsed": true
   },
   "outputs": [],
   "source": [
    "content = log.readlines()"
   ]
  },
  {
   "cell_type": "code",
   "execution_count": null,
   "metadata": {
    "collapsed": true
   },
   "outputs": [],
   "source": [
    "for i in range(len(content)):\n",
    "    line = content[i]\n",
    "    breaked_line = line.split(' ')\n",
    "    if len(breaked_line) == 1:\n",
    "        breaked_line = line.split('\\t')\n",
    "        url = breaked_line[1]\n",
    "        cleaned_url = url[4:]\n",
    "        clean_log.write(cleaned_url)\n",
    "        clean_log.write('\\n')\n",
    "    else:\n",
    "        url = breaked_line[2]\n",
    "        cleaned_url = url[4:]\n",
    "        clean_log.write(cleaned_url)\n",
    "        clean_log.write('\\n')"
   ]
  },
  {
   "cell_type": "markdown",
   "metadata": {},
   "source": [
    "## Cleaning ingredients.txt"
   ]
  },
  {
   "cell_type": "code",
   "execution_count": 2,
   "metadata": {
    "collapsed": true
   },
   "outputs": [],
   "source": [
    "ingredients = open(\"data/recipeClean/ingredients.txt\", mode='r', buffering=-1, encoding=\"ISO-8859-1\", errors=None, newline=None, closefd=True, opener=None)"
   ]
  },
  {
   "cell_type": "code",
   "execution_count": 3,
   "metadata": {
    "collapsed": true
   },
   "outputs": [],
   "source": [
    "content = ingredients.readlines()"
   ]
  },
  {
   "cell_type": "code",
   "execution_count": 4,
   "metadata": {
    "collapsed": true
   },
   "outputs": [],
   "source": [
    "ids = np.zeros(len(content), dtype=object)\n",
    "titles = np.zeros(len(content), dtype=object)\n",
    "ingredients = np.zeros(len(content), dtype=object)\n",
    "for i in range(len(content)):\n",
    "    line = content[i].split('\\t')\n",
    "    if len(line) > 4:\n",
    "        id_recipe, title, ingredient = line[0], line[3], line[4]\n",
    "        ids[i] = id_recipe\n",
    "        titles[i] = title\n",
    "        ingredients[i] = ingredient\n",
    "    else:\n",
    "        ids[i] = line[0]\n",
    "        titles[i] = line[2]\n",
    "        ingredients[i] = \"\""
   ]
  },
  {
   "cell_type": "code",
   "execution_count": 5,
   "metadata": {},
   "outputs": [
    {
     "data": {
      "text/html": [
       "<div>\n",
       "<style scoped>\n",
       "    .dataframe tbody tr th:only-of-type {\n",
       "        vertical-align: middle;\n",
       "    }\n",
       "\n",
       "    .dataframe tbody tr th {\n",
       "        vertical-align: top;\n",
       "    }\n",
       "\n",
       "    .dataframe thead th {\n",
       "        text-align: right;\n",
       "    }\n",
       "</style>\n",
       "<table border=\"1\" class=\"dataframe\">\n",
       "  <thead>\n",
       "    <tr style=\"text-align: right;\">\n",
       "      <th></th>\n",
       "      <th>0</th>\n",
       "    </tr>\n",
       "  </thead>\n",
       "  <tbody>\n",
       "    <tr>\n",
       "      <th>0</th>\n",
       "      <td>Wild Rice Soup</td>\n",
       "    </tr>\n",
       "    <tr>\n",
       "      <th>1</th>\n",
       "      <td>Muffaletta Olive Spread Recipe</td>\n",
       "    </tr>\n",
       "    <tr>\n",
       "      <th>2</th>\n",
       "      <td>Holiday Jell-O Recipes By Kraft Foods</td>\n",
       "    </tr>\n",
       "    <tr>\n",
       "      <th>3</th>\n",
       "      <td>Thanksgiving Stuffing &amp; Dressing</td>\n",
       "    </tr>\n",
       "    <tr>\n",
       "      <th>4</th>\n",
       "      <td>Beef Stew VI Recipe</td>\n",
       "    </tr>\n",
       "  </tbody>\n",
       "</table>\n",
       "</div>"
      ],
      "text/plain": [
       "                                       0\n",
       "0                         Wild Rice Soup\n",
       "1         Muffaletta Olive Spread Recipe\n",
       "2  Holiday Jell-O Recipes By Kraft Foods\n",
       "3       Thanksgiving Stuffing & Dressing\n",
       "4                    Beef Stew VI Recipe"
      ]
     },
     "execution_count": 5,
     "metadata": {},
     "output_type": "execute_result"
    }
   ],
   "source": [
    "titles_pd = pd.DataFrame(titles)\n",
    "titles_pd = titles_pd.rename(columns={'0':'Titles'})\n",
    "titles_pd.head(5)"
   ]
  },
  {
   "cell_type": "code",
   "execution_count": 6,
   "metadata": {
    "collapsed": true
   },
   "outputs": [],
   "source": [
    "quantities_reserved = ['teaspoon', 'teaspoons', 'tablespoon', 'tablespoons', 'cup', 'cups', 'pint', 'pints', 'quart', 'quarts', 'gallon', 'gallons', 'pound', 'pounds', 'pouch', 'pouches']"
   ]
  },
  {
   "cell_type": "code",
   "execution_count": 7,
   "metadata": {
    "collapsed": true
   },
   "outputs": [],
   "source": [
    "test = ingredients[0]\n",
    "test1 = ingredients[1]\n",
    "test2 = ingredients[500]"
   ]
  },
  {
   "cell_type": "code",
   "execution_count": 25,
   "metadata": {
    "collapsed": true
   },
   "outputs": [],
   "source": [
    "# Helper function for convert_replace_rational\n",
    "def convert_rational(ingredient):\n",
    "    ingredient = ingredient.split(' ')\n",
    "    quantity = 0\n",
    "    for i in ingredient:\n",
    "        for j in range(len(i) - 2):\n",
    "            if(i[j].isdigit() and i[j + 1] == '/' and i[j + 2].isdigit()):\n",
    "                quantity = int(i[j]) / float(i[j+2])\n",
    "    return quantity\n",
    "\n",
    "def convert_replace_rational(ingredient):\n",
    "    quantity = convert_rational(ingredient)\n",
    "    return re.sub(r'[0-9]\\/[0-9]', str(quantity), ingredient)"
   ]
  },
  {
   "cell_type": "code",
   "execution_count": 26,
   "metadata": {
    "collapsed": true
   },
   "outputs": [],
   "source": [
    "def extract_quantity(ingredient):\n",
    "    ingredient_to_return = convert_replace_rational(ingredient)\n",
    "    ingredient = ingredient_to_return\n",
    "    ingredient = ingredient.replace('(', '').replace(')', '')\n",
    "    ingredient = ingredient.split(' ')\n",
    "    quantity = 0\n",
    "    for i in range(len(ingredient) - 1):\n",
    "        try:\n",
    "            x = float(ingredient[i])\n",
    "        except ValueError:\n",
    "            pass\n",
    "        quantity = ingredient[i]\n",
    "        if([ingredient[i+1] == j for j in quantities_reserved]):\n",
    "            return quantity, ingredient_to_return.replace(str(quantity), '')\n",
    "    return quantity, ingredient_to_return.replace(str(quantity), '')"
   ]
  },
  {
   "cell_type": "code",
   "execution_count": 57,
   "metadata": {
    "collapsed": true
   },
   "outputs": [],
   "source": [
    "def remove_quantity(ingredient):\n",
    "    ingredient = ingredient.replace('(', '').replace(')', '').replace('/', ' ')\n",
    "    for reserved in quantities_reserved:\n",
    "        if reserved in ingredient:\n",
    "            ingredient = ingredient.replace(reserved, '')\n",
    "    ingredient = re.sub(r'(\\A| )(s|([0-9]))( |\\Z)', '', ingredient)\n",
    "    return ingredient"
   ]
  },
  {
   "cell_type": "code",
   "execution_count": 59,
   "metadata": {},
   "outputs": [
    {
     "data": {
      "text/plain": [
       "['2 tablespoons butter or margarine',\n",
       " '2 medium stalks celery, sliced (1 cup)',\n",
       " '1 medium carrot, coarsely shredded (1 cup)',\n",
       " '1 medium onion, chopped (1/2 cup)',\n",
       " '1 small green bell pepper, chopped (1/2 cup)',\n",
       " '3 tablespoons Gold medalÂ® all-purpose flour',\n",
       " '1/4 teaspoon pepper',\n",
       " '1 pouch (from 10-ounce package) frozen cooked wild rice (1 1/4 cups)',\n",
       " '1 cup water',\n",
       " '1 can (10 1/2 ounces) condensed chicken broth',\n",
       " '1 cup half-and-half',\n",
       " '1/3 cup slivered almonds, toasted, if desired',\n",
       " '1/4 cup chopped fresh parsley\\n']"
      ]
     },
     "execution_count": 59,
     "metadata": {},
     "output_type": "execute_result"
    }
   ],
   "source": [
    "breaked_ingredients = test.split('|')\n",
    "breaked_ingredients"
   ]
  },
  {
   "cell_type": "code",
   "execution_count": 64,
   "metadata": {},
   "outputs": [
    {
     "name": "stdout",
     "output_type": "stream",
     "text": [
      "s butter or margarine\n",
      "medium stalks celery, sliced\n",
      "medium carrot, coarsely shredded\n",
      "medium onion, chopped2 \n",
      "small green bell pepper, chopped2 \n",
      "s Gold medalÂ® all-purpose flour\n",
      "4  pepper\n",
      " from 10-ounce package frozen cooked wild rice1s\n",
      " water\n",
      "can 102 ounces condensed chicken broth\n",
      " half-and-half\n",
      "3  slivered almonds, toasted, if desired\n",
      "4  chopped fresh parsley\n",
      "\n"
     ]
    }
   ],
   "source": [
    "for ingredient in breaked_ingredients:\n",
    "    print(remove_quantity(ingredient))"
   ]
  },
  {
   "cell_type": "code",
   "execution_count": null,
   "metadata": {
    "collapsed": true
   },
   "outputs": [],
   "source": [
    "breaked_ingredients = test1.split('|')"
   ]
  },
  {
   "cell_type": "code",
   "execution_count": null,
   "metadata": {
    "collapsed": true
   },
   "outputs": [],
   "source": [
    "breaked_ingredients = test2.split('|')"
   ]
  },
  {
   "cell_type": "markdown",
   "metadata": {},
   "source": [
    "## Cleaning nutrients.txt"
   ]
  }
 ],
 "metadata": {
  "kernelspec": {
   "display_name": "Python 3",
   "language": "python",
   "name": "python3"
  },
  "language_info": {
   "codemirror_mode": {
    "name": "ipython",
    "version": 3
   },
   "file_extension": ".py",
   "mimetype": "text/x-python",
   "name": "python",
   "nbconvert_exporter": "python",
   "pygments_lexer": "ipython3",
   "version": "3.6.1"
  }
 },
 "nbformat": 4,
 "nbformat_minor": 2
}

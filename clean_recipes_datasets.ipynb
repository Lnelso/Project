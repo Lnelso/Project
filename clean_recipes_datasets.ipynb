{
 "cells": [
  {
   "cell_type": "code",
   "execution_count": null,
   "metadata": {},
   "outputs": [],
   "source": [
    "import re\n",
    "import csv\n",
    "import json\n",
    "import numpy as np\n",
    "import pandas as pd\n",
    "import inflect\n",
    "import matplotlib.pyplot as plt\n",
    "from tqdm import tqdm"
   ]
  },
  {
   "cell_type": "code",
   "execution_count": null,
   "metadata": {},
   "outputs": [],
   "source": [
    "engine = inflect.engine()"
   ]
  },
  {
   "cell_type": "code",
   "execution_count": null,
   "metadata": {},
   "outputs": [],
   "source": [
    "with open('data/to_remove.csv', 'r') as f:\n",
    "    reader = csv.reader(f)\n",
    "    to_remove = [item.lower() for sublist in list(reader) for item in sublist]"
   ]
  },
  {
   "cell_type": "markdown",
   "metadata": {},
   "source": [
    "# Cleaning methods"
   ]
  },
  {
   "cell_type": "code",
   "execution_count": null,
   "metadata": {},
   "outputs": [],
   "source": [
    "def remove_par(ingredient):\n",
    "    return re.sub(r\" \\([^)]*\\)\",\"\", ingredient)\n",
    "\n",
    "def remove_special_char(ingredient):\n",
    "    return re.sub(r'/|\\n|%|:|\\*|\\.|#' , '', ingredient)\n",
    "\n",
    "def remove_letter(ingredient):\n",
    "    ingredient = re.sub(r'(\\A| )s( |\\Z)' , ' ', ingredient)\n",
    "    ingredient = re.sub(r'(\\A| )(t|T)( |\\Z)' , ' ', ingredient)\n",
    "    ingredient = re.sub(r'(\\A| )c( |\\Z)' , ' ', ingredient)\n",
    "    ingredient = re.sub(r'(\\A| )a ' , ' ', ingredient)\n",
    "    ingredient = re.sub(r'(\\A| )g ' , ' ', ingredient)\n",
    "    return ingredient\n",
    "\n",
    "def remove_number(ingredient):\n",
    "    return re.sub(r\"\\d+\", '', ingredient)\n",
    "\n",
    "def remove_whitespace_comma(ingredient):\n",
    "    return ingredient.lstrip().split(',')[0]\n",
    "\n",
    "def remove_useless_words(ingredient):\n",
    "    ingredient_list = ingredient.split(' ')\n",
    "    ingredient_list = [word for word in ingredient_list if (word not in to_remove)]\n",
    "    ingredient = ' '.join(ingredient_list)\n",
    "    return ingredient\n",
    "\n",
    "def remove_adjective(ingredient):\n",
    "    return re.sub(r'\\w+ed\\s','',ingredient)\n",
    "\n",
    "def remove_alternative(ingredient):\n",
    "    return ingredient.split(' or ')[0]\n",
    "\n",
    "def remove_minus(ingredient):\n",
    "    return re.sub(r'\\A-', '', ingredient)\n",
    "\n",
    "def remove_conjonction(ingredient):\n",
    "    return re.sub(r'\\Aof |\\Aand |\\Ato ', '', ingredient)\n",
    "\n",
    "def remove_space(ingredient):\n",
    "    ingredient = re.sub(r'( )+', ' ', ingredient)\n",
    "    return re.sub(r'\\A ', '', ingredient)"
   ]
  },
  {
   "cell_type": "code",
   "execution_count": null,
   "metadata": {},
   "outputs": [],
   "source": [
    "def clean_ingredient(ingredient):\n",
    "    ingredient = remove_par(ingredient)\n",
    "    ingredient = remove_special_char(ingredient)\n",
    "    ingredient = remove_number(ingredient)\n",
    "    ingredient = remove_whitespace_comma(ingredient)\n",
    "    \n",
    "    ingredient = ingredient.lower()\n",
    "    ingredient = remove_useless_words(ingredient)\n",
    "    ingredient = remove_adjective(ingredient)\n",
    "    ingredient = remove_alternative(ingredient)\n",
    "    ingredient = remove_letter(ingredient)\n",
    "    ingredient = remove_conjonction(ingredient)\n",
    "    ingredient = remove_minus(ingredient)\n",
    "    ingredient = remove_space(ingredient)\n",
    "    if len(ingredient) == 0:\n",
    "        return \"\"\n",
    "    if engine.singular_noun(ingredient):\n",
    "        return engine.singular_noun(ingredient)\n",
    "    else:\n",
    "        return ingredient"
   ]
  },
  {
   "cell_type": "code",
   "execution_count": null,
   "metadata": {},
   "outputs": [],
   "source": [
    "def clean_ingredients(ingredients):\n",
    "    clean_recipe = []\n",
    "    for ingr in ingredients:\n",
    "        clean_ingr = clean_ingredient(ingr)\n",
    "        if clean_ingr:\n",
    "            clean_recipe.append(clean_ingr)\n",
    "    return clean_recipe"
   ]
  },
  {
   "cell_type": "markdown",
   "metadata": {},
   "source": [
    "# From Cookies To Cooks"
   ]
  },
  {
   "cell_type": "code",
   "execution_count": null,
   "metadata": {},
   "outputs": [],
   "source": [
    "ingredients = open(\"data/recipeClean/ingredients.txt\", mode='r', buffering=-1, encoding=\"ISO-8859-1\", errors=None, newline=None, closefd=True, opener=None)\n",
    "content = ingredients.readlines()\n",
    "ids = np.zeros(len(content), dtype=object)\n",
    "titles = np.zeros(len(content), dtype=object)\n",
    "ingredients = np.zeros(len(content), dtype=object)\n",
    "for i in range(len(content)):\n",
    "    line = content[i].split('\\t')\n",
    "    if len(line) > 4:\n",
    "        id_recipe, title, ingredient = line[0], line[3], line[4]\n",
    "        ids[i] = id_recipe\n",
    "        titles[i] = title\n",
    "        ingredients[i] = ingredient\n",
    "    else:\n",
    "        ids[i] = line[0]\n",
    "        titles[i] = line[2]\n",
    "        ingredients[i] = \"\""
   ]
  },
  {
   "cell_type": "code",
   "execution_count": null,
   "metadata": {},
   "outputs": [],
   "source": [
    "def clean_recipes_cookies(recipes):\n",
    "    \n",
    "    def clean_recipe_cookies(recipe):\n",
    "        ingredients = recipe.split('|')\n",
    "        return clean_ingredients(ingredients)\n",
    "\n",
    "    clean_recipes = []\n",
    "    for recipe in tqdm(recipes):\n",
    "        clean_recipe = clean_recipe_cookies(recipe)\n",
    "        if clean_recipe:\n",
    "            clean_recipe = [x for x in clean_recipe if x != '' or x != '\\'' or x != '\\\\n' or x != ['']]\n",
    "            if clean_recipe:\n",
    "                clean_recipes.append(clean_recipe)\n",
    "    return clean_recipes"
   ]
  },
  {
   "cell_type": "code",
   "execution_count": null,
   "metadata": {},
   "outputs": [],
   "source": [
    "cookies_recipes = ingredients\n",
    "cleaned_cookies = clean_recipes_cookies(cookies_recipes)"
   ]
  },
  {
   "cell_type": "code",
   "execution_count": null,
   "metadata": {},
   "outputs": [],
   "source": [
    "ids_titles_recipes_cookies = list(zip(ids, titles, cleaned_cookies))\n",
    "ids_titles_recipes_cookies = [x for x in ids_titles_recipes_cookies if (x[2] != [''])]\n",
    "ids_clean_cookies = np.array([x[0] for x in ids_titles_recipes_cookies])\n",
    "titles_clean_cookies = np.array([x[1] for x in ids_titles_recipes_cookies])\n",
    "recipes_clean_cookies = np.array([x[2] for x in ids_titles_recipes_cookies])\n",
    "df_cookies = pd.DataFrame({'id': ids_clean_cookies, 'title': titles_clean_cookies, 'recipe': recipes_clean_cookies})\n",
    "df_cookies.to_json(\"generated/clean_cookies_recipes.json\")"
   ]
  },
  {
   "cell_type": "markdown",
   "metadata": {},
   "source": [
    "# Kaggle dataset"
   ]
  },
  {
   "cell_type": "code",
   "execution_count": null,
   "metadata": {},
   "outputs": [],
   "source": [
    "with open('data/kaggle/train.json') as f:\n",
    "    data_train = json.load(f)\n",
    "    \n",
    "with open('data/kaggle/test.json') as f:\n",
    "    data_test = json.load(f)"
   ]
  },
  {
   "cell_type": "code",
   "execution_count": null,
   "metadata": {},
   "outputs": [],
   "source": [
    "def clean_recipes_kaggle(recipes):\n",
    "    \n",
    "    def clean_recipe_kaggle(recipe):\n",
    "        return clean_ingredients(recipe)\n",
    "\n",
    "    clean_recipes = []\n",
    "    for recipe in tqdm(recipes):\n",
    "        clean_recipe = clean_recipe_kaggle(recipe)\n",
    "        if clean_recipe:\n",
    "            clean_recipe = [x for x in clean_recipe if x != '' or x != '\\'' or x != '\\\\n' or x != ['']]\n",
    "            if clean_recipe:\n",
    "                clean_recipes.append(clean_recipe)\n",
    "    return clean_recipes"
   ]
  },
  {
   "cell_type": "code",
   "execution_count": null,
   "metadata": {},
   "outputs": [],
   "source": [
    "kaggle_recipes = data_train+data_test\n",
    "cleaned_kaggle = clean_recipes_kaggle(kaggle_recipes)"
   ]
  },
  {
   "cell_type": "code",
   "execution_count": null,
   "metadata": {},
   "outputs": [],
   "source": [
    "df_kaggle = pd.DataFrame({'recipe':np.array(cleaned_kaggle)})\n",
    "df_kaggle = df_kaggle.reset_index().rename({'index' : 'id'}, axis = 1)\n",
    "df_kaggle.to_json(\"generated/clean_kaggle_recipes.json\")"
   ]
  }
 ],
 "metadata": {
  "kernelspec": {
   "display_name": "Python 3",
   "language": "python",
   "name": "python3"
  },
  "language_info": {
   "codemirror_mode": {
    "name": "ipython",
    "version": 3
   },
   "file_extension": ".py",
   "mimetype": "text/x-python",
   "name": "python",
   "nbconvert_exporter": "python",
   "pygments_lexer": "ipython3",
   "version": "3.7.0"
  }
 },
 "nbformat": 4,
 "nbformat_minor": 2
}

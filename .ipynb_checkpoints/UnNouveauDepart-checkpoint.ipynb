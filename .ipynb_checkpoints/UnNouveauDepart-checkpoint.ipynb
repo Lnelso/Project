{
 "cells": [
  {
   "cell_type": "code",
   "execution_count": null,
   "metadata": {
    "collapsed": true
   },
   "outputs": [],
   "source": [
    "import numpy as np\n",
    "import pandas as pd\n",
    "import re\n",
    "import csv"
   ]
  },
  {
   "cell_type": "code",
   "execution_count": null,
   "metadata": {},
   "outputs": [],
   "source": [
    "ingredients = open(\"data/recipeClean/ingredients.txt\", mode='r', buffering=-1, encoding=\"ISO-8859-1\", errors=None, newline=None, closefd=True, opener=None)\n",
    "with open('data/to_remove.csv', 'r') as f:\n",
    "    reader = csv.reader(f)\n",
    "    to_remove = [item.lower() for sublist in list(reader) for item in sublist]"
   ]
  },
  {
   "cell_type": "code",
   "execution_count": null,
   "metadata": {
    "collapsed": true
   },
   "outputs": [],
   "source": [
    "content = ingredients.readlines()"
   ]
  },
  {
   "cell_type": "code",
   "execution_count": null,
   "metadata": {
    "collapsed": true
   },
   "outputs": [],
   "source": [
    "ids = np.zeros(len(content), dtype=object)\n",
    "titles = np.zeros(len(content), dtype=object)\n",
    "ingredients = np.zeros(len(content), dtype=object)\n",
    "for i in range(len(content)):\n",
    "    line = content[i].split('\\t')\n",
    "    if len(line) > 4:\n",
    "        id_recipe, title, ingredient = line[0], line[3], line[4]\n",
    "        ids[i] = id_recipe\n",
    "        titles[i] = title\n",
    "        ingredients[i] = ingredient\n",
    "    else:\n",
    "        ids[i] = line[0]\n",
    "        titles[i] = line[2]\n",
    "        ingredients[i] = \"\""
   ]
  },
  {
   "cell_type": "code",
   "execution_count": null,
   "metadata": {},
   "outputs": [],
   "source": [
    "titles_pd = pd.DataFrame(titles)\n",
    "titles_pd = titles_pd.rename(columns={'0':'Titles'})\n",
    "titles_pd.head(5)"
   ]
  },
  {
   "cell_type": "code",
   "execution_count": null,
   "metadata": {
    "collapsed": true
   },
   "outputs": [],
   "source": [
    "quantities_reserved = ['teaspoons ', 'teaspoon ',\n",
    "                       'tablespoons ', 'tablespoon ',\n",
    "                       'cups ', 'cup ', 'cup(s)'\n",
    "                       'pints ', 'pint',\n",
    "                       'quarts ', 'quart ',\n",
    "                       'gallons ', 'gallon ',\n",
    "                       'pounds ', 'pound ',\n",
    "                       'pouch ', 'pouches ',\n",
    "                       'can ',\n",
    "                       'ounces ', 'ounce ',\n",
    "                       'oz. ',\n",
    "                       'tbsp. ', 'tsp. ', 'Tbsp.', 'tsp', 'tbsp'\n",
    "                       'pkg.',\n",
    "                       'lb', 'lbs',\n",
    "                       'pinch', 'pinches',\n",
    "                       'inch', 'inches']"
   ]
  },
  {
   "cell_type": "code",
   "execution_count": null,
   "metadata": {
    "collapsed": true
   },
   "outputs": [],
   "source": [
    "ingredients_pd = pd.DataFrame(ingredients)"
   ]
  },
  {
   "cell_type": "code",
   "execution_count": null,
   "metadata": {
    "collapsed": true
   },
   "outputs": [],
   "source": [
    "def split_ingredient(ingredient):\n",
    "    return ingredient.split('|')"
   ]
  },
  {
   "cell_type": "code",
   "execution_count": null,
   "metadata": {
    "collapsed": true
   },
   "outputs": [],
   "source": [
    "def clean_ingredient(ingredient):\n",
    "    ingredient = remove_par(ingredient)\n",
    "    ingredient = remove_measure(ingredient)\n",
    "    ingredient = remove_special_char(ingredient)\n",
    "    ingredient = remove_plurial(ingredient)\n",
    "    ingredient = remove_number(ingredient)\n",
    "    ingredient = remove_whitespace_comma(ingredient)\n",
    "    ingredient = remove_useless_words(ingredient)\n",
    "    ingredient = remove_adjective(ingredient)\n",
    "    ingredient = remove_alternative(ingredient)\n",
    "    return ingredient.lower()\n",
    "    \n",
    "def remove_par(ingredient):\n",
    "    return re.sub(r\" \\([^)]*\\)\",\"\", ingredient)\n",
    "\n",
    "def remove_measure(ingredient):\n",
    "    for reserved in quantities_reserved:\n",
    "        ingredient = ingredient.replace(reserved, '')\n",
    "    return ingredient\n",
    "\n",
    "def remove_special_char(ingredient):\n",
    "    return re.sub(r'/|\\n|%|-|:|\\*|\\.' , '', ingredient)\n",
    "\n",
    "def remove_plurial(ingredient):\n",
    "    return re.sub(r'(\\A| )s( |\\Z)' , ' ', ingredient)\n",
    "\n",
    "def remove_number(ingredient):\n",
    "    return re.sub(r\"\\d+\", '', ingredient)\n",
    "\n",
    "def remove_whitespace_comma(ingredient):\n",
    "    return ingredient.lstrip().split(',')[0]\n",
    "\n",
    "def remove_useless_words(ingredient):\n",
    "    ingredient_list = ingredient.split(' ')\n",
    "    ingredient_list = [word for word in ingredient_list if (word not in to_remove)]\n",
    "    ingredient = ' '.join(ingredient_list)\n",
    "    return ingredient\n",
    "\n",
    "def remove_adjective(ingredient):\n",
    "    return re.sub(r'\\w+ed\\s','',ingredient)\n",
    "\n",
    "def remove_alternative(ingredient):\n",
    "    return ingredient.split('or')[0]"
   ]
  },
  {
   "cell_type": "code",
   "execution_count": null,
   "metadata": {},
   "outputs": [],
   "source": [
    "list(map(lambda x: clean_ingredient(x), split_ingredient(ingredients[0])))"
   ]
  },
  {
   "cell_type": "code",
   "execution_count": null,
   "metadata": {},
   "outputs": [],
   "source": [
    "for ingredient in ingredients:\n",
    "    print(list(map(lambda x: clean_ingredient(x), split_ingredient(ingredient))))"
   ]
  }
 ],
 "metadata": {
  "kernelspec": {
   "display_name": "Python 3",
   "language": "python",
   "name": "python3"
  },
  "language_info": {
   "codemirror_mode": {
    "name": "ipython",
    "version": 3
   },
   "file_extension": ".py",
   "mimetype": "text/x-python",
   "name": "python",
   "nbconvert_exporter": "python",
   "pygments_lexer": "ipython3",
   "version": "3.6.1"
  }
 },
 "nbformat": 4,
 "nbformat_minor": 2
}

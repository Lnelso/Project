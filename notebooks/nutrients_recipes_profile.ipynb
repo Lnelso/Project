{
 "cells": [
  {
   "cell_type": "code",
   "execution_count": 12,
   "metadata": {},
   "outputs": [],
   "source": [
    "import numpy as np\n",
    "import pandas as pd\n",
    "import json\n",
    "import tqdm"
   ]
  },
  {
   "cell_type": "code",
   "execution_count": 2,
   "metadata": {
    "collapsed": true
   },
   "outputs": [],
   "source": [
    "with open(\"../generated/high_score_repr_recipes.json\") as json_file:  \n",
    "    high_score_repr_recipes = json.load(json_file)\n",
    "    \n",
    "with open(\"../generated/low_score_repr_recipes.json\") as json_file:  \n",
    "    low_score_repr_recipes = json.load(json_file)\n",
    "    \n",
    "with open(\"../generated/high_score_key_representative.json\") as json_file:  \n",
    "    high_score_key_representative = json.load(json_file)\n",
    "    \n",
    "nutrients_mapping = pd.read_hdf(\"../generated/nut_data.h5\", 'table')"
   ]
  },
  {
   "cell_type": "code",
   "execution_count": 3,
   "metadata": {
    "collapsed": true
   },
   "outputs": [],
   "source": [
    "high_score_repr_recipes_with_index = list(zip(range(0, len(high_score_repr_recipes)), high_score_repr_recipes))\n",
    "high_score_repr_recipes_with_index = dict((key, value) for key, value in high_score_repr_recipes_with_index)"
   ]
  },
  {
   "cell_type": "code",
   "execution_count": 4,
   "metadata": {
    "collapsed": true
   },
   "outputs": [],
   "source": [
    "nutrients_mapping = nutrients_mapping[~nutrients_mapping.index.duplicated(keep='first')]"
   ]
  },
  {
   "cell_type": "code",
   "execution_count": 5,
   "metadata": {
    "collapsed": true
   },
   "outputs": [],
   "source": [
    "def map_recipes(recipes, mapping):\n",
    "    threshold = 0.3\n",
    "    profile = []\n",
    "    mismatches_ratio_in_recipes = []\n",
    "\n",
    "    for recipe in tqdm.tqdm(recipes):\n",
    "        nb_ingr = len(recipe)\n",
    "        mismatches = 0.0\n",
    "        recipe_mapped = []\n",
    "        \n",
    "        for ingredient in recipe:\n",
    "            if ingredient.startswith('usda_id'):\n",
    "                usda_id = int(ingredient.split('=')[1])\n",
    "                res_map = nutrients_mapping.loc[usda_id]\n",
    "                recipe_mapped.append(res_map.tolist())\n",
    "            else:\n",
    "                mismatches += 1\n",
    "                \n",
    "        recipe_mapped = pd.DataFrame(recipe_mapped)\n",
    "        mismatches_ratio_in_recipes.append(mismatches / nb_ingr)\n",
    "        \n",
    "        if mismatches / nb_ingr < threshold:\n",
    "            recipe_mapped = recipe_mapped.sum(axis = 0)\n",
    "            profile.append(recipe_mapped.tolist())\n",
    "        else:\n",
    "            profile.append(list())\n",
    "\n",
    "    profile = pd.DataFrame(profile)\n",
    "    profile.columns = mapping.columns\n",
    "    \n",
    "    return profile, mismatches_ratio_in_recipes"
   ]
  },
  {
   "cell_type": "code",
   "execution_count": 6,
   "metadata": {},
   "outputs": [
    {
     "name": "stderr",
     "output_type": "stream",
     "text": [
      "100%|██████████| 96529/96529 [06:36<00:00, 243.49it/s]\n"
     ]
    }
   ],
   "source": [
    "profile, mismatches_ratio_in_recipes = map_recipes(high_score_repr_recipes, nutrients_mapping)"
   ]
  },
  {
   "cell_type": "code",
   "execution_count": 7,
   "metadata": {},
   "outputs": [
    {
     "data": {
      "text/plain": [
       "0.2106633786001671"
      ]
     },
     "execution_count": 7,
     "metadata": {},
     "output_type": "execute_result"
    }
   ],
   "source": [
    "average_mismatch = sum(mismatches_ratio_in_recipes) / len(mismatches_ratio_in_recipes)\n",
    "average_mismatch"
   ]
  },
  {
   "cell_type": "code",
   "execution_count": 8,
   "metadata": {},
   "outputs": [
    {
     "name": "stderr",
     "output_type": "stream",
     "text": [
      "100%|██████████| 96529/96529 [07:12<00:00, 223.25it/s]\n"
     ]
    }
   ],
   "source": [
    "profile_low, mismatches_ratio_in_recipes_low = map_recipes(low_score_repr_recipes, nutrients_mapping)"
   ]
  },
  {
   "cell_type": "code",
   "execution_count": 9,
   "metadata": {},
   "outputs": [
    {
     "data": {
      "text/plain": [
       "0.024805635020499376"
      ]
     },
     "execution_count": 9,
     "metadata": {},
     "output_type": "execute_result"
    }
   ],
   "source": [
    "average_mismatch_low = sum(mismatches_ratio_in_recipes_low) / len(mismatches_ratio_in_recipes_low)\n",
    "average_mismatch_low"
   ]
  },
  {
   "cell_type": "code",
   "execution_count": 10,
   "metadata": {
    "collapsed": true
   },
   "outputs": [],
   "source": [
    "profile.to_json('../generated/high_score_profile_nutrients.json')\n",
    "profile_low.to_json('../generated/low_score_profile_nutrients.json')"
   ]
  }
 ],
 "metadata": {
  "kernelspec": {
   "display_name": "Python 3",
   "language": "python",
   "name": "python3"
  },
  "language_info": {
   "codemirror_mode": {
    "name": "ipython",
    "version": 3
   },
   "file_extension": ".py",
   "mimetype": "text/x-python",
   "name": "python",
   "nbconvert_exporter": "python",
   "pygments_lexer": "ipython3",
   "version": "3.6.1"
  }
 },
 "nbformat": 4,
 "nbformat_minor": 2
}

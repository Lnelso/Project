{
 "cells": [
  {
   "cell_type": "code",
   "execution_count": 11,
   "metadata": {
    "collapsed": true
   },
   "outputs": [],
   "source": [
    "import pandas as pd\n",
    "import numpy as np\n",
    "import keras as kr\n",
    "import tqdm\n",
    "import json\n",
    "import networkx as nx\n",
    "import matplotlib.pyplot as plt\n",
    "import matplotlib.cm as cm\n",
    "import collections\n",
    "from sklearn.cluster import KMeans\n",
    "from sklearn.metrics import silhouette_samples, silhouette_score\n",
    "import keras as kr\n",
    "from keras.models import Sequential\n",
    "from keras.layers import Dense, Activation, Dropout, Flatten, Conv2D, MaxPooling2D\n",
    "from keras.layers.normalization import BatchNormalization\n",
    "from keras.preprocessing.image import ImageDataGenerator\n",
    "from keras.utils import to_categorical"
   ]
  },
  {
   "cell_type": "markdown",
   "metadata": {},
   "source": [
    "### Load data"
   ]
  },
  {
   "cell_type": "code",
   "execution_count": 2,
   "metadata": {
    "collapsed": true
   },
   "outputs": [],
   "source": [
    "#recipes\n",
    "cleaned_recipes = json.load(open(\"./../generated/high_score_repr_recipes.json\"))\n",
    "\n",
    "#mapping\n",
    "ing_mapping = json.load(open(\"./../generated/ing_usda_mapping_high_score.json\"))\n",
    "\n",
    "#group description\n",
    "columns = [\"food_group_id\", \"food_group_name\"]\n",
    "food_groups = pd.read_csv(\"./../data/usda/FD_GROUP.txt\", sep=\"^\", encoding=\"ISO-8859-1\", names=columns, header=None)\n",
    "\n",
    "#id mapping\n",
    "columns = [\"food_id\", \"food_group_id\"]\n",
    "use_cols = [0, 1]\n",
    "food_des = pd.read_csv(\"./../data/usda/FOOD_DES.txt\", sep=\"^\", encoding=\"ISO-8859-1\", names=columns, usecols=use_cols, header=None)"
   ]
  },
  {
   "cell_type": "markdown",
   "metadata": {},
   "source": [
    "### Create food groups dictionnaries"
   ]
  },
  {
   "cell_type": "code",
   "execution_count": 3,
   "metadata": {
    "collapsed": true
   },
   "outputs": [],
   "source": [
    "#useful ids\n",
    "usda_ids = [ing_mapping[ing]for ing in ing_mapping]\n",
    "\n",
    "#matching ids dict\n",
    "ids_dict = dict()\n",
    "for usda_id in usda_ids :\n",
    "    matching_group = int(food_des[food_des[\"food_id\"] == usda_id]['food_group_id'].values[0])\n",
    "    ids_dict[usda_id] = matching_group\n",
    "    \n",
    "json.dump(ids_dict, open(\"./../generated/food_to_group_high_score.json\", 'w'))\n",
    "\n",
    "#food groups description ids\n",
    "group_des = dict()\n",
    "for entry in food_groups.values :\n",
    "    group_des[entry[0]] = entry[1]\n",
    "\n",
    "json.dump(group_des, open(\"./../generated/group_des.json\", 'w'))"
   ]
  },
  {
   "cell_type": "markdown",
   "metadata": {},
   "source": [
    "### generate recipe's food groups vectors"
   ]
  },
  {
   "cell_type": "code",
   "execution_count": 4,
   "metadata": {},
   "outputs": [
    {
     "name": "stderr",
     "output_type": "stream",
     "text": [
      "100%|██████████| 96529/96529 [00:00<00:00, 123741.37it/s]\n"
     ]
    }
   ],
   "source": [
    "\n",
    "food_groups_index = sorted(food_groups['food_group_id'])\n",
    "food_groups_names = [group_des[fg_id] for fg_id in food_groups_index]\n",
    "\n",
    "def recipe_to_ids(recipe) : return [int(ing[8:]) for ing in recipe if ing[:8] == 'usda_id=']\n",
    "          \n",
    "def ids_to_food_groups(ids) : return [ids_dict[i] for i in ids]\n",
    "\n",
    "def food_groups_to_vector(food_groups) :\n",
    "    count_vector = [0]*len(food_groups_index)\n",
    "    for fg_id in food_groups :\n",
    "        count_vector[food_groups_index.index(fg_id)] += 1\n",
    "        \n",
    "    return count_vector\n",
    "\n",
    "def recipe_to_vector(recipe) : return food_groups_to_vector(ids_to_food_groups(recipe_to_ids(recipe)))    \n",
    "\n",
    "\n",
    "#generate all vectors\n",
    "vectors_recipes = []\n",
    "for r in tqdm.tqdm(cleaned_recipes) :\n",
    "    vector = recipe_to_vector(r)\n",
    "    if sum(vector) != 0 :\n",
    "        vectors_recipes.append(vector)\n",
    "    \n",
    "#translate to np array now that the append phase is over\n",
    "vectors_recipes = np.array(vectors_recipes)    "
   ]
  },
  {
   "cell_type": "markdown",
   "metadata": {},
   "source": [
    "## vectors study"
   ]
  },
  {
   "cell_type": "markdown",
   "metadata": {},
   "source": [
    "#### basic statistics"
   ]
  },
  {
   "cell_type": "markdown",
   "metadata": {},
   "source": [
    "First, what are the numbers of ingredients in the recipes ?"
   ]
  },
  {
   "cell_type": "code",
   "execution_count": 5,
   "metadata": {},
   "outputs": [
    {
     "data": {
      "image/png": "[encoded data removed]",
      "text/plain": [
       "<Figure size 864x576 with 1 Axes>"
      ]
     },
     "metadata": {
      "needs_background": "light"
     },
     "output_type": "display_data"
    }
   ],
   "source": [
    "t = collections.Counter()\n",
    "t.update([sum(vec) for vec in vectors_recipes])\n",
    "t.most_common()\n",
    "\n",
    "labels, values = zip(*sorted(t.items()))\n",
    "\n",
    "indexes = np.arange(len(labels))\n",
    "width = 1\n",
    "\n",
    "plt.rcParams[\"figure.figsize\"] = [12, 8]\n",
    "plt.bar(indexes, values, width)\n",
    "plt.xticks(indexes, labels, rotation=90)\n",
    "plt.title(\"number of mapped ingredients per recipes\")\n",
    "plt.xlabel(\"number of mapped ingredients in recipes\")\n",
    "plt.ylabel(\"numbre of recipes\")\n",
    "plt.show()"
   ]
  },
  {
   "cell_type": "markdown",
   "metadata": {},
   "source": [
    "> we see that the main number of ingredients per recipes is 6 or 7. What types of ingredients are they (i.e., of which food group) ?"
   ]
  },
  {
   "cell_type": "code",
   "execution_count": 6,
   "metadata": {},
   "outputs": [
    {
     "data": {
      "text/plain": [
       "[(547, 'Breakfast Cereals'),\n",
       " (1064, 'Restaurant Foods'),\n",
       " (1111, 'Baby Foods'),\n",
       " (1334, 'Lamb, Veal, and Game Products'),\n",
       " (1621, 'Meals, Entrees, and Side Dishes'),\n",
       " (1781, 'Fast Foods'),\n",
       " (2851, 'American Indian/Alaska Native Foods'),\n",
       " (3045, 'Finfish and Shellfish Products'),\n",
       " (3753, 'Poultry Products'),\n",
       " (3753, 'Beef Products'),\n",
       " (4067, 'Pork Products'),\n",
       " (6859, 'Snacks'),\n",
       " (10657, 'Nut and Seed Products'),\n",
       " (11018, 'Sausages and Luncheon Meats'),\n",
       " (23411, 'Legumes and Legume Products'),\n",
       " (25105, 'Soups, Sauces, and Gravies'),\n",
       " (29199, 'Beverages'),\n",
       " (31180, 'Cereal Grains and Pasta'),\n",
       " (31381, 'Baked Products'),\n",
       " (36060, 'Sweets'),\n",
       " (37571, 'Fruits and Fruit Juices'),\n",
       " (53487, 'Fats and Oils'),\n",
       " (99070, 'Dairy and Egg Products'),\n",
       " (145332, 'Spices and Herbs'),\n",
       " (169324, 'Vegetables and Vegetable Products')]"
      ]
     },
     "execution_count": 6,
     "metadata": {},
     "output_type": "execute_result"
    }
   ],
   "source": [
    "sorted([c for c in zip(vectors_recipes.sum(axis=0), food_groups_names)], key= lambda x : x[0])"
   ]
  },
  {
   "cell_type": "markdown",
   "metadata": {},
   "source": [
    "> As expected, the spices and the vegetables are the most common ingredients used. We notice that the snacks have been used a lot which is rather surprising."
   ]
  },
  {
   "cell_type": "markdown",
   "metadata": {},
   "source": [
    "Now, what is the mean recipe composition ?"
   ]
  },
  {
   "cell_type": "code",
   "execution_count": 7,
   "metadata": {},
   "outputs": [
    {
     "name": "stdout",
     "output_type": "stream",
     "text": [
      "mean number of ingredients :  7.646548762842599\n"
     ]
    },
    {
     "data": {
      "text/plain": [
       "[(0.005693942769109059, 'Breakfast Cereals'),\n",
       " (0.011075603485067713, 'Restaurant Foods'),\n",
       " (0.011564845368336681, 'Baby Foods'),\n",
       " (0.013886141963421363, 'Lamb, Veal, and Game Products'),\n",
       " (0.016873640271893576, 'Meals, Entrees, and Side Dishes'),\n",
       " (0.018539144555362402, 'Fast Foods'),\n",
       " (0.0296772044510602, 'American Indian/Alaska Native Foods'),\n",
       " (0.031696628394766155, 'Finfish and Shellfish Products'),\n",
       " (0.03906648484911572, 'Poultry Products'),\n",
       " (0.03906648484911572, 'Beef Products'),\n",
       " (0.0423350370054233, 'Pork Products'),\n",
       " (0.07139808675195436, 'Snacks'),\n",
       " (0.11093299468079569, 'Nut and Seed Products'),\n",
       " (0.11469078872037224, 'Sausages and Luncheon Meats'),\n",
       " (0.24369450487680472, 'Legumes and Legume Products'),\n",
       " (0.26132803147803096, 'Soups, Sauces, and Gravies'),\n",
       " (0.30394412233128965, 'Beverages'),\n",
       " (0.32456514724098806, 'Cereal Grains and Pasta'),\n",
       " (0.32665743699709576, 'Baked Products'),\n",
       " (0.3753630278867873, 'Sweets'),\n",
       " (0.3910916339637961, 'Fruits and Fruit Juices'),\n",
       " (0.5567676725618579, 'Fats and Oils'),\n",
       " (1.0312594335203555, 'Dairy and Egg Products'),\n",
       " (1.512819178281824, 'Spices and Herbs'),\n",
       " (1.762561545587975, 'Vegetables and Vegetable Products')]"
      ]
     },
     "execution_count": 7,
     "metadata": {},
     "output_type": "execute_result"
    }
   ],
   "source": [
    "mean_ings = sorted([c for c in zip(vectors_recipes.mean(axis=0), food_groups_names)], key= lambda x : x[0])\n",
    "print(\"mean number of ingredients : \", sum([c[0] for c in mean_ings]))\n",
    "mean_ings"
   ]
  },
  {
   "cell_type": "markdown",
   "metadata": {},
   "source": [
    "We find again the mean number of ingredients. Let's standardize it to get the probability of each ingredient (by log likelihood, independence assumption)"
   ]
  },
  {
   "cell_type": "code",
   "execution_count": 8,
   "metadata": {},
   "outputs": [
    {
     "data": {
      "text/plain": [
       "[(0.0007446421837755129, 'Breakfast Cereals'),\n",
       " (0.0014484447596657146, 'Restaurant Foods'),\n",
       " (0.0015124268120193692, 'Baby Foods'),\n",
       " (0.001816001230633518, 'Lamb, Veal, and Game Products'),\n",
       " (0.002206700146069665, 'Meals, Entrees, and Side Dishes'),\n",
       " (0.002424511388124659, 'Fast Foods'),\n",
       " (0.003881124069367436, 'American Indian/Alaska Native Foods'),\n",
       " (0.004145220200359117, 'Finfish and Shellfish Products'),\n",
       " (0.005109034946452469, 'Poultry Products'),\n",
       " (0.005109034946452469, 'Beef Products'),\n",
       " (0.005536489508985396, 'Pork Products'),\n",
       " (0.009337295682845052, 'Snacks'),\n",
       " (0.014507590041125487, 'Nut and Seed Products'),\n",
       " (0.014999026656012068, 'Sausages and Luncheon Meats'),\n",
       " (0.03186986867343425, 'Legumes and Legume Products'),\n",
       " (0.03417594519869151, 'Soups, Sauces, and Gravies'),\n",
       " (0.039749190354773686, 'Beverages'),\n",
       " (0.04244596579546708, 'Cereal Grains and Pasta'),\n",
       " (0.04271959116829867, 'Baked Products'),\n",
       " (0.04908920867814442, 'Sweets'),\n",
       " (0.051146163595301275, 'Fruits and Fruit Juices'),\n",
       " (0.07281293689872187, 'Fats and Oils'),\n",
       " (0.134865998439927, 'Dairy and Egg Products'),\n",
       " (0.19784339643960303, 'Spices and Herbs'),\n",
       " (0.23050419218574947, 'Vegetables and Vegetable Products')]"
      ]
     },
     "execution_count": 8,
     "metadata": {},
     "output_type": "execute_result"
    }
   ],
   "source": [
    "sorted([c for c in zip(vectors_recipes.mean(axis=0) / sum(vectors_recipes.mean(axis=0)), food_groups_names)], key = lambda x : x[0])"
   ]
  },
  {
   "cell_type": "markdown",
   "metadata": {},
   "source": [
    "Those results are interesting but we agglomerate all the recipes together and lose the ability to distinguish some recipes categories. We now try to discover hidden recipe compositions patterns by clustering the recipes."
   ]
  },
  {
   "cell_type": "markdown",
   "metadata": {},
   "source": [
    "### Food group prediction by deep learning"
   ]
  },
  {
   "cell_type": "markdown",
   "metadata": {},
   "source": [
    "> We decide to ignore the recipes with less than 4 ingredients (probably badly parsed) and those with more than 15 ingredients (not representative enough). We build a neural network and train it to predict which food group should be added to a recipe"
   ]
  },
  {
   "cell_type": "code",
   "execution_count": 13,
   "metadata": {},
   "outputs": [
    {
     "data": {
      "text/plain": [
       "[(1, 'Dairy and Egg Products'),\n",
       " (1, 'Spices and Herbs'),\n",
       " (0, 'Baby Foods'),\n",
       " (0, 'Fats and Oils'),\n",
       " (0, 'Poultry Products'),\n",
       " (0, 'Soups, Sauces, and Gravies'),\n",
       " (0, 'Sausages and Luncheon Meats'),\n",
       " (0, 'Breakfast Cereals'),\n",
       " (0, 'Fruits and Fruit Juices'),\n",
       " (0, 'Pork Products'),\n",
       " (3, 'Vegetables and Vegetable Products'),\n",
       " (0, 'Nut and Seed Products'),\n",
       " (0, 'Beef Products'),\n",
       " (0, 'Beverages'),\n",
       " (0, 'Finfish and Shellfish Products'),\n",
       " (1, 'Legumes and Legume Products'),\n",
       " (0, 'Lamb, Veal, and Game Products'),\n",
       " (0, 'Baked Products'),\n",
       " (0, 'Sweets'),\n",
       " (0, 'Cereal Grains and Pasta'),\n",
       " (0, 'Fast Foods'),\n",
       " (0, 'Meals, Entrees, and Side Dishes'),\n",
       " (0, 'Snacks'),\n",
       " (0, 'American Indian/Alaska Native Foods'),\n",
       " (0, 'Restaurant Foods')]"
      ]
     },
     "execution_count": 13,
     "metadata": {},
     "output_type": "execute_result"
    }
   ],
   "source": [
    "list(zip(vectors_recipes[0], food_groups_names))"
   ]
  },
  {
   "cell_type": "code",
   "execution_count": 50,
   "metadata": {},
   "outputs": [
    {
     "data": {
      "application/vnd.jupyter.widget-view+json": {
       "model_id": "38b14deee5f545da81bf69c461b7b108",
       "version_major": 2,
       "version_minor": 0
      },
      "text/plain": [
       "HBox(children=(IntProgress(value=0, max=73351), HTML(value='')))"
      ]
     },
     "metadata": {},
     "output_type": "display_data"
    }
   ],
   "source": [
    "#neural network with two dense layers \n",
    "model = Sequential()\n",
    "model.add(Dense(25))\n",
    "model.add(Activation('relu'))\n",
    "model.add(Dense(25))\n",
    "model.add(Activation('relu'))\n",
    "model.add(Dense(25))\n",
    "model.add(Activation('relu'))\n",
    "\n",
    "\n",
    "\n",
    "#filter recipes by number of ingredients\n",
    "filtered_recipes = [v for v in vectors_recipes if ((sum(v) <= 12) and (sum(v) >= 4))]\n",
    "\n",
    "X = []\n",
    "Y = []\n",
    "\n",
    "for f in tqdm.tqdm_notebook(filtered_recipes) :\n",
    "    for e, food_group in enumerate(f) :\n",
    "        \n",
    "        if food_group != 0 :\n",
    "            new_recipe = f.copy()\n",
    "            new_recipe[e] -= 1\n",
    "            X.append(new_recipe)\n",
    "            y = np.zeros(len(f))\n",
    "            y[e] = 1\n",
    "            Y.append(y)\n",
    "            \n"
   ]
  },
  {
   "cell_type": "code",
   "execution_count": 53,
   "metadata": {
    "scrolled": true
   },
   "outputs": [
    {
     "name": "stdout",
     "output_type": "stream",
     "text": [
      "Train on 283750 samples, validate on 70938 samples\n",
      "Epoch 1/40\n",
      "283750/283750 [==============================] - 3s 11us/step - loss: 3.0795 - acc: 0.2585 - val_loss: 2.8742 - val_acc: 0.2575\n",
      "Epoch 2/40\n",
      "283750/283750 [==============================] - 3s 9us/step - loss: 3.0787 - acc: 0.2590 - val_loss: 2.8705 - val_acc: 0.2564\n",
      "Epoch 3/40\n",
      "283750/283750 [==============================] - 2s 9us/step - loss: 3.0788 - acc: 0.2585 - val_loss: 2.8652 - val_acc: 0.2583\n",
      "Epoch 4/40\n",
      "283750/283750 [==============================] - 2s 9us/step - loss: 3.0786 - acc: 0.2583 - val_loss: 2.8665 - val_acc: 0.2569\n",
      "Epoch 5/40\n",
      "283750/283750 [==============================] - 2s 9us/step - loss: 3.0806 - acc: 0.2585 - val_loss: 2.8724 - val_acc: 0.2577\n",
      "Epoch 6/40\n",
      "283750/283750 [==============================] - 3s 9us/step - loss: 3.0773 - acc: 0.2588 - val_loss: 2.8635 - val_acc: 0.2569\n",
      "Epoch 7/40\n",
      "283750/283750 [==============================] - 2s 9us/step - loss: 3.0769 - acc: 0.2587 - val_loss: 2.8655 - val_acc: 0.2572\n",
      "Epoch 8/40\n",
      "283750/283750 [==============================] - 3s 10us/step - loss: 3.0768 - acc: 0.2586 - val_loss: 2.8650 - val_acc: 0.2571\n",
      "Epoch 9/40\n",
      "283750/283750 [==============================] - 3s 9us/step - loss: 3.0744 - acc: 0.2596 - val_loss: 2.8638 - val_acc: 0.2558\n",
      "Epoch 10/40\n",
      "283750/283750 [==============================] - 3s 9us/step - loss: 3.0741 - acc: 0.2590 - val_loss: 2.8677 - val_acc: 0.2565\n",
      "Epoch 11/40\n",
      "283750/283750 [==============================] - 3s 10us/step - loss: 3.0754 - acc: 0.2592 - val_loss: 2.8598 - val_acc: 0.2572\n",
      "Epoch 12/40\n",
      "283750/283750 [==============================] - 3s 10us/step - loss: 3.0736 - acc: 0.2595 - val_loss: 2.8620 - val_acc: 0.2577\n",
      "Epoch 13/40\n",
      "283750/283750 [==============================] - 3s 10us/step - loss: 3.0742 - acc: 0.2593 - val_loss: 2.8610 - val_acc: 0.2585\n",
      "Epoch 14/40\n",
      "283750/283750 [==============================] - 3s 11us/step - loss: 3.0724 - acc: 0.2594 - val_loss: 2.8633 - val_acc: 0.2580\n",
      "Epoch 15/40\n",
      "283750/283750 [==============================] - 3s 10us/step - loss: 3.0714 - acc: 0.2598 - val_loss: 2.8649 - val_acc: 0.2591\n",
      "Epoch 16/40\n",
      "283750/283750 [==============================] - 3s 10us/step - loss: 3.0714 - acc: 0.2601 - val_loss: 2.8593 - val_acc: 0.2585\n",
      "Epoch 17/40\n",
      "283750/283750 [==============================] - 3s 10us/step - loss: 3.0719 - acc: 0.2601 - val_loss: 2.8620 - val_acc: 0.2586\n",
      "Epoch 18/40\n",
      "283750/283750 [==============================] - 3s 10us/step - loss: 3.0716 - acc: 0.2601 - val_loss: 2.8615 - val_acc: 0.2593\n",
      "Epoch 19/40\n",
      "283750/283750 [==============================] - 3s 10us/step - loss: 3.0719 - acc: 0.2601 - val_loss: 2.8689 - val_acc: 0.2576\n",
      "Epoch 20/40\n",
      "283750/283750 [==============================] - 3s 10us/step - loss: 3.0737 - acc: 0.2598 - val_loss: 2.8723 - val_acc: 0.2564\n",
      "Epoch 21/40\n",
      "283750/283750 [==============================] - 3s 10us/step - loss: 3.0723 - acc: 0.2602 - val_loss: 2.8597 - val_acc: 0.2577\n",
      "Epoch 22/40\n",
      "283750/283750 [==============================] - 3s 10us/step - loss: 3.0698 - acc: 0.2607 - val_loss: 2.8593 - val_acc: 0.2603\n",
      "Epoch 23/40\n",
      "283750/283750 [==============================] - 3s 10us/step - loss: 3.0704 - acc: 0.2599 - val_loss: 2.8658 - val_acc: 0.2582\n",
      "Epoch 24/40\n",
      "283750/283750 [==============================] - 3s 10us/step - loss: 3.0717 - acc: 0.2601 - val_loss: 2.8631 - val_acc: 0.2585\n",
      "Epoch 25/40\n",
      "283750/283750 [==============================] - 3s 10us/step - loss: 3.0720 - acc: 0.2600 - val_loss: 2.8635 - val_acc: 0.2598\n",
      "Epoch 26/40\n",
      "283750/283750 [==============================] - 3s 10us/step - loss: 3.0693 - acc: 0.2610 - val_loss: 2.8582 - val_acc: 0.2590\n",
      "Epoch 27/40\n",
      "283750/283750 [==============================] - 3s 11us/step - loss: 3.0697 - acc: 0.2606 - val_loss: 2.8624 - val_acc: 0.2582\n",
      "Epoch 28/40\n",
      "283750/283750 [==============================] - 3s 11us/step - loss: 3.0688 - acc: 0.2606 - val_loss: 2.8613 - val_acc: 0.2588\n",
      "Epoch 29/40\n",
      "283750/283750 [==============================] - 3s 9us/step - loss: 3.0712 - acc: 0.2605 - val_loss: 2.8612 - val_acc: 0.2582\n",
      "Epoch 30/40\n",
      "283750/283750 [==============================] - 2s 8us/step - loss: 3.0704 - acc: 0.2609 - val_loss: 2.8810 - val_acc: 0.2559\n",
      "Epoch 31/40\n",
      "283750/283750 [==============================] - 2s 9us/step - loss: 3.0729 - acc: 0.2600 - val_loss: 2.8619 - val_acc: 0.2588\n",
      "Epoch 32/40\n",
      "283750/283750 [==============================] - 3s 9us/step - loss: 3.0706 - acc: 0.2603 - val_loss: 2.8610 - val_acc: 0.2580\n",
      "Epoch 33/40\n",
      "283750/283750 [==============================] - 3s 11us/step - loss: 3.0703 - acc: 0.2600 - val_loss: 2.8607 - val_acc: 0.2586\n",
      "Epoch 34/40\n",
      "283750/283750 [==============================] - 3s 11us/step - loss: 3.0686 - acc: 0.2607 - val_loss: 2.8579 - val_acc: 0.2594\n",
      "Epoch 35/40\n",
      "283750/283750 [==============================] - 3s 10us/step - loss: 3.0692 - acc: 0.2608 - val_loss: 2.8598 - val_acc: 0.2585\n",
      "Epoch 36/40\n",
      "283750/283750 [==============================] - 3s 10us/step - loss: 3.0696 - acc: 0.2606 - val_loss: 2.8595 - val_acc: 0.2574\n",
      "Epoch 37/40\n",
      "283750/283750 [==============================] - 3s 10us/step - loss: 3.0691 - acc: 0.2609 - val_loss: 2.8600 - val_acc: 0.2586\n",
      "Epoch 38/40\n",
      "283750/283750 [==============================] - 3s 10us/step - loss: 3.0698 - acc: 0.2606 - val_loss: 2.8597 - val_acc: 0.2589\n",
      "Epoch 39/40\n",
      "283750/283750 [==============================] - 3s 11us/step - loss: 3.0696 - acc: 0.2608 - val_loss: 2.8596 - val_acc: 0.2593\n",
      "Epoch 40/40\n",
      "283750/283750 [==============================] - 3s 11us/step - loss: 3.0697 - acc: 0.2609 - val_loss: 2.8569 - val_acc: 0.2603\n"
     ]
    },
    {
     "data": {
      "text/plain": [
       "<keras.callbacks.History at 0x7f96183451d0>"
      ]
     },
     "execution_count": 53,
     "metadata": {},
     "output_type": "execute_result"
    }
   ],
   "source": [
    "model.compile(loss='categorical_crossentropy', optimizer='adam', metrics=['accuracy'])\n",
    "model.fit(np.array(X), np.array(Y), batch_size = 128, epochs = 40, verbose = 1, validation_split = 0.2, shuffle = True)"
   ]
  }
 ],
 "metadata": {
  "kernelspec": {
   "display_name": "Python 3",
   "language": "python",
   "name": "python3"
  },
  "language_info": {
   "codemirror_mode": {
    "name": "ipython",
    "version": 3
   },
   "file_extension": ".py",
   "mimetype": "text/x-python",
   "name": "python",
   "nbconvert_exporter": "python",
   "pygments_lexer": "ipython3",
   "version": "3.6.6"
  }
 },
 "nbformat": 4,
 "nbformat_minor": 2
}

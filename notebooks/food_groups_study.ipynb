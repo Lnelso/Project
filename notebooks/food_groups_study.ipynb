{
 "cells": [
  {
   "cell_type": "code",
   "execution_count": 1,
   "metadata": {},
   "outputs": [],
   "source": [
    "import pandas as pd\n",
    "import numpy as np\n",
    "import tqdm\n",
    "import json\n",
    "import networkx as nx\n",
    "import matplotlib.pyplot as plt\n",
    "import collections"
   ]
  },
  {
   "cell_type": "markdown",
   "metadata": {},
   "source": [
    "### Load data"
   ]
  },
  {
   "cell_type": "code",
   "execution_count": 2,
   "metadata": {},
   "outputs": [],
   "source": [
    "#recipes\n",
    "cleaned_recipes = json.load(open(\"./../generated/high_score_repr_recipes.json\"))\n",
    "\n",
    "#mapping\n",
    "ing_mapping = json.load(open(\"./../generated/ing_usda_mapping_high_score.json\"))\n",
    "\n",
    "#group description\n",
    "columns = [\"food_group_id\", \"food_group_name\"]\n",
    "food_groups = pd.read_csv(\"./../data/usda/FD_GROUP.txt\", sep=\"^\", encoding=\"ISO-8859-1\", names=columns, header=None)\n",
    "\n",
    "#id mapping\n",
    "columns = [\"food_id\", \"food_group_id\"]\n",
    "use_cols = [0, 1]\n",
    "food_des = pd.read_csv(\"./../data/usda/FOOD_DES.txt\", sep=\"^\", encoding=\"ISO-8859-1\", names=columns, usecols=use_cols, header=None)"
   ]
  },
  {
   "cell_type": "markdown",
   "metadata": {},
   "source": [
    "### Create food groups dictionnaries"
   ]
  },
  {
   "cell_type": "code",
   "execution_count": 3,
   "metadata": {},
   "outputs": [],
   "source": [
    "#useful ids\n",
    "usda_ids = [ing_mapping[ing]for ing in ing_mapping]\n",
    "\n",
    "#matching ids dict\n",
    "ids_dict = dict()\n",
    "for usda_id in usda_ids :\n",
    "    matching_group = int(food_des[food_des[\"food_id\"] == usda_id]['food_group_id'].values[0])\n",
    "    ids_dict[usda_id] = matching_group\n",
    "    \n",
    "json.dump(ids_dict, open(\"./../generated/food_to_group_high_score.json\", 'w'))\n",
    "\n",
    "#food groups description ids\n",
    "group_des = dict()\n",
    "for entry in food_groups.values :\n",
    "    group_des[entry[0]] = entry[1]\n",
    "\n",
    "json.dump(group_des, open(\"./../generated/group_des.json\", 'w'))"
   ]
  },
  {
   "cell_type": "markdown",
   "metadata": {},
   "source": [
    "### generate recipe's food groups vectors"
   ]
  },
  {
   "cell_type": "code",
   "execution_count": 4,
   "metadata": {},
   "outputs": [
    {
     "name": "stderr",
     "output_type": "stream",
     "text": [
      "100%|██████████| 96529/96529 [00:00<00:00, 140529.75it/s]\n"
     ]
    }
   ],
   "source": [
    "\n",
    "food_groups_index = sorted(food_groups['food_group_id'])\n",
    "food_groups_names = [group_des[fg_id] for fg_id in food_groups_index]\n",
    "\n",
    "def recipe_to_ids(recipe) : return [int(ing[8:]) for ing in recipe if ing[:8] == 'usda_id=']\n",
    "          \n",
    "def ids_to_food_groups(ids) : return [ids_dict[i] for i in ids]\n",
    "\n",
    "def food_groups_to_vector(food_groups) :\n",
    "    count_vector = [0]*len(food_groups_index)\n",
    "    for fg_id in food_groups :\n",
    "        count_vector[food_groups_index.index(fg_id)] += 1\n",
    "        \n",
    "    return count_vector\n",
    "\n",
    "def recipe_to_vector(recipe) : return food_groups_to_vector(ids_to_food_groups(recipe_to_ids(recipe)))    \n",
    "\n",
    "\n",
    "#generate all vectors\n",
    "vectors_recipes = []\n",
    "for r in tqdm.tqdm(cleaned_recipes) :\n",
    "    vectors_recipes.append(recipe_to_vector(r))\n",
    "    \n",
    "#translate to np array now that the append phase is over\n",
    "vectors_recipes = np.array(vectors_recipes)    "
   ]
  },
  {
   "cell_type": "markdown",
   "metadata": {},
   "source": [
    "## vectors study"
   ]
  },
  {
   "cell_type": "markdown",
   "metadata": {},
   "source": [
    "#### basic statistics"
   ]
  },
  {
   "cell_type": "markdown",
   "metadata": {},
   "source": [
    "We first study the occurences of the food groups"
   ]
  },
  {
   "cell_type": "code",
   "execution_count": 8,
   "metadata": {},
   "outputs": [
    {
     "data": {
      "text/plain": [
       "[(547, 'Breakfast Cereals'),\n",
       " (1064, 'Restaurant Foods'),\n",
       " (1111, 'Baby Foods'),\n",
       " (1334, 'Lamb, Veal, and Game Products'),\n",
       " (1621, 'Meals, Entrees, and Side Dishes'),\n",
       " (1781, 'Fast Foods'),\n",
       " (2851, 'American Indian/Alaska Native Foods'),\n",
       " (3045, 'Finfish and Shellfish Products'),\n",
       " (3753, 'Poultry Products'),\n",
       " (3753, 'Beef Products'),\n",
       " (4067, 'Pork Products'),\n",
       " (6859, 'Snacks'),\n",
       " (10657, 'Nut and Seed Products'),\n",
       " (11018, 'Sausages and Luncheon Meats'),\n",
       " (23411, 'Legumes and Legume Products'),\n",
       " (25105, 'Soups, Sauces, and Gravies'),\n",
       " (29199, 'Beverages'),\n",
       " (31180, 'Cereal Grains and Pasta'),\n",
       " (31381, 'Baked Products'),\n",
       " (36060, 'Sweets'),\n",
       " (37571, 'Fruits and Fruit Juices'),\n",
       " (53487, 'Fats and Oils'),\n",
       " (99070, 'Dairy and Egg Products'),\n",
       " (145332, 'Spices and Herbs'),\n",
       " (169324, 'Vegetables and Vegetable Products')]"
      ]
     },
     "execution_count": 8,
     "metadata": {},
     "output_type": "execute_result"
    }
   ],
   "source": [
    "sorted([c for c in zip(vectors_recipes.sum(axis=0), food_groups_names)], key= lambda x : x[0])"
   ]
  },
  {
   "cell_type": "markdown",
   "metadata": {},
   "source": [
    "> As expected, the spices and the vegetables are the most common ingredients used. We notice that the snacks have been used a lot which is rather surprising."
   ]
  },
  {
   "cell_type": "markdown",
   "metadata": {},
   "source": [
    "Now, what is the mean recipe composition ?"
   ]
  },
  {
   "cell_type": "code",
   "execution_count": 12,
   "metadata": {},
   "outputs": [
    {
     "name": "stdout",
     "output_type": "stream",
     "text": [
      "mean number of ingredients :  7.609951413564835\n"
     ]
    },
    {
     "data": {
      "text/plain": [
       "[(0.00566669083902247, 'Breakfast Cereals'),\n",
       " (0.01102259424628868, 'Restaurant Foods'),\n",
       " (0.011509494556040153, 'Baby Foods'),\n",
       " (0.013819681132095018, 'Lamb, Veal, and Game Products'),\n",
       " (0.01679288089589657, 'Meals, Entrees, and Side Dishes'),\n",
       " (0.01845041386526329, 'Fast Foods'),\n",
       " (0.029535165597903222, 'American Indian/Alaska Native Foods'),\n",
       " (0.031544924323260365, 'Finfish and Shellfish Products'),\n",
       " (0.0388795077127081, 'Poultry Products'),\n",
       " (0.0388795077127081, 'Beef Products'),\n",
       " (0.04213241616509028, 'Pork Products'),\n",
       " (0.07105636648053952, 'Snacks'),\n",
       " (0.11040205534088202, 'Nut and Seed Products'),\n",
       " (0.11414186410301567, 'Sausages and Luncheon Meats'),\n",
       " (0.2425281521615266, 'Legumes and Legume Products'),\n",
       " (0.26007728247469675, 'Soups, Sauces, and Gravies'),\n",
       " (0.30248940732836765, 'Beverages'),\n",
       " (0.32301173740533934, 'Cereal Grains and Pasta'),\n",
       " (0.32509401319810627, 'Baked Products'),\n",
       " (0.37356649297102423, 'Sweets'),\n",
       " (0.3892198199504812, 'Fruits and Fruit Juices'),\n",
       " (0.5541029120782356, 'Fats and Oils'),\n",
       " (1.0263236954697552, 'Dairy and Egg Products'),\n",
       " (1.5055786344000248, 'Spices and Herbs'),\n",
       " (1.7541257031565642, 'Vegetables and Vegetable Products')]"
      ]
     },
     "execution_count": 12,
     "metadata": {},
     "output_type": "execute_result"
    }
   ],
   "source": [
    "mean_ings = sorted([c for c in zip(vectors_recipes.mean(axis=0), food_groups_names)], key= lambda x : x[0])\n",
    "print(\"mean number of ingredients : \", sum([c[0] for c in mean_ings]))\n",
    "mean_ings"
   ]
  },
  {
   "cell_type": "markdown",
   "metadata": {},
   "source": [
    "Those results are interesting but we agglomerate all the recipes together and lose the ability to distinguish some recipes categories. We now try to discover hidden recipe compositions patterns by clustering the recipes."
   ]
  },
  {
   "cell_type": "markdown",
   "metadata": {},
   "source": [
    "#### clustering"
   ]
  },
  {
   "cell_type": "code",
   "execution_count": null,
   "metadata": {},
   "outputs": [],
   "source": []
  }
 ],
 "metadata": {
  "kernelspec": {
   "display_name": "Python 3",
   "language": "python",
   "name": "python3"
  },
  "language_info": {
   "codemirror_mode": {
    "name": "ipython",
    "version": 3
   },
   "file_extension": ".py",
   "mimetype": "text/x-python",
   "name": "python",
   "nbconvert_exporter": "python",
   "pygments_lexer": "ipython3",
   "version": "3.7.0"
  }
 },
 "nbformat": 4,
 "nbformat_minor": 2
}

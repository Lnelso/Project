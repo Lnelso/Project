{
 "cells": [
  {
   "cell_type": "code",
   "execution_count": 1,
   "metadata": {},
   "outputs": [
    {
     "name": "stdout",
     "output_type": "stream",
     "text": [
      "[nltk_data] Downloading package punkt to /home/luke/nltk_data...\n",
      "[nltk_data]   Package punkt is already up-to-date!\n",
      "[nltk_data] Downloading package averaged_perceptron_tagger to\n",
      "[nltk_data]     /home/luke/nltk_data...\n",
      "[nltk_data]   Package averaged_perceptron_tagger is already up-to-\n",
      "[nltk_data]       date!\n"
     ]
    },
    {
     "data": {
      "text/plain": [
       "True"
      ]
     },
     "execution_count": 1,
     "metadata": {},
     "output_type": "execute_result"
    }
   ],
   "source": [
    "import json\n",
    "import nltk\n",
    "import inflect\n",
    "import tqdm\n",
    "import requests \n",
    "from bs4 import BeautifulSoup as bs\n",
    "import urllib.request\n",
    "import collections\n",
    "engine = inflect.engine()\n",
    "nltk.download('punkt')\n",
    "nltk.download('averaged_perceptron_tagger')"
   ]
  },
  {
   "cell_type": "code",
   "execution_count": 2,
   "metadata": {},
   "outputs": [],
   "source": [
    "recipes = json.load(open(\"../data/1M/recipe1M_layers/layer1.json\"))\n",
    "det_ingr = json.load(open(\"../data/1M/det_ingr.json\"))"
   ]
  },
  {
   "cell_type": "code",
   "execution_count": 3,
   "metadata": {},
   "outputs": [],
   "source": [
    "def string_to_float(x) :\n",
    "    try :\n",
    "        x = x.split('/')\n",
    "        if len(x) > 1 :            \n",
    "            return (float(x[0])/float(x[1]))\n",
    "        else :\n",
    "            return float(x[0])\n",
    "    except :\n",
    "        raise ValueError(\"not possible to cast \", x, \"to float\")\n",
    "    \n",
    "def string_to_frac(x) :\n",
    "    try :\n",
    "        if '/' in x:\n",
    "            return string_to_float(x)\n",
    "        else :\n",
    "            return(float(x[0]) / float(x[1:]))\n",
    "    except :\n",
    "        raise ValueError(\"not possible to cast \", x, \"to float\")\n",
    "    \n",
    "def singularize(x):\n",
    "    ingr = engine.singular_noun(x)\n",
    "    return x if (not ingr) else ingr\n",
    "\n",
    "def fmt_unit(x) :\n",
    "    return singularize(x.lower())"
   ]
  },
  {
   "cell_type": "code",
   "execution_count": 104,
   "metadata": {},
   "outputs": [],
   "source": [
    "units = [\"bushel\", \"cup\", \"dash\", \"drop\", \"fl.\" \"oz\", \"g\", \"gallon\", \"glass\",\n",
    "    \"kg\", \"liter\", \"ml\", \"ounce\", \"c.\", \"pinch\", \"pint\", \"pound\", \"lb\", \"quart\",\n",
    "    \"scoop\", \"shot\", \"tablespoon\", \"teaspoon\", \"tsp\", \"tbsp\"]\n",
    "\n",
    "def extract_quantity(x, recipe_index, ingredient_index) : \n",
    "    try :\n",
    "        ingr  = det_ingr[recipe_index]['ingredients'][ingredient_index]['text']\n",
    "        ingr_first_word = ingr.split(\" \")[0]\n",
    "\n",
    "        if ((len(tags) >= 2) and (tags[0][1] == 'CD')) :\n",
    "\n",
    "            #nb (nb+ unit) ing\n",
    "            if ((tags[1][0] == '(') and (len(tags)>6)):\n",
    "                idx_par = tags.index((')', ')'))            \n",
    "                quant_in = tags[2:idx_par-1]\n",
    "                quant=0\n",
    "\n",
    "                #nb nb \n",
    "                if len(quant_in) == 2 :\n",
    "                    quant = (string_to_float(quant_in[0][0]) + string_to_frac(quant_in[1][0])) / 2\n",
    "                elif len(quant_in) == 1:\n",
    "                    quant = string_to_float(quant_in[0][0])\n",
    "\n",
    "                else :\n",
    "                    return None\n",
    "\n",
    "                unit = fmt_unit(tags[idx_par-1][0])            \n",
    "                return (quant, unit, ingr)\n",
    "\n",
    "\n",
    "            #nb+ [unit] ing\n",
    "            else :\n",
    "                tag1_nb = tags[1][1] == 'CD'\n",
    "                tag1_to = tags[1][0] == 'to'\n",
    "                tag1_unit = fmt_unit(tags[1][0]) in units\n",
    "                tag1_starts_minus = tags[1][0][0] == '-'\n",
    "\n",
    "                #nb unit ing\n",
    "                if (tag1_unit) :\n",
    "                    return (string_to_float(tags[0][0]), fmt_unit(tags[1][0]), ingr)\n",
    "\n",
    "                #nb nb ...\n",
    "                elif tag1_nb : \n",
    "                    first_nb = string_to_float(tags[0][0]) + string_to_frac(tags[1][0])\n",
    "\n",
    "                    #nb nb unit ing\n",
    "                    if fmt_unit(tags[2][0]) in units :\n",
    "                        return (first_nb, fmt_unit(tags[2][0]), ingr)\n",
    "\n",
    "                    #nb nb to nb ...\n",
    "                    elif tags[2][0] == 'to':\n",
    "\n",
    "                        #nb nb to nb unit ing\n",
    "                        if fmt_unit(tags[4][0]) in units :\n",
    "                            return ((first_nb + string_to_float(tags[3][0])) / 2,  fmt_unit(tags[4][0]), ingr)\n",
    "\n",
    "                        #nb nb to nb nb ...\n",
    "                        elif tags[4][1] == 'CD' :\n",
    "\n",
    "                            second_nb = string_to_float(tags[3][0]) + string_to_frac(tags[4][0])\n",
    "                            average_qt = (first_nb + second_nb) / 2\n",
    "\n",
    "                            #nb nb to nb nb unit ing\n",
    "                            if fmt_unit(tags[5][0]) in units :\n",
    "                                return (average_qt, fmt_unit(tags[5][0]), ingr)\n",
    "\n",
    "                            #nb nb to nb nb ing\n",
    "                            else :\n",
    "                                return (average_qt, \"\", ingr)\n",
    "\n",
    "                        #nb nb to nb ing\n",
    "                        else :\n",
    "                            return ((first_nb + string_to_float(tags[4][0])) / 2, \"\", ingr)\n",
    "\n",
    "                    #nb nb ing\n",
    "                    else :\n",
    "                         return (first_nb, \"\", ingr)   \n",
    "\n",
    "\n",
    "\n",
    "                #nb -nb ...\n",
    "                elif tag1_starts_minus :\n",
    "                    first_nb = (string_to_float(tags[0][0]) + string_to_float(tags[1][0][1:]))/2\n",
    "\n",
    "                    #nb -nb unit ing\n",
    "                    if fmt_unit(tags[2][0]) in units :\n",
    "                        return (first_nb, fmt_unit(tags[2][0]), ingr)\n",
    "\n",
    "                    #nb -nb ing\n",
    "                    else :\n",
    "                        return (first_nb, \"\", ingr)\n",
    "\n",
    "                #nb to nb ...\n",
    "                elif (tag1_to):\n",
    "                    first_nb = string_to_float(tags[0][0])\n",
    "\n",
    "                    #nb to nb nb ...\n",
    "                    if (tags[3][1] == 'CD') :\n",
    "                        second_nb = string_to_float(tags[2][0]) + string_to_frac([3][0])\n",
    "                        avg_qt = (first_nb + second_nb) / 2\n",
    "\n",
    "                        #nb to nb nb unit ing\n",
    "                        if fmt_unit(tags[4][0]) in units :\n",
    "                            return (avg_qt, fmt_unit(tags[4][0]), ingr)\n",
    "\n",
    "                        #nb to nb nb ing\n",
    "                        else :\n",
    "                            return (avg_qt, \"\", ingr)\n",
    "\n",
    "                    #nb to nb unit ing\n",
    "                    elif (fmt_unit(tags[3][0]) in units) :\n",
    "                        second_nb = string_to_float(tags[2][0])\n",
    "                        avg_qt = (first_nb + second_nb) / 2\n",
    "                        return (avg_qt, fmt_unit(tags[3][0]), ingr)\n",
    "\n",
    "                    #nb to nb ing\n",
    "                    else :\n",
    "                        second_nb = string_to_float(tags[2][0])\n",
    "                        avg_qt = (first_nb + second_nb) / 2\n",
    "                        return (avg_qt, \"\", ingr)\n",
    "                #nb ing \n",
    "                else :\n",
    "                    return (string_to_float(tags[0][0]), \"\", ingr)\n",
    "    except :\n",
    "        return None"
   ]
  },
  {
   "cell_type": "code",
   "execution_count": 120,
   "metadata": {},
   "outputs": [
    {
     "data": {
      "application/vnd.jupyter.widget-view+json": {
       "model_id": "7df08081bec14e1bada8eb861c80528d",
       "version_major": 2,
       "version_minor": 0
      },
      "text/plain": [
       "HBox(children=(IntProgress(value=1, bar_style='info', max=1), HTML(value='')))"
      ]
     },
     "metadata": {},
     "output_type": "display_data"
    },
    {
     "name": "stdout",
     "output_type": "stream",
     "text": [
      "\n",
      "2242 recipes contained only mesurable ingredients => 22.42%\n"
     ]
    }
   ],
   "source": [
    "measurable_indices = []\n",
    "all_extracted = []\n",
    "unit_ing = collections.Counter()\n",
    "measurables = 0\n",
    "nb_to_try = 10000\n",
    "\n",
    "for e, r in tqdm.tqdm_notebook(enumerate(recipes[:nb_to_try])) :\n",
    "    \n",
    "    extracted = []\n",
    "    contains_immeasurable = False\n",
    "    \n",
    "    for i, ingredient in enumerate(r['ingredients']) :\n",
    "        tags = nltk.pos_tag(nltk.word_tokenize(ingredient['text']))\n",
    "        a = extract_quantity(tags, e, i)\n",
    "        ing_to_detect = \" \".join(singularize(c) for c in det_ingr[e]['ingredients'][i]['text'].split(\" \"))\n",
    "        \n",
    "        if a is not None and a[1] != \"\":\n",
    "            extracted.append(a)\n",
    "            \n",
    "        else :\n",
    "            if a is not None and a[1] == \"\" and singularize(ingredient['text'].split(\" \")[1]) == ing_to_detect.split(\" \")[0] :\n",
    "                unit_ing.update([ing_to_detect])\n",
    "            else :\n",
    "                contains_immeasurable = True\n",
    "            \n",
    "    if not contains_immeasurable :\n",
    "        all_extracted.append(extracted)\n",
    "        measurable_indices.append(e)\n",
    "        measurables+=1\n",
    "            \n",
    "            \n",
    "print(str(measurables) + \" recipes contained only mesurable ingredients => \" + str(100*measurables/nb_to_try) + \"%\")\n"
   ]
  },
  {
   "cell_type": "markdown",
   "metadata": {},
   "source": [
    "## ingredients whose weight should be computed by hand"
   ]
  },
  {
   "cell_type": "code",
   "execution_count": 2,
   "metadata": {},
   "outputs": [],
   "source": [
    "find_unit_ing = json.load(open(\"./../generated/find_unit_quantity.json\"))\n",
    "find_unit_ing = sorted([(k, find_unit_ing[k]) for k in find_unit_ing], key= lambda x : x[1], reverse=True)"
   ]
  },
  {
   "cell_type": "markdown",
   "metadata": {},
   "source": [
    "### scrap quantities from some website"
   ]
  },
  {
   "cell_type": "code",
   "execution_count": 13,
   "metadata": {},
   "outputs": [
    {
     "data": {
      "application/vnd.jupyter.widget-view+json": {
       "model_id": "1d01bee4945e428c8b4a9af61fa83f3b",
       "version_major": 2,
       "version_minor": 0
      },
      "text/plain": [
       "HBox(children=(IntProgress(value=0, max=200), HTML(value='')))"
      ]
     },
     "metadata": {},
     "output_type": "display_data"
    },
    {
     "name": "stdout",
     "output_type": "stream",
     "text": [
      "egg , medium :  ('egg', (44.0, 'g'))\n",
      "onion , medium :  ('onion', (110.0, 'g'))\n",
      "lemon , large :  ('lemon', (84.0, 'g'))\n",
      "green onion , medium :  ('green onion', (15.0, 'g'))\n",
      "tomato , large :  ('tomato', (20.0, 'g'))\n",
      "orange , medium :  ('orange', (131.0, 'g'))\n",
      "banana , medium :  ('banana', (118.0, 'g'))\n",
      "potato , medium :  ('potato', (213.0, 'g'))\n",
      "apple , medium :  ('apple', (182.0, 'g'))\n",
      "cucumber , large :  ('cucumber', (35.0, 'g'))\n",
      "radish , medium :  ('radish', (4.5, 'g'))\n",
      "cantaloupe , medium :  ('cantaloupe', (552.0, 'g'))\n"
     ]
    }
   ],
   "source": [
    "found = []\n",
    "\n",
    "for ing in tqdm.tqdm_notebook(find_unit_ing[0:200]) :\n",
    "    \n",
    "    quantity = 0\n",
    "    unit = \"\"\n",
    "    \n",
    "    try :\n",
    "        \n",
    "        url_sing = \"https://hannaone.com/Recipe/weight\" + str(ing[0]).replace(\" \", \"\") +\".html\"\n",
    "        url_plur = \"https://hannaone.com/Recipe/weight\" + str(ing[0]).replace(\" \", \"\") +\"s.html\"\n",
    "        \n",
    "        try :\n",
    "            req = urllib.request.Request(url_sing, headers={'User-Agent': 'Mozilla/5.0'})\n",
    "            html = urllib.request.urlopen(req)\n",
    "            res = bs(html.read(),\"html5lib\")\n",
    "            trs = res.find(\"table\").findAll(\"tr\")\n",
    "        except :\n",
    "            try :\n",
    "                req = urllib.request.Request(url_plur, headers={'User-Agent': 'Mozilla/5.0'})\n",
    "                html = urllib.request.urlopen(req)\n",
    "                res = bs(html.read(),\"html5lib\")\n",
    "                trs = res.find(\"table\").findAll(\"tr\")\n",
    "            except Exception as e:\n",
    "                raise ValueError('The ingredient has no matching url')\n",
    "        \n",
    "        found_medium = False\n",
    "        found_some = False\n",
    "        to_append = []\n",
    "        \n",
    "        for tr in trs[1:] :\n",
    "            td = tr.find(\"td\")\n",
    "            \n",
    "            if td is not None :\n",
    "\n",
    "                if (('large' in td.text.lower() and (not found_medium)) or (('medium' in td.text.lower()) and not found_medium)) :\n",
    "                    tds = tr.findAll(\"td\")\n",
    "\n",
    "                    weight = tds[2].text.split(\"-\")[-1].strip()\n",
    "\n",
    "                    if 'g' in weight :\n",
    "                        quantity  = float(weight[:-1])\n",
    "                        unit = 'g'\n",
    "                        to_append = (ing[0], (quantity, unit))\n",
    "                        found_some = True\n",
    "\n",
    "                    elif 'oz'in weight :\n",
    "                        quantity  = float(weight[:-2])\n",
    "                        unit = 'oz'\n",
    "                        to_append = (ing[0], (quantity, unit))\n",
    "                        found_some = True\n",
    "\n",
    "\n",
    "                    if td.text.lower() == 'medium' :\n",
    "                        found_medium = True  \n",
    "                    \n",
    "        if found_some :\n",
    "            found.append(to_append)\n",
    "            \n",
    "            if found_medium :\n",
    "                print(ing[0], \", medium : \", to_append)\n",
    "            else :\n",
    "                print(ing[0], \", large : \", to_append)\n",
    "\n",
    "\n",
    "\n",
    "             \n",
    "    except Exception as e: \n",
    "        pass"
   ]
  },
  {
   "cell_type": "markdown",
   "metadata": {},
   "source": [
    "### quantities found\n",
    "We found 6% of the ingredients which is a poor result"
   ]
  },
  {
   "cell_type": "code",
   "execution_count": 15,
   "metadata": {},
   "outputs": [
    {
     "data": {
      "text/plain": [
       "12"
      ]
     },
     "execution_count": 15,
     "metadata": {},
     "output_type": "execute_result"
    }
   ],
   "source": [
    "len(found)"
   ]
  },
  {
   "cell_type": "code",
   "execution_count": null,
   "metadata": {},
   "outputs": [],
   "source": [
    "weights = [('egg', (44, 'g')),\n",
    " ('garlic clove', (3, 'g')),\n",
    " ('onion', (110, 'g')),\n",
    " ('lemon', (84, 'g')),\n",
    " ('bay leaf', 22146),\n",
    " ('carrot', 16888),\n",
    " ('green onion', (15, 'g')),\n",
    " ('egg yolk', 13813),\n",
    " ('egg white', 13262),\n",
    " ('red bell pepper', 10331),\n",
    " ('lime', 10260),\n",
    " ('tomato', (20, 'g')),\n",
    " ('scallion', 10112),\n",
    " ('shallot', 8168),\n",
    " ('celery rib', 7682),\n",
    " ('red onion', 7308),\n",
    " ('green bell pepper', 6646),\n",
    " ('orange', (131, 'g')),\n",
    " ('green pepper', 6230),\n",
    " ('banana', (118, 'g')),\n",
    " ('boneles skinles chicken breast', 5562),\n",
    " ('avocado', 5294),\n",
    " ('cinnamon stick', 4830),\n",
    " ('jalapeno pepper', 4723),\n",
    " ('chicken breast', 4661),\n",
    " ('red pepper', 4646),\n",
    " ('potato', (213, 'g')),\n",
    " ('apple', (182, 'g')),\n",
    " ('jalapeno', 3993),\n",
    " ('cucumber', (35, 'g')),\n",
    " ('zucchini', 3706),\n",
    " ('vanilla bean', 3436),\n",
    " ('leek', 3386),\n",
    " ('whole clove', 3214),\n",
    " ('flour tortilla', 3016),\n",
    " ('boneles skinles chicken breast half', 2905),\n",
    " ('yellow onion', 2894),\n",
    " ('plum tomato', 2889),\n",
    " ('bell pepper', 2801),\n",
    " ('corn tortilla', 2383),\n",
    " ('yellow bell pepper', 2097),\n",
    " ('clove', 1999),\n",
    " ('chicken bouillon cube', 1962),\n",
    " ('hamburger bun', 1834),\n",
    " ('spring onion', 1834),\n",
    " ('cherry tomato', 1811),\n",
    " ('mango', 1698),\n",
    " ('pork chop', 1661),\n",
    " ('rom tomato', 1653),\n",
    " ('white onion', 1630)]"
   ]
  },
  {
   "cell_type": "code",
   "execution_count": 83,
   "metadata": {},
   "outputs": [
    {
     "data": {
      "application/vnd.jupyter.widget-view+json": {
       "model_id": "e4e764748d0046889f88166466308f4b",
       "version_major": 2,
       "version_minor": 0
      },
      "text/plain": [
       "HBox(children=(IntProgress(value=0, max=115807), HTML(value='')))"
      ]
     },
     "metadata": {},
     "output_type": "display_data"
    },
    {
     "name": "stdout",
     "output_type": "stream",
     "text": [
      "107977 recipes contained only mappable ingredients => 93.23875068001071%\n"
     ]
    }
   ],
   "source": [
    "usda_mappable_indices = []\n",
    "usda_mappable = 0\n",
    "\n",
    "for index in tqdm.tqdm_notebook(measurable_indices) :\n",
    "    try :\n",
    "        det_ingr[index]['valid'].index(False)\n",
    "    except :\n",
    "        usda_mappable += 1\n",
    "        usda_mappable_indices.append(index)\n",
    "\n",
    "print(str(usda_mappable) + \" recipes contained only mappable ingredients => \" + str(100*usda_mappable/len(measurable_indices)) + \"%\")\n"
   ]
  }
 ],
 "metadata": {
  "kernelspec": {
   "display_name": "Python 3",
   "language": "python",
   "name": "python3"
  },
  "language_info": {
   "codemirror_mode": {
    "name": "ipython",
    "version": 3
   },
   "file_extension": ".py",
   "mimetype": "text/x-python",
   "name": "python",
   "nbconvert_exporter": "python",
   "pygments_lexer": "ipython3",
   "version": "3.6.7"
  }
 },
 "nbformat": 4,
 "nbformat_minor": 2
}

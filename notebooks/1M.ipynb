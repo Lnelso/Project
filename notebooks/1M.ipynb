{
 "cells": [
  {
   "cell_type": "code",
   "execution_count": 1,
   "metadata": {},
   "outputs": [
    {
     "name": "stderr",
     "output_type": "stream",
     "text": [
      "C:\\Users\\Martin\\Anaconda3\\lib\\site-packages\\gensim\\utils.py:1212: UserWarning: detected Windows; aliasing chunkize to chunkize_serial\n",
      "  warnings.warn(\"detected Windows; aliasing chunkize to chunkize_serial\")\n"
     ]
    },
    {
     "name": "stdout",
     "output_type": "stream",
     "text": [
      "[nltk_data] Downloading package punkt to\n",
      "[nltk_data]     C:\\Users\\Martin\\AppData\\Roaming\\nltk_data...\n",
      "[nltk_data]   Package punkt is already up-to-date!\n",
      "[nltk_data] Downloading package averaged_perceptron_tagger to\n",
      "[nltk_data]     C:\\Users\\Martin\\AppData\\Roaming\\nltk_data...\n",
      "[nltk_data]   Package averaged_perceptron_tagger is already up-to-\n",
      "[nltk_data]       date!\n"
     ]
    },
    {
     "data": {
      "text/plain": [
       "True"
      ]
     },
     "execution_count": 1,
     "metadata": {},
     "output_type": "execute_result"
    }
   ],
   "source": [
    "import json\n",
    "import nltk\n",
    "import inflect\n",
    "import tqdm\n",
    "import time\n",
    "import requests \n",
    "from bs4 import BeautifulSoup as bs\n",
    "import gensim\n",
    "import matplotlib.pyplot as plt\n",
    "import pandas as pd\n",
    "import urllib.request\n",
    "import numpy as np\n",
    "import collections\n",
    "engine = inflect.engine()\n",
    "nltk.download('punkt')\n",
    "nltk.download('averaged_perceptron_tagger')"
   ]
  },
  {
   "cell_type": "markdown",
   "metadata": {},
   "source": [
    "### Helper functions"
   ]
  },
  {
   "cell_type": "code",
   "execution_count": 2,
   "metadata": {},
   "outputs": [],
   "source": [
    "def singularize(word):\n",
    "    ingr = engine.singular_noun(word)\n",
    "    return word if (not ingr) else ingr\n",
    "\n",
    "def clean_ing_word(word) : return singularize(word).lower()\n",
    "\n",
    "def clean_whole_ing(ing) : return \" \".join([clean_ing_word(word) for word in ing.split(\" \")])"
   ]
  },
  {
   "cell_type": "markdown",
   "metadata": {},
   "source": [
    "### load data"
   ]
  },
  {
   "cell_type": "code",
   "execution_count": 3,
   "metadata": {},
   "outputs": [],
   "source": [
    "recipes = json.load(open(\"../data/1M/recipe1M_layers/layer1.json\"))\n",
    "det_ingr = json.load(open(\"../data/1M/det_ingr.json\"))"
   ]
  },
  {
   "cell_type": "markdown",
   "metadata": {},
   "source": [
    "### Filter recipes with only valid ingredients"
   ]
  },
  {
   "cell_type": "code",
   "execution_count": 4,
   "metadata": {},
   "outputs": [
    {
     "data": {
      "application/vnd.jupyter.widget-view+json": {
       "model_id": "cef2c21d3f284f5e868c4315c1b73a58",
       "version_major": 2,
       "version_minor": 0
      },
      "text/plain": [
       "HBox(children=(IntProgress(value=0, max=1029720), HTML(value='')))"
      ]
     },
     "metadata": {},
     "output_type": "display_data"
    },
    {
     "name": "stdout",
     "output_type": "stream",
     "text": [
      "\n",
      "869656 recipes contained mappable ingredients and no quant => 84.45558015771277%\n"
     ]
    }
   ],
   "source": [
    "usda_no_quant_indices = []\n",
    "usda_no_quant = 0\n",
    "recipes_len = len(recipes)\n",
    "\n",
    "for index in tqdm.tqdm_notebook(range(len(recipes))) :\n",
    "    try :\n",
    "        det_ingr[index]['valid'].index(False)\n",
    "    except :\n",
    "        usda_no_quant += 1\n",
    "        usda_no_quant_indices.append(index)\n",
    "        \n",
    "recipes = [recipes[index] for index in usda_no_quant_indices] \n",
    "det_ingr = [det_ingr[index] for index in usda_no_quant_indices]\n",
    "\n",
    "print(str(usda_no_quant) + \" recipes contained mappable ingredients and no quant => \" + str(100*usda_no_quant/recipes_len) + \"%\")"
   ]
  },
  {
   "cell_type": "markdown",
   "metadata": {},
   "source": [
    "### generate ingredients count"
   ]
  },
  {
   "cell_type": "markdown",
   "metadata": {},
   "source": [
    "All ingredients"
   ]
  },
  {
   "cell_type": "code",
   "execution_count": 5,
   "metadata": {},
   "outputs": [
    {
     "data": {
      "application/vnd.jupyter.widget-view+json": {
       "model_id": "427df3a63b764340af423e2bbd2bc96b",
       "version_major": 2,
       "version_minor": 0
      },
      "text/plain": [
       "HBox(children=(IntProgress(value=1, bar_style='info', max=1), HTML(value='')))"
      ]
     },
     "metadata": {},
     "output_type": "display_data"
    },
    {
     "name": "stdout",
     "output_type": "stream",
     "text": [
      "\n"
     ]
    }
   ],
   "source": [
    "ingredients_counter = collections.Counter()\n",
    "\n",
    "for e, recipe in tqdm.tqdm_notebook(enumerate(recipes)) :\n",
    "    ingredients_counter.update([c['text'] for c in det_ingr[e]['ingredients']])"
   ]
  },
  {
   "cell_type": "markdown",
   "metadata": {},
   "source": [
    "now we filter the ingredients to keep the most important ones (those that appear more than thresh=50 times)"
   ]
  },
  {
   "cell_type": "code",
   "execution_count": 6,
   "metadata": {},
   "outputs": [
    {
     "name": "stdout",
     "output_type": "stream",
     "text": [
      "starting from 18077 we kept 5295 ingredients.\n",
      "This is equivalent to keeping only 29.29% of the ingredients.\n"
     ]
    }
   ],
   "source": [
    "common_ing_counts = []\n",
    "\n",
    "thresh=50\n",
    "\n",
    "for c in ingredients_counter.most_common() :\n",
    "    if c[1] >= thresh :\n",
    "        common_ing_counts.append(c)\n",
    "    else :\n",
    "        break\n",
    "        \n",
    "print(\"starting from\", len(ingredients_counter.most_common()), \"we kept\", len(common_ing_counts), \"ingredients.\")\n",
    "percentage = 100*len(common_ing_counts)/len(ingredients_counter.most_common())\n",
    "print(\"This is equivalent to keeping only \" + \"{0:.2f}\".format(percentage) + \"% of the ingredients.\")"
   ]
  },
  {
   "cell_type": "markdown",
   "metadata": {},
   "source": [
    "### Rewriting recipes with ingredients "
   ]
  },
  {
   "cell_type": "markdown",
   "metadata": {},
   "source": [
    "We first write a file with the recipes that contain only usda mappable ingredients, and keep the detected ingredients names, we do not clean them as we already now that a mapping exists for usda."
   ]
  },
  {
   "cell_type": "code",
   "execution_count": 7,
   "metadata": {},
   "outputs": [
    {
     "data": {
      "application/vnd.jupyter.widget-view+json": {
       "model_id": "3ec09c75d6bc4f598827a8f2dacad966",
       "version_major": 2,
       "version_minor": 0
      },
      "text/plain": [
       "HBox(children=(IntProgress(value=1, bar_style='info', max=1), HTML(value='')))"
      ]
     },
     "metadata": {},
     "output_type": "display_data"
    },
    {
     "name": "stdout",
     "output_type": "stream",
     "text": [
      "\n"
     ]
    }
   ],
   "source": [
    "rep_with_ing =[]\n",
    "\n",
    "for e, r in tqdm.tqdm_notebook(enumerate(recipes)) :\n",
    "    ingredients = []\n",
    "    for ing_index in range(len(r['ingredients'])) :\n",
    "        ingredients.append(det_ingr[e]['ingredients'][ing_index]['text'])\n",
    "    \n",
    "    rep_with_ing.append(ingredients)\n",
    "    \n",
    "json.dump(rep_with_ing, open(\"../generated/1m_recipes.json\", 'w'))"
   ]
  },
  {
   "cell_type": "markdown",
   "metadata": {},
   "source": [
    "### Extracting quantities for recipes"
   ]
  },
  {
   "cell_type": "code",
   "execution_count": 8,
   "metadata": {},
   "outputs": [],
   "source": [
    "def string_to_float(x) :\n",
    "    try :\n",
    "        x = x.split('/')\n",
    "        if len(x) > 1 :            \n",
    "            return (float(x[0])/float(x[1]))\n",
    "        else :\n",
    "            return float(x[0])\n",
    "    except :\n",
    "        raise ValueError(\"not possible to cast \", x, \"to float\")\n",
    "    \n",
    "def string_to_frac(x) :\n",
    "    try :\n",
    "        if '/' in x:\n",
    "            return string_to_float(x)\n",
    "        else :\n",
    "            return(float(x[0]) / float(x[1:]))\n",
    "    except :\n",
    "        raise ValueError(\"not possible to cast \", x, \"to float\")\n",
    "    \n",
    "def fmt_unit(x) :\n",
    "    return singularize(x.lower())"
   ]
  },
  {
   "cell_type": "code",
   "execution_count": 9,
   "metadata": {},
   "outputs": [],
   "source": [
    "units = [\"bushel\", \"cup\", \"dash\", \"drop\", \"fl.\" \"oz\", \"g\", \"cc\", \"gram\", \"gallon\", \"glass\",\n",
    "    \"kg\", \"liter\", \"ml\", \"ounce\", \"c.\", \"pinch\", \"pint\", \"pound\", \"lb\", \"quart\",\n",
    "    \"scoop\", \"shot\", \"tablespoon\", \"teaspoon\", \"tsp\", \"tbsp\"]\n",
    "\n",
    "def extract_quantity(tags, recipe_index, ingredient_index) : \n",
    "    try :\n",
    "        ingr  = det_ingr[recipe_index]['ingredients'][ingredient_index]['text']\n",
    "        ingr_first_word = ingr.split(\" \")[0]\n",
    "\n",
    "        if ((len(tags) >= 2) and (tags[0][1] == 'CD')) :\n",
    "\n",
    "            #nb (nb+ unit) ing\n",
    "            if ((tags[1][0] == '(') and (len(tags)>6)):\n",
    "                idx_par = tags.index((')', ')'))            \n",
    "                quant_in = tags[2:idx_par-1]\n",
    "                quant=0\n",
    "\n",
    "                #nb nb \n",
    "                if len(quant_in) == 2 :\n",
    "                    quant = (string_to_float(quant_in[0][0]) + string_to_frac(quant_in[1][0])) / 2\n",
    "                elif len(quant_in) == 1:\n",
    "                    quant = string_to_float(quant_in[0][0])\n",
    "\n",
    "                else :\n",
    "                    return None\n",
    "\n",
    "                unit = fmt_unit(tags[idx_par-1][0])            \n",
    "                return (quant, unit, ingr)\n",
    "\n",
    "\n",
    "            #nb+ [unit] ing\n",
    "            else :\n",
    "                tag1_nb = tags[1][1] == 'CD'\n",
    "                tag1_to = tags[1][0] == 'to'\n",
    "                tag1_unit = fmt_unit(tags[1][0]) in units\n",
    "                tag1_starts_minus = tags[1][0][0] == '-'\n",
    "\n",
    "                #nb unit ing\n",
    "                if (tag1_unit) :\n",
    "                    return (string_to_float(tags[0][0]), fmt_unit(tags[1][0]), ingr)\n",
    "\n",
    "                #nb nb ...\n",
    "                elif tag1_nb : \n",
    "                    first_nb = string_to_float(tags[0][0]) + string_to_frac(tags[1][0])\n",
    "\n",
    "                    #nb nb unit ing\n",
    "                    if fmt_unit(tags[2][0]) in units :\n",
    "                        return (first_nb, fmt_unit(tags[2][0]), ingr)\n",
    "\n",
    "                    #nb nb to nb ...\n",
    "                    elif tags[2][0] == 'to':\n",
    "\n",
    "                        #nb nb to nb unit ing\n",
    "                        if fmt_unit(tags[4][0]) in units :\n",
    "                            return ((first_nb + string_to_float(tags[3][0])) / 2,  fmt_unit(tags[4][0]), ingr)\n",
    "\n",
    "                        #nb nb to nb nb ...\n",
    "                        elif tags[4][1] == 'CD' :\n",
    "\n",
    "                            second_nb = string_to_float(tags[3][0]) + string_to_frac(tags[4][0])\n",
    "                            average_qt = (first_nb + second_nb) / 2\n",
    "\n",
    "                            #nb nb to nb nb unit ing\n",
    "                            if fmt_unit(tags[5][0]) in units :\n",
    "                                return (average_qt, fmt_unit(tags[5][0]), ingr)\n",
    "\n",
    "                            #nb nb to nb nb ing\n",
    "                            else :\n",
    "                                return (average_qt, \"\", ingr)\n",
    "\n",
    "                        #nb nb to nb ing\n",
    "                        else :\n",
    "                            return ((first_nb + string_to_float(tags[4][0])) / 2, \"\", ingr)\n",
    "\n",
    "                    #nb nb ing\n",
    "                    else :\n",
    "                         return (first_nb, \"\", ingr)   \n",
    "\n",
    "\n",
    "\n",
    "                #nb -nb ...\n",
    "                elif tag1_starts_minus :\n",
    "                    first_nb = (string_to_float(tags[0][0]) + string_to_float(tags[1][0][1:]))/2\n",
    "\n",
    "                    #nb -nb unit ing\n",
    "                    if fmt_unit(tags[2][0]) in units :\n",
    "                        return (first_nb, fmt_unit(tags[2][0]), ingr)\n",
    "\n",
    "                    #nb -nb ing\n",
    "                    else :\n",
    "                        return (first_nb, \"\", ingr)\n",
    "\n",
    "                #nb to nb ...\n",
    "                elif (tag1_to):\n",
    "                    first_nb = string_to_float(tags[0][0])\n",
    "\n",
    "                    #nb to nb nb ...\n",
    "                    if (tags[3][1] == 'CD') :\n",
    "                        second_nb = string_to_float(tags[2][0]) + string_to_frac([3][0])\n",
    "                        avg_qt = (first_nb + second_nb) / 2\n",
    "\n",
    "                        #nb to nb nb unit ing\n",
    "                        if fmt_unit(tags[4][0]) in units :\n",
    "                            return (avg_qt, fmt_unit(tags[4][0]), ingr)\n",
    "\n",
    "                        #nb to nb nb ing\n",
    "                        else :\n",
    "                            return (avg_qt, \"\", ingr)\n",
    "\n",
    "                    #nb to nb unit ing\n",
    "                    elif (fmt_unit(tags[3][0]) in units) :\n",
    "                        second_nb = string_to_float(tags[2][0])\n",
    "                        avg_qt = (first_nb + second_nb) / 2\n",
    "                        return (avg_qt, fmt_unit(tags[3][0]), ingr)\n",
    "\n",
    "                    #nb to nb ing\n",
    "                    else :\n",
    "                        second_nb = string_to_float(tags[2][0])\n",
    "                        avg_qt = (first_nb + second_nb) / 2\n",
    "                        return (avg_qt, \"\", ingr)\n",
    "                #nb ing \n",
    "                else :\n",
    "                    return (string_to_float(tags[0][0]), \"\", ingr)\n",
    "    except :\n",
    "        return None"
   ]
  },
  {
   "cell_type": "code",
   "execution_count": 10,
   "metadata": {},
   "outputs": [
    {
     "data": {
      "application/vnd.jupyter.widget-view+json": {
       "model_id": "baed121d6fde4270818f1f08d9cab8a2",
       "version_major": 2,
       "version_minor": 0
      },
      "text/plain": [
       "HBox(children=(IntProgress(value=1, bar_style='info', max=1), HTML(value='')))"
      ]
     },
     "metadata": {},
     "output_type": "display_data"
    },
    {
     "name": "stdout",
     "output_type": "stream",
     "text": [
      "\n",
      "206887 recipes contained only mesurable ingredients => 23.789521373968558%\n"
     ]
    }
   ],
   "source": [
    "measurable_indices = []\n",
    "all_extracted = []\n",
    "unit_ing = collections.Counter()\n",
    "measurables = 0\n",
    "nb_to_try = len(recipes)\n",
    "sizes = ['large', 'medium', 'small']\n",
    "\n",
    "for e, r in tqdm.tqdm_notebook(enumerate(recipes[:nb_to_try])) :\n",
    "    \n",
    "    extracted = []\n",
    "    contains_immeasurable = False\n",
    "    \n",
    "    for i, ingredient in enumerate(r['ingredients']) :\n",
    "        \n",
    "        #remove sizes        \n",
    "        ingredient['text'] = \" \".join([c for c in ingredient['text'].split(\" \") if (not c.lower().strip() in sizes)])\n",
    "        \n",
    "        #tag the ingredient definition\n",
    "        tags = nltk.pos_tag(nltk.word_tokenize(ingredient['text']))\n",
    "        \n",
    "        raw_ing_to_detect = det_ingr[e]['ingredients'][i]['text']\n",
    "        ing_to_detect = \" \".join([singularize(c) for c in raw_ing_to_detect.split(\" \")])\n",
    "\n",
    "        a = extract_quantity(tags, e, i)\n",
    "\n",
    "        if a is not None and a[1] != \"\":\n",
    "            extracted.append(a)\n",
    "\n",
    "        else :\n",
    "            \n",
    "            #detect units ingredients\n",
    "            if ((a is not None) \\\n",
    "                and (a[1] == \"\") \\\n",
    "                and (len(ingredient['text'].split(\" \")) > 2) \\\n",
    "                and (len(ing_to_detect.split(\" \")) > 0) \\\n",
    "                and (singularize(ingredient['text'].split(\" \")[1]).strip() == ing_to_detect.split(\" \")[0].strip())) :\n",
    "                unit_ing.update([ing_to_detect])\n",
    "                extracted.append(a)\n",
    "            \n",
    "            else :\n",
    "                \n",
    "                #detect salt (usually nio quantities)\n",
    "                ing_is_salt = ((('salt', 'NN') in tags) or (('salt', 'NNP') in tags) or (('Salt', 'NN') in tags) or (('Salt', 'NNP') in tags)) \n",
    "                \n",
    "                if not ing_is_salt :\n",
    "                    contains_immeasurable = True\n",
    "                    break\n",
    "                elif ing_is_salt :                    \n",
    "                    extracted.append((2.5, 'g', 'kosher salt'))            \n",
    "            \n",
    "    if not contains_immeasurable :\n",
    "        all_extracted.append(extracted)\n",
    "        measurable_indices.append(e)\n",
    "        measurables+=1\n",
    "            \n",
    "            \n",
    "print(str(measurables) + \" recipes contained only mesurable ingredients => \" + str(100*measurables/nb_to_try) + \"%\")"
   ]
  },
  {
   "cell_type": "markdown",
   "metadata": {},
   "source": [
    "### Determining ingredients unit quantities\n",
    "> We stated that a recipe is valid even if the unit of the quantity could not be found, e.g \"3 eggs\". This sounds like a valid choice by looking at the previous example, but we should nevertheless manually find the weights of the ingredients with no units to compute their nutritional profile. We first select only a subset of those ingredients to shorten the search."
   ]
  },
  {
   "cell_type": "code",
   "execution_count": 11,
   "metadata": {},
   "outputs": [
    {
     "name": "stdout",
     "output_type": "stream",
     "text": [
      "There were 4055 distinct ingredients given with no units\n"
     ]
    }
   ],
   "source": [
    "print(\"There were\", len(unit_ing), \"distinct ingredients given with no units\")"
   ]
  },
  {
   "cell_type": "markdown",
   "metadata": {},
   "source": [
    "With 4055 ingredients to search, it seems that prunning is more than welcome. Let's look at their counts distribution to come up with a prunning strategy."
   ]
  },
  {
   "cell_type": "code",
   "execution_count": 12,
   "metadata": {},
   "outputs": [
    {
     "name": "stdout",
     "output_type": "stream",
     "text": [
      "Those are the 10 most frequent ones : \n"
     ]
    },
    {
     "data": {
      "text/plain": [
       "[('garlic clove', 44427),\n",
       " ('egg yolk', 10697),\n",
       " ('egg white', 10519),\n",
       " ('red onion', 6791),\n",
       " ('green onion', 6114),\n",
       " ('red bell pepper', 5397),\n",
       " ('bay leaf', 5373),\n",
       " ('boneles skinles chicken breast', 5021),\n",
       " ('yellow onion', 4617),\n",
       " ('egg', 3891)]"
      ]
     },
     "execution_count": 12,
     "metadata": {},
     "output_type": "execute_result"
    }
   ],
   "source": [
    "print(\"Those are the 10 most frequent ones : \")\n",
    "unit_ing.most_common(10)"
   ]
  },
  {
   "cell_type": "code",
   "execution_count": 13,
   "metadata": {},
   "outputs": [
    {
     "data": {
      "text/plain": [
       "<BarContainer object of 4055 artists>"
      ]
     },
     "execution_count": 13,
     "metadata": {},
     "output_type": "execute_result"
    },
    {
     "data": {
      "image/png": "[encoded data removed]",
      "text/plain": [
       "<Figure size 432x288 with 1 Axes>"
      ]
     },
     "metadata": {
      "needs_background": "light"
     },
     "output_type": "display_data"
    }
   ],
   "source": [
    "plt.title(\"occurences of ingredients with no units in recipes\")\n",
    "plt.xlabel(\"ingredient index\")\n",
    "plt.ylabel(\"occurences in recipes\")\n",
    "plt.bar(range(len(unit_ing)), [np.log10(c[1]) for c in unit_ing.most_common()])"
   ]
  },
  {
   "cell_type": "markdown",
   "metadata": {},
   "source": [
    "We see that 1500 ingredients occur only once, and that despite the log axis we still recognize kind of a power law. This is good, because for a fixed number of ingredients, it means we will have to compute less weights to gain accuracy in quantities detection. Because we do not want to bother too much finding weights manually, we choose the first 50 ones and find their corresponding quantities."
   ]
  },
  {
   "cell_type": "code",
   "execution_count": 14,
   "metadata": {},
   "outputs": [
    {
     "name": "stdout",
     "output_type": "stream",
     "text": [
      "the 50th most frequent ingredient is ' spring onion ' and appears 625 times\n"
     ]
    }
   ],
   "source": [
    "fifteenth = unit_ing.most_common()[50]\n",
    "print(\"the 50th most frequent ingredient is \\'\", fifteenth[0], \"\\' and appears\", fifteenth[1], \"times\")"
   ]
  },
  {
   "cell_type": "markdown",
   "metadata": {},
   "source": [
    "> 625 is still a big number of occurences,but we cannot afford to look for more ingredients."
   ]
  },
  {
   "cell_type": "markdown",
   "metadata": {},
   "source": [
    "We first try to detect the weights automatically to gain time. After that, we fill the missing values manually. Note that we do the scrapping for the best 200 ingredients, as it is quite long to run."
   ]
  },
  {
   "cell_type": "markdown",
   "metadata": {},
   "source": [
    "### scrap quantities from some website"
   ]
  },
  {
   "cell_type": "code",
   "execution_count": 15,
   "metadata": {},
   "outputs": [
    {
     "data": {
      "application/vnd.jupyter.widget-view+json": {
       "model_id": "56c527340cd04bb9a73d36b76e675155",
       "version_major": 2,
       "version_minor": 0
      },
      "text/plain": [
       "HBox(children=(IntProgress(value=0, max=200), HTML(value='')))"
      ]
     },
     "metadata": {},
     "output_type": "display_data"
    },
    {
     "name": "stdout",
     "output_type": "stream",
     "text": [
      "green onion , medium :  ('green onion', (15.0, 'g'))\n",
      "egg , medium :  ('egg', (44.0, 'g'))\n",
      "onion , medium :  ('onion', (110.0, 'g'))\n",
      "potato , medium :  ('potato', (213.0, 'g'))\n",
      "tomato , large :  ('tomato', (20.0, 'g'))\n",
      "apple , medium :  ('apple', (182.0, 'g'))\n",
      "banana , medium :  ('banana', (118.0, 'g'))\n",
      "lemon , large :  ('lemon', (84.0, 'g'))\n",
      "cucumber , large :  ('cucumber', (35.0, 'g'))\n",
      "orange , medium :  ('orange', (131.0, 'g'))\n",
      "\n"
     ]
    }
   ],
   "source": [
    "found = []\n",
    "\n",
    "for ing in tqdm.tqdm_notebook(unit_ing.most_common()[:200]) :\n",
    "    \n",
    "    quantity = 0\n",
    "    unit = \"\"\n",
    "    \n",
    "    try :\n",
    "        \n",
    "        url_sing = \"https://hannaone.com/Recipe/weight\" + str(ing[0]).replace(\" \", \"\") +\".html\"\n",
    "        url_plur = \"https://hannaone.com/Recipe/weight\" + str(ing[0]).replace(\" \", \"\") +\"s.html\"\n",
    "        \n",
    "        try :\n",
    "            req = urllib.request.Request(url_sing, headers={'User-Agent': 'Mozilla/5.0'})\n",
    "            html = urllib.request.urlopen(req)\n",
    "            res = bs(html.read(),\"html5lib\")\n",
    "            trs = res.find(\"table\").findAll(\"tr\")\n",
    "        except :\n",
    "            try :\n",
    "                req = urllib.request.Request(url_plur, headers={'User-Agent': 'Mozilla/5.0'})\n",
    "                html = urllib.request.urlopen(req)\n",
    "                res = bs(html.read(),\"html5lib\")\n",
    "                trs = res.find(\"table\").findAll(\"tr\")\n",
    "            except Exception as e:\n",
    "                raise ValueError('The ingredient has no matching url')\n",
    "        \n",
    "        found_medium = False\n",
    "        found_some = False\n",
    "        to_append = []\n",
    "        \n",
    "        for tr in trs[1:] :\n",
    "            td = tr.find(\"td\")\n",
    "            \n",
    "            if td is not None :\n",
    "\n",
    "                if (('large' in td.text.lower() and (not found_medium)) or (('medium' in td.text.lower()) and not found_medium)) :\n",
    "                    tds = tr.findAll(\"td\")\n",
    "\n",
    "                    weight = tds[2].text.split(\"-\")[-1].strip()\n",
    "\n",
    "                    if 'g' in weight :\n",
    "                        quantity  = float(weight[:-1])\n",
    "                        unit = 'g'\n",
    "                        to_append = (ing[0], (quantity, unit))\n",
    "                        found_some = True\n",
    "\n",
    "                    elif 'oz'in weight :\n",
    "                        quantity  = float(weight[:-2])\n",
    "                        unit = 'oz'\n",
    "                        to_append = (ing[0], (quantity, unit))\n",
    "                        found_some = True\n",
    "\n",
    "\n",
    "                    if td.text.lower() == 'medium' :\n",
    "                        found_medium = True  \n",
    "                    \n",
    "        if found_some :\n",
    "            found.append(to_append)\n",
    "            \n",
    "            if found_medium :\n",
    "                print(ing[0], \", medium : \", to_append)\n",
    "            else :\n",
    "                print(ing[0], \", large : \", to_append)\n",
    "             \n",
    "    except Exception as e: \n",
    "        pass"
   ]
  },
  {
   "cell_type": "markdown",
   "metadata": {},
   "source": [
    "### quantities found\n",
    "We found 10 ingredients which is quite a poor result, considering that some results even need to be corrected (How could a potato possibly be ten times heavier than a tomato ?). Below, we recap the quantities per ingredient. "
   ]
  },
  {
   "cell_type": "code",
   "execution_count": 16,
   "metadata": {},
   "outputs": [],
   "source": [
    "unit_quantities = [('garlic clove', (3, 'g')),\n",
    " ('egg yolk', (17, 'g')),\n",
    " ('egg white', (33, 'g')),\n",
    " ('red onion', (110, 'g')),\n",
    " ('green onion', (110, 'g')),\n",
    " ('red bell pepper', (100, 'g')),\n",
    " ('bay leaf', (0.5, 'g')),\n",
    " ('boneles skinles chicken breast', (300, 'g')),\n",
    " ('yellow onion', (110, 'g')),\n",
    " ('egg', (50, 'g')),\n",
    " ('chicken breast', (250, 'g')),\n",
    " ('onion', (110, 'g')),\n",
    " ('green bell pepper', (100, 'g')),\n",
    " ('green pepper', (15, 'g')),\n",
    " ('boneles skinles chicken breast half', (150, 'g')),\n",
    " ('sweet potato', (170, 'g')),\n",
    " ('cinnamon stick', (5, 'g')),\n",
    " ('white onion', (110, 'g')),\n",
    " ('red pepper', (15, 'g')),\n",
    " ('celery rib', (40, 'g')),\n",
    " ('jalapeno pepper', (14, 'g')),\n",
    " ('vanilla bean', (5, 'g')),\n",
    " ('sweet onion', (110, 'g')),\n",
    " ('flour tortilla', (34, 'g')),\n",
    " ('baking potato', (170, 'g')),\n",
    " ('pork chop', (150, 'g')),\n",
    " ('russet potato', (170, 'g')),\n",
    " ('bell pepper', (100, 'g')),\n",
    " ('plum tomato', (170, 'g')),\n",
    " ('whole clove', (3, 'g')),\n",
    " ('red potato', (170, 'g')),\n",
    " ('whole chicken', (2267, 'g')),\n",
    " ('yellow bell pepper', (100, 'g')),\n",
    " ('boneles chicken breast', (300, 'g')),\n",
    " ('chicken thigh', (85, 'g')),\n",
    " ('corn tortilla', (34, 'g')),\n",
    " ('minced garlic clove', (3, 'g')),\n",
    " ('chicken bouillon cube', (5, 'g')),\n",
    " ('fennel bulb', (235, 'g')),\n",
    " ('butternut squash', (500, 'g')),\n",
    " ('rom tomato', (170, 'g')),\n",
    " ('ice cube', (28, 'g')),\n",
    " ('carrot', (72, 'g')),\n",
    " ('whole chicken breast', (300, 'g')),\n",
    " ('Spanish onion', (0, 'g')),\n",
    " ('potato', (170, 'g')),\n",
    " ('tomato', (170, 'g')),\n",
    " ('Granny Smith apple', (150, 'g')),\n",
    " ('apple', (150, 'g')),\n",
    " ('chicken breast half', (150, 'g'))]\n",
    "\n",
    "#create dictionnary\n",
    "unit_quantities_dict = dict()\n",
    "for ing in unit_quantities :\n",
    "    unit_quantities_dict[ing[0]] = ing[1]\n",
    "    \n",
    "json.dump(unit_quantities, open(\"../generated/1m_unit_quantities.json\", 'w'))"
   ]
  },
  {
   "cell_type": "markdown",
   "metadata": {},
   "source": [
    "### recipes with both quantities and usda id for all ingredients"
   ]
  },
  {
   "cell_type": "code",
   "execution_count": 17,
   "metadata": {},
   "outputs": [
    {
     "data": {
      "application/vnd.jupyter.widget-view+json": {
       "model_id": "c5134ba59edf41ae93bfc7539305e777",
       "version_major": 2,
       "version_minor": 0
      },
      "text/plain": [
       "HBox(children=(IntProgress(value=0, max=206887), HTML(value='')))"
      ]
     },
     "metadata": {},
     "output_type": "display_data"
    },
    {
     "name": "stdout",
     "output_type": "stream",
     "text": [
      "\n",
      "179410 recipes contained actually measurable ingredients => 86.71883685296804%\n"
     ]
    }
   ],
   "source": [
    "usda_and_quant_recipes = []\n",
    "count = 0\n",
    "\n",
    "for r in tqdm.tqdm_notebook(all_extracted) :\n",
    "    ingredients_entries = []\n",
    "    all_actually_measurable = True\n",
    "    \n",
    "    for ing in r :\n",
    "        if ing[1] == \"\" :\n",
    "            cleaned_eq = clean_whole_ing(ing[2])\n",
    "            \n",
    "            if cleaned_eq in unit_quantities_dict.keys() :\n",
    "                unit_quant = unit_quantities_dict[cleaned_eq]\n",
    "                ingredients_entries.append((unit_quant[0], unit_quant[1], ing[2]))\n",
    "            \n",
    "            else :\n",
    "                all_actually_measurable = False\n",
    "                break\n",
    "        else :\n",
    "            ingredients_entries.append(ing)\n",
    "            \n",
    "    if all_actually_measurable :\n",
    "        usda_and_quant_recipes.append(ingredients_entries)\n",
    "        count += 1\n",
    "                        \n",
    "        \n",
    "print(str(count) + \" recipes contained actually measurable ingredients => \" + str(100*count/len(all_extracted)) + \"%\")\n",
    "json.dump(usda_and_quant_recipes, open(\"../generated/1m_quant_recipes.json\", 'w'))"
   ]
  }
 ],
 "metadata": {
  "kernelspec": {
   "display_name": "Python 3",
   "language": "python",
   "name": "python3"
  },
  "language_info": {
   "codemirror_mode": {
    "name": "ipython",
    "version": 3
   },
   "file_extension": ".py",
   "mimetype": "text/x-python",
   "name": "python",
   "nbconvert_exporter": "python",
   "pygments_lexer": "ipython3",
   "version": "3.6.6"
  }
 },
 "nbformat": 4,
 "nbformat_minor": 2
}

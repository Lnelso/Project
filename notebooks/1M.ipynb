{
 "cells": [
  {
   "cell_type": "code",
   "execution_count": 1,
   "metadata": {},
   "outputs": [
    {
     "name": "stdout",
     "output_type": "stream",
     "text": [
      "[nltk_data] Downloading package punkt to /home/luke/nltk_data...\n",
      "[nltk_data]   Package punkt is already up-to-date!\n",
      "[nltk_data] Downloading package averaged_perceptron_tagger to\n",
      "[nltk_data]     /home/luke/nltk_data...\n",
      "[nltk_data]   Package averaged_perceptron_tagger is already up-to-\n",
      "[nltk_data]       date!\n"
     ]
    },
    {
     "data": {
      "text/plain": [
       "True"
      ]
     },
     "execution_count": 1,
     "metadata": {},
     "output_type": "execute_result"
    }
   ],
   "source": [
    "import json\n",
    "import nltk\n",
    "import inflect\n",
    "import tqdm\n",
    "import collections\n",
    "engine = inflect.engine()\n",
    "nltk.download('punkt')\n",
    "nltk.download('averaged_perceptron_tagger')"
   ]
  },
  {
   "cell_type": "code",
   "execution_count": 2,
   "metadata": {},
   "outputs": [],
   "source": [
    "recipes = json.load(open(\"../data/1M/recipe1M_layers/layer1.json\"))\n",
    "det_ingr = json.load(open(\"../data/1M/det_ingr.json\"))"
   ]
  },
  {
   "cell_type": "code",
   "execution_count": 3,
   "metadata": {},
   "outputs": [],
   "source": [
    "def string_to_float(x) :\n",
    "    try :\n",
    "        x = x.split('/')\n",
    "        if len(x) > 1 :            \n",
    "            return (float(x[0])/float(x[1]))\n",
    "        else :\n",
    "            return float(x[0])\n",
    "    except :\n",
    "        raise ValueError(\"not possible to cast \", x, \"to float\")\n",
    "    \n",
    "def string_to_frac(x) :\n",
    "    try :\n",
    "        if '/' in x:\n",
    "            return string_to_float(x)\n",
    "        else :\n",
    "            return(float(x[0]) / float(x[1:]))\n",
    "    except :\n",
    "        raise ValueError(\"not possible to cast \", x, \"to float\")\n",
    "    \n",
    "def singularize(x):\n",
    "    ingr = engine.singular_noun(x)\n",
    "    return x if (not ingr) else ingr\n",
    "\n",
    "def fmt_unit(x) :\n",
    "    return singularize(x.lower())"
   ]
  },
  {
   "cell_type": "code",
   "execution_count": 104,
   "metadata": {},
   "outputs": [],
   "source": [
    "units = [\"bushel\", \"cup\", \"dash\", \"drop\", \"fl.\" \"oz\", \"g\", \"gallon\", \"glass\",\n",
    "    \"kg\", \"liter\", \"ml\", \"ounce\", \"c.\", \"pinch\", \"pint\", \"pound\", \"lb\", \"quart\",\n",
    "    \"scoop\", \"shot\", \"tablespoon\", \"teaspoon\", \"tsp\", \"tbsp\"]\n",
    "\n",
    "def extract_quantity(x, recipe_index, ingredient_index) : \n",
    "    try :\n",
    "        ingr  = det_ingr[recipe_index]['ingredients'][ingredient_index]['text']\n",
    "        ingr_first_word = ingr.split(\" \")[0]\n",
    "\n",
    "        if ((len(tags) >= 2) and (tags[0][1] == 'CD')) :\n",
    "\n",
    "            #nb (nb+ unit) ing\n",
    "            if ((tags[1][0] == '(') and (len(tags)>6)):\n",
    "                idx_par = tags.index((')', ')'))            \n",
    "                quant_in = tags[2:idx_par-1]\n",
    "                quant=0\n",
    "\n",
    "                #nb nb \n",
    "                if len(quant_in) == 2 :\n",
    "                    quant = (string_to_float(quant_in[0][0]) + string_to_frac(quant_in[1][0])) / 2\n",
    "                elif len(quant_in) == 1:\n",
    "                    quant = string_to_float(quant_in[0][0])\n",
    "\n",
    "                else :\n",
    "                    return None\n",
    "\n",
    "                unit = fmt_unit(tags[idx_par-1][0])            \n",
    "                return (quant, unit, ingr)\n",
    "\n",
    "\n",
    "            #nb+ [unit] ing\n",
    "            else :\n",
    "                tag1_nb = tags[1][1] == 'CD'\n",
    "                tag1_to = tags[1][0] == 'to'\n",
    "                tag1_unit = fmt_unit(tags[1][0]) in units\n",
    "                tag1_starts_minus = tags[1][0][0] == '-'\n",
    "\n",
    "                #nb unit ing\n",
    "                if (tag1_unit) :\n",
    "                    return (string_to_float(tags[0][0]), fmt_unit(tags[1][0]), ingr)\n",
    "\n",
    "                #nb nb ...\n",
    "                elif tag1_nb : \n",
    "                    first_nb = string_to_float(tags[0][0]) + string_to_frac(tags[1][0])\n",
    "\n",
    "                    #nb nb unit ing\n",
    "                    if fmt_unit(tags[2][0]) in units :\n",
    "                        return (first_nb, fmt_unit(tags[2][0]), ingr)\n",
    "\n",
    "                    #nb nb to nb ...\n",
    "                    elif tags[2][0] == 'to':\n",
    "\n",
    "                        #nb nb to nb unit ing\n",
    "                        if fmt_unit(tags[4][0]) in units :\n",
    "                            return ((first_nb + string_to_float(tags[3][0])) / 2,  fmt_unit(tags[4][0]), ingr)\n",
    "\n",
    "                        #nb nb to nb nb ...\n",
    "                        elif tags[4][1] == 'CD' :\n",
    "\n",
    "                            second_nb = string_to_float(tags[3][0]) + string_to_frac(tags[4][0])\n",
    "                            average_qt = (first_nb + second_nb) / 2\n",
    "\n",
    "                            #nb nb to nb nb unit ing\n",
    "                            if fmt_unit(tags[5][0]) in units :\n",
    "                                return (average_qt, fmt_unit(tags[5][0]), ingr)\n",
    "\n",
    "                            #nb nb to nb nb ing\n",
    "                            else :\n",
    "                                return (average_qt, \"\", ingr)\n",
    "\n",
    "                        #nb nb to nb ing\n",
    "                        else :\n",
    "                            return ((first_nb + string_to_float(tags[4][0])) / 2, \"\", ingr)\n",
    "\n",
    "                    #nb nb ing\n",
    "                    else :\n",
    "                         return (first_nb, \"\", ingr)   \n",
    "\n",
    "\n",
    "\n",
    "                #nb -nb ...\n",
    "                elif tag1_starts_minus :\n",
    "                    first_nb = (string_to_float(tags[0][0]) + string_to_float(tags[1][0][1:]))/2\n",
    "\n",
    "                    #nb -nb unit ing\n",
    "                    if fmt_unit(tags[2][0]) in units :\n",
    "                        return (first_nb, fmt_unit(tags[2][0]), ingr)\n",
    "\n",
    "                    #nb -nb ing\n",
    "                    else :\n",
    "                        return (first_nb, \"\", ingr)\n",
    "\n",
    "                #nb to nb ...\n",
    "                elif (tag1_to):\n",
    "                    first_nb = string_to_float(tags[0][0])\n",
    "\n",
    "                    #nb to nb nb ...\n",
    "                    if (tags[3][1] == 'CD') :\n",
    "                        second_nb = string_to_float(tags[2][0]) + string_to_frac([3][0])\n",
    "                        avg_qt = (first_nb + second_nb) / 2\n",
    "\n",
    "                        #nb to nb nb unit ing\n",
    "                        if fmt_unit(tags[4][0]) in units :\n",
    "                            return (avg_qt, fmt_unit(tags[4][0]), ingr)\n",
    "\n",
    "                        #nb to nb nb ing\n",
    "                        else :\n",
    "                            return (avg_qt, \"\", ingr)\n",
    "\n",
    "                    #nb to nb unit ing\n",
    "                    elif (fmt_unit(tags[3][0]) in units) :\n",
    "                        second_nb = string_to_float(tags[2][0])\n",
    "                        avg_qt = (first_nb + second_nb) / 2\n",
    "                        return (avg_qt, fmt_unit(tags[3][0]), ingr)\n",
    "\n",
    "                    #nb to nb ing\n",
    "                    else :\n",
    "                        second_nb = string_to_float(tags[2][0])\n",
    "                        avg_qt = (first_nb + second_nb) / 2\n",
    "                        return (avg_qt, \"\", ingr)\n",
    "                #nb ing \n",
    "                else :\n",
    "                    return (string_to_float(tags[0][0]), \"\", ingr)\n",
    "    except :\n",
    "        return None"
   ]
  },
  {
   "cell_type": "code",
   "execution_count": 120,
   "metadata": {},
   "outputs": [
    {
     "data": {
      "application/vnd.jupyter.widget-view+json": {
       "model_id": "7df08081bec14e1bada8eb861c80528d",
       "version_major": 2,
       "version_minor": 0
      },
      "text/plain": [
       "HBox(children=(IntProgress(value=1, bar_style='info', max=1), HTML(value='')))"
      ]
     },
     "metadata": {},
     "output_type": "display_data"
    },
    {
     "name": "stdout",
     "output_type": "stream",
     "text": [
      "\n",
      "2242 recipes contained only mesurable ingredients => 22.42%\n"
     ]
    }
   ],
   "source": [
    "measurable_indices = []\n",
    "all_extracted = []\n",
    "unit_ing = collections.Counter()\n",
    "measurables = 0\n",
    "nb_to_try = 10000\n",
    "\n",
    "for e, r in tqdm.tqdm_notebook(enumerate(recipes[:nb_to_try])) :\n",
    "    \n",
    "    extracted = []\n",
    "    contains_immeasurable = False\n",
    "    \n",
    "    for i, ingredient in enumerate(r['ingredients']) :\n",
    "        tags = nltk.pos_tag(nltk.word_tokenize(ingredient['text']))\n",
    "        a = extract_quantity(tags, e, i)\n",
    "        ing_to_detect = \" \".join(singularize(c) for c in det_ingr[e]['ingredients'][i]['text'].split(\" \"))\n",
    "        \n",
    "        if a is not None and a[1] != \"\":\n",
    "            extracted.append(a)\n",
    "            \n",
    "        else :\n",
    "            if a is not None and a[1] == \"\" and singularize(ingredient['text'].split(\" \")[1]) == ing_to_detect.split(\" \")[0] :\n",
    "                unit_ing.update([ing_to_detect])\n",
    "            else :\n",
    "                contains_immeasurable = True\n",
    "            \n",
    "    if not contains_immeasurable :\n",
    "        all_extracted.append(extracted)\n",
    "        measurable_indices.append(e)\n",
    "        measurables+=1\n",
    "            \n",
    "            \n",
    "print(str(measurables) + \" recipes contained only mesurable ingredients => \" + str(100*measurables/nb_to_try) + \"%\")\n"
   ]
  },
  {
   "cell_type": "code",
   "execution_count": 83,
   "metadata": {},
   "outputs": [
    {
     "data": {
      "application/vnd.jupyter.widget-view+json": {
       "model_id": "e4e764748d0046889f88166466308f4b",
       "version_major": 2,
       "version_minor": 0
      },
      "text/plain": [
       "HBox(children=(IntProgress(value=0, max=115807), HTML(value='')))"
      ]
     },
     "metadata": {},
     "output_type": "display_data"
    },
    {
     "name": "stdout",
     "output_type": "stream",
     "text": [
      "107977 recipes contained only mappable ingredients => 93.23875068001071%\n"
     ]
    }
   ],
   "source": [
    "usda_mappable_indices = []\n",
    "usda_mappable = 0\n",
    "\n",
    "for index in tqdm.tqdm_notebook(measurable_indices) :\n",
    "    try :\n",
    "        det_ingr[index]['valid'].index(False)\n",
    "    except :\n",
    "        usda_mappable += 1\n",
    "        usda_mappable_indices.append(index)\n",
    "\n",
    "print(str(usda_mappable) + \" recipes contained only mappable ingredients => \" + str(100*usda_mappable/len(measurable_indices)) + \"%\")\n"
   ]
  }
 ],
 "metadata": {
  "kernelspec": {
   "display_name": "Python 3",
   "language": "python",
   "name": "python3"
  },
  "language_info": {
   "codemirror_mode": {
    "name": "ipython",
    "version": 3
   },
   "file_extension": ".py",
   "mimetype": "text/x-python",
   "name": "python",
   "nbconvert_exporter": "python",
   "pygments_lexer": "ipython3",
   "version": "3.6.7"
  }
 },
 "nbformat": 4,
 "nbformat_minor": 2
}

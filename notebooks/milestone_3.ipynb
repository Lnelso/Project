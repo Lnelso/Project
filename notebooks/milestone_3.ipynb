{
 "cells": [
  {
   "cell_type": "markdown",
   "metadata": {},
   "source": [
    "# Healthier tasty recipes recommender system"
   ]
  },
  {
   "cell_type": "markdown",
   "metadata": {},
   "source": [
    "> The following notebook sumarizes the work that have been accomplished during the project and aims to present our results the more concisely possible. Minimal explanations are given regarding the datasets and mapping in order to understand the analysis that has been conducted during the third part of the project.\n",
    "\n",
    "> In each part, we will indicate where one needs to go to get a more in-depth understanding."
   ]
  },
  {
   "cell_type": "code",
   "execution_count": 1,
   "metadata": {},
   "outputs": [],
   "source": [
    "# Imports\n",
    "\n",
    "import sys\n",
    "import json\n",
    "import h5py\n",
    "import tables\n",
    "from tabulate import tabulate\n",
    "import inflect\n",
    "import numpy as np\n",
    "import collections\n",
    "import pandas as pd\n",
    "import matplotlib.pyplot as plt\n",
    "from tqdm import tqdm\n",
    "\n",
    "from gensim import models\n",
    "\n",
    "# Import our .py scripts\n",
    "\n",
    "sys.path.insert(0, \"/home/luke/Github/Project/python\")\n",
    "#sys.path.insert(0, \"../python\")\n",
    "#sys.path.insert(1, \"/Users/Lionel/Documents/Ada/Project/python\")\n",
    "\n",
    "import one_m\n",
    "import recommender as rc\n",
    "import USDA_parsing as usda"
   ]
  },
  {
   "cell_type": "code",
   "execution_count": 2,
   "metadata": {},
   "outputs": [],
   "source": [
    "def print_bold(str):\n",
    "    print('\\033[1m' + str + '\\033[0m')"
   ]
  },
  {
   "cell_type": "markdown",
   "metadata": {},
   "source": [
    "## 1. Preprocessing"
   ]
  },
  {
   "cell_type": "markdown",
   "metadata": {},
   "source": [
    ">  The information used to train the recommender are retrieved from four different datasets, namely kaggle \"what's cooking\" (**WIC**), \"From cookies to cooks\" (**FCTC**), \"1M Cooking recipes\" (**1M**) and the \"USDA food composition database\"(**USDA**). WIC and FCTC contain 96763 recipes, for which they simply provide lists of ingredients.\n",
    "1M is more complete, as it contains more than 1 million recipes. For each recipe and for each ingredient, a string encodes the ingredient name along with its quantity, a boolean indicates whether the ingredient can be found in USDA and a string gives the extracted ingredient name.\n",
    "Finally, USDA contains no recipes, but provides a mapping between ingredient ID, description and nutrients composition. "
   ]
  },
  {
   "cell_type": "markdown",
   "metadata": {},
   "source": [
    "### 1.1 Look at the raw data"
   ]
  },
  {
   "cell_type": "markdown",
   "metadata": {},
   "source": [
    "#### Recipes from the Kaggle dataset"
   ]
  },
  {
   "cell_type": "code",
   "execution_count": 3,
   "metadata": {},
   "outputs": [
    {
     "name": "stdout",
     "output_type": "stream",
     "text": [
      "\u001b[1mNumber of recipes in the Kaggle dataset before cleaning: 49718\u001b[0m\n",
      "\u001b[1m\n",
      "\n",
      "This is an example of a dataset recipe entry : \u001b[0m\n"
     ]
    },
    {
     "data": {
      "text/plain": [
       "{'id': 10259,\n",
       " 'cuisine': 'greek',\n",
       " 'ingredients': ['romaine lettuce',\n",
       "  'black olives',\n",
       "  'grape tomatoes',\n",
       "  'garlic',\n",
       "  'pepper',\n",
       "  'purple onion',\n",
       "  'seasoning',\n",
       "  'garbanzo beans',\n",
       "  'feta cheese crumbles']}"
      ]
     },
     "execution_count": 3,
     "metadata": {},
     "output_type": "execute_result"
    }
   ],
   "source": [
    "# Load raw data\n",
    "kaggle_train_raw = json.load(open('../data/kaggle/train.json'))  \n",
    "kaggle_test_raw = json.load(open('../data/kaggle/test.json'))\n",
    "    \n",
    "print_bold(\"Number of recipes in the Kaggle dataset before cleaning: \" + str(len(kaggle_train_raw) + len(kaggle_test_raw)))\n",
    "\n",
    "print_bold(\"\\n\\nThis is an example of a dataset recipe entry : \")\n",
    "kaggle_train_raw[0]"
   ]
  },
  {
   "cell_type": "markdown",
   "metadata": {},
   "source": [
    "#### Recipes from the \"From cookies to cooks\" dataset"
   ]
  },
  {
   "cell_type": "code",
   "execution_count": 4,
   "metadata": {},
   "outputs": [
    {
     "name": "stdout",
     "output_type": "stream",
     "text": [
      "\u001b[1mNumber of recipes in the \"From cookies to cooks\" dataset before cleaning: 64249\u001b[0m\n",
      "\u001b[1m\n",
      "\n",
      "This is an example of a dataset recipe entry : \u001b[0m\n"
     ]
    },
    {
     "data": {
      "text/plain": [
       "['20f6f98261da097ba0b6fe4ba159b3c1.html\\tbettycrocker.com\\thttp://www.bettycrocker.com/recipes/wild-rice-soup/1ca76b2d-c859-4083-bfdd-9f4549267675\\tWild Rice Soup\\t2 tablespoons butter or margarine|2 medium stalks celery, sliced (1 cup)|1 medium carrot, coarsely shredded (1 cup)|1 medium onion, chopped (1/2 cup)|1 small green bell pepper, chopped (1/2 cup)|3 tablespoons Gold medalÂ® all-purpose flour|1/4 teaspoon pepper|1 pouch (from 10-ounce package) frozen cooked wild rice (1 1/4 cups)|1 cup water|1 can (10 1/2 ounces) condensed chicken broth|1 cup half-and-half|1/3 cup slivered almonds, toasted, if desired|1/4 cup chopped fresh parsley\\n']"
      ]
     },
     "execution_count": 4,
     "metadata": {},
     "output_type": "execute_result"
    }
   ],
   "source": [
    "# Load raw data\n",
    "cookies_to_cook_file = open(\"../data/recipeClean/ingredients.txt\", mode='r', buffering=-1, encoding=\"ISO-8859-1\", errors=None, newline=None, closefd=True, opener=None)\n",
    "cookies_to_cook_raw = cookies_to_cook_file.readlines()\n",
    "\n",
    "print_bold(\"Number of recipes in the \\\"From cookies to cooks\\\" dataset before cleaning: \" + str(len(cookies_to_cook_raw)))\n",
    "\n",
    "\n",
    "print_bold(\"\\n\\nThis is an example of a dataset recipe entry : \")\n",
    "cookies_to_cook_raw[:1]"
   ]
  },
  {
   "cell_type": "markdown",
   "metadata": {},
   "source": [
    "#### Recipes from the 1M dataset"
   ]
  },
  {
   "cell_type": "code",
   "execution_count": 5,
   "metadata": {},
   "outputs": [
    {
     "name": "stdout",
     "output_type": "stream",
     "text": [
      "\u001b[1mNumber of recipes in the 1M dataset before cleaning: 1029720\u001b[0m\n",
      "\u001b[1m\n",
      "\n",
      "This is an example of a dataset recipe entry : \u001b[0m\n"
     ]
    },
    {
     "data": {
      "text/plain": [
       "[{'ingredients': [{'text': '6 ounces penne'},\n",
       "   {'text': '2 cups Beechers Flagship Cheese Sauce (recipe follows)'},\n",
       "   {'text': '1 ounce Cheddar, grated (1/4 cup)'},\n",
       "   {'text': '1 ounce Gruyere cheese, grated (1/4 cup)'},\n",
       "   {'text': '1/4 to 1/2 teaspoon chipotle chili powder (see Note)'},\n",
       "   {'text': '1/4 cup (1/2 stick) unsalted butter'},\n",
       "   {'text': '1/3 cup all-purpose flour'},\n",
       "   {'text': '3 cups milk'},\n",
       "   {'text': '14 ounces semihard cheese (page 23), grated (about 3 1/2 cups)'},\n",
       "   {'text': '2 ounces semisoft cheese (page 23), grated (1/2 cup)'},\n",
       "   {'text': '1/2 teaspoon kosher salt'},\n",
       "   {'text': '1/4 to 1/2 teaspoon chipotle chili powder'},\n",
       "   {'text': '1/8 teaspoon garlic powder'},\n",
       "   {'text': '(makes about 4 cups)'}],\n",
       "  'url': 'http://www.epicurious.com/recipes/food/views/-world-s-best-mac-and-cheese-387747',\n",
       "  'partition': 'train',\n",
       "  'title': 'Worlds Best Mac and Cheese',\n",
       "  'id': '000018c8a5',\n",
       "  'instructions': [{'text': 'Preheat the oven to 350 F. Butter or oil an 8-inch baking dish.'},\n",
       "   {'text': 'Cook the penne 2 minutes less than package directions.'},\n",
       "   {'text': '(It will finish cooking in the oven.)'},\n",
       "   {'text': 'Rinse the pasta in cold water and set aside.'},\n",
       "   {'text': 'Combine the cooked pasta and the sauce in a medium bowl and mix carefully but thoroughly.'},\n",
       "   {'text': 'Scrape the pasta into the prepared baking dish.'},\n",
       "   {'text': 'Sprinkle the top with the cheeses and then the chili powder.'},\n",
       "   {'text': 'Bake, uncovered, for 20 minutes.'},\n",
       "   {'text': 'Let the mac and cheese sit for 5 minutes before serving.'},\n",
       "   {'text': 'Melt the butter in a heavy-bottomed saucepan over medium heat and whisk in the flour.'},\n",
       "   {'text': 'Continue whisking and cooking for 2 minutes.'},\n",
       "   {'text': 'Slowly add the milk, whisking constantly.'},\n",
       "   {'text': 'Cook until the sauce thickens, about 10 minutes, stirring frequently.'},\n",
       "   {'text': 'Remove from the heat.'},\n",
       "   {'text': 'Add the cheeses, salt, chili powder, and garlic powder.'},\n",
       "   {'text': 'Stir until the cheese is melted and all ingredients are incorporated, about 3 minutes.'},\n",
       "   {'text': 'Use immediately, or refrigerate for up to 3 days.'},\n",
       "   {'text': 'This sauce reheats nicely on the stove in a saucepan over low heat.'},\n",
       "   {'text': 'Stir frequently so the sauce doesnt scorch.'},\n",
       "   {'text': 'This recipe can be assembled before baking and frozen for up to 3 monthsjust be sure to use a freezer-to-oven pan and increase the baking time to 50 minutes.'},\n",
       "   {'text': 'One-half teaspoon of chipotle chili powder makes a spicy mac, so make sure your family and friends can handle it!'},\n",
       "   {'text': 'The proportion of pasta to cheese sauce is crucial to the success of the dish.'},\n",
       "   {'text': 'It will look like a lot of sauce for the pasta, but some of the liquid will be absorbed.'}]}]"
      ]
     },
     "execution_count": 5,
     "metadata": {},
     "output_type": "execute_result"
    }
   ],
   "source": [
    "# Load raw data\n",
    "\n",
    "recipes_1m_raw = json.load(open(\"../data/1M/recipe1M_layers/layer1.json\"))    \n",
    "\n",
    "print_bold(\"Number of recipes in the 1M dataset before cleaning: \" + str(len(recipes_1m_raw)))\n",
    "\n",
    "\n",
    "print_bold(\"\\n\\nThis is an example of a dataset recipe entry : \")\n",
    "recipes_1m_raw[:1]"
   ]
  },
  {
   "cell_type": "markdown",
   "metadata": {},
   "source": [
    "### 1.2 The cleaning procedure"
   ]
  },
  {
   "cell_type": "markdown",
   "metadata": {},
   "source": [
    "The cleaning procedure allows us to have meaningful ingredients to use but also to standardizes the ingredients from each dataset <br>\n",
    "\n",
    "Summary of the procedure: <br>\n",
    "- remove parenthesis and their content\n",
    "- remove a set of special characters\n",
    "- remove dangling letters\n",
    "- remove the digits\n",
    "- remove commas and everything that follow them\n",
    "- remove a set of words considered as garbage (to_remove file)\n",
    "- remove the adjectives (e.g. sliced, seared, ...)\n",
    "- remove the alternative (everything that come after a 'or' is discarded)\n",
    "- split ingredients that contains the word 'and' into two ingredients\n",
    "- singularize every word\n",
    "\n",
    "\n",
    "You can look into this procedure more in-depth either in the clean_recipes_datasets [notebook](TO_INSERT) or in the clean_recipes_datasets python [script](TO_INSERT) from which we use a few functions accross our scripts.\n",
    "\n",
    "Note that we remove a recipe if, after the cleaning phase, none of its original ingredients remained non-empty."
   ]
  },
  {
   "cell_type": "markdown",
   "metadata": {},
   "source": [
    "### 1.3 Look at the data after cleaning"
   ]
  },
  {
   "cell_type": "markdown",
   "metadata": {},
   "source": [
    "#### Recipes from the Kaggle dataset"
   ]
  },
  {
   "cell_type": "code",
   "execution_count": 6,
   "metadata": {},
   "outputs": [
    {
     "name": "stdout",
     "output_type": "stream",
     "text": [
      "\u001b[1mNumber of recipes in the Kaggle dataset after cleaning: 49718 (it was 49718 before)\u001b[0m\n",
      "\u001b[1m\n",
      "\n",
      "This is an example of a cleaned dataset recipe entry : \u001b[0m\n"
     ]
    },
    {
     "data": {
      "text/plain": [
       "['romaine lettuce',\n",
       " 'black olife',\n",
       " 'grape tomato',\n",
       " 'garlic',\n",
       " 'pepper',\n",
       " 'purple onion',\n",
       " 'seasoning',\n",
       " 'garbanzo bean',\n",
       " 'feta cheese']"
      ]
     },
     "execution_count": 6,
     "metadata": {},
     "output_type": "execute_result"
    }
   ],
   "source": [
    "kaggle = json.load(open('../generated/clean_kaggle.json'))  \n",
    "    \n",
    "# Number of recipes in the cleaned dataset\n",
    "print_bold(\"Number of recipes in the Kaggle dataset after cleaning: \" + str(len(kaggle))+ \" (it was 49718 before)\")\n",
    "\n",
    "# Example of a cleaned dataset entry\n",
    "print_bold(\"\\n\\nThis is an example of a cleaned dataset recipe entry : \")\n",
    "kaggle[0]"
   ]
  },
  {
   "cell_type": "markdown",
   "metadata": {},
   "source": [
    "> The structure of the JSON is changed to keep only the ingredients. The cleaning procedure has singularized each ingredient."
   ]
  },
  {
   "cell_type": "markdown",
   "metadata": {},
   "source": [
    "#### Recipes from the \"From cookies to cooks\" dataset"
   ]
  },
  {
   "cell_type": "code",
   "execution_count": 7,
   "metadata": {},
   "outputs": [
    {
     "name": "stdout",
     "output_type": "stream",
     "text": [
      "\u001b[1mNumber of recipes in the \"From cookies to cooks\" dataset after cleaning: 47045 (it was 64249 before)\u001b[0m\n",
      "\u001b[1m\n",
      "\n",
      "This is an example of a cleaned dataset recipe entry : \u001b[0m\n"
     ]
    },
    {
     "data": {
      "text/plain": [
       "['butter',\n",
       " 'stalks celery',\n",
       " 'carrot',\n",
       " 'onion',\n",
       " 'green bell pepper',\n",
       " 'gold medalâ® all-purpose flour',\n",
       " 'pepper',\n",
       " 'rice ',\n",
       " 'water',\n",
       " 'chicken broth',\n",
       " 'half-and-half',\n",
       " 'almond',\n",
       " 'parsley']"
      ]
     },
     "execution_count": 7,
     "metadata": {},
     "output_type": "execute_result"
    }
   ],
   "source": [
    "cookies_to_cooks = json.load(open('../generated/clean_cookies.json'))  \n",
    "\n",
    "\n",
    "# Number of recipes after cleaning\n",
    "print_bold(\"Number of recipes in the \\\"From cookies to cooks\\\" dataset after cleaning: \" + str(len(cookies_to_cooks)) + \" (it was 64249 before)\")\n",
    "\n",
    "# Example of a cleaned entry\n",
    "print_bold(\"\\n\\nThis is an example of a cleaned dataset recipe entry : \")\n",
    "cookies_to_cooks[0]"
   ]
  },
  {
   "cell_type": "markdown",
   "metadata": {},
   "source": [
    "> This dataset is the one that required the most cleaning. After cleaning, we lost 27% of the recipes"
   ]
  },
  {
   "cell_type": "markdown",
   "metadata": {},
   "source": [
    "#### Recipes from the 1M dataset"
   ]
  },
  {
   "cell_type": "code",
   "execution_count": 8,
   "metadata": {},
   "outputs": [
    {
     "name": "stdout",
     "output_type": "stream",
     "text": [
      "\u001b[1mNumber of recipes in the 1M dataset after cleaning: 869654 (it was 1029720 before)\u001b[0m\n",
      "\u001b[1m\n",
      "\n",
      "This is an example of a cleaned dataset recipe entry : \u001b[0m\n"
     ]
    },
    {
     "data": {
      "text/plain": [
       "['elbow macaroni',\n",
       " 'american cheese',\n",
       " 'celery',\n",
       " 'green pepper',\n",
       " 'pimento',\n",
       " 'mayonnaise',\n",
       " 'vinegar',\n",
       " 'salt',\n",
       " 'dill weed']"
      ]
     },
     "execution_count": 8,
     "metadata": {},
     "output_type": "execute_result"
    }
   ],
   "source": [
    "recipes_one_m = json.load(open('../generated/clean_1m.json'))  \n",
    "    \n",
    "# Number of recipes after cleaning\n",
    "print_bold(\"Number of recipes in the 1M dataset after cleaning: \" + str(len(recipes_one_m)) + \" (it was 1029720 before)\")\n",
    "\n",
    "# Example of a cleaned entry\n",
    "print_bold(\"\\n\\nThis is an example of a cleaned dataset recipe entry : \")\n",
    "recipes_one_m[0]"
   ]
  },
  {
   "cell_type": "markdown",
   "metadata": {},
   "source": [
    "> We lost 15% of the recipes from this dataset during the cleaning procedure. Note that this time we keep only the ingredients that can be mapped to the USDA database, that's why we lose a considerable quantity of recipes. <br>Why don't we filter the same way the ingredients in the other datasets ? We do, but latter, when the USDA mapping is implemented. \n",
    "\n"
   ]
  },
  {
   "cell_type": "markdown",
   "metadata": {},
   "source": [
    "## 2. Data analysis"
   ]
  },
  {
   "cell_type": "markdown",
   "metadata": {},
   "source": [
    "In this part we give an intuition of the recipes composition and the ingredients distribution."
   ]
  },
  {
   "cell_type": "code",
   "execution_count": 9,
   "metadata": {},
   "outputs": [],
   "source": [
    "# We merge our three datasets into one\n",
    "all_recipes = kaggle + cookies_to_cooks + recipes_one_m"
   ]
  },
  {
   "cell_type": "markdown",
   "metadata": {},
   "source": [
    "#### 2.1 Number of ingredients per recipe"
   ]
  },
  {
   "cell_type": "code",
   "execution_count": 10,
   "metadata": {},
   "outputs": [
    {
     "data": {
      "image/png": "[encoded data removed]",
      "text/plain": [
       "<Figure size 432x288 with 1 Axes>"
      ]
     },
     "metadata": {
      "needs_background": "light"
     },
     "output_type": "display_data"
    },
    {
     "name": "stdout",
     "output_type": "stream",
     "text": [
      "\u001b[1mThe median number of ingredients in a recipe is 9\u001b[0m\n",
      "\u001b[1mThe maximum of ingredients in a recipe is 99\u001b[0m\n"
     ]
    }
   ],
   "source": [
    "# Count of ingredients for each recipe\n",
    "counts = list(map(lambda r: len(r),all_recipes))\n",
    "\n",
    "# Sort the counts\n",
    "counts = sorted(counts, reverse=True)\n",
    "\n",
    "# Plot the distribution of counts\n",
    "plt.hist(counts, bins=100)\n",
    "plt.title('Number of recipes per number of ingredients')\n",
    "plt.xlabel('Number of ingredients')\n",
    "plt.ylabel('Number of recipes')\n",
    "plt.show()\n",
    "\n",
    "print_bold('The median number of ingredients in a recipe is '+str(counts[int(len(counts)/2)]))\n",
    "print_bold('The maximum of ingredients in a recipe is '+str(counts[0]))"
   ]
  },
  {
   "cell_type": "markdown",
   "metadata": {},
   "source": [
    "> We see that the median number of ingredients is 9, which is not surprising. The distribution seems to be a gaussian with mean 9 and standard deviation of approximately 5. The maximum number of ingredients, 99, can be explained by recipes giving 'sub-recipes' for their ingredients. "
   ]
  },
  {
   "cell_type": "markdown",
   "metadata": {},
   "source": [
    "#### 2.2 Number of unique ingredients"
   ]
  },
  {
   "cell_type": "code",
   "execution_count": 11,
   "metadata": {},
   "outputs": [
    {
     "name": "stdout",
     "output_type": "stream",
     "text": [
      "\u001b[1mThere are 38182 distinct ingredients\u001b[0m\n"
     ]
    }
   ],
   "source": [
    "all_ingr = []\n",
    "for r in all_recipes:\n",
    "    for i in r:\n",
    "        all_ingr.append(i)\n",
    "        \n",
    "df_recipe = pd.Series(all_ingr)\n",
    "\n",
    "print_bold('There are ' + str(len(df_recipe.unique())) + ' distinct ingredients')"
   ]
  },
  {
   "cell_type": "markdown",
   "metadata": {},
   "source": [
    "> This is a huge number of ingredients, even considering our number of recipes. It is likely that a lot of ingredients are in fact some noise that we failed to filter during the parsing. Also, it is likely that several ingredients refer to the same ingredient but are written in different ways (e.g. \"white rice\" and \"long-grain white rice\"). <br>\n",
    "To confirm, we look at the distribution of the ingredients."
   ]
  },
  {
   "cell_type": "markdown",
   "metadata": {},
   "source": [
    "#### 2.3 Distribution of the ingredients"
   ]
  },
  {
   "cell_type": "markdown",
   "metadata": {},
   "source": [
    "Below, we sort the ingredients by the number of times they appear in the recipes"
   ]
  },
  {
   "cell_type": "code",
   "execution_count": 12,
   "metadata": {},
   "outputs": [
    {
     "data": {
      "image/png": "[encoded data removed]",
      "text/plain": [
       "<Figure size 432x288 with 1 Axes>"
      ]
     },
     "metadata": {
      "needs_background": "light"
     },
     "output_type": "display_data"
    }
   ],
   "source": [
    "count_table = df_recipe.value_counts().to_frame().rename({0:'count'}, axis = 1)\n",
    "\n",
    "# Log scale\n",
    "ax = count_table['count'].plot(logy=True)\n",
    "ax.set_xlabel('ingredient rank')\n",
    "ax.set_ylabel('Number of occurences')\n",
    "ax.set_title('ingredients sorted by occurences')\n",
    "ax.set_xticklabels([0] + [5000*i for i in range(8)])\n",
    "plt.show()"
   ]
  },
  {
   "cell_type": "markdown",
   "metadata": {},
   "source": [
    "> Indeed, a lot of ingredients appear only a few times, actually not enough times for the embeddings to build accurate vector representations. Therefore, we decided to keep only the ingredients that appear in more than 15 recipes."
   ]
  },
  {
   "cell_type": "code",
   "execution_count": 13,
   "metadata": {},
   "outputs": [
    {
     "name": "stdout",
     "output_type": "stream",
     "text": [
      "\u001b[1mWe keep 99.13% of the data if we discard ingredients that appear in less than 15 recipes.\u001b[0m\n",
      "\u001b[1mThe number of distinct ingredients is now 6599 (reduced by a factor 5.79).\u001b[0m\n"
     ]
    }
   ],
   "source": [
    "# The ingredients that appear more than 15 times \n",
    "without_junk = count_table[count_table['count'] > 15]\n",
    "print_bold(\"We keep \"+ \"{:.2f}\".format(100*((without_junk['count'].sum()) / count_table.sum())[0])+\\\n",
    "      \"% of the data if we discard ingredients that appear in less than 15 recipes.\")\n",
    "\n",
    "print_bold(\"The number of distinct ingredients is now \" + str(len(without_junk)) +\\\n",
    "           \" (reduced by a factor \" + \"{:.3}\".format(len(count_table) / len(without_junk)) +\").\")"
   ]
  },
  {
   "cell_type": "markdown",
   "metadata": {},
   "source": [
    "> We see that removing those ingredients does not damage the data so much, but allows us to reduce the number of ingredients in a very effective way."
   ]
  },
  {
   "cell_type": "markdown",
   "metadata": {},
   "source": [
    "## 3. USDA Mapping"
   ]
  },
  {
   "cell_type": "markdown",
   "metadata": {},
   "source": [
    "#### 3.1 USDA database"
   ]
  },
  {
   "cell_type": "markdown",
   "metadata": {},
   "source": [
    "> This section aims at giving an insight on the work that has been done on the USDA mapping. This work is necessary for the analysis conducted below as it is allows recipe healthiness evaluation. To get a more in-depth understanding, one can either consult the [USDA_parsing.ipnyb](USDA_parsing.ipynb) notebook or the [USDA_parsing.py](../python/USDA_parsing.py) source file."
   ]
  },
  {
   "cell_type": "markdown",
   "metadata": {
    "collapsed": true
   },
   "source": [
    "To get the nutrients of each recipes, our approach consists in linking the different ingredients of a recipe to an entry of the USDA database. As every ingredient does not match exactly the description of a USDA entry, we designed a score function that indicates how well an ingredient matches a USDA entry."
   ]
  },
  {
   "cell_type": "code",
   "execution_count": 14,
   "metadata": {},
   "outputs": [],
   "source": [
    "# Relevant data for USDA\n",
    "food_des_path = \"./../data/usda/FOOD_DES.txt\"\n",
    "food_groups_path = \"./../data/usda/FD_GROUP.txt\"\n",
    "nut_data_path = \"./../data/usda/NUT_DATA.txt\"\n",
    "nut_def_path = \"./../data/usda/NUTR_DEF.txt\"\n",
    "\n",
    "all_paths = [food_des_path, food_groups_path, nut_data_path, nut_def_path]"
   ]
  },
  {
   "cell_type": "code",
   "execution_count": 15,
   "metadata": {},
   "outputs": [
    {
     "name": "stdout",
     "output_type": "stream",
     "text": [
      "\u001b[1moriginal table format : \u001b[0m\n",
      "   food_id  food_group_id            long_description common_names\n",
      "0     1001            100              Butter, salted          NaN\n",
      "1     1002            100  Butter, whipped, with salt          NaN\n",
      "2     1003            100       Butter oil, anhydrous          NaN\n",
      "3     1004            100                Cheese, blue          NaN\n",
      "4     1005            100               Cheese, brick          NaN\n",
      "\u001b[1m\n",
      "\n",
      "new table format\u001b[0m\n"
     ]
    },
    {
     "data": {
      "text/html": [
       "<div>\n",
       "<style scoped>\n",
       "    .dataframe tbody tr th:only-of-type {\n",
       "        vertical-align: middle;\n",
       "    }\n",
       "\n",
       "    .dataframe tbody tr th {\n",
       "        vertical-align: top;\n",
       "    }\n",
       "\n",
       "    .dataframe thead th {\n",
       "        text-align: right;\n",
       "    }\n",
       "</style>\n",
       "<table border=\"1\" class=\"dataframe\">\n",
       "  <thead>\n",
       "    <tr style=\"text-align: right;\">\n",
       "      <th></th>\n",
       "      <th>food_id</th>\n",
       "      <th>food_group_id</th>\n",
       "      <th>long_description</th>\n",
       "      <th>search_words</th>\n",
       "    </tr>\n",
       "  </thead>\n",
       "  <tbody>\n",
       "    <tr>\n",
       "      <th>0</th>\n",
       "      <td>1001</td>\n",
       "      <td>100</td>\n",
       "      <td>Butter, salted</td>\n",
       "      <td>[butter, salted]</td>\n",
       "    </tr>\n",
       "    <tr>\n",
       "      <th>1</th>\n",
       "      <td>1002</td>\n",
       "      <td>100</td>\n",
       "      <td>Butter, whipped, with salt</td>\n",
       "      <td>[butter, whipped, salt]</td>\n",
       "    </tr>\n",
       "    <tr>\n",
       "      <th>2</th>\n",
       "      <td>1003</td>\n",
       "      <td>100</td>\n",
       "      <td>Butter oil, anhydrous</td>\n",
       "      <td>[butter, oil, anhydrou]</td>\n",
       "    </tr>\n",
       "    <tr>\n",
       "      <th>3</th>\n",
       "      <td>1004</td>\n",
       "      <td>100</td>\n",
       "      <td>Cheese, blue</td>\n",
       "      <td>[cheese, blue]</td>\n",
       "    </tr>\n",
       "    <tr>\n",
       "      <th>4</th>\n",
       "      <td>1005</td>\n",
       "      <td>100</td>\n",
       "      <td>Cheese, brick</td>\n",
       "      <td>[cheese, brick]</td>\n",
       "    </tr>\n",
       "  </tbody>\n",
       "</table>\n",
       "</div>"
      ],
      "text/plain": [
       "   food_id  food_group_id            long_description             search_words\n",
       "0     1001            100              Butter, salted         [butter, salted]\n",
       "1     1002            100  Butter, whipped, with salt  [butter, whipped, salt]\n",
       "2     1003            100       Butter oil, anhydrous  [butter, oil, anhydrou]\n",
       "3     1004            100                Cheese, blue           [cheese, blue]\n",
       "4     1005            100               Cheese, brick          [cheese, brick]"
      ]
     },
     "execution_count": 15,
     "metadata": {},
     "output_type": "execute_result"
    }
   ],
   "source": [
    "# Generate singularization engine\n",
    "engine = inflect.engine()\n",
    "\n",
    "# Columns we want to retrieve from the database files\n",
    "columns = [\"food_id\", \"food_group_id\", \"long_description\", \"common_names\"]\n",
    "use_cols = [0, 1, 2, 4]\n",
    "\n",
    "# Get the info from file\n",
    "food_des = pd.read_csv(food_des_path, sep=\"^\", encoding=\"ISO-8859-1\", names=columns, usecols=use_cols, header=None)\n",
    "\n",
    "# Display original table format\n",
    "print_bold(\"original table format : \")\n",
    "print(food_des.head())\n",
    "\n",
    "\n",
    "# Generate search_words\n",
    "food_des['search_words'] = food_des.apply(lambda row : usda.concat_common_and_des(usda.format_long_des(row['common_names'], engine),\n",
    "                                                                                  usda.format_long_des(row['long_description'], engine)),\n",
    "                                                                                  axis=1)\n",
    "\n",
    "# Drop common_names column\n",
    "food_des = food_des.drop(\"common_names\", axis=1)\n",
    "            \n",
    "print_bold(\"\\n\\nnew table format\")\n",
    "food_des.head()"
   ]
  },
  {
   "cell_type": "markdown",
   "metadata": {},
   "source": [
    "> The original table format is an extract of the USDA database. As it is not likely we have an ingredient matching the long description, we generate from the long description a set of search words. Those words are obtained by splitting the sentence by words, singularizing them and removing the words that give no information (e.g. \"with\"). This is what we can observe in the \"new table format\""
   ]
  },
  {
   "cell_type": "markdown",
   "metadata": {},
   "source": [
    "#### 3.2 Search function"
   ]
  },
  {
   "cell_type": "markdown",
   "metadata": {},
   "source": [
    ">This is the score function we were referring to, it indicates how well an ingredient matches a USDA entry.\n",
    "Here, the parameter 'categories' refers to the 'search_words' column of the usda entry, whereas 'ing_words' refers to the ingredient words. "
   ]
  },
  {
   "cell_type": "code",
   "execution_count": 16,
   "metadata": {},
   "outputs": [],
   "source": [
    "def search_score(categories, ing_words) :\n",
    "    \n",
    "    non_complexificators = set([\"fresh\", \"raw\", \"skin\", \"peel\", \"whole\"])\n",
    "    \n",
    "    # singularize search words\n",
    "    ing_words = set([singularize_word(x) for x in ing_words])\n",
    "\n",
    "    #prioritize matching query terms\n",
    "    nb_matching = len(ing_words.intersection(set(categories)))\n",
    "\n",
    "    #non_complexificators should not be penalized,ignore them AFTER computing number of matching words\n",
    "    categories = [c for c in categories if (c not in non_complexificators)]\n",
    "\n",
    "\n",
    "    #matching keywords one by one \n",
    "    matching = [len(set([x]).intersection(ing_words)) != 0 for x in categories]\n",
    "\n",
    "\n",
    "    #first keywords are more important\n",
    "    weights = np.linspace(2, 1, num=len(matching))\n",
    "    weights = weights / sum(weights)\n",
    "\n",
    "    #the query should have as many ingredients words as possible\n",
    "    score = (10 * nb_matching) + sum([c[0] * c[1] for c in zip(matching, weights)])\n",
    "\n",
    "    return score"
   ]
  },
  {
   "cell_type": "markdown",
   "metadata": {},
   "source": [
    ">The design of the score function starts from three straightforward observations, namely :\n",
    "- Lots of words in the long_description usually mean complex food item\n",
    "- words in the long_description are ordered by descending relevance\n",
    "- Some words (e.g ’raw’) do not make the food item more complex\n",
    "\n",
    ">Note that the words that do not make the food-item more complex were chosen empirically."
   ]
  },
  {
   "cell_type": "markdown",
   "metadata": {},
   "source": [
    "#### 3.3 Examples"
   ]
  },
  {
   "cell_type": "code",
   "execution_count": 17,
   "metadata": {},
   "outputs": [
    {
     "name": "stdout",
     "output_type": "stream",
     "text": [
      "\u001b[1mResult of search for 'raw chicken'\n",
      "\u001b[0m\n",
      "+------+-----------+------------------------------+----------------+\n",
      "|      |   food_id | search_words                 |   search_score |\n",
      "|------+-----------+------------------------------+----------------|\n",
      "| 1043 |      5332 | ['chicken', 'ground', 'raw'] |        20.6667 |\n",
      "+------+-----------+------------------------------+----------------+\n",
      "\n",
      "\n",
      "\n",
      "\u001b[1mResult of search for 'chicken'\n",
      "\u001b[0m\n",
      "+------+-----------+------------------------+----------------+\n",
      "|      |   food_id | search_words           |   search_score |\n",
      "|------+-----------+------------------------+----------------|\n",
      "| 7670 |     43128 | ['chicken', 'meatles'] |        10.6667 |\n",
      "+------+-----------+------------------------+----------------+\n",
      "\n",
      "\n",
      "\n",
      "\u001b[1mResult of search for 'fresh tomatoes'\n",
      "\u001b[0m\n",
      "+------+-----------+-----------------------------+----------------+\n",
      "|      |   food_id | search_words                |   search_score |\n",
      "|------+-----------+-----------------------------+----------------|\n",
      "| 2928 |     11695 | ['tomato', 'orange', 'raw'] |        10.6667 |\n",
      "+------+-----------+-----------------------------+----------------+\n",
      "\n",
      "\n",
      "\n",
      "\u001b[1mResult of search for 'blue cheese'\n",
      "\u001b[0m\n",
      "+----+-----------+--------------------+----------------+\n",
      "|    |   food_id | search_words       |   search_score |\n",
      "|----+-----------+--------------------+----------------|\n",
      "|  3 |      1004 | ['cheese', 'blue'] |             21 |\n",
      "+----+-----------+--------------------+----------------+\n",
      "\n",
      "\n",
      "\n",
      "\u001b[1mResult of search for 'salt'\n",
      "\u001b[0m\n",
      "+-----+-----------+-------------------+----------------+\n",
      "|     |   food_id | search_words      |   search_score |\n",
      "|-----+-----------+-------------------+----------------|\n",
      "| 308 |      2047 | ['salt', 'table'] |        10.6667 |\n",
      "+-----+-----------+-------------------+----------------+\n",
      "\n",
      "\n",
      "\n"
     ]
    }
   ],
   "source": [
    "examples = ['raw chicken', 'chicken', 'fresh tomatoes', 'blue cheese', 'salt']\n",
    "\n",
    "for example in examples :\n",
    "    print_bold(\"Result of search for \\'\" + example + \"\\'\\n\")\n",
    "    search_result = usda.search_ingredient(example, food_des, engine)[0]\n",
    "    print(tabulate(search_result, headers='keys', tablefmt='psql'))\n",
    "    print(\"\\n\\n\")\n",
    "\n"
   ]
  },
  {
   "cell_type": "markdown",
   "metadata": {},
   "source": [
    "> As we can see:\n",
    "- The word 'raw does not penalize the matching, even the opposite as it allows to match a entry of the USDA more exactly.\n",
    "- Tomatoes can be mapped on tomato"
   ]
  },
  {
   "cell_type": "markdown",
   "metadata": {},
   "source": [
    "#### 3.4 Final mapping"
   ]
  },
  {
   "cell_type": "markdown",
   "metadata": {},
   "source": [
    "> mapping_usda_id maps cleaned ingredients names to usda food ids"
   ]
  },
  {
   "cell_type": "code",
   "execution_count": 18,
   "metadata": {},
   "outputs": [
    {
     "data": {
      "text/plain": [
       "43128"
      ]
     },
     "execution_count": 18,
     "metadata": {},
     "output_type": "execute_result"
    }
   ],
   "source": [
    "mapping_usda_id = json.load(open('../generated/ing_id_mapping.json'))  \n",
    "\n",
    "mapping_usda_id['chicken']"
   ]
  },
  {
   "cell_type": "markdown",
   "metadata": {},
   "source": [
    "> The USDA_parsing notebook and script produce a ingredient mapping as a dictionary. The ingredient chicken is mapped on the USDA id 43128: [Chicken, meatless](https://ndb.nal.usda.gov/ndb/foods/show/43128?fgcd=&manu=&format=&count=&max=25&offset=&sort=default&order=asc&qlookup=43128&ds=&qt=&qp=&qa=&qn=&q=&ing=). Note that this mapping was found in the previous cell."
   ]
  },
  {
   "cell_type": "markdown",
   "metadata": {},
   "source": [
    "#### 3.5 Ingredients merging using representative"
   ]
  },
  {
   "cell_type": "markdown",
   "metadata": {},
   "source": [
    "> The previous mapping already merged some ingredients together, more specifically the ones that were mapped to the same food ids. <br>For each food id, we create a string representation based on the names of the ingredients that were mapped on this id. The representation is composed of the words that occur in more than 50% of the names of the ingredients mapped on the id. Consequently, some ids end up with the same representation, this concludes the merging process."
   ]
  },
  {
   "cell_type": "markdown",
   "metadata": {},
   "source": [
    "This cell finds the ingredients that have been mapped to the same ids"
   ]
  },
  {
   "cell_type": "code",
   "execution_count": 19,
   "metadata": {},
   "outputs": [
    {
     "name": "stderr",
     "output_type": "stream",
     "text": [
      "100%|██████████| 2064/2064 [00:00<00:00, 906876.54it/s]\n"
     ]
    }
   ],
   "source": [
    "mapped_ids = [mapping_usda_id[k] for k in mapping_usda_id]\n",
    "\n",
    "#build dict to store collisions\n",
    "collisions = {}\n",
    "\n",
    "for m in tqdm(mapping_usda_id) :\n",
    "    if mapping_usda_id[m] not in collisions.keys() :\n",
    "        collisions[mapping_usda_id[m]] = [m]\n",
    "        \n",
    "    else :\n",
    "        collisions[mapping_usda_id[m]].append(m)"
   ]
  },
  {
   "cell_type": "markdown",
   "metadata": {},
   "source": [
    "These are examples of such ingredients"
   ]
  },
  {
   "cell_type": "code",
   "execution_count": 20,
   "metadata": {},
   "outputs": [
    {
     "data": {
      "text/plain": [
       "[(2047, ['salt', 'kosher salt']),\n",
       " (1145, ['butter']),\n",
       " (19908, ['sugar', 'turbinado sugar', 'turbinado']),\n",
       " (11282, ['onion', 'onions']),\n",
       " (1123, ['egg']),\n",
       " (11981, ['pepper', 'peppers']),\n",
       " (14555, ['water']),\n",
       " (4053, ['olive oil', 'salad oil', 'olive salad']),\n",
       " (1212, ['milk']),\n",
       " (2030, ['black pepper'])]"
      ]
     },
     "execution_count": 20,
     "metadata": {},
     "output_type": "execute_result"
    }
   ],
   "source": [
    "[(c, collisions[c]) for c in collisions][:10]"
   ]
  },
  {
   "cell_type": "markdown",
   "metadata": {},
   "source": [
    "> As we see, the mapping has been accurate enough"
   ]
  },
  {
   "cell_type": "markdown",
   "metadata": {},
   "source": [
    "Now, we compute the representatives"
   ]
  },
  {
   "cell_type": "code",
   "execution_count": 21,
   "metadata": {},
   "outputs": [
    {
     "name": "stderr",
     "output_type": "stream",
     "text": [
      "1559it [00:00, 101309.49it/s]\n"
     ]
    }
   ],
   "source": [
    "proportion = 0.5\n",
    "\n",
    "representative_keys = dict()\n",
    "\n",
    "for i, c in tqdm(enumerate(collisions)) :\n",
    "    \n",
    "    all_items = \" \".join(collisions[c]).split(\" \")\n",
    "    counter = collections.Counter()\n",
    "    counter.update(all_items)\n",
    "\n",
    "    #find common names\n",
    "    common_names = [x[0] for x in counter.most_common() if x[1] > len(collisions[c])*proportion]\n",
    "\n",
    "    #choose database description\n",
    "    if len(common_names) == 0 :\n",
    "        representative_keys[c] = collisions[c][0]\n",
    "\n",
    "    elif len(common_names) == 1 :\n",
    "        representative_keys[c] = common_names[0]\n",
    "\n",
    "    else :\n",
    "        #determine order\n",
    "\n",
    "        #case 1, there exist an entry with only wanted words\n",
    "        exact_match = [x.split(\" \") for x in collisions[c] if (len(set(common_names).difference(set(x.split(\" \"))))== 0)]\n",
    "        if len(exact_match) != 0 :\n",
    "            representative_keys[c] = \" \".join(exact_match[0])\n",
    "\n",
    "        #case 2, no exact match\n",
    "        else :\n",
    "\n",
    "            all_words_collisions = [x.split(\" \") for x in collisions[c] if set(common_names).issubset(set(x.split(\" \")))]\n",
    "\n",
    "            index_tuples = [ (word, index) for collision in all_words_collisions for index, word in enumerate(collision) if (word in common_names)]\n",
    "\n",
    "            index_counts = np.array([0]*len(common_names))\n",
    "\n",
    "            #average the relative indices\n",
    "            for it in index_tuples :\n",
    "                word_index = common_names.index(it[0])\n",
    "                index_counts[word_index] += it[1]\n",
    "\n",
    "            index_counts = index_counts\n",
    "\n",
    "            common_names_ordered = \" \".join([common_names[i] for i in np.argsort(index_counts)])\n",
    "            representative_keys[c] = common_names_ordered\n",
    "\n"
   ]
  },
  {
   "cell_type": "markdown",
   "metadata": {},
   "source": [
    "> What do the representatives look like ?"
   ]
  },
  {
   "cell_type": "code",
   "execution_count": 22,
   "metadata": {},
   "outputs": [
    {
     "data": {
      "text/plain": [
       "{2047: 'salt',\n",
       " 1145: 'butter',\n",
       " 19908: 'turbinado sugar',\n",
       " 11282: 'onion',\n",
       " 1123: 'egg',\n",
       " 11981: 'pepper',\n",
       " 14555: 'water',\n",
       " 4053: 'olive oil salad',\n",
       " 1212: 'milk',\n",
       " 2030: 'black pepper',\n",
       " 2050: 'vanilla',\n",
       " 11695: 'tomato',\n",
       " 20063: 'flour',\n",
       " 19334: 'brown sugar',\n",
       " 9152: 'lemon juice',\n",
       " 28315: 'cinnamon',\n",
       " 11297: 'parsley',\n",
       " 18371: 'baking powder',\n",
       " 4669: 'vegetable oil',\n",
       " 11124: 'carrot',\n",
       " 11215: 'garlic',\n",
       " 18372: 'baking soda',\n",
       " 1146: 'parmesan cheese',\n",
       " 11216: 'ginger',\n",
       " 2044: 'basil',\n",
       " 11362: 'potato',\n",
       " 16124: 'tamari soy sauce',\n",
       " 2049: 'thyme',\n",
       " 11165: 'cilantro',\n",
       " 9156: 'lemon',\n",
       " 7935: 'chicken breast',\n",
       " 11292: 'green onion top',\n",
       " 1179: 'sour cream',\n",
       " 2027: 'oregano',\n",
       " 19296: 'honey',\n",
       " 2014: 'cumin',\n",
       " 1270: 'cheddar',\n",
       " 4572: 'nutmeg',\n",
       " 1017: 'cream cheese',\n",
       " 11143: 'celery',\n",
       " 2020: 'garlic powder',\n",
       " 6194: 'chicken soup',\n",
       " 4532: 'oil',\n",
       " 12071: 'almond',\n",
       " 2028: 'paprika',\n",
       " 43598: 'mayonnaise',\n",
       " 1053: 'heavy cream',\n",
       " 11993: 'mushroom',\n",
       " 16104: 'bacon',\n",
       " 20027: 'cornstarch',\n",
       " 2004: 'bay',\n",
       " 2009: 'chili powder',\n",
       " 9160: 'lime juice',\n",
       " 12142: 'pecan',\n",
       " 14106: 'white wine',\n",
       " 6971: 'worcestershire',\n",
       " 2031: 'cayenne',\n",
       " 4528: 'walnut',\n",
       " 13350: 'beef',\n",
       " 43128: 'chicken',\n",
       " 11457: 'spinach',\n",
       " 1125: 'egg yolk',\n",
       " 11677: 'shallot',\n",
       " 1124: 'egg white',\n",
       " 9207: 'orange juice',\n",
       " 11291: 'scallion',\n",
       " 2011: 'clove',\n",
       " 9299: 'raisin',\n",
       " 9159: 'lime',\n",
       " 42289: 'oil',\n",
       " 2063: 'rosemary',\n",
       " 9040: 'banana',\n",
       " 4630: 'margarine',\n",
       " 11270: 'mustard',\n",
       " 2065: 'mint',\n",
       " 6172: 'chicken stock',\n",
       " 18163: 'chocolate chip',\n",
       " 42304: 'mozzarella',\n",
       " 25070: 'shrimp',\n",
       " 28309: 'coconut macaroon',\n",
       " 11953: 'zucchini',\n",
       " 1094: 'buttermilk',\n",
       " 4058: 'sesame oil',\n",
       " 9004: 'apple',\n",
       " 1054: 'cream',\n",
       " 11333: 'green pepper',\n",
       " 9316: 'strawberry',\n",
       " 2013: 'coriander',\n",
       " 20014: 'corn',\n",
       " 43217: 'tomato sauce',\n",
       " 2068: 'wine vinegar',\n",
       " 25071: 'rice',\n",
       " 2069: 'vinegar',\n",
       " 19165: 'cocoa powder',\n",
       " 11156: 'chive',\n",
       " 16237: 'chocolate',\n",
       " 11286: 'yellow onion',\n",
       " 43406: 'yeast',\n",
       " 11935: 'ketchup',\n",
       " 9205: 'orange',\n",
       " 1030: 'cheese',\n",
       " 20481: 'all-purpose flour',\n",
       " 9039: 'avocado',\n",
       " 11205: 'cucumber',\n",
       " 2026: 'onion powder',\n",
       " 2032: 'white pepper',\n",
       " 11304: 'pea',\n",
       " 1052: 'whipping cream',\n",
       " 20649: 'wheat flour',\n",
       " 14553: 'wine',\n",
       " 20033: 'oat',\n",
       " 2038: 'sage',\n",
       " 2001: 'allspice',\n",
       " 1305: 'lowfat milk',\n",
       " 16014: 'black',\n",
       " 4615: 'shortening',\n",
       " 4679: 'cooking spray',\n",
       " 7030: 'ham',\n",
       " 9429: 'pineapple',\n",
       " 2015: 'curry',\n",
       " 2045: 'dill',\n",
       " 9078: 'cranberry',\n",
       " 12023: 'sesame seed',\n",
       " 11979: 'jalapeno',\n",
       " 9050: 'blueberry',\n",
       " 19349: 'corn syrup',\n",
       " 2043: 'turmeric',\n",
       " 11109: 'cabbage',\n",
       " 14050: 'rum',\n",
       " 6164: 'salsa',\n",
       " 11537: 'chily',\n",
       " 12117: 'coconut milk',\n",
       " 13000: 'steak',\n",
       " 11257: 'lettuce',\n",
       " 6150: 'sauce',\n",
       " 11052: 'bean',\n",
       " 2048: 'cider',\n",
       " 1019: 'feta',\n",
       " 42291: 'peanut butter',\n",
       " 11246: 'leek',\n",
       " 11980: 'green chili pepper',\n",
       " 12151: 'pistachio nut',\n",
       " 19353: 'maple syrup',\n",
       " 5305: 'turkey',\n",
       " 4501: 'cocoa',\n",
       " 16093: 'peanut',\n",
       " 21150: 'white onion',\n",
       " 11090: 'broccoli',\n",
       " 18060: 'bread',\n",
       " 6076: 'beef broth',\n",
       " 10004: 'pork',\n",
       " 18450: 'flour tortilla',\n",
       " 2054: 'caper',\n",
       " 9302: 'raspberry',\n",
       " 2041: 'tarragon',\n",
       " 9236: 'peach',\n",
       " 11029: 'kidney bean',\n",
       " 1116: 'plain yogurt',\n",
       " 19271: 'ice',\n",
       " 4042: 'peanut oil',\n",
       " 9019: 'applesauce',\n",
       " 20084: 'flour',\n",
       " 12147: 'pine nut',\n",
       " 11209: 'eggplant',\n",
       " 35131: 'cornmeal',\n",
       " 6043: 'cream of mushroom soup',\n",
       " 1040: 'swiss cheese',\n",
       " 6179: 'fish sauce',\n",
       " 6169: 'tabasco pepper sauce',\n",
       " 1036: 'ricotta cheese',\n",
       " 11011: 'asparagu',\n",
       " 5674: 'chicken drumstick',\n",
       " 6615: 'vegetable',\n",
       " 2006: 'cardamom',\n",
       " 9176: 'mango',\n",
       " 11422: 'pumpkin',\n",
       " 20098: 'pasta',\n",
       " 16249: 'coffee',\n",
       " 7003: 'beer',\n",
       " 14051: 'vodka',\n",
       " 35239: 'corn tortilla',\n",
       " 18373: 'cream of tartar',\n",
       " 20129: 'bread flour',\n",
       " 6016: 'cream of chicken soup',\n",
       " 9452: 'pineapple juice',\n",
       " 22911: 'chili',\n",
       " 19095: 'vanilla ice cream',\n",
       " 9021: 'apricot',\n",
       " 3282: 'vegetable',\n",
       " 16157: 'chickpea',\n",
       " 2055: 'horseradish',\n",
       " 16107: 'sausage',\n",
       " 9502: 'granny smith apple',\n",
       " 20126: 'spaghetti',\n",
       " 9421: 'date',\n",
       " 6972: 'chili sauce',\n",
       " 11356: 'russet',\n",
       " 43476: 'tofu',\n",
       " 18943: 'crust',\n",
       " 9070: 'cherry',\n",
       " 19813: 'plain flour',\n",
       " 3166: 'apple juice',\n",
       " 11182: 'corn kernel',\n",
       " 2023: 'marjoram',\n",
       " 11959: 'arugula',\n",
       " 11251: 'romaine lettuce',\n",
       " 7036: 'italian sausage',\n",
       " 1157: 'goat cheese',\n",
       " 1004: 'blue cheese',\n",
       " 20452: 'rice',\n",
       " 18967: 'white bread',\n",
       " 19172: 'gelatin',\n",
       " 1287: 'plain lowfat yogurt',\n",
       " 15085: 'salmon',\n",
       " 2007: 'celery seed',\n",
       " 28293: 'icing sugar',\n",
       " 10050: 'pork chop',\n",
       " 20090: 'brown rice flour',\n",
       " 11485: 'squash',\n",
       " 11135: 'cauliflower',\n",
       " 16399: 'creamy peanut butter',\n",
       " 6170: 'stock',\n",
       " 2018: 'fennel seed',\n",
       " 9252: 'pear',\n",
       " 19018: 'fruit',\n",
       " 28318: 'french bread',\n",
       " 2037: 'saffron',\n",
       " 16069: 'lentil',\n",
       " 36058: 'olive',\n",
       " 19137: 'topping',\n",
       " 10060: 'pork tenderloin',\n",
       " 1151: 'nonfat milk',\n",
       " 11080: 'beet',\n",
       " 20421: 'elbow macaroni',\n",
       " 18079: 'bread crumb',\n",
       " 14545: 'herb',\n",
       " 43479: 'sake',\n",
       " 1295: 'yogurt',\n",
       " 11653: 'pinto bean',\n",
       " 11238: 'shiitake',\n",
       " 2024: 'mustard seed',\n",
       " 16262: 'hazelnut',\n",
       " 6175: 'hoisin sauce',\n",
       " 2035: 'pumpkin pie spice',\n",
       " 19433: 'tortilla',\n",
       " 11429: 'radish',\n",
       " 19087: 'white',\n",
       " 43273: 'cottage cheese',\n",
       " 18175: 'lemon rind',\n",
       " 9328: 'maraschino cherry',\n",
       " 18040: 'oatmeal',\n",
       " 35137: 'yellow cornmeal',\n",
       " 12087: 'cashew',\n",
       " 11233: 'kale',\n",
       " 9216: 'peel',\n",
       " 2005: 'caraway seed',\n",
       " 2075: 'taco seasoning',\n",
       " 1191: 'velveeta',\n",
       " 20137: 'quinoa',\n",
       " 11957: 'fennel bulb',\n",
       " 4047: 'coconut oil',\n",
       " 6176: 'oyster',\n",
       " 2033: 'poppy seed',\n",
       " 14423: 'ice water',\n",
       " 20410: 'egg noodle',\n",
       " 42137: 'peppercorn',\n",
       " 18337: 'puff pastry',\n",
       " 2046: 'yellow mustard',\n",
       " 12040: 'sunflower',\n",
       " 22401: 'spaghetti sauce',\n",
       " 1035: 'provolone',\n",
       " 11886: 'tomato juice',\n",
       " 11764: 'celery salt',\n",
       " 9042: 'blackberry',\n",
       " 14019: 'tequila',\n",
       " 9272: 'pineapple chunk',\n",
       " 16166: 'soymilk',\n",
       " 16056: 'garbanzo bean',\n",
       " 11547: 'tomato puree',\n",
       " 9083: 'currant',\n",
       " 20029: 'couscou',\n",
       " 18453: 'yellow cake mix',\n",
       " 11298: 'parsnip',\n",
       " 15128: 'tuna',\n",
       " 1023: 'gruyere',\n",
       " 32031: 'steak',\n",
       " 2034: 'poultry seasoning',\n",
       " 1038: 'romano',\n",
       " 7057: 'pepperoni',\n",
       " 17224: 'lamb',\n",
       " 5312: 'chicken wing',\n",
       " 18176: 'marshmallow',\n",
       " 5219: 'turkey breast',\n",
       " 43017: 'salad green',\n",
       " 20078: 'wheat germ',\n",
       " 20061: 'white flour',\n",
       " 9307: 'rhubarb',\n",
       " 93600: 'green',\n",
       " 19348: 'chocolate syrup',\n",
       " 12698: 'tahini',\n",
       " 36054: 'marinara sauce',\n",
       " 19352: 'malt syrup',\n",
       " 7058: 'pimiento',\n",
       " 6094: 'onion soup mix',\n",
       " 6159: 'tomato soup',\n",
       " 43278: 'american cheese',\n",
       " 6626: 'pesto sauce',\n",
       " 11564: 'turnip',\n",
       " 23656: 'flank steak',\n",
       " 6931: 'pasta sauce',\n",
       " 11265: 'mushroom',\n",
       " 11439: 'sauerkraut',\n",
       " 28341: 'corn starch',\n",
       " 7019: 'chorizo',\n",
       " 4636: 'italian dressing',\n",
       " 18174: 'graham cracker',\n",
       " 9110: 'berry',\n",
       " 9218: 'mandarin orange',\n",
       " 20115: 'soba noodle',\n",
       " 23079: 'chuck',\n",
       " 1144: 'egg substitute',\n",
       " 11098: 'sprout',\n",
       " 11278: 'okra',\n",
       " 19303: 'marmalade',\n",
       " 16106: 'meat',\n",
       " 10072: 'lean pork shoulder',\n",
       " 15164: 'mussel',\n",
       " 11252: 'iceberg lettuce',\n",
       " 11954: 'tomatillo',\n",
       " 6152: 'pizza sauce',\n",
       " 11951: 'yellow pepper',\n",
       " 15157: 'clam',\n",
       " 43382: 'cranberry juice',\n",
       " 16049: 'white bean',\n",
       " 9089: 'fig',\n",
       " 20105: 'macaroni',\n",
       " 4638: 'ranch dressing',\n",
       " 4002: 'lard',\n",
       " 19024: 'milk chocolate chip',\n",
       " 4014: 'miracle whip',\n",
       " 18243: 'crouton',\n",
       " 15001: 'anchovy',\n",
       " 7943: 'lemon pepper',\n",
       " 18042: 'pita',\n",
       " 14121: 'club soda',\n",
       " 28292: 'cracker',\n",
       " 27063: 'enchilada sauce',\n",
       " 14533: 'gin',\n",
       " 1323: 'ghee',\n",
       " 14534: 'liqueur',\n",
       " 18033: 'italian bread',\n",
       " 10024: 'pork loin',\n",
       " 9221: 'tangerine juice',\n",
       " 90240: 'scallop',\n",
       " 11937: 'kosher dill pickle',\n",
       " 21228: 'hamburger',\n",
       " 12131: 'macadamia',\n",
       " 11116: 'bok choy',\n",
       " 6112: 'teriyaki sauce',\n",
       " 11007: 'artichoke',\n",
       " 18064: 'wheat bread',\n",
       " 7063: 'pork sausage',\n",
       " 14542: 'lemonade',\n",
       " 9423: 'prune puree',\n",
       " 11260: 'white mushroom',\n",
       " 19719: 'apricot',\n",
       " 11956: 'tomato in oil',\n",
       " 12163: 'pumpkin seed',\n",
       " 6010: 'cream of celery soup',\n",
       " 19206: 'vanilla pudding mix',\n",
       " 4506: 'sunflower oil',\n",
       " 13346: 'beef brisket',\n",
       " 9279: 'plum',\n",
       " 2022: 'mace',\n",
       " 19314: 'cherry pie filling',\n",
       " 19120: 'milk chocolate',\n",
       " 19132: 'almond milk',\n",
       " 11970: 'napa cabbage',\n",
       " 19039: 'popcorn',\n",
       " 11958: 'pickle',\n",
       " 16026: 'great northern bean',\n",
       " 11031: 'lima bean',\n",
       " 9133: 'seedless grape',\n",
       " 18029: 'sourdough',\n",
       " 9129: 'grape',\n",
       " 21415: 'biscuit',\n",
       " 18368: 'wrapper',\n",
       " 13929: 'sirloin steak',\n",
       " 18212: 'vanilla wafer',\n",
       " 14187: 'clam juice',\n",
       " 19201: 'vanilla pudding',\n",
       " 2064: 'peppermint',\n",
       " 11805: 'onion salt',\n",
       " 16112: 'miso',\n",
       " 14136: 'ale',\n",
       " 43441: 'roll',\n",
       " 15172: 'scallop',\n",
       " 17431: 'veal',\n",
       " 8402: 'quick oat',\n",
       " 18621: 'ritz cracker',\n",
       " 9326: 'watermelon',\n",
       " 14210: 'espresso',\n",
       " 1020: 'fontina',\n",
       " 16398: 'smooth peanut butter',\n",
       " 15270: 'raw shrimp',\n",
       " 42040: 'grenadine',\n",
       " 11977: 'serrano',\n",
       " 21497: 'pizza crust',\n",
       " 17137: 'lean sirloin',\n",
       " 9181: 'cantaloupe',\n",
       " 11147: 'chard',\n",
       " 9501: 'delicious apple',\n",
       " 13973: 'chuck roast',\n",
       " 9202: 'navel orange',\n",
       " 1006: 'brie',\n",
       " 9226: 'papaya',\n",
       " 20133: 'rice noodle',\n",
       " 43212: 'bacon bit',\n",
       " 1186: 'fat cream cheese',\n",
       " 5115: 'roasting chicken',\n",
       " 19074: 'caramel',\n",
       " 18419: 'white cake mix',\n",
       " 19909: 'sugar substitute',\n",
       " 43016: 'salad dressing',\n",
       " 18338: 'phyllo dough',\n",
       " 11300: 'sugar snap pea',\n",
       " 8142: 'cereal',\n",
       " 22973: 'dog',\n",
       " 1088: 'lowfat buttermilk',\n",
       " 16037: 'navy bean',\n",
       " 18942: 'graham cracker crust',\n",
       " 19078: 'chocolate square',\n",
       " 11962: 'chile',\n",
       " 11943: 'pimento',\n",
       " 19270: 'chocolate ice cream',\n",
       " 1251: 'mexican blend cheese',\n",
       " 43109: 'pretzel',\n",
       " 7970: 'kielbasa',\n",
       " 15097: 'fish',\n",
       " 14028: 'whiskey',\n",
       " 11603: 'jicama',\n",
       " 36029: 'fish fillet',\n",
       " 18457: 'saltine',\n",
       " 6080: 'chicken bouillon',\n",
       " 9081: 'cranberry sauce',\n",
       " 19124: 'chocolate',\n",
       " 20121: 'rotini',\n",
       " 1022: 'gouda',\n",
       " 18139: 'white cake',\n",
       " 11482: 'acorn squash',\n",
       " 11026: 'bamboo shoot',\n",
       " 11952: 'radicchio',\n",
       " 11475: 'summer squash',\n",
       " 9128: 'grapefruit',\n",
       " 10094: 'loin',\n",
       " 20005: 'barley',\n",
       " 14649: 'tea',\n",
       " 6963: 'broth',\n",
       " 5075: 'chicken leg',\n",
       " 18264: 'english muffin',\n",
       " 6174: 'fish stock',\n",
       " 28340: 'starch',\n",
       " 6960: 'alfredo sauce',\n",
       " 19438: 'rice krispy',\n",
       " 11527: 'green tomato',\n",
       " 11370: 'hash brown potato',\n",
       " 16059: 'chili bean',\n",
       " 19184: 'chocolate pudding mix',\n",
       " 18172: 'gingersnap cookie',\n",
       " 2002: 'anise',\n",
       " 31033: 'artificial sweetener',\n",
       " 1314: 'plain nonfat yogurt',\n",
       " 21319: 'hash brown',\n",
       " 11212: 'edamame',\n",
       " 11601: 'yam',\n",
       " 7070: 'salami',\n",
       " 4576: 'fat',\n",
       " 23441: 'beef tenderloin',\n",
       " 6983: 'ramen noodle',\n",
       " 28295: 'wheat tortilla',\n",
       " 16161: 'soft silken tofu',\n",
       " 19107: 'candy',\n",
       " 9442: 'pomegranate juice',\n",
       " 28324: 'pancake mix',\n",
       " 22978: 'chicken tender',\n",
       " 43132: 'meatball',\n",
       " 18097: 'chocolate cake mix',\n",
       " 7028: 'deli ham',\n",
       " 12116: 'coconut cream',\n",
       " 1180: 'fat sour cream',\n",
       " 18010: 'buttermilk biscuit mix',\n",
       " 19823: 'potato chip',\n",
       " 4511: 'safflower oil',\n",
       " 11697: 'arrowroot',\n",
       " 15147: 'lobster',\n",
       " 1228: 'queso fresco',\n",
       " 5027: 'chicken liver',\n",
       " 8156: 'rice cereal',\n",
       " 5668: 'lean turkey',\n",
       " 9322: 'tamarind',\n",
       " 11354: 'white potato',\n",
       " 1159: 'soft goat cheese',\n",
       " 2008: 'chervil',\n",
       " 4706: 'honey mustard',\n",
       " 2039: 'savory',\n",
       " 43276: 'cream cheese spread',\n",
       " 18964: 'bun',\n",
       " 16156: 'chunky peanut butter',\n",
       " 35138: 'squash',\n",
       " 19297: 'jam',\n",
       " 8314: 'grit',\n",
       " 19365: 'marshmallow cream',\n",
       " 20065: 'rye flour',\n",
       " 15175: 'squid',\n",
       " 20012: 'bulgur',\n",
       " 22901: 'tortellini',\n",
       " 10946: 'pork butt',\n",
       " 27048: 'steak sauce',\n",
       " 19027: 'peanut butter chip',\n",
       " 9191: 'nectarine',\n",
       " 27064: 'wasabi',\n",
       " 6629: 'basil pesto',\n",
       " 19918: 'stevia',\n",
       " 20087: 'wheat',\n",
       " 8639: 'cinnamon sugar',\n",
       " 6008: 'beef bouillon',\n",
       " 18084: 'cornbread',\n",
       " 10225: 'pork loin roast',\n",
       " 42063: 'liquid pectin',\n",
       " 15186: 'tuna in water',\n",
       " 7912: 'beef roast',\n",
       " 8037: 'granola cereal',\n",
       " 12202: 'chestnut',\n",
       " 10165: 'salt pork',\n",
       " 18423: 'ladyfinger',\n",
       " 23094: 'beef chuck',\n",
       " 1297: 'lowfat vanilla yogurt',\n",
       " 19183: 'pudding',\n",
       " 12006: 'chia seed',\n",
       " 20060: 'bran',\n",
       " 23175: 'rib eye steak',\n",
       " 6042: 'mushroom soup',\n",
       " 11945: 'relish',\n",
       " 1033: 'parmesan',\n",
       " 7973: 'turkey bacon',\n",
       " 28342: 'tapioca flour',\n",
       " 10864: 'dripping',\n",
       " 14161: 'kiwi',\n",
       " 43364: 'corn tortilla chip',\n",
       " 11250: 'lettuce',\n",
       " 11492: 'spaghetti squash',\n",
       " 13979: 'skirt steak',\n",
       " 12195: 'butter',\n",
       " 5143: 'duck',\n",
       " 23066: 'beef short rib',\n",
       " 20077: 'wheat bran',\n",
       " 43114: 'vermicelli',\n",
       " 6631: 'sauce',\n",
       " 19383: 'toffee',\n",
       " 14414: 'coffee liqueur',\n",
       " 15139: 'crab',\n",
       " 11214: 'escarole',\n",
       " 10130: 'canadian bacon',\n",
       " 19375: 'frosting',\n",
       " 43015: 'caesar salad dressing',\n",
       " 18204: 'vanilla sugar',\n",
       " 11435: 'rutabaga',\n",
       " 18353: 'roll',\n",
       " 15015: 'cod',\n",
       " 11114: 'savoy cabbage',\n",
       " 20466: 'semolina',\n",
       " 1057: 'eggnog',\n",
       " 12220: 'seed',\n",
       " 1012: 'curd cottage cheese',\n",
       " 7954: 'breakfast sausage',\n",
       " 1223: 'milk powder',\n",
       " 20113: 'noodle',\n",
       " 1187: 'yogurt',\n",
       " 17086: 'lamb shoulder',\n",
       " 19709: 'pudding mix',\n",
       " 19177: 'gelatin powder',\n",
       " 18152: 'brownie mix',\n",
       " 14303: 'limeade',\n",
       " 1031: 'neufchatel cheese',\n",
       " 14317: 'drink mix',\n",
       " 5309: 'cornish hen',\n",
       " 6624: 'thai curry',\n",
       " 9542: 'plantain',\n",
       " 1286: 'nonfat vanilla yogurt',\n",
       " 27047: 'salsa verde',\n",
       " 9414: 'bosc pear',\n",
       " 2019: 'fenugreek',\n",
       " 9546: 'cherry',\n",
       " 42173: 'bulk pork sausage',\n",
       " 20132: 'oat flour',\n",
       " 10005: 'pork belly',\n",
       " 19312: 'apple pie filling',\n",
       " 28348: 'dinner roll',\n",
       " 14152: 'burgundy wine',\n",
       " 9184: 'honeydew',\n",
       " 9297: 'seedless raisin',\n",
       " 7955: 'turkey sausage',\n",
       " 9132: 'green seedless grape',\n",
       " 5123: 'chicken meat',\n",
       " 10088: 'sparerib',\n",
       " 20444: 'long-grain rice',\n",
       " 14075: 'water',\n",
       " 18081: 'stuffing mix',\n",
       " 17343: 'venison',\n",
       " 11973: 'fava bean',\n",
       " 18080: 'stick',\n",
       " 28294: 'icing',\n",
       " 20011: 'buckwheat flour',\n",
       " 4635: 'thousand island dressing',\n",
       " 2076: 'chili seasoning mix',\n",
       " 19911: 'maple',\n",
       " 19294: 'apple butter',\n",
       " 16158: 'hummu',\n",
       " 18114: 'gingerbread mix',\n",
       " 5145: 'duck breast',\n",
       " 17017: 'lamb shank',\n",
       " 11096: 'broccoli',\n",
       " 4609: 'bacon',\n",
       " 8025: 'crisp rice cereal',\n",
       " 14145: 'sprite',\n",
       " 6116: 'beef gravy',\n",
       " 20068: 'tapioca',\n",
       " 19154: 'sesame',\n",
       " 1011: 'colby',\n",
       " 1039: 'roquefort cheese',\n",
       " 18448: 'shell',\n",
       " 20330: 'hominy',\n",
       " 11578: 'vegetable juice cocktail',\n",
       " 11976: 'banana pepper',\n",
       " 14639: 'rice milk',\n",
       " 28366: 'sandwich bread',\n",
       " 14155: 'water',\n",
       " 15115: 'trout',\n",
       " 4367: 'french dressing',\n",
       " 2016: 'dill seed',\n",
       " 9063: 'sour cherry',\n",
       " 19230: 'vanilla frosting',\n",
       " 17000: 'rib roast',\n",
       " 6032: 'beef consomme',\n",
       " 11119: 'chinese cabbage',\n",
       " 9036: 'apricot nectar',\n",
       " 11987: 'oyster mushroom',\n",
       " 6121: 'gravy',\n",
       " 1284: 'lowfat yogurt',\n",
       " 14218: 'coffee powder',\n",
       " 13974: 'beef chuck roast',\n",
       " 23372: 'beef tenderloin steak fillet',\n",
       " 19091: 'peppermint candy',\n",
       " 4639: 'ranch salad dressing',\n",
       " 10149: 'ham steak',\n",
       " 4602: 'butter',\n",
       " 18280: 'corn muffin mix',\n",
       " 11024: 'bitter',\n",
       " 16118: 'soy flour',\n",
       " 9412: 'bartlett pear',\n",
       " 7910: 'bratwurst',\n",
       " 9351: 'fruit cocktail',\n",
       " 1267: 'cotija',\n",
       " 15038: 'halibut',\n",
       " 19912: 'agave syrup',\n",
       " 9286: 'pomegranate',\n",
       " 19279: 'coffee bean',\n",
       " 3046: 'cheese ravioli',\n",
       " 6053: 'cream of potato soup',\n",
       " 15101: 'snapper',\n",
       " 14073: 'cola',\n",
       " 17078: 'lamb chop',\n",
       " 14242: 'cranberry juice cocktail',\n",
       " 14211: 'black tea',\n",
       " 9503: 'gala apple',\n",
       " 18268: 'toast',\n",
       " 12016: 'pepita',\n",
       " 44074: 'grape juice',\n",
       " 17180: 'rabbit',\n",
       " 11900: 'white corn',\n",
       " 19364: 'topping',\n",
       " 18044: 'pumpernickel bread',\n",
       " 7927: 'italian turkey sausage',\n",
       " 19093: 'milk chocolate candy bar',\n",
       " 11530: 'ripe tomato',\n",
       " 6633: 'sriracha',\n",
       " 18005: 'bagel',\n",
       " 18022: 'cornbread mix',\n",
       " 35136: 'white cornmeal',\n",
       " 28339: 'grain bread',\n",
       " 6981: 'bouillon',\n",
       " 48052: 'vital wheat gluten',\n",
       " 10207: 'pork rib',\n",
       " 11450: 'soybean',\n",
       " 21416: 'coleslaw',\n",
       " 25017: 'chocolate bar',\n",
       " 42153: 'blue cheese dressing',\n",
       " 36024: 'chicken tenderloin',\n",
       " 32002: 'rice',\n",
       " 43134: 'fillet',\n",
       " 19300: 'jelly',\n",
       " 20083: 'white bread flour',\n",
       " 14270: 'coffee creamer',\n",
       " 20031: 'millet',\n",
       " 19226: 'chocolate frosting',\n",
       " 16114: 'tempeh',\n",
       " 32021: 'rice blend',\n",
       " 14157: 'root beer',\n",
       " 7944: 'deli turkey',\n",
       " 7915: 'chicken sausage',\n",
       " 1029: 'part-skim mozzarella cheese',\n",
       " 11253: 'green lettuce',\n",
       " 11240: 'morel',\n",
       " 11213: 'endive',\n",
       " 9504: 'fuji apple',\n",
       " 1175: 'fat milk',\n",
       " 15012: 'caviar',\n",
       " 17353: 'lean lamb',\n",
       " 1226: 'liquid egg substitute',\n",
       " 27066: 'horseradish sauce',\n",
       " 20450: 'raw rice',\n",
       " 14260: 'green tea',\n",
       " 23607: 'new york strip steak',\n",
       " 6151: 'plum sauce',\n",
       " 5327: 'chicken breast tender',\n",
       " 14067: 'protein powder',\n",
       " 32016: 'macaroni noodle',\n",
       " 4684: 'soft margarine',\n",
       " 11696: 'yellow tomato',\n",
       " 17425: 'cutlet',\n",
       " 10036: 'centercut pork chop',\n",
       " 43026: 'sugar syrup',\n",
       " 7074: 'sausage link',\n",
       " 14160: 'chardonnay',\n",
       " 27050: 'sour sauce',\n",
       " 9404: 'pink grapefruit',\n",
       " 20030: 'white hominy',\n",
       " 43392: 'heart of palm',\n",
       " 18157: 'chocolate wafer',\n",
       " 20135: 'wheat',\n",
       " 18239: 'croissant',\n",
       " 7059: 'polish sausage',\n",
       " 8144: 'wheat cereal',\n",
       " 13407: 'cube steak',\n",
       " 9413: 'anjou pear',\n",
       " 15091: 'sea bass',\n",
       " 20136: 'wheat',\n",
       " 14034: 'creme de menthe',\n",
       " 1188: 'whiz',\n",
       " 8444: 'country ham',\n",
       " 18567: 'chicken stove stuffing mix',\n",
       " 1225: 'dulce de leche',\n",
       " 4645: 'frying oil',\n",
       " 5157: 'quail',\n",
       " 19097: 'sherbet',\n",
       " 9149: 'kumquat',\n",
       " 19129: 'pancake syrup',\n",
       " 4016: 'sesame dressing',\n",
       " 18349: 'french roll',\n",
       " 9215: 'orange water',\n",
       " 7914: 'italian sausage link',\n",
       " 6432: 'consomme',\n",
       " 21238: 'french fry',\n",
       " 4594: 'sardine',\n",
       " 18017: 'biscuit dough',\n",
       " 43112: 'ranch style bean',\n",
       " 16125: 'vegetable protein',\n",
       " 12119: 'coconut water',\n",
       " 14132: 'riesling',\n",
       " 15033: 'haddock',\n",
       " 23181: 'back rib',\n",
       " 35192: 'agave',\n",
       " 9508: 'fruit juice',\n",
       " 19110: 'chocolate candy bar',\n",
       " 14613: 'passion fruit juice',\n",
       " 11984: 'epazote',\n",
       " 5284: 'turkey broth',\n",
       " 11141: 'celeriac',\n",
       " 13926: 'filet mignon',\n",
       " 14602: 'merlot',\n",
       " 14411: 'tap water',\n",
       " 9251: 'peach nectar',\n",
       " 7071: 'hard salami',\n",
       " 19332: 'lemon pudding mix',\n",
       " 14252: 'liquor',\n",
       " 28346: 'waffle',\n",
       " 9340: 'asian pear',\n",
       " 20648: 'sorghum flour',\n",
       " 18205: 'sugar cookie dough',\n",
       " 9433: 'clementine',\n",
       " 18614: 'fudge brownie mix',\n",
       " 7043: 'deli roast beef',\n",
       " 13335: 'suet',\n",
       " 16123: 'shoyu',\n",
       " 1162: 'fat greek yogurt',\n",
       " 14097: 'cabernet sauvignon wine',\n",
       " 19340: 'maple sugar',\n",
       " 11149: 'chayote',\n",
       " 21293: 'pizza cheese',\n",
       " 27049: 'tartar sauce',\n",
       " 6930: 'cheese sauce',\n",
       " 43299: 'cheese curd',\n",
       " 11239: 'chanterelle',\n",
       " 10006: 'pork fat',\n",
       " 43154: 'cooking wine',\n",
       " 19104: 'fudge',\n",
       " 18232: 'wheat cracker',\n",
       " 44158: 'filling',\n",
       " 13498: 'hamburger meat',\n",
       " 7908: 'spam',\n",
       " 36003: 'kraft macaroni',\n",
       " 15083: 'pink salmon',\n",
       " 19106: 'gumdrop',\n",
       " 21209: 'black',\n",
       " 36031: 'onion ring',\n",
       " 43344: 'preserve',\n",
       " 12154: 'black walnut',\n",
       " 5165: 'turkey meat',\n",
       " 19905: 'cacao',\n",
       " 25026: 'butter flavor',\n",
       " 19166: 'dutch cocoa',\n",
       " 13227: 'beef shank',\n",
       " 7950: 'frankfurter',\n",
       " 4648: 'flavoring',\n",
       " 11170: 'brine',\n",
       " 9436: 'mango nectar',\n",
       " 11873: 'salt water',\n",
       " 6622: 'masala',\n",
       " 17278: 'veal shank',\n",
       " 1007: 'camembert cheese',\n",
       " 8484: 'raisin bran cereal',\n",
       " 9296: 'quince',\n",
       " 18234: 'butter cracker',\n",
       " 90480: 'cane syrup',\n",
       " 16095: 'raw peanut',\n",
       " 12078: 'brazil nut',\n",
       " 7011: 'bologna',\n",
       " 9057: 'boysenberry',\n",
       " 10040: 'center pork chop',\n",
       " 18228: 'cracker',\n",
       " 7050: 'mortadella',\n",
       " 1047: 'cheese food',\n",
       " 23063: 'london broil beef',\n",
       " 13383: 'pot roast',\n",
       " 27059: 'peanut sauce',\n",
       " 5016: 'batter',\n",
       " 11413: 'potato flour',\n",
       " 16130: 'okara',\n",
       " 18133: 'sponge cake',\n",
       " 18952: 'tostada',\n",
       " 22962: 'lean ham',\n",
       " 14605: 'mineral water',\n",
       " 16080: 'mung bean',\n",
       " 1285: 'nonfat strawberry yogurt',\n",
       " 16082: 'mung bean noodle',\n",
       " 11655: 'carrot juice',\n",
       " 16008: 'frank',\n",
       " 20131: 'barley',\n",
       " 8210: 'quaker oat',\n",
       " 2066: 'spearmint',\n",
       " 4673: 'flax oil',\n",
       " 11568: 'turnip green',\n",
       " 6126: 'turkey gravy',\n",
       " 35054: 'octopu',\n",
       " 18619: 'oreo cookie crumb',\n",
       " 1265: 'fat cheddar cheese',\n",
       " 16258: 'key lime',\n",
       " 19169: 'custard',\n",
       " 6142: 'sofrito sauce',\n",
       " 4583: 'mustard oil',\n",
       " 16235: 'plain soymilk',\n",
       " 8121: 'quick oatmeal',\n",
       " 9140: 'guava',\n",
       " 28307: 'naan',\n",
       " 10080: 'pork steak',\n",
       " 25037: 'pita chip',\n",
       " 21525: 'breadstick',\n",
       " 23572: 'lean hamburger',\n",
       " 15002: 'anchovy in oil',\n",
       " 31027: 'yellow potato',\n",
       " 16171: 'vegetarian bean',\n",
       " 20082: 'self-rising flour',\n",
       " 19075: 'candy bar',\n",
       " 21401: 'chicken strip',\n",
       " 15051: 'mackerel',\n",
       " 7052: 'pastrami',\n",
       " 5015: 'fryer',\n",
       " 43352: 'lowfat cheese',\n",
       " 1312: 'lemon yogurt',\n",
       " 15028: 'flounder',\n",
       " 11989: 'straw mushroom',\n",
       " 14197: 'cocoa mix',\n",
       " 1303: 'half',\n",
       " 19710: 'vanilla oil',\n",
       " 17461: 'lamb rib chop',\n",
       " 23409: 'beef eye',\n",
       " 6166: 'white sauce',\n",
       " 7040: 'liver',\n",
       " 33881: 'grain rice',\n",
       " 4529: 'almond oil',\n",
       " 11241: 'kohlrabi',\n",
       " 7934: 'kielbasa',\n",
       " 9265: 'persimmon',\n",
       " 22899: 'ravioli',\n",
       " 6120: 'chicken gravy',\n",
       " 7942: 'truffle',\n",
       " 19155: 'snickers candy bar',\n",
       " 16257: 'soy yogurt',\n",
       " 6338: \"campbell's cream of mushroom soup\",\n",
       " 42281: 'guar gum',\n",
       " 20010: 'buckwheat groat',\n",
       " 11950: 'enoki mushroom',\n",
       " 14063: 'chocolate powder',\n",
       " 4015: 'dressing',\n",
       " 18151: 'brownie',\n",
       " 16091: 'spanish peanut',\n",
       " 15126: 'solid white tuna',\n",
       " 5318: 'duck leg',\n",
       " 13325: 'beef liver',\n",
       " 4128: 'margarine',\n",
       " 9507: 'mango juice',\n",
       " 11669: 'wakame',\n",
       " 5193: 'turkey leg',\n",
       " 4542: 'chicken fat',\n",
       " 21244: 'chicken fillet',\n",
       " 15010: 'catfish',\n",
       " 11104: 'burdock root',\n",
       " 36055: 'italian cheese',\n",
       " 28305: 'pancake',\n",
       " 11207: 'dandelion green',\n",
       " 1192: 'velveeta fat cheese product',\n",
       " 12012: 'hemp seed',\n",
       " 1072: 'dessert topping',\n",
       " 18218: 'matzo',\n",
       " 6377: \"campbell's tomato soup\",\n",
       " 19069: 'butterfinger candy bar',\n",
       " 11118: 'kimchi',\n",
       " 35144: 'dumpling',\n",
       " 9038: 'california avocado',\n",
       " 4668: 'soy margarine',\n",
       " 19246: 'white frosting',\n",
       " 23342: 'filet mignon steak',\n",
       " 8106: 'cream of wheat',\n",
       " 15110: 'swordfish',\n",
       " 18414: 'raisin bread',\n",
       " 7278: 'turkey pepperoni',\n",
       " 16147: 'veggie',\n",
       " 15124: 'tuna in oil',\n",
       " 9164: 'lychee',\n",
       " 19920: 'fruit',\n",
       " 5282: 'foie gra',\n",
       " 14253: 'rose wine',\n",
       " 11095: 'broccoli spear',\n",
       " 10963: 'sirloin tip roast',\n",
       " 14099: 'pinot noir wine',\n",
       " 25001: 'microwave popcorn',\n",
       " 17202: 'calf liver',\n",
       " 22975: 'white chicken meat',\n",
       " 16001: 'adzuki bean',\n",
       " 17160: 'buffalo meat',\n",
       " 7236: 'little smokies sausage',\n",
       " 18027: 'egg bread',\n",
       " 16022: 'french bean',\n",
       " 16101: 'pigeon pea',\n",
       " 18226: 'wafer',\n",
       " 18196: 'sugar cookie mix',\n",
       " 15117: 'tuna fish',\n",
       " 4581: 'avocado oil',\n",
       " 32011: 'yellow rice',\n",
       " 14016: 'vanilla almond milk',\n",
       " 21524: 'wrap',\n",
       " 20054: 'glutinous rice',\n",
       " 5150: 'goose',\n",
       " 9304: 'raspberry syrup',\n",
       " 13464: 'steak',\n",
       " 1229: 'white cheese',\n",
       " 20655: 'quinoa flour',\n",
       " 18320: 'meringue',\n",
       " 5153: 'pheasant',\n",
       " 9317: 'strawberry syrup',\n",
       " 1014: 'nonfat cottage cheese',\n",
       " 20647: 'millet flour',\n",
       " 20044: 'long-grain white rice',\n",
       " 5227: 'turkey wing',\n",
       " 35141: 'mutton',\n",
       " 32024: 'cheese mix',\n",
       " 17427: 'veal chop',\n",
       " 17383: 'shoulder lamb chop',\n",
       " 6075: 'beef bouillon powder',\n",
       " 43408: 'pear juice',\n",
       " 14134: 'sauvignon blanc wine',\n",
       " 19879: 'mint chocolate chip',\n",
       " 23059: 'iron steak',\n",
       " 15143: 'dungeness crab',\n",
       " 16040: 'pink bean',\n",
       " 17125: 'veal shoulder',\n",
       " 16019: 'cranberry bean',\n",
       " 19090: 'french vanilla ice cream',\n",
       " 7956: 'beef sausage',\n",
       " 18633: 'pillsbury grands buttermilk biscuit',\n",
       " ...}"
      ]
     },
     "execution_count": 22,
     "metadata": {},
     "output_type": "execute_result"
    }
   ],
   "source": [
    "representative_keys"
   ]
  },
  {
   "cell_type": "markdown",
   "metadata": {},
   "source": [
    "> What are the collisions on representatives ?"
   ]
  },
  {
   "cell_type": "code",
   "execution_count": 23,
   "metadata": {},
   "outputs": [
    {
     "name": "stdout",
     "output_type": "stream",
     "text": [
      "Representative term :  butter  ( 3  times)\n",
      "\tusda food item :  1145\n",
      "\t\tingredient :  butter\n",
      "\n",
      "\n",
      "\tusda food item :  12195\n",
      "\t\tingredient :  almond butter\n",
      "\t\tingredient :  nut butter\n",
      "\n",
      "\n",
      "\tusda food item :  4602\n",
      "\t\tingredient :  stick butter\n",
      "\t\tingredient :  sticks butter\n",
      "\n",
      "\n",
      "\n",
      "\n",
      "Representative term :  water  ( 3  times)\n",
      "\tusda food item :  14555\n",
      "\t\tingredient :  water\n",
      "\n",
      "\n",
      "\tusda food item :  14075\n",
      "\t\tingredient :  sparkling water\n",
      "\t\tingredient :  water \n",
      "\n",
      "\n",
      "\tusda food item :  14155\n",
      "\t\tingredient :  soda water\n",
      "\t\tingredient :  tonic water\n",
      "\n",
      "\n",
      "\n",
      "\n",
      "Representative term :  rice  ( 3  times)\n",
      "\tusda food item :  25071\n",
      "\t\tingredient :  rice\n",
      "\t\tingredient :  rice cracker\n",
      "\n",
      "\n",
      "\tusda food item :  20452\n",
      "\t\tingredient :  white rice\n",
      "\t\tingredient :  short-grain rice\n",
      "\n",
      "\n",
      "\tusda food item :  32002\n",
      "\t\tingredient :  rice vermicelli\n",
      "\t\tingredient :  rice pilaf mix\n",
      "\n",
      "\n",
      "\n",
      "\n",
      "Representative term :  steak  ( 3  times)\n",
      "\tusda food item :  13000\n",
      "\t\tingredient :  lean beef\n",
      "\t\tingredient :  beef steak\n",
      "\t\tingredient :  strip steak\n",
      "\t\tingredient :  lean steak\n",
      "\n",
      "\n",
      "\tusda food item :  32031\n",
      "\t\tingredient :  steak\n",
      "\n",
      "\n",
      "\tusda food item :  13464\n",
      "\t\tingredient :  porterhouse steak\n",
      "\t\tingredient :  beef loin steak\n",
      "\n",
      "\n",
      "\n",
      "\n",
      "Representative term :  fruit  ( 3  times)\n",
      "\tusda food item :  19018\n",
      "\t\tingredient :  fruit\n",
      "\n",
      "\n",
      "\tusda food item :  19920\n",
      "\t\tingredient :  fruit preserve\n",
      "\t\tingredient :  fruit jam\n",
      "\n",
      "\n",
      "\tusda food item :  19013\n",
      "\t\tingredient :  fruit snack\n",
      "\t\tingredient :  fruit leather\n",
      "\n",
      "\n",
      "\n",
      "\n",
      "Representative term :  wheat  ( 3  times)\n",
      "\tusda food item :  20087\n",
      "\t\tingredient :  wheat\n",
      "\n",
      "\n",
      "\tusda food item :  20135\n",
      "\t\tingredient :  wheat spaghetti\n",
      "\t\tingredient :  wheat pasta\n",
      "\t\tingredient :  wheat elbow macaroni\n",
      "\t\tingredient :  wheat rotini\n",
      "\n",
      "\n",
      "\tusda food item :  20136\n",
      "\t\tingredient :  wheat penne\n",
      "\t\tingredient :  wheat macaroni\n",
      "\t\tingredient :  wheat pasta shell\n",
      "\n",
      "\n",
      "\n",
      "\n",
      "Representative term :  flour  ( 2  times)\n",
      "\tusda food item :  20063\n",
      "\t\tingredient :  flour\n",
      "\n",
      "\n",
      "\tusda food item :  20084\n",
      "\t\tingredient :  cake flour\n",
      "\t\tingredient :  white wheat flour\n",
      "\n",
      "\n",
      "\n",
      "\n",
      "Representative term :  oil  ( 2  times)\n",
      "\tusda food item :  4532\n",
      "\t\tingredient :  oil\n",
      "\t\tingredient :  hazelnut oil\n",
      "\n",
      "\n",
      "\tusda food item :  42289\n",
      "\t\tingredient :  canola oil\n",
      "\t\tingredient :  corn oil\n",
      "\n",
      "\n",
      "\n",
      "\n",
      "Representative term :  mayonnaise  ( 2  times)\n",
      "\tusda food item :  43598\n",
      "\t\tingredient :  mayonnaise\n",
      "\n",
      "\n",
      "\tusda food item :  4708\n",
      "\t\tingredient :  olive oil mayonnaise\n",
      "\t\tingredient :  fat mayonnaise\n",
      "\n",
      "\n",
      "\n",
      "\n",
      "Representative term :  mushroom  ( 2  times)\n",
      "\tusda food item :  11993\n",
      "\t\tingredient :  mushroom\n",
      "\t\tingredient :  maitake mushroom\n",
      "\t\tingredient :  raw mushroom\n",
      "\n",
      "\n",
      "\tusda food item :  11265\n",
      "\t\tingredient :  portabella mushroom\n",
      "\t\tingredient :  portabello mushroom\n",
      "\n",
      "\n",
      "\n",
      "\n"
     ]
    }
   ],
   "source": [
    "collisions_repr = dict()\n",
    "\n",
    "for repr_id in representative_keys :\n",
    "    repr_name = representative_keys[repr_id]\n",
    "    \n",
    "    if repr_name in collisions_repr.keys() :\n",
    "        collisions_repr[repr_name] += [repr_id]\n",
    "    else :\n",
    "        collisions_repr[repr_name] = [repr_id]\n",
    "        \n",
    "\n",
    "con = collections.Counter()\n",
    "con.update([representative_keys[x] for x in representative_keys])\n",
    "\n",
    "for c in con.most_common()[:10] :\n",
    "    print(\"Representative term : \", c[0], \" (\", c[1], \" times)\")\n",
    "    matching_keys = []\n",
    "    for key in representative_keys :\n",
    "        if representative_keys[key]== c[0] :\n",
    "            print(\"\\tusda food item : \", str(key))\n",
    "            \n",
    "            for ing in collisions[key] :\n",
    "                print(\"\\t\\tingredient : \", ing)\n",
    "            print(\"\\n\")\n",
    "            \n",
    "    print(\"\\n\")"
   ]
  },
  {
   "cell_type": "markdown",
   "metadata": {},
   "source": [
    "> We see that collisions on representative are accurate as well"
   ]
  },
  {
   "cell_type": "markdown",
   "metadata": {},
   "source": [
    "## 4. Embeddings"
   ]
  },
  {
   "cell_type": "markdown",
   "metadata": {},
   "source": [
    ">We got inspriration from the famous John Firth's quote, namely \"you shall know a word by the company it keeps\". This intuition seems valid when applied to ingredients, thus we decided to map the ingredients associations problem on the words associations one. We used a famous word embeddings library based on word2Vec to build our ingredients embeddings, considering each ingredient representation as a word, and each recipe as a sentence."
   ]
  },
  {
   "cell_type": "code",
   "execution_count": 24,
   "metadata": {},
   "outputs": [],
   "source": [
    "# Trained model that is used to compute the similirity between two ingredients\n",
    "food_embeddings = models.Word2Vec.load('../generated/food_embeddings.bin')"
   ]
  },
  {
   "cell_type": "code",
   "execution_count": 25,
   "metadata": {},
   "outputs": [
    {
     "name": "stderr",
     "output_type": "stream",
     "text": [
      "/home/luke/anaconda3/lib/python3.6/site-packages/gensim/matutils.py:737: FutureWarning: Conversion of the second argument of issubdtype from `int` to `np.signedinteger` is deprecated. In future, it will be treated as `np.int64 == np.dtype(int).type`.\n",
      "  if np.issubdtype(vec.dtype, np.int):\n"
     ]
    },
    {
     "data": {
      "text/plain": [
       "[('iceberg lettuce', 0.8824388384819031),\n",
       " ('romaine lettuce', 0.8092721700668335),\n",
       " ('green lettuce', 0.7680988311767578),\n",
       " ('salad green', 0.7646308541297913),\n",
       " ('green', 0.6246930360794067),\n",
       " ('salad dressing', 0.6189268231391907),\n",
       " ('cucumber', 0.5564990043640137),\n",
       " ('coleslaw', 0.5390306711196899),\n",
       " ('radish', 0.5378662943840027),\n",
       " ('avocado', 0.5250253677368164)]"
      ]
     },
     "execution_count": 25,
     "metadata": {},
     "output_type": "execute_result"
    }
   ],
   "source": [
    "food_embeddings.wv.most_similar('lettuce')"
   ]
  },
  {
   "cell_type": "markdown",
   "metadata": {},
   "source": [
    ">In this example, we see that the similarity is much higher. The first recommendations are indeed substitute of salads, but are not a very interesting swap to make in a recipe. Therefore, for our recommender algorithm, we chose not to consider substitute that have the same representative, to obtain more interesting swaps. After that, we see that the algorithm suggest swapping salad for salad dressing. Here, the reason is that the algorithm is biased by the omnipresence of dressing in a lot of salad recipes, and the algorithm sometimes considers ingredients that are often associated with the ingredient to swap"
   ]
  },
  {
   "cell_type": "markdown",
   "metadata": {},
   "source": [
    "## 5. Recommender"
   ]
  },
  {
   "cell_type": "markdown",
   "metadata": {},
   "source": [
    "> This section shows the result and a light implementation of the recommender described in our [report](). Its implementation can be consulted in more detailed in [recommender.py](../python/recommender.py). The word embedding model is trained and generated in the  [Food_Embeddings.ipnyb](/Food_Embeddings.ipnyb) notebook."
   ]
  },
  {
   "cell_type": "markdown",
   "metadata": {},
   "source": [
    "#### 5.1 Scripts"
   ]
  },
  {
   "cell_type": "code",
   "execution_count": 26,
   "metadata": {},
   "outputs": [],
   "source": [
    "# Returns the score of an potential swap, taking into account the similarity and the health score\n",
    "def health_similarity_score(similarity, health) :\n",
    "    if health <= 7 :\n",
    "        return similarity\n",
    "    else :\n",
    "        return (similarity**2 / health) \n",
    "        \n",
    "# Find a swap for a given ingredient, similarity has to be superior than 0.45\n",
    "def find_swaps(ing_id, threshold=0.45, nb=1) : \n",
    "    \n",
    "    # Find the representative of the given ingredient\n",
    "    try :        \n",
    "        ing_ref = id_repr[str(ing_id)] \n",
    "        \n",
    "    except KeyError:\n",
    "        print(\"The ingredient with id\", ing_id, \"has never been seen before\")  \n",
    "        return None\n",
    "    \n",
    "    # Find the 50 most similar ingredients\n",
    "    closest_refs = food_embeddings.wv.most_similar(ing_ref, topn=50)\n",
    "    \n",
    "    to_consider = []\n",
    "    \n",
    "    closest_refs_and_contains = list(filter(lambda x : (ing_ref     in x[0]) and (x[1] >= threshold), closest_refs))\n",
    "    closest_refs_not_contains = list(filter(lambda x : (ing_ref not in x[0]) and (x[1] >= threshold), closest_refs))\n",
    "    \n",
    "    if len(closest_refs_not_contains) == 0 :\n",
    "        to_consider = closest_refs_and_contains\n",
    "    else :\n",
    "        to_consider = closest_refs_not_contains\n",
    "        \n",
    "    if len(to_consider) == 0 :\n",
    "        return None\n",
    "    \n",
    "    else :\n",
    "        entries = []\n",
    "        fat, sat_fat, sugar, salt, energy = ch.compute_profile([(100.0, ing_id)], nutrients_mapping)\n",
    "        base_score = ch.score(fat, sat_fat, sugar, salt, energy)['total']\n",
    "        for ref in to_consider :\n",
    "            \n",
    "            best_id = -1\n",
    "            best_score = np.inf\n",
    "            \n",
    "            for collided_id in repr_ids[ref[0]] :\n",
    "                fat, sat_fat, sugar, salt, energy = ch.compute_profile([(100.0, collided_id)], nutrients_mapping)\n",
    "\n",
    "                score = ch.score(fat, sat_fat, sugar, salt, energy)['total']\n",
    "\n",
    "                if score < best_score :\n",
    "                    best_id = collided_id\n",
    "                    best_score = score\n",
    "            \n",
    "            \n",
    "            if (score < base_score) :\n",
    "                entries.append((ref[0], ref[1], score))\n",
    "        if len(entries) == 0 :\n",
    "            return None\n",
    "        else:\n",
    "            return sorted(entries, key=lambda x : health_similarity_score(x[1], x[2]), reverse=True)[:nb]\n",
    "        \n",
    "\n",
    "# Apply the find_swaps function ofn every ingredient and determine which swap is the most interesting\n",
    "def find_swapping(recipe) :\n",
    "    swappings = []\n",
    "    \n",
    "    # Map every ingredients of a recipe to their USDA id and convert their quantities into grams\n",
    "    recipe_info = ch.map_one_recipe_usda(recipe, mapping_usda_id, convert_gr, unit_quantities)\n",
    "    if recipe_info is None :\n",
    "        print(\"No swapping found\")\n",
    "    # Compute the score before any swaps.\n",
    "    fat, sat_fat, sugar, salt, energy = ch.compute_profile(recipe_info, nutrients_mapping)\n",
    "    old_score = ch.score(fat, sat_fat, sugar, salt, energy)['total']\n",
    "    best_score = -1\n",
    "    best_h_score = 99999\n",
    "    best_swap = (None, None) \n",
    "    \n",
    "    # Apply the swaps and keep the best score\n",
    "    for e, (quant, ingr) in enumerate(recipe_info) :\n",
    "        swap = find_swaps(ingr)\n",
    "\n",
    "        if swap is not None :\n",
    "            swap = swap[0]\n",
    "            recipe_copy = [i for i in recipe_info]\n",
    "            recipe_copy[e] = (recipe_copy[e][0],mapping_usda_id[swap[0]])\n",
    "            fat, sat_fat, sugar, salt, energy = ch.compute_profile(recipe_copy, nutrients_mapping)\n",
    "            h_score = ch.score(fat, sat_fat, sugar, salt, energy)['total']\n",
    "            score = health_similarity_score(swap[1], h_score)\n",
    "            \n",
    "            if score > best_score :\n",
    "                best_h_score = h_score\n",
    "                best_score = score\n",
    "                best_swap = (recipe[e][2], swap[0])\n",
    "                \n",
    "    new_score = best_h_score\n",
    "    print('your recipe is',\"{:.2f}\".format((1-new_score/old_score)*100),'% healthier if you replace',best_swap[0],'with',best_swap[1])\n",
    "    return best_swap\n",
    "    "
   ]
  },
  {
   "cell_type": "markdown",
   "metadata": {},
   "source": [
    "> Our procedure compute for each ingredient of a recipe the best swap available. It takes into account the healthiness that would be gained through the changement and the similarity of the ingredients we want to swap.\n"
   ]
  },
  {
   "cell_type": "markdown",
   "metadata": {},
   "source": [
    "#### 5.2 Recommender applied on specific recipes"
   ]
  },
  {
   "cell_type": "markdown",
   "metadata": {},
   "source": [
    "> To show our results, we chose 2 recipes on which we are going to apply our recommender to see its efficiency."
   ]
  },
  {
   "cell_type": "code",
   "execution_count": 27,
   "metadata": {},
   "outputs": [],
   "source": [
    "baking_recipe = ['384.0 g flour',\n",
    "            '256.0 g turbinado sugar',\n",
    "           '2.1 g cinnamon',\n",
    "           '2.1 g clove',\n",
    "           '2.1 g nutmeg',\n",
    "           '96.0 g butter',\n",
    "           '256.0 g buttermilk',\n",
    "           '4.2 g baking soda',\n",
    "           '128.0 g raisin',\n",
    "           '128.0 g pistachio nut']\n",
    "\n",
    "marmiton_top1 = ['1 kg veal',\n",
    "                 '1 tsp chicken broth',\n",
    "                 '2 carrots',\n",
    "                 '1 onion',\n",
    "                 '1 cup mushroom',\n",
    "                 '1 cup cream',\n",
    "                 '1 lemon',\n",
    "                 '1 egg yolk',\n",
    "                 '1 cup flour',\n",
    "                 '1/4 kg white wine',\n",
    "                 '2.5 g kosher salt',\n",
    "                 '2.5 g pepper']\n",
    "\n",
    "baking_recipe = [one_m.extract_quantity_from_raw(ingr) for ingr in baking_recipe]\n",
    "baking_recipe = [[i[0],i[1],i[2]] for i in baking_recipe]\n",
    "\n",
    "marmiton_top1 = [one_m.extract_quantity_from_raw(ingr) for ingr in marmiton_top1]\n",
    "marmiton_top1 = [[i[0],i[1],i[2]] for i in marmiton_top1]"
   ]
  },
  {
   "cell_type": "markdown",
   "metadata": {},
   "source": [
    "> Baking recipes contain often a lot a fat (through ingredients like butter) and a lot of sugar. We test our recommender on a bakery recipe from our dataset too see if we can make it lighter."
   ]
  },
  {
   "cell_type": "code",
   "execution_count": 28,
   "metadata": {},
   "outputs": [
    {
     "name": "stdout",
     "output_type": "stream",
     "text": [
      "your recipe is 23.04 % healthier if you replace butter with margarine\n"
     ]
    },
    {
     "data": {
      "text/plain": [
       "('butter', 'margarine')"
      ]
     },
     "execution_count": 28,
     "metadata": {},
     "output_type": "execute_result"
    }
   ],
   "source": [
    "rc.find_swapping(baking_recipe)"
   ]
  },
  {
   "cell_type": "markdown",
   "metadata": {},
   "source": [
    "> Let's test our recommender on the meal that is ranked first on the Marmiton website: The blanquette of veal\n"
   ]
  },
  {
   "cell_type": "code",
   "execution_count": 29,
   "metadata": {},
   "outputs": [
    {
     "name": "stdout",
     "output_type": "stream",
     "text": [
      "your recipe is 92.10 % healthier if you replace veal with rabbit\n"
     ]
    },
    {
     "data": {
      "text/plain": [
       "('veal', 'rabbit')"
      ]
     },
     "execution_count": 29,
     "metadata": {},
     "output_type": "execute_result"
    }
   ],
   "source": [
    "rc.find_swapping(marmiton_top1)"
   ]
  },
  {
   "cell_type": "markdown",
   "metadata": {},
   "source": [
    "> This results in an original recipe that we can perfectly imagine to be tasty. Indeed, it appears that other white meats are often used as replacement for the veal in a blanquette.\n",
    "\n",
    "> About the health score: we see that the new recipe is abnormally healthier than it should be. It appear that this is due to false positive during the mapping of some ingredients resulting in ingredients that have different nutrients that they should have"
   ]
  }
 ],
 "metadata": {
  "kernelspec": {
   "display_name": "Python 3",
   "language": "python",
   "name": "python3"
  },
  "language_info": {
   "codemirror_mode": {
    "name": "ipython",
    "version": 3
   },
   "file_extension": ".py",
   "mimetype": "text/x-python",
   "name": "python",
   "nbconvert_exporter": "python",
   "pygments_lexer": "ipython3",
   "version": "3.6.7"
  }
 },
 "nbformat": 4,
 "nbformat_minor": 2
}

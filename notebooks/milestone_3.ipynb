{
 "cells": [
  {
   "cell_type": "markdown",
   "metadata": {},
   "source": [
    "# Healthier tasty recipes recommender system"
   ]
  },
  {
   "cell_type": "code",
   "execution_count": 37,
   "metadata": {
    "collapsed": true
   },
   "outputs": [],
   "source": [
    "# Imports\n",
    "\n",
    "import json\n",
    "import numpy as np\n",
    "import pandas as pd\n",
    "import matplotlib.pyplot as plt"
   ]
  },
  {
   "cell_type": "code",
   "execution_count": 10,
   "metadata": {
    "collapsed": true
   },
   "outputs": [],
   "source": [
    "def print_bold(str):\n",
    "    print('\\033[1m' + str + '\\033[0m')"
   ]
  },
  {
   "cell_type": "markdown",
   "metadata": {},
   "source": [
    "## 1. Preprocessing"
   ]
  },
  {
   "cell_type": "markdown",
   "metadata": {},
   "source": [
    "### 1.1 Look at the raw data"
   ]
  },
  {
   "cell_type": "markdown",
   "metadata": {},
   "source": [
    "#### Recipes from the Kaggle dataset"
   ]
  },
  {
   "cell_type": "code",
   "execution_count": 23,
   "metadata": {},
   "outputs": [
    {
     "name": "stdout",
     "output_type": "stream",
     "text": [
      "The length of the train set before any cleaning is: 39774\n",
      "The length of the train set before any cleaning is: 9944\n",
      "\u001b[1mNumber of recipe in the Kaggle dataset before cleaning: 49718\u001b[0m\n"
     ]
    },
    {
     "data": {
      "text/plain": [
       "{'cuisine': 'greek',\n",
       " 'id': 10259,\n",
       " 'ingredients': ['romaine lettuce',\n",
       "  'black olives',\n",
       "  'grape tomatoes',\n",
       "  'garlic',\n",
       "  'pepper',\n",
       "  'purple onion',\n",
       "  'seasoning',\n",
       "  'garbanzo beans',\n",
       "  'feta cheese crumbles']}"
      ]
     },
     "execution_count": 23,
     "metadata": {},
     "output_type": "execute_result"
    }
   ],
   "source": [
    "# Load raw data\n",
    "kaggle_train_raw = json.load(open('../data/kaggle/train.json'))  \n",
    "kaggle_test_raw = json.load(open('../data/kaggle/test.json'))\n",
    "    \n",
    "print(\"The length of the train set before any cleaning is: \" + str(len(kaggle_train_raw)))\n",
    "print(\"The length of the train set before any cleaning is: \" + str(len(kaggle_test_raw)))\n",
    "print_bold(\"Number of recipe in the Kaggle dataset before cleaning: \" + str(len(kaggle_train_raw) + len(kaggle_test_raw)))\n",
    "\n",
    "kaggle_train_raw[0]"
   ]
  },
  {
   "cell_type": "markdown",
   "metadata": {},
   "source": [
    "#### Recipes from the \"From cookies to cooks\" dataset"
   ]
  },
  {
   "cell_type": "code",
   "execution_count": 24,
   "metadata": {},
   "outputs": [
    {
     "name": "stdout",
     "output_type": "stream",
     "text": [
      "\u001b[1mNumber of recipe in the \"From cookies to cooks\" dataset before cleaning: 64249\u001b[0m\n"
     ]
    },
    {
     "data": {
      "text/plain": [
       "['20f6f98261da097ba0b6fe4ba159b3c1.html\\tbettycrocker.com\\thttp://www.bettycrocker.com/recipes/wild-rice-soup/1ca76b2d-c859-4083-bfdd-9f4549267675\\tWild Rice Soup\\t2 tablespoons butter or margarine|2 medium stalks celery, sliced (1 cup)|1 medium carrot, coarsely shredded (1 cup)|1 medium onion, chopped (1/2 cup)|1 small green bell pepper, chopped (1/2 cup)|3 tablespoons Gold medalÂ® all-purpose flour|1/4 teaspoon pepper|1 pouch (from 10-ounce package) frozen cooked wild rice (1 1/4 cups)|1 cup water|1 can (10 1/2 ounces) condensed chicken broth|1 cup half-and-half|1/3 cup slivered almonds, toasted, if desired|1/4 cup chopped fresh parsley\\n']"
      ]
     },
     "execution_count": 24,
     "metadata": {},
     "output_type": "execute_result"
    }
   ],
   "source": [
    "# Load raw data\n",
    "cookies_to_cook_file = open(\"../data/recipeClean/ingredients.txt\", mode='r', buffering=-1, encoding=\"ISO-8859-1\", errors=None, newline=None, closefd=True, opener=None)\n",
    "cookies_to_cook_raw = cookies_to_cook_file.readlines()\n",
    "\n",
    "print_bold(\"Number of recipe in the \\\"From cookies to cooks\\\" dataset before cleaning: \" + str(len(cookies_to_cook_raw)))\n",
    "\n",
    "cookies_to_cook_raw[:1]"
   ]
  },
  {
   "cell_type": "markdown",
   "metadata": {},
   "source": [
    "#### Recipes from the 1M dataset"
   ]
  },
  {
   "cell_type": "code",
   "execution_count": 27,
   "metadata": {},
   "outputs": [
    {
     "name": "stdout",
     "output_type": "stream",
     "text": [
      "\u001b[1mNumber of recipe in the 1M dataset before cleaning: 1029720\u001b[0m\n"
     ]
    },
    {
     "data": {
      "text/plain": [
       "[{'id': '000018c8a5',\n",
       "  'ingredients': [{'text': '6 ounces penne'},\n",
       "   {'text': '2 cups Beechers Flagship Cheese Sauce (recipe follows)'},\n",
       "   {'text': '1 ounce Cheddar, grated (1/4 cup)'},\n",
       "   {'text': '1 ounce Gruyere cheese, grated (1/4 cup)'},\n",
       "   {'text': '1/4 to 1/2 teaspoon chipotle chili powder (see Note)'},\n",
       "   {'text': '1/4 cup (1/2 stick) unsalted butter'},\n",
       "   {'text': '1/3 cup all-purpose flour'},\n",
       "   {'text': '3 cups milk'},\n",
       "   {'text': '14 ounces semihard cheese (page 23), grated (about 3 1/2 cups)'},\n",
       "   {'text': '2 ounces semisoft cheese (page 23), grated (1/2 cup)'},\n",
       "   {'text': '1/2 teaspoon kosher salt'},\n",
       "   {'text': '1/4 to 1/2 teaspoon chipotle chili powder'},\n",
       "   {'text': '1/8 teaspoon garlic powder'},\n",
       "   {'text': '(makes about 4 cups)'}],\n",
       "  'instructions': [{'text': 'Preheat the oven to 350 F. Butter or oil an 8-inch baking dish.'},\n",
       "   {'text': 'Cook the penne 2 minutes less than package directions.'},\n",
       "   {'text': '(It will finish cooking in the oven.)'},\n",
       "   {'text': 'Rinse the pasta in cold water and set aside.'},\n",
       "   {'text': 'Combine the cooked pasta and the sauce in a medium bowl and mix carefully but thoroughly.'},\n",
       "   {'text': 'Scrape the pasta into the prepared baking dish.'},\n",
       "   {'text': 'Sprinkle the top with the cheeses and then the chili powder.'},\n",
       "   {'text': 'Bake, uncovered, for 20 minutes.'},\n",
       "   {'text': 'Let the mac and cheese sit for 5 minutes before serving.'},\n",
       "   {'text': 'Melt the butter in a heavy-bottomed saucepan over medium heat and whisk in the flour.'},\n",
       "   {'text': 'Continue whisking and cooking for 2 minutes.'},\n",
       "   {'text': 'Slowly add the milk, whisking constantly.'},\n",
       "   {'text': 'Cook until the sauce thickens, about 10 minutes, stirring frequently.'},\n",
       "   {'text': 'Remove from the heat.'},\n",
       "   {'text': 'Add the cheeses, salt, chili powder, and garlic powder.'},\n",
       "   {'text': 'Stir until the cheese is melted and all ingredients are incorporated, about 3 minutes.'},\n",
       "   {'text': 'Use immediately, or refrigerate for up to 3 days.'},\n",
       "   {'text': 'This sauce reheats nicely on the stove in a saucepan over low heat.'},\n",
       "   {'text': 'Stir frequently so the sauce doesnt scorch.'},\n",
       "   {'text': 'This recipe can be assembled before baking and frozen for up to 3 monthsjust be sure to use a freezer-to-oven pan and increase the baking time to 50 minutes.'},\n",
       "   {'text': 'One-half teaspoon of chipotle chili powder makes a spicy mac, so make sure your family and friends can handle it!'},\n",
       "   {'text': 'The proportion of pasta to cheese sauce is crucial to the success of the dish.'},\n",
       "   {'text': 'It will look like a lot of sauce for the pasta, but some of the liquid will be absorbed.'}],\n",
       "  'partition': 'train',\n",
       "  'title': 'Worlds Best Mac and Cheese',\n",
       "  'url': 'http://www.epicurious.com/recipes/food/views/-world-s-best-mac-and-cheese-387747'}]"
      ]
     },
     "execution_count": 27,
     "metadata": {},
     "output_type": "execute_result"
    }
   ],
   "source": [
    "# Load raw data\n",
    "\n",
    "recipes_1m_raw = json.load(open(\"../data/1M/recipe1M_layers/layer1.json\"))    \n",
    "\n",
    "print_bold(\"Number of recipe in the 1M dataset before cleaning: \" + str(len(recipes_1m_raw)))\n",
    "\n",
    "recipes_1m_raw[:1]"
   ]
  },
  {
   "cell_type": "markdown",
   "metadata": {},
   "source": [
    "### 1.2 The cleaning procedure"
   ]
  },
  {
   "cell_type": "markdown",
   "metadata": {},
   "source": [
    "The cleaning procedure allows us to have meaningful ingredient to use but also to standardize the ingredients from each dataset <br>\n",
    "\n",
    "Summary of the procedure: <br>\n",
    "- remove parenthesis and their content\n",
    "- remove a set of special characters\n",
    "- remove dangling letters\n",
    "- remove the digits\n",
    "- remove commas and everything that follow them\n",
    "- remove a set of words considered as garbage (to_remove file)\n",
    "- remove the adjectives (e.g. sliced, seared, ...)\n",
    "- remove the alternative (everything that come after a 'or' is discarded)\n",
    "- split ingredients that contains the word 'and' into two ingredients\n",
    "- singularize every word\n",
    "\n",
    "\n",
    "You can look into this procedure more in-depth either in the clean_recipes_datasets notebook or in the clean_recipes_datasets python script from which we use a few functions accross our scripts."
   ]
  },
  {
   "cell_type": "markdown",
   "metadata": {},
   "source": [
    "### 1.3 Look at the data after cleaning"
   ]
  },
  {
   "cell_type": "markdown",
   "metadata": {},
   "source": [
    "#### Recipes from the Kaggle dataset"
   ]
  },
  {
   "cell_type": "code",
   "execution_count": 31,
   "metadata": {},
   "outputs": [
    {
     "name": "stdout",
     "output_type": "stream",
     "text": [
      "The length of the train set before any cleaning is: 49718\n",
      "\u001b[1mNumber of recipe in the Kaggle dataset before cleaning: 49718\u001b[0m\n"
     ]
    },
    {
     "data": {
      "text/plain": [
       "['romaine lettuce',\n",
       " 'black olife',\n",
       " 'grape tomato',\n",
       " 'garlic',\n",
       " 'pepper',\n",
       " 'purple onion',\n",
       " 'seasoning',\n",
       " 'garbanzo bean',\n",
       " 'feta cheese']"
      ]
     },
     "execution_count": 31,
     "metadata": {},
     "output_type": "execute_result"
    }
   ],
   "source": [
    "kaggle = json.load(open('../generated/clean_kaggle.json'))  \n",
    "    \n",
    "print(\"The length of the train set before any cleaning is: \" + str(len(kaggle)))\n",
    "print_bold(\"Number of recipe in the Kaggle dataset before cleaning: \" + str(len(kaggle)))\n",
    "\n",
    "kaggle[0]"
   ]
  },
  {
   "cell_type": "markdown",
   "metadata": {},
   "source": [
    "> The structure of the JSON is changed to keep only the ingredients. The cleaning procedure has singularized each ingredient."
   ]
  },
  {
   "cell_type": "markdown",
   "metadata": {},
   "source": [
    "#### Recipes from the \"From cookies to cooks\" dataset"
   ]
  },
  {
   "cell_type": "code",
   "execution_count": 32,
   "metadata": {},
   "outputs": [
    {
     "name": "stdout",
     "output_type": "stream",
     "text": [
      "The length of the train set before any cleaning is: 47045\n",
      "\u001b[1mNumber of recipe in the Kaggle dataset before cleaning: 47045\u001b[0m\n"
     ]
    },
    {
     "data": {
      "text/plain": [
       "['butter',\n",
       " 'stalks celery',\n",
       " 'carrot',\n",
       " 'onion',\n",
       " 'green bell pepper',\n",
       " 'gold medalâ® all-purpose flour',\n",
       " 'pepper',\n",
       " 'rice ',\n",
       " 'water',\n",
       " 'chicken broth',\n",
       " 'half-and-half',\n",
       " 'almond',\n",
       " 'parsley']"
      ]
     },
     "execution_count": 32,
     "metadata": {},
     "output_type": "execute_result"
    }
   ],
   "source": [
    "cookies_to_cooks = json.load(open('../generated/clean_cookies.json'))  \n",
    "    \n",
    "print(\"The length of the train set before any cleaning is: \" + str(len(cookies_to_cooks)))\n",
    "print_bold(\"Number of recipe in the Kaggle dataset before cleaning: \" + str(len(cookies_to_cooks)))\n",
    "\n",
    "cookies_to_cooks[0]"
   ]
  },
  {
   "cell_type": "markdown",
   "metadata": {},
   "source": [
    "> This dataset is the one that requires cleaning the most. After cleaning we lost 27% of the recipes"
   ]
  },
  {
   "cell_type": "markdown",
   "metadata": {},
   "source": [
    "#### Recipes from the 1M dataset"
   ]
  },
  {
   "cell_type": "code",
   "execution_count": 33,
   "metadata": {},
   "outputs": [
    {
     "name": "stdout",
     "output_type": "stream",
     "text": [
      "The length of the train set before any cleaning is: 869654\n",
      "\u001b[1mNumber of recipe in the Kaggle dataset before cleaning: 869654\u001b[0m\n"
     ]
    },
    {
     "data": {
      "text/plain": [
       "['elbow macaroni',\n",
       " 'american cheese',\n",
       " 'celery',\n",
       " 'green pepper',\n",
       " 'pimento',\n",
       " 'mayonnaise',\n",
       " 'vinegar',\n",
       " 'salt',\n",
       " 'dill weed']"
      ]
     },
     "execution_count": 33,
     "metadata": {},
     "output_type": "execute_result"
    }
   ],
   "source": [
    "one_m = json.load(open('../generated/clean_1m.json'))  \n",
    "    \n",
    "print(\"The length of the train set before any cleaning is: \" + str(len(one_m)))\n",
    "print_bold(\"Number of recipe in the Kaggle dataset before cleaning: \" + str(len(one_m)))\n",
    "\n",
    "one_m[0]"
   ]
  },
  {
   "cell_type": "markdown",
   "metadata": {},
   "source": [
    "> We lost 15% of the recipes from this dataset during the cleaning procedure"
   ]
  },
  {
   "cell_type": "markdown",
   "metadata": {},
   "source": [
    "## 2. Data analysis"
   ]
  },
  {
   "cell_type": "code",
   "execution_count": 38,
   "metadata": {
    "collapsed": true
   },
   "outputs": [],
   "source": [
    "# We merge our three datasets into one\n",
    "all_recipes = kaggle + cookies_to_cooks + one_m"
   ]
  },
  {
   "cell_type": "markdown",
   "metadata": {},
   "source": [
    "#### 2.1 Number of ingredients per recipe"
   ]
  },
  {
   "cell_type": "code",
   "execution_count": 39,
   "metadata": {},
   "outputs": [
    {
     "name": "stdout",
     "output_type": "stream",
     "text": [
      "The maximum of ingredients in a recipe is: 99\n"
     ]
    },
    {
     "data": {
      "image/png": "[encoded data removed]",
      "text/plain": [
       "<Figure size 432x288 with 1 Axes>"
      ]
     },
     "metadata": {},
     "output_type": "display_data"
    }
   ],
   "source": [
    "counts = list(map(lambda r: len(r),all_recipes))\n",
    "\n",
    "counts = sorted(counts, reverse=True)\n",
    "print('The maximum of ingredients in a recipe is: '+str(counts[0]))\n",
    "\n",
    "plt.hist(counts, bins=100)\n",
    "plt.title('Number of recipes per number of ingredients')\n",
    "plt.xlabel('Number of ingredients')\n",
    "plt.ylabel('Number of recipes')\n",
    "plt.show()"
   ]
  },
  {
   "cell_type": "markdown",
   "metadata": {},
   "source": [
    "#### 2.2 Number of unique ingredients"
   ]
  },
  {
   "cell_type": "code",
   "execution_count": 41,
   "metadata": {},
   "outputs": [
    {
     "name": "stdout",
     "output_type": "stream",
     "text": [
      "There are 38182 different ingredients\n"
     ]
    }
   ],
   "source": [
    "all_ingr = []\n",
    "for r in all_recipes:\n",
    "    for i in r:\n",
    "        all_ingr.append(i)\n",
    "        \n",
    "df_recipe = pd.Series(all_ingr)\n",
    "\n",
    "print('There are ' + str(len(df_recipe.unique())) + ' different ingredients')"
   ]
  },
  {
   "cell_type": "markdown",
   "metadata": {},
   "source": [
    "> This is a huge number of ingredients, even considering our number of recipes. It is likely that a lot of ingredients are in fact some noise that we failed to filter during the parsing. To be sure we need to look at the distribution of the ingredients."
   ]
  },
  {
   "cell_type": "markdown",
   "metadata": {},
   "source": [
    "#### 2.3 Distribution of the ingredients"
   ]
  },
  {
   "cell_type": "code",
   "execution_count": 42,
   "metadata": {},
   "outputs": [
    {
     "data": {
      "image/png": "[encoded data removed]",
      "text/plain": [
       "<Figure size 1080x576 with 1 Axes>"
      ]
     },
     "metadata": {},
     "output_type": "display_data"
    }
   ],
   "source": [
    "count_table = df_recipe.value_counts().to_frame().rename({0:'count'}, axis = 1)\n",
    "ax = count_table['count'].hist(bins=500,figsize=(15, 8))\n",
    "ax.set_yscale('log')\n",
    "ax.set_title('Histogram of the distribution of ingredients')\n",
    "ax.set_ylabel('number of occurences')\n",
    "ax.set_xlabel('ingredients')\n",
    "plt.show()"
   ]
  },
  {
   "cell_type": "code",
   "execution_count": 44,
   "metadata": {},
   "outputs": [
    {
     "data": {
      "image/png": "[encoded data removed]",
      "text/plain": [
       "<Figure size 432x288 with 1 Axes>"
      ]
     },
     "metadata": {},
     "output_type": "display_data"
    }
   ],
   "source": [
    "# Log scale\n",
    "\n",
    "ax = count_table['count'].plot(logy=True)\n",
    "ax.set_xlabel('Ingredients')\n",
    "ax.set_ylabel('Number of occurences')\n",
    "ax.set_title('Ingredients occurences (x_step = 5000)')\n",
    "plt.show()"
   ]
  },
  {
   "cell_type": "markdown",
   "metadata": {},
   "source": [
    "> Indeed, a lot of ingredients appear only a few times and we will not be able to extract some rules from them. Therefore, we decided to only keep the ignredients that appear in more than 15 recipes."
   ]
  },
  {
   "cell_type": "code",
   "execution_count": 46,
   "metadata": {},
   "outputs": [
    {
     "name": "stdout",
     "output_type": "stream",
     "text": [
      "\u001b[1mWe keep 99.13% of the data if we discard ingredients that appear in less than 15 recipes.\u001b[0m\n"
     ]
    }
   ],
   "source": [
    "without_junk = count_table[count_table['count'] > 15]\n",
    "print_bold(\"We keep \"+ str(100*((without_junk['count'].sum()) / count_table.sum())[0])[:5]+\\\n",
    "      \"% of the data if we discard ingredients that appear in less than 15 recipes.\")"
   ]
  },
  {
   "cell_type": "markdown",
   "metadata": {},
   "source": [
    "## 3. USDA Mapping"
   ]
  },
  {
   "cell_type": "code",
   "execution_count": null,
   "metadata": {
    "collapsed": true
   },
   "outputs": [],
   "source": []
  }
 ],
 "metadata": {
  "kernelspec": {
   "display_name": "Python 3",
   "language": "python",
   "name": "python3"
  },
  "language_info": {
   "codemirror_mode": {
    "name": "ipython",
    "version": 3
   },
   "file_extension": ".py",
   "mimetype": "text/x-python",
   "name": "python",
   "nbconvert_exporter": "python",
   "pygments_lexer": "ipython3",
   "version": "3.6.1"
  }
 },
 "nbformat": 4,
 "nbformat_minor": 2
}

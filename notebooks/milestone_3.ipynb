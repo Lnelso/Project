{
 "cells": [
  {
   "cell_type": "markdown",
   "metadata": {},
   "source": [
    "# Healthier tasty recipes recommender system"
   ]
  },
  {
   "cell_type": "markdown",
   "metadata": {},
   "source": [
    "> The following notebook sumarizes the work that have been accomplished during the project and aims to present our results the more concisely possible. Minimal explanations are given regarding the datasets and mapping in order to understand the analysis that has been conducted during the third part of the project.\n",
    "\n",
    "> In each part, we will indicate where one needs to go to get a more in-depth understanding."
   ]
  },
  {
   "cell_type": "code",
   "execution_count": 1,
   "metadata": {},
   "outputs": [
    {
     "name": "stderr",
     "output_type": "stream",
     "text": [
      "/Users/Lionel/anaconda/lib/python3.6/site-packages/h5py/__init__.py:34: FutureWarning: Conversion of the second argument of issubdtype from `float` to `np.floating` is deprecated. In future, it will be treated as `np.float64 == np.dtype(float).type`.\n",
      "  from ._conv import register_converters as _register_converters\n"
     ]
    }
   ],
   "source": [
    "# Imports\n",
    "\n",
    "import sys\n",
    "import json\n",
    "import h5py\n",
    "import tables\n",
    "import inflect\n",
    "import numpy as np\n",
    "import pandas as pd\n",
    "import matplotlib.pyplot as plt\n",
    "\n",
    "from gensim import models\n",
    "\n",
    "# Import our .py scripts\n",
    "\n",
    "sys.path.insert(0, \"/home/luke/Github/Project/python\")\n",
    "sys.path.insert(0, \"../python\")\n",
    "sys.path.insert(1, \"/Users/Lionel/Documents/Ada/Project/python\")\n",
    "\n",
    "import USDA_parsing as usda"
   ]
  },
  {
   "cell_type": "code",
   "execution_count": 2,
   "metadata": {
    "collapsed": true
   },
   "outputs": [],
   "source": [
    "def print_bold(str):\n",
    "    print('\\033[1m' + str + '\\033[0m')"
   ]
  },
  {
   "cell_type": "markdown",
   "metadata": {},
   "source": [
    "## 1. Preprocessing"
   ]
  },
  {
   "cell_type": "markdown",
   "metadata": {},
   "source": [
    "### 1.1 Look at the raw data"
   ]
  },
  {
   "cell_type": "markdown",
   "metadata": {},
   "source": [
    "#### Recipes from the Kaggle dataset"
   ]
  },
  {
   "cell_type": "code",
   "execution_count": 3,
   "metadata": {},
   "outputs": [
    {
     "name": "stdout",
     "output_type": "stream",
     "text": [
      "The length of the train set before any cleaning is: 39774\n",
      "The length of the train set before any cleaning is: 9944\n",
      "\u001b[1mNumber of recipe in the Kaggle dataset before cleaning: 49718\u001b[0m\n"
     ]
    },
    {
     "data": {
      "text/plain": [
       "{'cuisine': 'greek',\n",
       " 'id': 10259,\n",
       " 'ingredients': ['romaine lettuce',\n",
       "  'black olives',\n",
       "  'grape tomatoes',\n",
       "  'garlic',\n",
       "  'pepper',\n",
       "  'purple onion',\n",
       "  'seasoning',\n",
       "  'garbanzo beans',\n",
       "  'feta cheese crumbles']}"
      ]
     },
     "execution_count": 3,
     "metadata": {},
     "output_type": "execute_result"
    }
   ],
   "source": [
    "# Load raw data\n",
    "kaggle_train_raw = json.load(open('../data/kaggle/train.json'))  \n",
    "kaggle_test_raw = json.load(open('../data/kaggle/test.json'))\n",
    "    \n",
    "print(\"The length of the train set before any cleaning is: \" + str(len(kaggle_train_raw)))\n",
    "print(\"The length of the train set before any cleaning is: \" + str(len(kaggle_test_raw)))\n",
    "print_bold(\"Number of recipe in the Kaggle dataset before cleaning: \" + str(len(kaggle_train_raw) + len(kaggle_test_raw)))\n",
    "\n",
    "kaggle_train_raw[0]"
   ]
  },
  {
   "cell_type": "markdown",
   "metadata": {},
   "source": [
    "#### Recipes from the \"From cookies to cooks\" dataset"
   ]
  },
  {
   "cell_type": "code",
   "execution_count": 4,
   "metadata": {},
   "outputs": [
    {
     "name": "stdout",
     "output_type": "stream",
     "text": [
      "\u001b[1mNumber of recipe in the \"From cookies to cooks\" dataset before cleaning: 64249\u001b[0m\n"
     ]
    },
    {
     "data": {
      "text/plain": [
       "['20f6f98261da097ba0b6fe4ba159b3c1.html\\tbettycrocker.com\\thttp://www.bettycrocker.com/recipes/wild-rice-soup/1ca76b2d-c859-4083-bfdd-9f4549267675\\tWild Rice Soup\\t2 tablespoons butter or margarine|2 medium stalks celery, sliced (1 cup)|1 medium carrot, coarsely shredded (1 cup)|1 medium onion, chopped (1/2 cup)|1 small green bell pepper, chopped (1/2 cup)|3 tablespoons Gold medalÂ® all-purpose flour|1/4 teaspoon pepper|1 pouch (from 10-ounce package) frozen cooked wild rice (1 1/4 cups)|1 cup water|1 can (10 1/2 ounces) condensed chicken broth|1 cup half-and-half|1/3 cup slivered almonds, toasted, if desired|1/4 cup chopped fresh parsley\\n']"
      ]
     },
     "execution_count": 4,
     "metadata": {},
     "output_type": "execute_result"
    }
   ],
   "source": [
    "# Load raw data\n",
    "cookies_to_cook_file = open(\"../data/recipeClean/ingredients.txt\", mode='r', buffering=-1, encoding=\"ISO-8859-1\", errors=None, newline=None, closefd=True, opener=None)\n",
    "cookies_to_cook_raw = cookies_to_cook_file.readlines()\n",
    "\n",
    "print_bold(\"Number of recipe in the \\\"From cookies to cooks\\\" dataset before cleaning: \" + str(len(cookies_to_cook_raw)))\n",
    "\n",
    "cookies_to_cook_raw[:1]"
   ]
  },
  {
   "cell_type": "markdown",
   "metadata": {},
   "source": [
    "#### Recipes from the 1M dataset"
   ]
  },
  {
   "cell_type": "code",
   "execution_count": 5,
   "metadata": {},
   "outputs": [
    {
     "name": "stdout",
     "output_type": "stream",
     "text": [
      "\u001b[1mNumber of recipe in the 1M dataset before cleaning: 1029720\u001b[0m\n"
     ]
    },
    {
     "data": {
      "text/plain": [
       "[{'id': '000018c8a5',\n",
       "  'ingredients': [{'text': '6 ounces penne'},\n",
       "   {'text': '2 cups Beechers Flagship Cheese Sauce (recipe follows)'},\n",
       "   {'text': '1 ounce Cheddar, grated (1/4 cup)'},\n",
       "   {'text': '1 ounce Gruyere cheese, grated (1/4 cup)'},\n",
       "   {'text': '1/4 to 1/2 teaspoon chipotle chili powder (see Note)'},\n",
       "   {'text': '1/4 cup (1/2 stick) unsalted butter'},\n",
       "   {'text': '1/3 cup all-purpose flour'},\n",
       "   {'text': '3 cups milk'},\n",
       "   {'text': '14 ounces semihard cheese (page 23), grated (about 3 1/2 cups)'},\n",
       "   {'text': '2 ounces semisoft cheese (page 23), grated (1/2 cup)'},\n",
       "   {'text': '1/2 teaspoon kosher salt'},\n",
       "   {'text': '1/4 to 1/2 teaspoon chipotle chili powder'},\n",
       "   {'text': '1/8 teaspoon garlic powder'},\n",
       "   {'text': '(makes about 4 cups)'}],\n",
       "  'instructions': [{'text': 'Preheat the oven to 350 F. Butter or oil an 8-inch baking dish.'},\n",
       "   {'text': 'Cook the penne 2 minutes less than package directions.'},\n",
       "   {'text': '(It will finish cooking in the oven.)'},\n",
       "   {'text': 'Rinse the pasta in cold water and set aside.'},\n",
       "   {'text': 'Combine the cooked pasta and the sauce in a medium bowl and mix carefully but thoroughly.'},\n",
       "   {'text': 'Scrape the pasta into the prepared baking dish.'},\n",
       "   {'text': 'Sprinkle the top with the cheeses and then the chili powder.'},\n",
       "   {'text': 'Bake, uncovered, for 20 minutes.'},\n",
       "   {'text': 'Let the mac and cheese sit for 5 minutes before serving.'},\n",
       "   {'text': 'Melt the butter in a heavy-bottomed saucepan over medium heat and whisk in the flour.'},\n",
       "   {'text': 'Continue whisking and cooking for 2 minutes.'},\n",
       "   {'text': 'Slowly add the milk, whisking constantly.'},\n",
       "   {'text': 'Cook until the sauce thickens, about 10 minutes, stirring frequently.'},\n",
       "   {'text': 'Remove from the heat.'},\n",
       "   {'text': 'Add the cheeses, salt, chili powder, and garlic powder.'},\n",
       "   {'text': 'Stir until the cheese is melted and all ingredients are incorporated, about 3 minutes.'},\n",
       "   {'text': 'Use immediately, or refrigerate for up to 3 days.'},\n",
       "   {'text': 'This sauce reheats nicely on the stove in a saucepan over low heat.'},\n",
       "   {'text': 'Stir frequently so the sauce doesnt scorch.'},\n",
       "   {'text': 'This recipe can be assembled before baking and frozen for up to 3 monthsjust be sure to use a freezer-to-oven pan and increase the baking time to 50 minutes.'},\n",
       "   {'text': 'One-half teaspoon of chipotle chili powder makes a spicy mac, so make sure your family and friends can handle it!'},\n",
       "   {'text': 'The proportion of pasta to cheese sauce is crucial to the success of the dish.'},\n",
       "   {'text': 'It will look like a lot of sauce for the pasta, but some of the liquid will be absorbed.'}],\n",
       "  'partition': 'train',\n",
       "  'title': 'Worlds Best Mac and Cheese',\n",
       "  'url': 'http://www.epicurious.com/recipes/food/views/-world-s-best-mac-and-cheese-387747'}]"
      ]
     },
     "execution_count": 5,
     "metadata": {},
     "output_type": "execute_result"
    }
   ],
   "source": [
    "# Load raw data\n",
    "\n",
    "recipes_1m_raw = json.load(open(\"../data/1M/recipe1M_layers/layer1.json\"))    \n",
    "\n",
    "print_bold(\"Number of recipe in the 1M dataset before cleaning: \" + str(len(recipes_1m_raw)))\n",
    "\n",
    "recipes_1m_raw[:1]"
   ]
  },
  {
   "cell_type": "markdown",
   "metadata": {},
   "source": [
    "### 1.2 The cleaning procedure"
   ]
  },
  {
   "cell_type": "markdown",
   "metadata": {},
   "source": [
    "The cleaning procedure allows us to have meaningful ingredient to use but also to standardize the ingredients from each dataset <br>\n",
    "\n",
    "Summary of the procedure: <br>\n",
    "- remove parenthesis and their content\n",
    "- remove a set of special characters\n",
    "- remove dangling letters\n",
    "- remove the digits\n",
    "- remove commas and everything that follow them\n",
    "- remove a set of words considered as garbage (to_remove file)\n",
    "- remove the adjectives (e.g. sliced, seared, ...)\n",
    "- remove the alternative (everything that come after a 'or' is discarded)\n",
    "- split ingredients that contains the word 'and' into two ingredients\n",
    "- singularize every word\n",
    "\n",
    "\n",
    "You can look into this procedure more in-depth either in the clean_recipes_datasets notebook or in the clean_recipes_datasets python script from which we use a few functions accross our scripts."
   ]
  },
  {
   "cell_type": "markdown",
   "metadata": {},
   "source": [
    "### 1.3 Look at the data after cleaning"
   ]
  },
  {
   "cell_type": "markdown",
   "metadata": {},
   "source": [
    "#### Recipes from the Kaggle dataset"
   ]
  },
  {
   "cell_type": "code",
   "execution_count": 6,
   "metadata": {},
   "outputs": [
    {
     "name": "stdout",
     "output_type": "stream",
     "text": [
      "The length of the train set before any cleaning is: 49718\n",
      "\u001b[1mNumber of recipe in the Kaggle dataset before cleaning: 49718\u001b[0m\n"
     ]
    },
    {
     "data": {
      "text/plain": [
       "['romaine lettuce',\n",
       " 'black olife',\n",
       " 'grape tomato',\n",
       " 'garlic',\n",
       " 'pepper',\n",
       " 'purple onion',\n",
       " 'seasoning',\n",
       " 'garbanzo bean',\n",
       " 'feta cheese']"
      ]
     },
     "execution_count": 6,
     "metadata": {},
     "output_type": "execute_result"
    }
   ],
   "source": [
    "kaggle = json.load(open('../generated/clean_kaggle.json'))  \n",
    "    \n",
    "print(\"The length of the train set before any cleaning is: \" + str(len(kaggle)))\n",
    "print_bold(\"Number of recipe in the Kaggle dataset before cleaning: \" + str(len(kaggle)))\n",
    "\n",
    "kaggle[0]"
   ]
  },
  {
   "cell_type": "markdown",
   "metadata": {},
   "source": [
    "> The structure of the JSON is changed to keep only the ingredients. The cleaning procedure has singularized each ingredient."
   ]
  },
  {
   "cell_type": "markdown",
   "metadata": {},
   "source": [
    "#### Recipes from the \"From cookies to cooks\" dataset"
   ]
  },
  {
   "cell_type": "code",
   "execution_count": 7,
   "metadata": {},
   "outputs": [
    {
     "name": "stdout",
     "output_type": "stream",
     "text": [
      "The length of the train set before any cleaning is: 47045\n",
      "\u001b[1mNumber of recipe in the Kaggle dataset before cleaning: 47045\u001b[0m\n"
     ]
    },
    {
     "data": {
      "text/plain": [
       "['butter',\n",
       " 'stalks celery',\n",
       " 'carrot',\n",
       " 'onion',\n",
       " 'green bell pepper',\n",
       " 'gold medalâ® all-purpose flour',\n",
       " 'pepper',\n",
       " 'rice ',\n",
       " 'water',\n",
       " 'chicken broth',\n",
       " 'half-and-half',\n",
       " 'almond',\n",
       " 'parsley']"
      ]
     },
     "execution_count": 7,
     "metadata": {},
     "output_type": "execute_result"
    }
   ],
   "source": [
    "cookies_to_cooks = json.load(open('../generated/clean_cookies.json'))  \n",
    "    \n",
    "print(\"The length of the train set before any cleaning is: \" + str(len(cookies_to_cooks)))\n",
    "print_bold(\"Number of recipe in the Kaggle dataset before cleaning: \" + str(len(cookies_to_cooks)))\n",
    "\n",
    "cookies_to_cooks[0]"
   ]
  },
  {
   "cell_type": "markdown",
   "metadata": {},
   "source": [
    "> This dataset is the one that requires cleaning the most. After cleaning we lost 27% of the recipes"
   ]
  },
  {
   "cell_type": "markdown",
   "metadata": {},
   "source": [
    "#### Recipes from the 1M dataset"
   ]
  },
  {
   "cell_type": "code",
   "execution_count": 8,
   "metadata": {},
   "outputs": [
    {
     "name": "stdout",
     "output_type": "stream",
     "text": [
      "The length of the train set before any cleaning is: 869654\n",
      "\u001b[1mNumber of recipe in the Kaggle dataset before cleaning: 869654\u001b[0m\n"
     ]
    },
    {
     "data": {
      "text/plain": [
       "['elbow macaroni',\n",
       " 'american cheese',\n",
       " 'celery',\n",
       " 'green pepper',\n",
       " 'pimento',\n",
       " 'mayonnaise',\n",
       " 'vinegar',\n",
       " 'salt',\n",
       " 'dill weed']"
      ]
     },
     "execution_count": 8,
     "metadata": {},
     "output_type": "execute_result"
    }
   ],
   "source": [
    "one_m = json.load(open('../generated/clean_1m.json'))  \n",
    "    \n",
    "print(\"The length of the train set before any cleaning is: \" + str(len(one_m)))\n",
    "print_bold(\"Number of recipe in the Kaggle dataset before cleaning: \" + str(len(one_m)))\n",
    "\n",
    "one_m[0]"
   ]
  },
  {
   "cell_type": "markdown",
   "metadata": {},
   "source": [
    "> We lost 15% of the recipes from this dataset during the cleaning procedure"
   ]
  },
  {
   "cell_type": "markdown",
   "metadata": {},
   "source": [
    "## 2. Data analysis"
   ]
  },
  {
   "cell_type": "code",
   "execution_count": 9,
   "metadata": {
    "collapsed": true
   },
   "outputs": [],
   "source": [
    "# We merge our three datasets into one\n",
    "all_recipes = kaggle + cookies_to_cooks + one_m"
   ]
  },
  {
   "cell_type": "markdown",
   "metadata": {},
   "source": [
    "#### 2.1 Number of ingredients per recipe"
   ]
  },
  {
   "cell_type": "code",
   "execution_count": 10,
   "metadata": {},
   "outputs": [
    {
     "name": "stdout",
     "output_type": "stream",
     "text": [
      "The maximum of ingredients in a recipe is: 99\n"
     ]
    },
    {
     "data": {
      "image/png": "[encoded data removed]",
      "text/plain": [
       "<Figure size 432x288 with 1 Axes>"
      ]
     },
     "metadata": {},
     "output_type": "display_data"
    }
   ],
   "source": [
    "counts = list(map(lambda r: len(r),all_recipes))\n",
    "\n",
    "counts = sorted(counts, reverse=True)\n",
    "print('The maximum of ingredients in a recipe is: '+str(counts[0]))\n",
    "\n",
    "plt.hist(counts, bins=100)\n",
    "plt.title('Number of recipes per number of ingredients')\n",
    "plt.xlabel('Number of ingredients')\n",
    "plt.ylabel('Number of recipes')\n",
    "plt.show()"
   ]
  },
  {
   "cell_type": "markdown",
   "metadata": {},
   "source": [
    "#### 2.2 Number of unique ingredients"
   ]
  },
  {
   "cell_type": "code",
   "execution_count": 11,
   "metadata": {},
   "outputs": [
    {
     "name": "stdout",
     "output_type": "stream",
     "text": [
      "There are 38182 different ingredients\n"
     ]
    }
   ],
   "source": [
    "all_ingr = []\n",
    "for r in all_recipes:\n",
    "    for i in r:\n",
    "        all_ingr.append(i)\n",
    "        \n",
    "df_recipe = pd.Series(all_ingr)\n",
    "\n",
    "print('There are ' + str(len(df_recipe.unique())) + ' different ingredients')"
   ]
  },
  {
   "cell_type": "markdown",
   "metadata": {},
   "source": [
    "> This is a huge number of ingredients, even considering our number of recipes. It is likely that a lot of ingredients are in fact some noise that we failed to filter during the parsing. To be sure we need to look at the distribution of the ingredients."
   ]
  },
  {
   "cell_type": "markdown",
   "metadata": {},
   "source": [
    "#### 2.3 Distribution of the ingredients"
   ]
  },
  {
   "cell_type": "markdown",
   "metadata": {},
   "source": [
    "We search in the dataset the number of ingredients (x - ingredients) that appear a given number of times (y - occurences)"
   ]
  },
  {
   "cell_type": "code",
   "execution_count": 12,
   "metadata": {},
   "outputs": [
    {
     "data": {
      "image/png": "[encoded data removed]",
      "text/plain": [
       "<Figure size 1080x576 with 1 Axes>"
      ]
     },
     "metadata": {},
     "output_type": "display_data"
    }
   ],
   "source": [
    "count_table = df_recipe.value_counts().to_frame().rename({0:'count'}, axis = 1)\n",
    "ax = count_table['count'].hist(bins=500,figsize=(15, 8))\n",
    "ax.set_yscale('log')\n",
    "ax.set_title('Histogram of the distribution of ingredients')\n",
    "ax.set_ylabel('number of occurences')\n",
    "ax.set_xlabel('ingredients')\n",
    "plt.show()"
   ]
  },
  {
   "cell_type": "markdown",
   "metadata": {},
   "source": [
    "> There are more than 10 000 ingredients that appear only once."
   ]
  },
  {
   "cell_type": "code",
   "execution_count": 13,
   "metadata": {},
   "outputs": [
    {
     "data": {
      "image/png": "[encoded data removed]",
      "text/plain": [
       "<Figure size 432x288 with 1 Axes>"
      ]
     },
     "metadata": {},
     "output_type": "display_data"
    }
   ],
   "source": [
    "# Log scale\n",
    "\n",
    "ax = count_table['count'].plot(logy=True)\n",
    "ax.set_xlabel('Ingredients')\n",
    "ax.set_ylabel('Number of occurences')\n",
    "ax.set_title('Ingredients occurences (x_step = 5000)')\n",
    "plt.show()"
   ]
  },
  {
   "cell_type": "markdown",
   "metadata": {},
   "source": [
    "> Indeed, a lot of ingredients appear only a few times and we will not be able to extract some rules from them. Therefore, we decided to only keep the ignredients that appear in more than 15 recipes."
   ]
  },
  {
   "cell_type": "code",
   "execution_count": 14,
   "metadata": {},
   "outputs": [
    {
     "name": "stdout",
     "output_type": "stream",
     "text": [
      "\u001b[1mWe keep 99.13% of the data if we discard ingredients that appear in less than 15 recipes.\u001b[0m\n"
     ]
    }
   ],
   "source": [
    "without_junk = count_table[count_table['count'] > 15]\n",
    "print_bold(\"We keep \"+ str(100*((without_junk['count'].sum()) / count_table.sum())[0])[:5]+\\\n",
    "      \"% of the data if we discard ingredients that appear in less than 15 recipes.\")"
   ]
  },
  {
   "cell_type": "markdown",
   "metadata": {},
   "source": [
    "## 3. USDA Mapping"
   ]
  },
  {
   "cell_type": "markdown",
   "metadata": {},
   "source": [
    "#### 3.1 USDA database"
   ]
  },
  {
   "cell_type": "markdown",
   "metadata": {},
   "source": [
    "> This section aims to give an insight on the work that has been done on the USDA mapping that is necessary for  the analysis conducted below. To get a more in-depth understanding, one can consult either the USDA_parsing notebook or the USDA_parsing (created to reuse functions from the notebook as below)"
   ]
  },
  {
   "cell_type": "markdown",
   "metadata": {
    "collapsed": true
   },
   "source": [
    "To get the nutrients of each recipes, our approach consists in linking the different ingredients of a recipe to an entry of the USDA database. As every ingredient does not match exactly the description of a USDA, we implemented a notion of score that indicates how well the ingredients match the entries of the database."
   ]
  },
  {
   "cell_type": "code",
   "execution_count": 15,
   "metadata": {
    "collapsed": true
   },
   "outputs": [],
   "source": [
    "# Relevant data for USDA\n",
    "food_des_path = \"./../data/usda/FOOD_DES.txt\"\n",
    "food_groups_path = \"./../data/usda/FD_GROUP.txt\"\n",
    "nut_data_path = \"./../data/usda/NUT_DATA.txt\"\n",
    "nut_def_path = \"./../data/usda/NUTR_DEF.txt\"\n",
    "\n",
    "all_paths = [food_des_path, food_groups_path, nut_data_path, nut_def_path]"
   ]
  },
  {
   "cell_type": "code",
   "execution_count": 16,
   "metadata": {},
   "outputs": [
    {
     "name": "stdout",
     "output_type": "stream",
     "text": [
      "\u001b[1moriginal table format : \u001b[0m\n",
      "   food_id  food_group_id            long_description common_names\n",
      "0     1001            100              Butter, salted          NaN\n",
      "1     1002            100  Butter, whipped, with salt          NaN\n",
      "2     1003            100       Butter oil, anhydrous          NaN\n",
      "3     1004            100                Cheese, blue          NaN\n",
      "4     1005            100               Cheese, brick          NaN\n",
      "\u001b[1m\n",
      "\n",
      "new table format\u001b[0m\n"
     ]
    },
    {
     "data": {
      "text/html": [
       "<div>\n",
       "<style scoped>\n",
       "    .dataframe tbody tr th:only-of-type {\n",
       "        vertical-align: middle;\n",
       "    }\n",
       "\n",
       "    .dataframe tbody tr th {\n",
       "        vertical-align: top;\n",
       "    }\n",
       "\n",
       "    .dataframe thead th {\n",
       "        text-align: right;\n",
       "    }\n",
       "</style>\n",
       "<table border=\"1\" class=\"dataframe\">\n",
       "  <thead>\n",
       "    <tr style=\"text-align: right;\">\n",
       "      <th></th>\n",
       "      <th>food_id</th>\n",
       "      <th>food_group_id</th>\n",
       "      <th>long_description</th>\n",
       "      <th>search_words</th>\n",
       "    </tr>\n",
       "  </thead>\n",
       "  <tbody>\n",
       "    <tr>\n",
       "      <th>0</th>\n",
       "      <td>1001</td>\n",
       "      <td>100</td>\n",
       "      <td>Butter, salted</td>\n",
       "      <td>[butter, salted]</td>\n",
       "    </tr>\n",
       "    <tr>\n",
       "      <th>1</th>\n",
       "      <td>1002</td>\n",
       "      <td>100</td>\n",
       "      <td>Butter, whipped, with salt</td>\n",
       "      <td>[butter, whipped, salt]</td>\n",
       "    </tr>\n",
       "    <tr>\n",
       "      <th>2</th>\n",
       "      <td>1003</td>\n",
       "      <td>100</td>\n",
       "      <td>Butter oil, anhydrous</td>\n",
       "      <td>[butter, oil, anhydrou]</td>\n",
       "    </tr>\n",
       "    <tr>\n",
       "      <th>3</th>\n",
       "      <td>1004</td>\n",
       "      <td>100</td>\n",
       "      <td>Cheese, blue</td>\n",
       "      <td>[cheese, blue]</td>\n",
       "    </tr>\n",
       "    <tr>\n",
       "      <th>4</th>\n",
       "      <td>1005</td>\n",
       "      <td>100</td>\n",
       "      <td>Cheese, brick</td>\n",
       "      <td>[cheese, brick]</td>\n",
       "    </tr>\n",
       "  </tbody>\n",
       "</table>\n",
       "</div>"
      ],
      "text/plain": [
       "   food_id  food_group_id            long_description             search_words\n",
       "0     1001            100              Butter, salted         [butter, salted]\n",
       "1     1002            100  Butter, whipped, with salt  [butter, whipped, salt]\n",
       "2     1003            100       Butter oil, anhydrous  [butter, oil, anhydrou]\n",
       "3     1004            100                Cheese, blue           [cheese, blue]\n",
       "4     1005            100               Cheese, brick          [cheese, brick]"
      ]
     },
     "execution_count": 16,
     "metadata": {},
     "output_type": "execute_result"
    }
   ],
   "source": [
    "# Generate singularization engine\n",
    "engine = inflect.engine()\n",
    "\n",
    "# Columns we want to retrieve from the database files\n",
    "columns = [\"food_id\", \"food_group_id\", \"long_description\", \"common_names\"]\n",
    "use_cols = [0, 1, 2, 4]\n",
    "\n",
    "# Get the info from file\n",
    "food_des = pd.read_csv(food_des_path, sep=\"^\", encoding=\"ISO-8859-1\", names=columns, usecols=use_cols, header=None)\n",
    "\n",
    "# Display original table format\n",
    "print_bold(\"original table format : \")\n",
    "print(food_des.head())\n",
    "\n",
    "\n",
    "# Generate search_words\n",
    "food_des['search_words'] = food_des.apply(lambda row : usda.concat_common_and_des(usda.format_long_des(row['common_names'], engine),\n",
    "                                                                                  usda.format_long_des(row['long_description'], engine)),\n",
    "                                                                                  axis=1)\n",
    "\n",
    "# Drop common_names column\n",
    "food_des = food_des.drop(\"common_names\", axis=1)\n",
    "            \n",
    "print_bold(\"\\n\\nnew table format\")\n",
    "food_des.head()"
   ]
  },
  {
   "cell_type": "markdown",
   "metadata": {},
   "source": [
    "> The original table format is an extract of the USDA database. As it is not likely we have an ingredient matching the long description, we generate from the long description a set of search words. Those words are obtained by splitting the sentence by words, singularizing them and removing,... The ones that give no information (e.g. \"with\"). This is what we can observe in the \"new table format\""
   ]
  },
  {
   "cell_type": "markdown",
   "metadata": {},
   "source": [
    "#### 3.2 Search function"
   ]
  },
  {
   "cell_type": "code",
   "execution_count": 17,
   "metadata": {
    "collapsed": true
   },
   "outputs": [],
   "source": [
    "def search_score(categories, ing_words) :\n",
    "    # singularize search words\n",
    "    ing_words = set([singularize_word(x) for x in ing_words])\n",
    "\n",
    "    #prioritize matching query terms\n",
    "    nb_matching = len(ing_words.intersection(set(categories)))\n",
    "\n",
    "    #non_complexificators should not be penalized,ignore them AFTER computing number of matching words\n",
    "    categories = [c for c in categories if (c not in non_complexificators)]\n",
    "\n",
    "\n",
    "    #matching keywords one by one \n",
    "    matching = [len(set([x]).intersection(ing_words)) != 0 for x in categories]\n",
    "\n",
    "\n",
    "    #first keywords are more important\n",
    "    weights = np.linspace(2, 1, num=len(matching))\n",
    "    weights = weights / sum(weights)\n",
    "\n",
    "    #the query should have as many ingredients words as possible\n",
    "    score = (10 * nb_matching) + sum([c[0] * c[1] for c in zip(matching, weights)])\n",
    "\n",
    "    return score"
   ]
  },
  {
   "cell_type": "markdown",
   "metadata": {},
   "source": [
    ">The design of the score function starts from three straightforward observations, namely :\n",
    "- Lots of categories usually mean complex food item\n",
    "- Categories are ordered by descending relevance\n",
    "- Some categories (e.g ’raw’) do not make the food item more complex\n",
    "\n",
    ">Note that the ’categories’ that do not make the food-item more complex were chosen empirically."
   ]
  },
  {
   "cell_type": "markdown",
   "metadata": {},
   "source": [
    "#### 3.3 Examples"
   ]
  },
  {
   "cell_type": "code",
   "execution_count": 18,
   "metadata": {},
   "outputs": [
    {
     "name": "stdout",
     "output_type": "stream",
     "text": [
      "(      food_id            search_words  search_score\n",
      "1043     5332  [chicken, ground, raw]     20.666667, 20.666666666666668)\n",
      "(      food_id        search_words  search_score\n",
      "7670    43128  [chicken, meatles]     10.666667, 10.666666666666666)\n",
      "(      food_id           search_words  search_score\n",
      "2928    11695  [tomato, orange, raw]     10.666667, 10.666666666666666)\n",
      "(      food_id                                       search_words  search_score\n",
      "7517    36055  [restaurant, italian, cheese, ravioli, marinar...     20.377778, 20.377777777777776)\n",
      "(      food_id                                    search_words  search_score\n",
      "2897    11632  [pepper, jalapeno, canned, solid, and, liquid]     20.355556, 20.355555555555554)\n"
     ]
    }
   ],
   "source": [
    "# Raw categories\n",
    "print(usda.search_ingredient('raw chicken', food_des, engine))\n",
    "print(usda.search_ingredient('chicken', food_des, engine))\n",
    "\n",
    "# Plurial word\n",
    "print(usda.search_ingredient('fresh tomatoes', food_des, engine))\n",
    "\n",
    "# Nationality categories\n",
    "print(usda.search_ingredient('italian cheese', food_des, engine))\n",
    "\n",
    "# Composite ingredients\n",
    "print(usda.search_ingredient('pepper and salt', food_des, engine))"
   ]
  },
  {
   "cell_type": "markdown",
   "metadata": {},
   "source": [
    "> As we can see:\n",
    "- The word 'raw does not penalize the matching, even the opposite as it allows to match a entry of the USDA more exactly.\n",
    "- Tomatoes can be mapped on tomato\n",
    "- Words like nationalities can produce noises in the search_words, even so the most important word is in third place\n",
    "- If two ingredients are given we can match the first one"
   ]
  },
  {
   "cell_type": "markdown",
   "metadata": {},
   "source": [
    "#### 3.4 Final mapping"
   ]
  },
  {
   "cell_type": "code",
   "execution_count": 19,
   "metadata": {},
   "outputs": [
    {
     "data": {
      "text/plain": [
       "43128"
      ]
     },
     "execution_count": 19,
     "metadata": {},
     "output_type": "execute_result"
    }
   ],
   "source": [
    "mapping_usda_id = json.load(open('../generated/ing_id_mapping.json'))  \n",
    "\n",
    "mapping_usda_id['chicken']"
   ]
  },
  {
   "cell_type": "markdown",
   "metadata": {},
   "source": [
    "> The USDA_parsing notebook and script produce a ingredient mapping as a dictionary. The ingredient chicken is mapped on the USDA id 43128: [Chicken, meatless](https://ndb.nal.usda.gov/ndb/foods/show/43128?fgcd=&manu=&format=&count=&max=25&offset=&sort=default&order=asc&qlookup=43128&ds=&qt=&qp=&qa=&qn=&q=&ing=)"
   ]
  },
  {
   "cell_type": "markdown",
   "metadata": {},
   "source": [
    "# Need to explain representative somewhere"
   ]
  },
  {
   "cell_type": "markdown",
   "metadata": {},
   "source": [
    "## 3. Recommender"
   ]
  },
  {
   "cell_type": "markdown",
   "metadata": {},
   "source": [
    "> This section shows the result of our recommender described in our [report]()."
   ]
  },
  {
   "cell_type": "code",
   "execution_count": 21,
   "metadata": {},
   "outputs": [],
   "source": [
    "# Imports the generated files needed by the recommender\n",
    "\n",
    "# Trained model that is used to compute the similirity between two ingredients\n",
    "food_embeddings = models.Word2Vec.load('../generated/food_embeddings.bin')\n",
    "\n",
    "# Dictionary to convert unit (e.g. cup) to an approximate value in gram\n",
    "conver_gr = json.load(open('../generated/convert_gr.json'))\n",
    "    \n",
    "# Nutrients table\n",
    "nutrients_mapping = pd.read_hdf(\"../generated/nut_data.h5\", 'table')\n",
    "\n",
    "# Map the id to its representative\n",
    "id_repr = json.load(open(\"../generated/id_repr.json\"))\n",
    "\n",
    "# Map a representative to all its id\n",
    "repr_ids = json.load(open(\"../generated/repr_ids.json\"))\n",
    "\n",
    "# Dictionary to convert unitary (e.g. 1 lemon) to an approximate value in gram\n",
    "unit_quantities = json.load(open(\"../generated/1m_unit_quantities.json\"))"
   ]
  }
 ],
 "metadata": {
  "kernelspec": {
   "display_name": "Python 3",
   "language": "python",
   "name": "python3"
  },
  "language_info": {
   "codemirror_mode": {
    "name": "ipython",
    "version": 3
   },
   "file_extension": ".py",
   "mimetype": "text/x-python",
   "name": "python",
   "nbconvert_exporter": "python",
   "pygments_lexer": "ipython3",
   "version": "3.6.1"
  }
 },
 "nbformat": 4,
 "nbformat_minor": 2
}

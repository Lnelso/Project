{
 "cells": [
  {
   "cell_type": "markdown",
   "metadata": {},
   "source": [
    "#### usual imports"
   ]
  },
  {
   "cell_type": "code",
   "execution_count": 17,
   "metadata": {},
   "outputs": [],
   "source": [
    "import numpy as np\n",
    "import pandas as pd\n",
    "import json\n",
    "import matplotlib.pyplot as plt\n",
    "import tqdm"
   ]
  },
  {
   "cell_type": "markdown",
   "metadata": {},
   "source": [
    "#### read kaggle datasets"
   ]
  },
  {
   "cell_type": "code",
   "execution_count": 2,
   "metadata": {},
   "outputs": [],
   "source": [
    "kaggle_all_ingr = pd.concat((pd.read_json('../data/kaggle/train.json')['ingredients'],\n",
    "                             pd.read_json('../data/kaggle/test.json')['ingredients']))"
   ]
  },
  {
   "cell_type": "markdown",
   "metadata": {},
   "source": [
    "#### read cleaned ingredients"
   ]
  },
  {
   "cell_type": "code",
   "execution_count": 3,
   "metadata": {},
   "outputs": [],
   "source": [
    "ingredients = open(\"../data/recipeClean/ingredients.txt\", mode='r', buffering=-1, encoding=\"ISO-8859-1\", errors=None, newline=None, closefd=True, opener=None)\n",
    "content = ingredients.readlines()"
   ]
  },
  {
   "cell_type": "markdown",
   "metadata": {},
   "source": [
    "#### read ingredients mapping "
   ]
  },
  {
   "cell_type": "code",
   "execution_count": 4,
   "metadata": {},
   "outputs": [],
   "source": [
    "ing_mapping = json.load(open(\"./../generated/ing_usda_mapping.json\"))"
   ]
  },
  {
   "cell_type": "markdown",
   "metadata": {},
   "source": [
    "#### read nutritional informations"
   ]
  },
  {
   "cell_type": "code",
   "execution_count": 33,
   "metadata": {},
   "outputs": [],
   "source": [
    "nut_data = pd.read_hdf('./../generated/nut_data.h5', 'table', where=['index>2'])"
   ]
  },
  {
   "cell_type": "markdown",
   "metadata": {},
   "source": [
    "## Study Ingredients cleaning loss\n",
    "Sometimes, as we dropped all the 'junk words', no words remain in the description. How frequent is it ?"
   ]
  },
  {
   "cell_type": "code",
   "execution_count": 5,
   "metadata": {},
   "outputs": [],
   "source": [
    "ingr_list = list()\n",
    "\n",
    "for recipe in kaggle_all_ingr:\n",
    "    for ingr in recipe:\n",
    "        ingr_list.append(ingr)\n",
    "        \n",
    "for i in range(len(content)):\n",
    "    line = content[i].split('\\t')\n",
    "    if len(line) > 4:\n",
    "        ingredients = line[4].split('|')\n",
    "        for ingr in ingredients:\n",
    "            ingr_list.append(ingr)"
   ]
  },
  {
   "cell_type": "code",
   "execution_count": 6,
   "metadata": {},
   "outputs": [],
   "source": [
    "n_ingredients_raw = len(ingr_list)"
   ]
  },
  {
   "cell_type": "code",
   "execution_count": 7,
   "metadata": {},
   "outputs": [],
   "source": [
    "data_path = '../generated/'\n",
    "cookies_recipes = pd.read_json(data_path + 'clean_cookies_recipes.json')\n",
    "kaggle_recipes = pd.read_json(data_path + 'clean_kaggle_recipes.json')"
   ]
  },
  {
   "cell_type": "code",
   "execution_count": 8,
   "metadata": {},
   "outputs": [],
   "source": [
    "cookies_ingredients = cookies_recipes['recipe']\n",
    "kaggle_ingredients = kaggle_recipes['recipe']"
   ]
  },
  {
   "cell_type": "code",
   "execution_count": 9,
   "metadata": {},
   "outputs": [],
   "source": [
    "ingr_list = list()\n",
    "\n",
    "for recipe in kaggle_ingredients:\n",
    "    for ingr in recipe:\n",
    "        ingr_list.append(ingr)\n",
    "for recipe in cookies_ingredients:\n",
    "    for ingr in recipe:\n",
    "        ingr_list.append(ingr)"
   ]
  },
  {
   "cell_type": "code",
   "execution_count": 10,
   "metadata": {},
   "outputs": [],
   "source": [
    "n_ingredients_clean = len(ingr_list)"
   ]
  },
  {
   "cell_type": "code",
   "execution_count": 11,
   "metadata": {},
   "outputs": [
    {
     "name": "stdout",
     "output_type": "stream",
     "text": [
      "We keep 97.99% of the ingredients\n"
     ]
    }
   ],
   "source": [
    "print(\"We keep \"+str(100*n_ingredients_clean/n_ingredients_raw)[:5]+\"% of the ingredients\")"
   ]
  },
  {
   "cell_type": "markdown",
   "metadata": {},
   "source": [
    "## Study USDA ingredients mapping\n",
    "Are there ingredients that are mapped to the same entry ?"
   ]
  },
  {
   "cell_type": "code",
   "execution_count": 32,
   "metadata": {},
   "outputs": [
    {
     "name": "stderr",
     "output_type": "stream",
     "text": [
      "100%|██████████| 4484/4484 [00:00<00:00, 592709.31it/s]"
     ]
    },
    {
     "name": "stdout",
     "output_type": "stream",
     "text": [
      "How many ingredients were mapped with at least one other ?  3326 (  74.17484388938448 %)\n",
      "\n",
      "Here is an example !\n",
      "\n",
      "2047 ['salt', 'kosher salt', 'sea salt', 'coarse salt', 'salt to taste', 'seasoning salt', 'teaspoon(s) salt', 'coarse kosher salt', 'dash salt', 'coarse sea salt', 'pickling salt', 'dash of salt', 'rock salt', 'sea salt to taste', 'canning salt', 'about salt', 'kosher salt to taste', 'gray salt', 'black salt', 'seasoning salt to taste', 'teaspoon(s) kosher salt', 'himalayan salt', 'maldon sea salt', 'celtic salt', 'hawaiian sea salt', 'morton salt', 'scant salt', 'about kosher salt', 'season salt', 'kosher salt more to taste', 'curing salt', 'margarita salt', \"lawry's salt\", 'salt ', 'salt substitute', 'teaspoon(s) coarse salt', 'celtic sea salt', 'salt cod']\n",
      "\n",
      "After mapping , we get 1158 ingredients (reduction by factor 3.872193436960276)\n"
     ]
    },
    {
     "name": "stderr",
     "output_type": "stream",
     "text": [
      "\n"
     ]
    }
   ],
   "source": [
    "mapped_ids = [ing_mapping[k] for k in ing_mapping]\n",
    "nb_collisions = len(mapped_ids) - len(set(mapped_ids))\n",
    "\n",
    "#build dict to store collisions\n",
    "collisions = {}\n",
    "for m in tqdm.tqdm(ing_mapping) :\n",
    "    if ing_mapping[m] not in collisions.keys() :\n",
    "        collisions[ing_mapping[m]] = [m]\n",
    "        \n",
    "    else :\n",
    "        collisions[ing_mapping[m]].append(m)\n",
    "    \n",
    "\n",
    "print(\"How many ingredients were mapped with at least one other ? \", nb_collisions, \"( \", 100 * nb_collisions / len(ing_mapping), \"%)\")\n",
    "print(\"\\nHere is an example !\\n\")\n",
    "[print(c, collisions[c]) for i, c in enumerate(collisions) if i == 0]\n",
    "print(\"\\nAfter mapping , we get \" + str(len(collisions)) + \" ingredients (reduction by factor \" + str(len(ing_mapping) /len(collisions))+ \")\")"
   ]
  },
  {
   "cell_type": "markdown",
   "metadata": {},
   "source": [
    "> This is very nice, similar ingredients have been mapped together !"
   ]
  }
 ],
 "metadata": {
  "kernelspec": {
   "display_name": "Python 3",
   "language": "python",
   "name": "python3"
  },
  "language_info": {
   "codemirror_mode": {
    "name": "ipython",
    "version": 3
   },
   "file_extension": ".py",
   "mimetype": "text/x-python",
   "name": "python",
   "nbconvert_exporter": "python",
   "pygments_lexer": "ipython3",
   "version": "3.7.0"
  }
 },
 "nbformat": 4,
 "nbformat_minor": 2
}

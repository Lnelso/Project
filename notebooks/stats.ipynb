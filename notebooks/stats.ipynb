{
 "cells": [
  {
   "cell_type": "code",
   "execution_count": 1,
   "metadata": {},
   "outputs": [],
   "source": [
    "import numpy as np\n",
    "import pandas as pd\n",
    "import matplotlib.pyplot as plt"
   ]
  },
  {
   "cell_type": "code",
   "execution_count": 2,
   "metadata": {},
   "outputs": [],
   "source": [
    "kaggle_all_ingr = pd.concat((pd.read_json('../data/kaggle/train.json')['ingredients'],pd.read_json('../data/kaggle/test.json')['ingredients']))"
   ]
  },
  {
   "cell_type": "code",
   "execution_count": 3,
   "metadata": {},
   "outputs": [],
   "source": [
    "ingredients = open(\"../data/recipeClean/ingredients.txt\", mode='r', buffering=-1, encoding=\"ISO-8859-1\", errors=None, newline=None, closefd=True, opener=None)\n",
    "content = ingredients.readlines()"
   ]
  },
  {
   "cell_type": "code",
   "execution_count": 4,
   "metadata": {},
   "outputs": [],
   "source": [
    "ingr_list = list()\n",
    "\n",
    "for recipe in kaggle_all_ingr:\n",
    "    for ingr in recipe:\n",
    "        ingr_list.append(ingr)\n",
    "        \n",
    "for i in range(len(content)):\n",
    "    line = content[i].split('\\t')\n",
    "    if len(line) > 4:\n",
    "        ingredients = line[4].split('|')\n",
    "        for ingr in ingredients:\n",
    "            ingr_list.append(ingr)"
   ]
  },
  {
   "cell_type": "code",
   "execution_count": 5,
   "metadata": {},
   "outputs": [],
   "source": [
    "n_ingredients_raw = len(ingr_list)"
   ]
  },
  {
   "cell_type": "code",
   "execution_count": 6,
   "metadata": {},
   "outputs": [],
   "source": [
    "data_path = '../generated/'\n",
    "cookies_recipes = pd.read_json(data_path + 'clean_cookies_recipes.json')\n",
    "kaggle_recipes = pd.read_json(data_path + 'clean_kaggle_recipes.json')"
   ]
  },
  {
   "cell_type": "code",
   "execution_count": 7,
   "metadata": {},
   "outputs": [],
   "source": [
    "cookies_ingredients = cookies_recipes['recipe']\n",
    "kaggle_ingredients = kaggle_recipes['recipe']"
   ]
  },
  {
   "cell_type": "code",
   "execution_count": 8,
   "metadata": {},
   "outputs": [],
   "source": [
    "ingr_list = list()\n",
    "\n",
    "for recipe in kaggle_ingredients:\n",
    "    for ingr in recipe:\n",
    "        ingr_list.append(ingr)\n",
    "for recipe in cookies_ingredients:\n",
    "    for ingr in recipe:\n",
    "        ingr_list.append(ingr)"
   ]
  },
  {
   "cell_type": "code",
   "execution_count": 9,
   "metadata": {},
   "outputs": [],
   "source": [
    "n_ingredients_clean = len(ingr_list)"
   ]
  },
  {
   "cell_type": "code",
   "execution_count": 10,
   "metadata": {},
   "outputs": [
    {
     "name": "stdout",
     "output_type": "stream",
     "text": [
      "We keep :97.99% of the ingredients\n"
     ]
    }
   ],
   "source": [
    "print(\"We keep :\"+str(100*n_ingredients_clean/n_ingredients_raw)[:5]+\"% of the ingredients\")"
   ]
  }
 ],
 "metadata": {
  "kernelspec": {
   "display_name": "Python 3",
   "language": "python",
   "name": "python3"
  },
  "language_info": {
   "codemirror_mode": {
    "name": "ipython",
    "version": 3
   },
   "file_extension": ".py",
   "mimetype": "text/x-python",
   "name": "python",
   "nbconvert_exporter": "python",
   "pygments_lexer": "ipython3",
   "version": "3.7.0"
  }
 },
 "nbformat": 4,
 "nbformat_minor": 2
}

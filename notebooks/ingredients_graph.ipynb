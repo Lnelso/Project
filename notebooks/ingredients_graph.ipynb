{
 "cells": [
  {
   "cell_type": "code",
   "execution_count": 1,
   "metadata": {
    "collapsed": true
   },
   "outputs": [],
   "source": [
    "import pandas as pd\n",
    "import numpy as np\n",
    "import tqdm\n",
    "import json\n",
    "import networkx as nx\n",
    "import matplotlib.pyplot as plt\n",
    "import collections"
   ]
  },
  {
   "cell_type": "markdown",
   "metadata": {},
   "source": [
    "### load data"
   ]
  },
  {
   "cell_type": "code",
   "execution_count": 2,
   "metadata": {
    "collapsed": true
   },
   "outputs": [],
   "source": [
    "cleaned_recipes = json.load(open(\"./../generated/high_score_repr_recipes.json\"))\n",
    "repr_per_id = json.load(open(\"./../generated/high_score_key_representative.json\"))"
   ]
  },
  {
   "cell_type": "code",
   "execution_count": 3,
   "metadata": {},
   "outputs": [
    {
     "data": {
      "text/plain": [
       "['usda_id=11251',\n",
       " 'black olife',\n",
       " 'grape tomato',\n",
       " 'usda_id=11215',\n",
       " 'usda_id=11981',\n",
       " 'purple onion',\n",
       " 'usda_id=2075',\n",
       " 'usda_id=16056',\n",
       " 'usda_id=1019']"
      ]
     },
     "execution_count": 3,
     "metadata": {},
     "output_type": "execute_result"
    }
   ],
   "source": [
    "cleaned_recipes[0]"
   ]
  },
  {
   "cell_type": "markdown",
   "metadata": {},
   "source": [
    "#### create graph"
   ]
  },
  {
   "cell_type": "code",
   "execution_count": 4,
   "metadata": {},
   "outputs": [
    {
     "name": "stderr",
     "output_type": "stream",
     "text": [
      "100%|██████████| 96529/96529 [00:02<00:00, 42565.31it/s]\n"
     ]
    }
   ],
   "source": [
    "def name_ingredients(recipe) :\n",
    "    \n",
    "    named_ingredients = []\n",
    "    \n",
    "    for r in recipe :\n",
    "        if r[:8] == \"usda_id=\" :\n",
    "            named_ingredients.append(repr_per_id[r[8:]])\n",
    "            \n",
    "        else :\n",
    "            named_ingredients.append(r)\n",
    "            \n",
    "    return named_ingredients\n",
    "            \n",
    "\n",
    "def ingredients_tuples(recipe) :\n",
    "    \n",
    "    tuples = []\n",
    "    for ing1 in range(len(recipe) - 1) :\n",
    "        for ing2 in range(ing1 + 1, len(recipe)) :\n",
    "            if recipe[ing1] < recipe[ing2] :\n",
    "                tuples.append((recipe[ing1], recipe[ing2]))\n",
    "                \n",
    "    return tuples\n",
    "\n",
    "cleaned_name_recipes = [name_ingredients(r) for r in cleaned_recipes]\n",
    "                \n",
    "asso_counter = collections.Counter()\n",
    "for recipe in tqdm.tqdm(cleaned_recipes) :\n",
    "        asso_counter.update(ingredients_tuples(name_ingredients(recipe)))\n",
    "            "
   ]
  },
  {
   "cell_type": "code",
   "execution_count": 5,
   "metadata": {},
   "outputs": [
    {
     "data": {
      "text/plain": [
       "(('buckwheat flour', 'salt & pepper'), 1)"
      ]
     },
     "execution_count": 5,
     "metadata": {},
     "output_type": "execute_result"
    }
   ],
   "source": [
    "asso_counter.most_common()[271299]"
   ]
  },
  {
   "cell_type": "code",
   "execution_count": 6,
   "metadata": {
    "collapsed": true
   },
   "outputs": [],
   "source": [
    "ing_graph = nx.Graph()\n",
    "\n",
    "for item in asso_counter.most_common() :\n",
    "    ing_graph.add_edge(item[0][0],item[0][1],weight=item[1])"
   ]
  },
  {
   "cell_type": "code",
   "execution_count": 7,
   "metadata": {},
   "outputs": [
    {
     "data": {
      "text/plain": [
       "4618"
      ]
     },
     "execution_count": 7,
     "metadata": {},
     "output_type": "execute_result"
    }
   ],
   "source": [
    "len(ing_graph.nodes)"
   ]
  },
  {
   "cell_type": "code",
   "execution_count": 8,
   "metadata": {},
   "outputs": [
    {
     "name": "stderr",
     "output_type": "stream",
     "text": [
      "100%|██████████| 4618/4618 [00:00<00:00, 7217.51it/s]\n"
     ]
    }
   ],
   "source": [
    "def nb_connections(from_ing, to_ing) :\n",
    "    try :\n",
    "        return ing_graph[from_ing][to_ing]['weight']\n",
    "    except :\n",
    "        return 0\n",
    "    \n",
    "def nb_asso(ing) :\n",
    "    return sum([ing_graph[ing][c]['weight'] for c in ing_graph[ing]])\n",
    "    \n",
    "def nb_outgoing_edges(ing) :\n",
    "    try :\n",
    "        return ing_graph.degree[ing]\n",
    "    except :\n",
    "        return 0\n",
    "    \n",
    "def max_association(ing) :\n",
    "    return max([ing_graph[ing][c]['weight'] for c in ing_graph[ing]])\n",
    "\n",
    "\n",
    "#compute number of associations dictionnary\n",
    "nb_assos = dict()\n",
    "for ing in tqdm.tqdm(ing_graph.nodes) : \n",
    "    nb_assos[ing] = nb_asso(ing)\n"
   ]
  },
  {
   "cell_type": "markdown",
   "metadata": {},
   "source": [
    "#### define compatibility"
   ]
  },
  {
   "cell_type": "code",
   "execution_count": 9,
   "metadata": {},
   "outputs": [
    {
     "name": "stderr",
     "output_type": "stream",
     "text": [
      "100%|██████████| 4618/4618 [01:00<00:00, 75.80it/s]\n"
     ]
    }
   ],
   "source": [
    "def friendship(ing1, ing2) :\n",
    "    ing1_likes_ing2 = (nb_connections(ing1, ing2) / nb_assos[ing1])\n",
    "    ing2_likes_ing1 = (nb_connections(ing2, ing1) / nb_assos[ing2])\n",
    "    friendship     =  max(ing1_likes_ing2, ing2_likes_ing1)\n",
    "    return friendship\n",
    "\n",
    "\n",
    "def recipe_compatibility(ingredient, recipe) :\n",
    "    if ingredient in recipe : \n",
    "        return 0    \n",
    "    else :         \n",
    "        return sum([friendship(ingredient, ing) for ing in recipe]) / len(recipe)\n",
    "    \n",
    "#save compatibilities\n",
    "compatibilities = dict()\n",
    "for ing1 in tqdm.tqdm(ing_graph.nodes) :    \n",
    "    per_ing = dict()\n",
    "    \n",
    "    for ing2 in ing_graph.nodes :\n",
    "        per_ing[ing2] = friendship(ing1, ing2)\n",
    "        \n",
    "    compatibilities[ing1] = per_ing\n",
    "        \n",
    "json.dump(compatibilities, open(\"./../generated/high_score_ing_friendship.json\", 'w'))"
   ]
  },
  {
   "cell_type": "code",
   "execution_count": 10,
   "metadata": {
    "collapsed": true
   },
   "outputs": [],
   "source": [
    "friendships = json.load(open(\"./../generated/high_score_ing_friendship.json\"))"
   ]
  },
  {
   "cell_type": "markdown",
   "metadata": {},
   "source": [
    "#### define replacement suggestion"
   ]
  },
  {
   "cell_type": "code",
   "execution_count": 11,
   "metadata": {
    "collapsed": true
   },
   "outputs": [],
   "source": [
    "def swap_candidates(replace_index, recipe, top=10) :\n",
    "    \n",
    "    all_ingredients = [ing for ing in ing_graph.nodes]\n",
    "    to_replace = recipe[replace_index]\n",
    "    recipe_rest = recipe.copy()\n",
    "    recipe_rest.remove(to_replace)\n",
    "    all_scores = []\n",
    "    \n",
    "    #compute friendship scores\n",
    "    if (replace_index < 0) or (replace_index >= len(recipe)) :\n",
    "        raise AttributeError(\"replace_index is out of bound !\")\n",
    "        \n",
    "    else :\n",
    "        for ing in all_ingredients :\n",
    "            all_scores.append(recipe_compatibility(ing, recipe_rest))\n",
    "            \n",
    "    all_scores = np.array(all_scores)\n",
    "    all_ingredients = np.array(all_ingredients)\n",
    "    \n",
    "    sorted_scores_index = np.argsort(-all_scores)[:top]    \n",
    "    \n",
    "    top_ingredients = all_ingredients[sorted_scores_index]\n",
    "    top_scores = all_scores[sorted_scores_index][:top]\n",
    "    \n",
    "    return [c for c in zip(top_ingredients, top_scores)]\n",
    "\n",
    "def bff(ing, nb=1) :\n",
    "    index_sort = np.argsort(-np.array([ing_graph[ing][c]['weight'] for c in ing_graph[ing]]))\n",
    "    return np.array([(c, ing_graph[ing][c]['weight']) for c in ing_graph[ing]][:nb])\n",
    "            \n",
    "    "
   ]
  },
  {
   "cell_type": "code",
   "execution_count": 12,
   "metadata": {},
   "outputs": [
    {
     "data": {
      "text/plain": [
       "array([['salt', '2166'],\n",
       "       ['cilantro', '1682'],\n",
       "       ['onion', '1647'],\n",
       "       ['chili powder', '1546'],\n",
       "       ['oil', '1209'],\n",
       "       ['tomato', '1204'],\n",
       "       ['coriander', '1092'],\n",
       "       ['black pepper', '1042'],\n",
       "       ['garlic', '947'],\n",
       "       ['pepper', '892']], dtype='<U12')"
      ]
     },
     "execution_count": 12,
     "metadata": {},
     "output_type": "execute_result"
    }
   ],
   "source": [
    "bff(\"cumin\", 10)"
   ]
  },
  {
   "cell_type": "code",
   "execution_count": 13,
   "metadata": {},
   "outputs": [
    {
     "data": {
      "text/plain": [
       "['romaine',\n",
       " 'black olife',\n",
       " 'grape tomato',\n",
       " 'garlic',\n",
       " 'pepper',\n",
       " 'purple onion',\n",
       " 'taco seasoning',\n",
       " 'Chickpeas (garbanzo beans, bengal gram), mature seeds, raw',\n",
       " 'feta']"
      ]
     },
     "execution_count": 13,
     "metadata": {},
     "output_type": "execute_result"
    }
   ],
   "source": [
    "cleaned_name_recipes[0]"
   ]
  },
  {
   "cell_type": "code",
   "execution_count": 14,
   "metadata": {},
   "outputs": [
    {
     "data": {
      "text/plain": [
       "[('your favorite barbecue sauce', 0.0625),\n",
       " ('asian chile', 0.05357142857142857),\n",
       " ('salt', 0.044906005174799334),\n",
       " ('nonfat beef broth', 0.041666666666666664),\n",
       " ('kale - washed', 0.041666666666666664),\n",
       " ('oil', 0.03618470942257944),\n",
       " ('greek-style vinaigrette', 0.03409090909090909),\n",
       " ('onion', 0.031192727652172427),\n",
       " ('bottle italian salad dressing', 0.028846153846153848),\n",
       " ('bottle catalina salad dressing', 0.027777777777777776)]"
      ]
     },
     "execution_count": 14,
     "metadata": {},
     "output_type": "execute_result"
    }
   ],
   "source": [
    "swap_candidates(0, cleaned_name_recipes[0])"
   ]
  },
  {
   "cell_type": "markdown",
   "metadata": {},
   "source": [
    "We are not really accurate. This might be due to the 'classic' ingredients that prevent us from focusing on the more interesting associations. Let's study ingredients connectivity."
   ]
  },
  {
   "cell_type": "code",
   "execution_count": 15,
   "metadata": {},
   "outputs": [
    {
     "data": {
      "text/plain": [
       "[('salt', 0.7680311890838206),\n",
       " ('onion', 0.6716482564435781),\n",
       " ('butter', 0.6584362139917695),\n",
       " ('water', 0.6432748538011696),\n",
       " ('oil', 0.6181503140567468),\n",
       " ('black pepper', 0.5791639592809184),\n",
       " ('egg', 0.5756985055230669),\n",
       " ('turbinado sugar', 0.5546891921160927),\n",
       " ('pepper', 0.5432098765432098),\n",
       " ('garlic', 0.5001082954299328)]"
      ]
     },
     "execution_count": 15,
     "metadata": {},
     "output_type": "execute_result"
    }
   ],
   "source": [
    "centrality = nx.algorithms.centrality.degree_centrality(ing_graph)\n",
    "centrality_coeffs = [(ing, centrality[ing]) for ing in centrality]\n",
    "centrality_coeffs.sort(key= lambda x : x[1], reverse=True)\n",
    "centrality_coeffs[:10]"
   ]
  },
  {
   "cell_type": "markdown",
   "metadata": {},
   "source": [
    "Indeed, the salt can be associated to pretty much every dish. let's visualize the centrality distribution"
   ]
  },
  {
   "cell_type": "code",
   "execution_count": 16,
   "metadata": {},
   "outputs": [
    {
     "data": {
      "text/plain": [
       "[<matplotlib.lines.Line2D at 0x7fa9b2a1f978>]"
      ]
     },
     "execution_count": 16,
     "metadata": {},
     "output_type": "execute_result"
    },
    {
     "data": {
      "image/png": "[encoded data removed]",
      "text/plain": [
       "<Figure size 432x288 with 1 Axes>"
      ]
     },
     "metadata": {
      "needs_background": "light"
     },
     "output_type": "display_data"
    }
   ],
   "source": [
    "plt.title(\"distribution of the nodes centrality coefficients\")\n",
    "plt.xlabel(\"node number\")\n",
    "plt.ylabel(\"centrality coefficient\")\n",
    "plt.plot([c[1] for c in centrality_coeffs])"
   ]
  },
  {
   "cell_type": "markdown",
   "metadata": {},
   "source": [
    ">The graph is highly unbalanced. There are some ingredients, a minority, that are connected to lots of other ingredients. On the other side, the rest of the ingredients is not connected to many ingredients. \n",
    "Now, we would like to know whether this phenomena is due to unbalanced dataset or if it is due to differents categories of ingredients, some being \"general\" enough to be assorted with any other, and some being more 'caracteristic'.\n",
    "To  begin, we check the counts of all ingredients."
   ]
  },
  {
   "cell_type": "code",
   "execution_count": 17,
   "metadata": {},
   "outputs": [
    {
     "data": {
      "image/png": "[encoded data removed]",
      "text/plain": [
       "<Figure size 432x288 with 1 Axes>"
      ]
     },
     "metadata": {
      "needs_background": "light"
     },
     "output_type": "display_data"
    }
   ],
   "source": [
    "#count ingredients\n",
    "ingredients_count = dict()\n",
    "count_ings = collections.Counter()\n",
    "for recipe in cleaned_name_recipes :\n",
    "    count_ings.update(recipe)\n",
    "    \n",
    "for count in count_ings.most_common() :\n",
    "    ingredients_count[count[0]] = count[1]\n",
    "\n",
    "    \n",
    "counts = []\n",
    "centralities = []\n",
    "\n",
    "for c in centrality_coeffs :\n",
    "    counts.append(ingredients_count[c[0]])\n",
    "    centralities.append(c[1])\n",
    "    \n",
    "\n",
    "    \n",
    "plt.plot(counts)\n",
    "plt.show()"
   ]
  },
  {
   "cell_type": "markdown",
   "metadata": {},
   "source": [
    "### Introducing food groups"
   ]
  }
 ],
 "metadata": {
  "kernelspec": {
   "display_name": "Python 3",
   "language": "python",
   "name": "python3"
  },
  "language_info": {
   "codemirror_mode": {
    "name": "ipython",
    "version": 3
   },
   "file_extension": ".py",
   "mimetype": "text/x-python",
   "name": "python",
   "nbconvert_exporter": "python",
   "pygments_lexer": "ipython3",
   "version": "3.6.1"
  }
 },
 "nbformat": 4,
 "nbformat_minor": 2
}

{
 "cells": [
  {
   "cell_type": "code",
   "execution_count": 1,
   "metadata": {},
   "outputs": [],
   "source": [
    "import pandas as pd\n",
    "import numpy as np\n",
    "import tqdm\n",
    "import json\n",
    "import networkx as nx\n",
    "import matplotlib.pyplot as plt\n",
    "import collections"
   ]
  },
  {
   "cell_type": "markdown",
   "metadata": {},
   "source": [
    "### load data"
   ]
  },
  {
   "cell_type": "code",
   "execution_count": 2,
   "metadata": {},
   "outputs": [],
   "source": [
    "cleaned_recipes = json.load(open(\"./../generated/high_score_repr_recipes.json\"))\n",
    "repr_per_id = json.load(open(\"./../generated/high_score_key_representative.json\"))"
   ]
  },
  {
   "cell_type": "code",
   "execution_count": 3,
   "metadata": {},
   "outputs": [
    {
     "data": {
      "text/plain": [
       "['usda_id=11251',\n",
       " 'black olife',\n",
       " 'grape tomato',\n",
       " 'usda_id=11215',\n",
       " 'usda_id=11981',\n",
       " 'purple onion',\n",
       " 'usda_id=2075',\n",
       " 'usda_id=16056',\n",
       " 'usda_id=1019']"
      ]
     },
     "execution_count": 3,
     "metadata": {},
     "output_type": "execute_result"
    }
   ],
   "source": [
    "cleaned_recipes[0]"
   ]
  },
  {
   "cell_type": "markdown",
   "metadata": {},
   "source": [
    "#### create graph"
   ]
  },
  {
   "cell_type": "code",
   "execution_count": 4,
   "metadata": {},
   "outputs": [
    {
     "name": "stderr",
     "output_type": "stream",
     "text": [
      "100%|██████████| 96529/96529 [00:01<00:00, 50814.75it/s]\n"
     ]
    }
   ],
   "source": [
    "def name_ingredients(recipe) :\n",
    "    \n",
    "    named_ingredients = []\n",
    "    \n",
    "    for r in recipe :\n",
    "        if r[:8] == \"usda_id=\" :\n",
    "            named_ingredients.append(repr_per_id[r[8:]])\n",
    "            \n",
    "        else :\n",
    "            named_ingredients.append(r)\n",
    "            \n",
    "    return named_ingredients\n",
    "            \n",
    "\n",
    "def ingredients_tuples(recipe) :\n",
    "    \n",
    "    tuples = []\n",
    "    for ing1 in range(len(recipe) - 1) :\n",
    "        for ing2 in range(ing1 + 1, len(recipe)) :\n",
    "            if recipe[ing1] < recipe[ing2] :\n",
    "                tuples.append((recipe[ing1], recipe[ing2]))\n",
    "                \n",
    "    return tuples\n",
    "                \n",
    "asso_counter = collections.Counter()\n",
    "for recipe in tqdm.tqdm(cleaned_recipes) :\n",
    "        asso_counter.update(ingredients_tuples(name_ingredients(recipe)))\n",
    "            "
   ]
  },
  {
   "cell_type": "code",
   "execution_count": 5,
   "metadata": {},
   "outputs": [
    {
     "data": {
      "text/plain": [
       "(('buckwheat flour', 'salt & pepper'), 1)"
      ]
     },
     "execution_count": 5,
     "metadata": {},
     "output_type": "execute_result"
    }
   ],
   "source": [
    "asso_counter.most_common()[271299]"
   ]
  },
  {
   "cell_type": "code",
   "execution_count": 6,
   "metadata": {},
   "outputs": [],
   "source": [
    "ing_graph = nx.Graph()\n",
    "\n",
    "for item in asso_counter.most_common() :\n",
    "    ing_graph.add_edge(item[0][0],item[0][1],weight=item[1])"
   ]
  },
  {
   "cell_type": "code",
   "execution_count": 7,
   "metadata": {},
   "outputs": [
    {
     "data": {
      "text/plain": [
       "4618"
      ]
     },
     "execution_count": 7,
     "metadata": {},
     "output_type": "execute_result"
    }
   ],
   "source": [
    "len(ing_graph.nodes)"
   ]
  },
  {
   "cell_type": "code",
   "execution_count": 8,
   "metadata": {},
   "outputs": [
    {
     "name": "stderr",
     "output_type": "stream",
     "text": [
      "100%|██████████| 4618/4618 [00:00<00:00, 7558.92it/s]\n"
     ]
    }
   ],
   "source": [
    "def nb_connections(from_ing, to_ing) :\n",
    "    try :\n",
    "        return ing_graph[from_ing][to_ing]['weight']\n",
    "    except :\n",
    "        return 0\n",
    "    \n",
    "def nb_asso(ing) :\n",
    "    return sum([ing_graph[ing][c]['weight'] for c in ing_graph[ing]])\n",
    "    \n",
    "def nb_outgoing_edges(ing) :\n",
    "    try :\n",
    "        return ing_graph.degree[ing]\n",
    "    except :\n",
    "        return 0\n",
    "    \n",
    "def max_association(ing) :\n",
    "    return max([ing_graph[ing][c]['weight'] for c in ing_graph[ing]])\n",
    "\n",
    "\n",
    "#compute number of associations dictionnary\n",
    "nb_assos = dict()\n",
    "for ing in tqdm.tqdm(ing_graph.nodes) : \n",
    "    nb_assos[ing] = nb_asso(ing)\n"
   ]
  },
  {
   "cell_type": "markdown",
   "metadata": {},
   "source": [
    "#### define compatibility"
   ]
  },
  {
   "cell_type": "code",
   "execution_count": 9,
   "metadata": {},
   "outputs": [
    {
     "name": "stderr",
     "output_type": "stream",
     "text": [
      "100%|██████████| 4618/4618 [01:01<00:00, 74.59it/s]\n"
     ]
    }
   ],
   "source": [
    "def friendship(ing1, ing2) :\n",
    "    ing1_likes_ing2 = (nb_connections(ing1, ing2) / nb_assos[ing1])\n",
    "    ing2_likes_ing1 = (nb_connections(ing2, ing1) / nb_assos[ing2])\n",
    "    friendship     =  max(ing1_likes_ing2, ing2_likes_ing1)\n",
    "    return friendship\n",
    "\n",
    "\n",
    "def recipe_compatibility(ingredient, recipe) :\n",
    "    if ingredient in recipe : \n",
    "        return 0    \n",
    "    else :         \n",
    "        return sum([friendship(ingredient, ing) for ing in recipe]) / len(recipe)\n",
    "    \n",
    "def swap_candidates(replace_index, recipe) :\n",
    "    if (replace_index < 0) or (replace_index >= len(recipe)) :\n",
    "        raise AttributeError(\"replace\")\n",
    "    \n",
    "\n",
    "#save compatibilities\n",
    "compatibilities = dict()\n",
    "for ing1 in tqdm.tqdm(ing_graph.nodes) :    \n",
    "    per_ing = dict()\n",
    "    \n",
    "    for ing2 in ing_graph.nodes :\n",
    "        per_ing[ing2] = friendship(ing1, ing2)\n",
    "        \n",
    "    compatibilities[ing1] = per_ing\n",
    "        \n",
    "json.dump(compatibilities, open(\"./../generated/high_score_ing_friendship.json\", 'w'))"
   ]
  },
  {
   "cell_type": "code",
   "execution_count": 13,
   "metadata": {},
   "outputs": [],
   "source": [
    "friendships = json.load(open(\"./../generated/high_score_ing_friendship.json\"))"
   ]
  },
  {
   "cell_type": "code",
   "execution_count": 11,
   "metadata": {},
   "outputs": [
    {
     "data": {
      "text/plain": [
       "0.06702144475472892"
      ]
     },
     "execution_count": 11,
     "metadata": {},
     "output_type": "execute_result"
    }
   ],
   "source": [
    "friendship(\"egg\", \"salt\")"
   ]
  }
 ],
 "metadata": {
  "kernelspec": {
   "display_name": "Python 3",
   "language": "python",
   "name": "python3"
  },
  "language_info": {
   "codemirror_mode": {
    "name": "ipython",
    "version": 3
   },
   "file_extension": ".py",
   "mimetype": "text/x-python",
   "name": "python",
   "nbconvert_exporter": "python",
   "pygments_lexer": "ipython3",
   "version": "3.7.0"
  }
 },
 "nbformat": 4,
 "nbformat_minor": 2
}

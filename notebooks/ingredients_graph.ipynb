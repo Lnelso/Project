{
 "cells": [
  {
   "cell_type": "code",
   "execution_count": 8,
   "metadata": {},
   "outputs": [],
   "source": [
    "import pandas as pd\n",
    "import numpy as np\n",
    "import tqdm\n",
    "import json\n",
    "import networkx as nx\n",
    "import collections"
   ]
  },
  {
   "cell_type": "markdown",
   "metadata": {},
   "source": [
    "### load data"
   ]
  },
  {
   "cell_type": "code",
   "execution_count": 6,
   "metadata": {},
   "outputs": [],
   "source": [
    "cleaned_recipes = json.load(open(\"./../generated/high_score_repr_recipes.json\"))\n",
    "repr_per_id = json.load(open(\"./../generated/high_score_key_representative.json\"))"
   ]
  },
  {
   "cell_type": "code",
   "execution_count": 7,
   "metadata": {},
   "outputs": [
    {
     "data": {
      "text/plain": [
       "['usda_id=11251',\n",
       " 'black olife',\n",
       " 'grape tomato',\n",
       " 'usda_id=11215',\n",
       " 'usda_id=11981',\n",
       " 'purple onion',\n",
       " 'usda_id=2075',\n",
       " 'usda_id=16056',\n",
       " 'usda_id=1019']"
      ]
     },
     "execution_count": 7,
     "metadata": {},
     "output_type": "execute_result"
    }
   ],
   "source": [
    "cleaned_recipes[0]"
   ]
  },
  {
   "cell_type": "markdown",
   "metadata": {},
   "source": [
    "#### create graph"
   ]
  },
  {
   "cell_type": "code",
   "execution_count": 20,
   "metadata": {},
   "outputs": [
    {
     "name": "stderr",
     "output_type": "stream",
     "text": [
      "100%|██████████| 1/1 [00:00<00:00, 994.15it/s]"
     ]
    },
    {
     "name": "stdout",
     "output_type": "stream",
     "text": [
      "n_i :  ['usda_id=11251', 'black olife', 'grape tomato', 'usda_id=11215', 'usda_id=11981', 'purple onion', 'usda_id=2075', 'usda_id=16056', 'usda_id=1019']\n",
      "['usda_id=11251', 'black olife', 'grape tomato', 'usda_id=11215', 'usda_id=11981', 'purple onion', 'usda_id=2075', 'usda_id=16056', 'usda_id=1019']\n",
      "i_t :  ['usda_id=11251', 'black olife', 'grape tomato', 'usda_id=11215', 'usda_id=11981', 'purple onion', 'usda_id=2075', 'usda_id=16056', 'usda_id=1019']\n"
     ]
    },
    {
     "name": "stderr",
     "output_type": "stream",
     "text": [
      "\n"
     ]
    }
   ],
   "source": [
    "def name_ingredients(recipe) :\n",
    "    print(\"n_i : \", recipe)\n",
    "    named_ingredients = []\n",
    "    \n",
    "    for r in recipe :\n",
    "        if r[:9] == \"usda_id=\" :\n",
    "            named_ingredients.append(repr_per_id[r[9:]])\n",
    "            \n",
    "        else :\n",
    "            named_ingredients.append(r)\n",
    "            \n",
    "    print(named_ingredients)\n",
    "    return named_ingredients\n",
    "            \n",
    "\n",
    "def ingredients_tuples(recipe) :\n",
    "    print(\"i_t : \", recipe)\n",
    "    tuples = []\n",
    "    for ing1 in range(len(recipe) - 1) :\n",
    "        for ing2 in range(ing1 + 1, len(recipe)) :\n",
    "            if recipe[ing1] < recipe[ing2] :\n",
    "                tuples.append((recipe[ing1], recipe[ing2]))\n",
    "                \n",
    "    return tuples\n",
    "                \n",
    "asso_counter = collections.Counter()\n",
    "for recipe in tqdm.tqdm(cleaned_recipes[:1]) :\n",
    "        asso_counter.update(ingredients_tuples(name_ingredients(recipe)))\n",
    "            "
   ]
  },
  {
   "cell_type": "code",
   "execution_count": 18,
   "metadata": {},
   "outputs": [
    {
     "data": {
      "text/plain": [
       "'romaine'"
      ]
     },
     "execution_count": 18,
     "metadata": {},
     "output_type": "execute_result"
    }
   ],
   "source": [
    "repr_per_id[str(11251)]"
   ]
  },
  {
   "cell_type": "code",
   "execution_count": 16,
   "metadata": {},
   "outputs": [
    {
     "data": {
      "text/plain": [
       "[(('usda_id=11251', 'usda_id=11981'), 1),\n",
       " (('usda_id=11251', 'usda_id=2075'), 1)]"
      ]
     },
     "execution_count": 16,
     "metadata": {},
     "output_type": "execute_result"
    }
   ],
   "source": [
    "asso_counter.most_common(2)"
   ]
  }
 ],
 "metadata": {
  "kernelspec": {
   "display_name": "Python 3",
   "language": "python",
   "name": "python3"
  },
  "language_info": {
   "codemirror_mode": {
    "name": "ipython",
    "version": 3
   },
   "file_extension": ".py",
   "mimetype": "text/x-python",
   "name": "python",
   "nbconvert_exporter": "python",
   "pygments_lexer": "ipython3",
   "version": "3.7.0"
  }
 },
 "nbformat": 4,
 "nbformat_minor": 2
}

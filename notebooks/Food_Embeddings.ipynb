{
 "cells": [
  {
   "cell_type": "code",
   "execution_count": null,
   "metadata": {},
   "outputs": [],
   "source": []
  },
  {
   "cell_type": "code",
   "execution_count": null,
   "metadata": {},
   "outputs": [],
   "source": [
    "def clean_ing(ing) : return \" \".join([singularize(w) for w in ing.split(\" \")]).lower()\n",
    "\n",
    "embeddings_train = []\n",
    "\n",
    "for index in tqdm.tqdm_notebook(usda_no_quant_indices) :\n",
    "    r = det_ingr[index]\n",
    "    embeddings_train.append([clean_ing(ing['text']) for e, ing in enumerate(r['ingredients']) if r['valid'][e]])\n",
    "    \n",
    "#print(embeddings_train)"
   ]
  },
  {
   "cell_type": "markdown",
   "metadata": {},
   "source": [
    "Word2Vec training"
   ]
  },
  {
   "cell_type": "code",
   "execution_count": null,
   "metadata": {},
   "outputs": [],
   "source": [
    "start_time = time.time()\n",
    "model = gensim.models.Word2Vec(embeddings_train, min_count=2)\n",
    "\n",
    "time_after_creation = time.time()\n",
    "print(\"creation of model :\", time_after_creation - start_time, \"sec.\")\n",
    "\n",
    "model.train(embeddings_train, total_examples=len(embeddings_train), epochs=10)\n",
    "\n",
    "time_after_training = time.time()\n",
    "print(\"model training :\", time_after_training - time_after_creation, \"sec.\")\n",
    "\n",
    "model.save('food_embeddings.bin')\n",
    "\n",
    "time_after_saving = time.time()\n",
    "print(\"model saving :\", time_after_saving - time_after_training, \"sec.\")"
   ]
  },
  {
   "cell_type": "markdown",
   "metadata": {},
   "source": [
    "Results investigation"
   ]
  },
  {
   "cell_type": "code",
   "execution_count": null,
   "metadata": {},
   "outputs": [],
   "source": [
    "model.wv.most_similar(\"mushroom\")"
   ]
  },
  {
   "cell_type": "markdown",
   "metadata": {},
   "source": [
    "We see that the adjectives are creating new ingredients. Given we are only interested in flavours associations, we should ignore them. Indeed, shredded mushrooms and dried mushrooms should have the same flavour. "
   ]
  },
  {
   "cell_type": "code",
   "execution_count": null,
   "metadata": {},
   "outputs": [],
   "source": [
    "for index in range(0, 20) :\n",
    "    for e, ing in enumerate(det_ingr[index]['ingredients']) :\n",
    "        if det_ingr[index]['valid'][e] :\n",
    "            tags = nltk.pos_tag(nltk.word_tokenize(clean_ing(ing['text'])))\n",
    "            if 'VBN' == tags[0][1] and tags[1][0] != '-' :\n",
    "                print(tags)"
   ]
  },
  {
   "cell_type": "code",
   "execution_count": null,
   "metadata": {},
   "outputs": [],
   "source": [
    "model.wv.similarity(w1=\"lamb\", w2=\"beef\")"
   ]
  },
  {
   "cell_type": "code",
   "execution_count": null,
   "metadata": {},
   "outputs": [],
   "source": [
    " model.most_similar(positive=['rice', 'tomato'], negative=['pasta'], topn=1)"
   ]
  }
 ],
 "metadata": {
  "kernelspec": {
   "display_name": "Python 3",
   "language": "python",
   "name": "python3"
  },
  "language_info": {
   "codemirror_mode": {
    "name": "ipython",
    "version": 3
   },
   "file_extension": ".py",
   "mimetype": "text/x-python",
   "name": "python",
   "nbconvert_exporter": "python",
   "pygments_lexer": "ipython3",
   "version": "3.6.7"
  }
 },
 "nbformat": 4,
 "nbformat_minor": 2
}

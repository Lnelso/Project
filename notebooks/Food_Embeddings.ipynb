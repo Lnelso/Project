{
 "cells": [
  {
   "cell_type": "code",
   "execution_count": 1,
   "metadata": {},
   "outputs": [],
   "source": [
    "import json\n",
    "from tqdm import tqdm_notebook\n",
    "import matplotlib.pyplot as plt\n",
    "import numpy as np\n",
    "import inflect\n",
    "import time\n",
    "import gensim\n",
    "engine = inflect.engine()"
   ]
  },
  {
   "cell_type": "code",
   "execution_count": 2,
   "metadata": {},
   "outputs": [],
   "source": [
    "recipes = json.load(open('../generated/all_recipes_repr.json'))"
   ]
  },
  {
   "cell_type": "code",
   "execution_count": 3,
   "metadata": {},
   "outputs": [
    {
     "data": {
      "text/plain": [
       "963396"
      ]
     },
     "execution_count": 3,
     "metadata": {},
     "output_type": "execute_result"
    }
   ],
   "source": [
    "len(recipes)"
   ]
  },
  {
   "cell_type": "code",
   "execution_count": 4,
   "metadata": {},
   "outputs": [],
   "source": [
    "def singularize(word):\n",
    "    ingr = engine.singular_noun(word)\n",
    "    return word if (not ingr) else ingr\n",
    "\n",
    "def clean_ing_word(word) : return singularize(word).lower()\n",
    "\n",
    "def clean_whole_ing(ing) : return \" \".join([clean_ing_word(word) for word in ing.split(\" \")])"
   ]
  },
  {
   "cell_type": "markdown",
   "metadata": {},
   "source": [
    "Word2Vec training"
   ]
  },
  {
   "cell_type": "code",
   "execution_count": 5,
   "metadata": {},
   "outputs": [
    {
     "name": "stdout",
     "output_type": "stream",
     "text": [
      "creation of model : 12.049983024597168 sec.\n",
      "model training : 70.84084987640381 sec.\n",
      "model saving : 0.01447439193725586 sec.\n"
     ]
    }
   ],
   "source": [
    "start_time = time.time()\n",
    "model = gensim.models.Word2Vec(recipes, min_count=2)\n",
    "\n",
    "time_after_creation = time.time()\n",
    "print(\"creation of model :\", time_after_creation - start_time, \"sec.\")\n",
    "\n",
    "model.train(recipes, total_examples=len(recipes), epochs=25)\n",
    "\n",
    "time_after_training = time.time()\n",
    "print(\"model training :\", time_after_training - time_after_creation, \"sec.\")\n",
    "\n",
    "model.save('../generated/food_embeddings.bin')\n",
    "\n",
    "time_after_saving = time.time()\n",
    "print(\"model saving :\", time_after_saving - time_after_training, \"sec.\")"
   ]
  },
  {
   "cell_type": "markdown",
   "metadata": {},
   "source": [
    "Results investigation"
   ]
  },
  {
   "cell_type": "code",
   "execution_count": 6,
   "metadata": {},
   "outputs": [
    {
     "name": "stderr",
     "output_type": "stream",
     "text": [
      "/home/luke/anaconda3/lib/python3.6/site-packages/gensim/matutils.py:737: FutureWarning: Conversion of the second argument of issubdtype from `int` to `np.signedinteger` is deprecated. In future, it will be treated as `np.int64 == np.dtype(int).type`.\n",
      "  if np.issubdtype(vec.dtype, np.int):\n"
     ]
    },
    {
     "data": {
      "text/plain": [
       "[('lean lamb', 0.8593930006027222),\n",
       " ('lamb shoulder', 0.7749097347259521),\n",
       " ('lamb chop', 0.5847675204277039),\n",
       " ('eggplant', 0.5819183588027954),\n",
       " ('lamb shank', 0.5766223669052124),\n",
       " ('loin lamb', 0.5640079975128174),\n",
       " ('lamb rib chop', 0.5530146360397339),\n",
       " ('mutton', 0.5489798784255981),\n",
       " ('shoulder lamb chop', 0.538914680480957),\n",
       " ('chickpea', 0.5379897356033325)]"
      ]
     },
     "execution_count": 6,
     "metadata": {},
     "output_type": "execute_result"
    }
   ],
   "source": [
    "model.wv.most_similar(\"lamb\")"
   ]
  },
  {
   "cell_type": "markdown",
   "metadata": {},
   "source": [
    "We see that the adjectives are creating new ingredients. Given we are only interested in flavours associations, we should ignore them. Indeed, shredded mushrooms and dried mushrooms should have the same flavour. "
   ]
  },
  {
   "cell_type": "code",
   "execution_count": 7,
   "metadata": {},
   "outputs": [
    {
     "data": {
      "text/plain": [
       "-0.4853339"
      ]
     },
     "execution_count": 7,
     "metadata": {},
     "output_type": "execute_result"
    }
   ],
   "source": [
    "model.wv.similarity(w1=\"salt\", w2=\"pepper\")"
   ]
  },
  {
   "cell_type": "code",
   "execution_count": 8,
   "metadata": {},
   "outputs": [
    {
     "name": "stderr",
     "output_type": "stream",
     "text": [
      "/home/luke/anaconda3/lib/python3.6/site-packages/ipykernel_launcher.py:1: DeprecationWarning: Call to deprecated `most_similar` (Method will be removed in 4.0.0, use self.wv.most_similar() instead).\n",
      "  \"\"\"Entry point for launching an IPython kernel.\n"
     ]
    },
    {
     "data": {
      "text/plain": [
       "[('beef tongue', 0.5083563923835754)]"
      ]
     },
     "execution_count": 8,
     "metadata": {},
     "output_type": "execute_result"
    }
   ],
   "source": [
    " model.most_similar(positive=['rice', 'tomato'], negative=['pasta'], topn=1)"
   ]
  }
 ],
 "metadata": {
  "kernelspec": {
   "display_name": "Python 3",
   "language": "python",
   "name": "python3"
  },
  "language_info": {
   "codemirror_mode": {
    "name": "ipython",
    "version": 3
   },
   "file_extension": ".py",
   "mimetype": "text/x-python",
   "name": "python",
   "nbconvert_exporter": "python",
   "pygments_lexer": "ipython3",
   "version": "3.6.7"
  }
 },
 "nbformat": 4,
 "nbformat_minor": 2
}

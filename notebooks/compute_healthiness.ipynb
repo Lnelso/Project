{
 "cells": [
  {
   "cell_type": "code",
   "execution_count": 1,
   "metadata": {},
   "outputs": [],
   "source": [
    "import json\n",
    "import nltk\n",
    "import inflect\n",
    "import tqdm\n",
    "import time\n",
    "import requests \n",
    "from bs4 import BeautifulSoup as bs\n",
    "import gensim\n",
    "import matplotlib.pyplot as plt\n",
    "import pandas as pd\n",
    "import urllib.request\n",
    "import numpy as np\n",
    "import collections\n",
    "import json\n",
    "import sys\n",
    "sys.path.insert(0, \"/Users/Lionel/Documents/Ada/Project/python\")\n",
    "import clean_recipes_datasets as clean\n",
    "engine = inflect.engine()"
   ]
  },
  {
   "cell_type": "code",
   "execution_count": 2,
   "metadata": {},
   "outputs": [],
   "source": [
    "# Load the recipes for which we have the quantity for each ingredients \n",
    "with open('../generated/1m_quant_usda_recipes.json') as json_data:\n",
    "    quantities_recipes = json.load(json_data)\n",
    "\n",
    "# Table of conversion for the unit found in 1M\n",
    "with open('../generated/convert_gr.json') as json_data:\n",
    "    convert_gr = json.load(json_data)\n",
    "    \n",
    "# Mapping from ingredient to USDA id\n",
    "with open('../generated/ing_usda_mapping_high_score_3d.json') as json_data:\n",
    "    mapping_usda_id = json.load(json_data)\n",
    "    mapping_usda_id['kosher salt'] = 2047\n",
    "    \n",
    "nutrients_mapping = pd.read_hdf(\"../generated/nut_data_3d.h5\", 'table')"
   ]
  },
  {
   "cell_type": "code",
   "execution_count": 3,
   "metadata": {},
   "outputs": [],
   "source": [
    "# We convert every quantities units to grams, and delete the recipes that contains unconvertable unit or unmappable ingredients\n",
    "def recipes_to_usda(quantities_recipes, mapping_usda_id):\n",
    "    to_remove = []\n",
    "    for recipe in tqdm.tqdm_notebook(quantities_recipes):\n",
    "        failure = False\n",
    "        for ingr in recipe:\n",
    "            try:\n",
    "                ingr[1] = convert_gr[ingr[1]]\n",
    "                try:\n",
    "                    ingr[2] = mapping_usda_id[clean.clean_ingredient(ingr[2])]\n",
    "                except KeyError:\n",
    "                    failure = True\n",
    "            except KeyError:\n",
    "                failure = True\n",
    "        if(failure):\n",
    "            to_remove.append(recipe)\n",
    "    quantities_recipes = [list(map(lambda x: (x[0] * x[1], x[2]), recipe)) for recipe in tqdm.tqdm_notebook(quantities_recipes) if recipe not in to_remove]\n",
    "\n",
    "    with open('../generated/recipes_quantities_mapped_usda.json', 'w') as outfile:\n",
    "        json.dump(quantities_recipes, outfile)\n",
    "    return quantities_recipes"
   ]
  },
  {
   "cell_type": "code",
   "execution_count": 4,
   "metadata": {
    "collapsed": true
   },
   "outputs": [],
   "source": [
    "def median_weight_ingredient(quantities_recipes):\n",
    "    to_remove = []\n",
    "    for recipe in tqdm.tqdm_notebook(quantities_recipes):\n",
    "        failure = False\n",
    "        for ingr in recipe:\n",
    "            try:\n",
    "                ingr[1] = convert_gr[ingr[1]]\n",
    "                ingr[2] = clean.clean_ingredient(ingr[2])\n",
    "            except KeyError:\n",
    "                failure = True\n",
    "        if(failure):\n",
    "            to_remove.append(recipe)\n",
    "    quantities_recipes = [list(map(lambda x: (x[0] * x[1], x[2]), recipe)) for recipe in tqdm.tqdm_notebook(quantities_recipes) if recipe not in to_remove]\n",
    "    \n",
    "    ingredient_weight = []\n",
    "    \n",
    "    for recipe in tqdm.tqdm_notebook(quantities_recipes):\n",
    "        for ingredient in recipe:\n",
    "            ingredient_weight.append(ingredient)\n",
    "        \n",
    "    ingredient_weight = np.array(ingredient_weight)\n",
    "    ingredient_weight_df = pd.DataFrame(ingredient_weight, columns=['weight', 'ingredient'])\n",
    "    ingredient_weight_df = ingredient_weight_df.astype({'weight': float})\n",
    "    \n",
    "    median_weight_by_ingredient_df = ingredient_weight_df.groupby('ingredient').median().reset_index()\n",
    "    median_weight_by_ingredient_df.to_json('../generated/median_weight_ingredient.json')\n",
    "        \n",
    "    return median_weight_by_ingredient_df"
   ]
  },
  {
   "cell_type": "code",
   "execution_count": 5,
   "metadata": {},
   "outputs": [],
   "source": [
    "reci = [[1.0, 'c.', 'elbow macaroni'],\n",
    "  [1.0, 'c.', 'American cheese'],\n",
    "  [0.5, 'c.', 'celery'],\n",
    "  [0.5, 'c.', 'green peppers'],\n",
    "  [3.0, 'tbsp', 'pimentos'],\n",
    "  [0.5, 'c.', 'mayonnaise'],\n",
    "  [1.0, 'tbsp', 'vinegar'],\n",
    "  [0.75, 'teaspoon', 'salt'],\n",
    "  [0.5, 'teaspoon', 'dry dill weed']]\n",
    "\n",
    "recip2 = [[12.0, 'cup', 'shredded coconut'],\n",
    "  [1.0, 'lb', 'lean ground beef'],\n",
    "  [1.5, 'tablespoon', 'fresh garlic'],\n",
    "  [2.5, 'g', 'kosher salt'],\n",
    "  [1.0, 'tablespoon', 'lemon juice'],\n",
    "  [1.0, 'tablespoon', 'soy sauce'],\n",
    "  [2.0, 'tablespoon', 'cornstarch'],\n",
    "  [8.0, 'ounce', 'pineapple chunks'],\n",
    "  [16.0, 'ounce', 'mandarin oranges'],\n",
    "  [12.0, 'cup', 'cashew nuts']]\n",
    "\n",
    "def map_one_recipe_usda(recipe, mapping_usda_id):\n",
    "    recipe_copy = []\n",
    "    for ingr in recipe:\n",
    "        recipe_copy.append(ingr.copy())\n",
    "    \n",
    "    failure = False\n",
    "    for ingr in recipe_copy:\n",
    "        try:\n",
    "            ingr[1] = convert_gr[ingr[1]]\n",
    "            try:\n",
    "                ingr[2] = mapping_usda_id[clean.clean_ingredient(ingr[2])]\n",
    "            except KeyError:\n",
    "                print(ingr[2])\n",
    "                failure = True\n",
    "        except KeyError:\n",
    "            failure = True\n",
    "            \n",
    "    if(failure):\n",
    "        print('Mapping of the recipe has failed.')\n",
    "        \n",
    "    recipe_copy = list(map(lambda x: (x[0] * x[1], x[2]), recipe_copy))\n",
    "    return recipe_copy\n",
    "\n",
    "def compute_profile(recipe, nutrients_mapping):\n",
    "    \n",
    "    nutrients_mapping = nutrients_mapping.reset_index()\n",
    "    nutrients_mapping = nutrients_mapping.fillna(0.0)\n",
    "    fat = 0\n",
    "    sat_fat = 0\n",
    "    sugar = 0\n",
    "    salt = 0\n",
    "    total_weight = 0\n",
    "    \n",
    "    for ingr in recipe:\n",
    "        total_weight += ingr[0]\n",
    "        view = nutrients_mapping[nutrients_mapping['food_id'] == ingr[1]]['nutr_per_100g'] * (ingr[0] / 100)\n",
    "        fat += view['Total lipid (fat)'].values[0]\n",
    "        sat_fat += view['Fatty acids, total saturated'].values[0]\n",
    "        sugar += view['Sugars, total'].values[0]\n",
    "        salt += view['Sodium, Na'].values[0] / 1000\n",
    "                \n",
    "    ratio = (100 / total_weight)\n",
    "    return fat * ratio, sat_fat * ratio, sugar * ratio, salt * ratio\n",
    "\n",
    "def fetch_profile_ingr(ingr, nutrients_mapping):\n",
    "    nutrients_mapping = nutrients_mapping.reset_index()\n",
    "    nutrients_mapping = nutrients_mapping.fillna(0.0)\n",
    "    \n",
    "    view = nutrients_mapping[nutrients_mapping['food_id'] == ingr[1]]['nutr_per_100g'] * (ingr[0] / 100)\n",
    "    fat = view['Total lipid (fat)'].values[0]\n",
    "    sat_fat = view['Fatty acids, total saturated'].values[0]\n",
    "    sugar = view['Sugars, total'].values[0]\n",
    "    salt = view['Sodium, Na'].values[0] / 1000\n",
    "    \n",
    "    return fat, sat_fat, sugar, salt\n",
    "    \n",
    "\n",
    "def score(fat, sat_fat, sugar, salt):\n",
    "    score_fat = score_cat(fat, 3.0, 17.5)\n",
    "    score_sat_fat = score_cat(sat_fat, 1.5, 5.0)\n",
    "    score_sugar = score_cat(sugar, 5.0, 22.5)\n",
    "    score_salt = score_cat(salt, 0.3, 1.5)\n",
    "    score_total = {'fat': score_fat,\n",
    "                   'sat_fat' : score_sat_fat,\n",
    "                   'sugar' : score_sugar,\n",
    "                   'salt' : score_salt,\n",
    "                   'total' : score_fat + score_sat_fat + score_sugar + score_salt}\n",
    "    return score_total\n",
    "    \n",
    "def score_cat(cat, medium, upper):\n",
    "    if (cat < medium):\n",
    "        return 0\n",
    "    elif (cat > medium and cat < upper):\n",
    "        return 4\n",
    "    else:\n",
    "        return 20\n",
    "    \n",
    "def beautiful_print(recipe, mapping_usda_id, nutrients_mapping):\n",
    "    total_weight = 0\n",
    "    mapped_recipe = map_one_recipe_usda(recipe, mapping_usda_id)\n",
    "    table_nut = []\n",
    "    \n",
    "    for ingr in mapped_recipe:\n",
    "        total_weight += ingr[0]\n",
    "        table_nut.append(fetch_profile_ingr(ingr, nutrients_mapping)) \n",
    "        \n",
    "    for e, ingr in enumerate(table_nut):\n",
    "        weight = (mapped_recipe[e][0] / total_weight) * 100\n",
    "        print(str(recipe[e][2]) + ': ' + \"{0:.2f}\".format(weight) + '%' + ' => content(grams): ' + \"(fat={0:.4f}, sat_fat={1:.4f}, sugar={2:.4f}, salt={3:.4f})\".format(ingr[0], ingr[1], ingr[2], ingr[3]))\n",
    "        \n",
    "        \n",
    "def compute_healthiness(recipe, mapping_usda_id, nutrients_mapping):\n",
    "    mapped_recipe = map_one_recipe_usda(recipe, mapping_usda_id)\n",
    "    fat, sat_fat, sugar, salt = compute_profile(mapped_recipe, nutrients_mapping)\n",
    "    score_total = score(fat, sat_fat, sugar, salt)\n",
    "    beautiful_print(recipe, mapping_usda_id, nutrients_mapping)\n",
    "    return score_total"
   ]
  },
  {
   "cell_type": "code",
   "execution_count": 6,
   "metadata": {},
   "outputs": [
    {
     "name": "stdout",
     "output_type": "stream",
     "text": [
      "elbow macaroni: 25.08% => content(grams): (fat=1.1904, sat_fat=0.2253, sugar=0.7168, salt=0.0013)\n",
      "American cheese: 25.08% => content(grams): (fat=17.9200, sat_fat=11.2512, sugar=9.9072, salt=1.7216)\n",
      "celery: 12.54% => content(grams): (fat=0.1088, sat_fat=0.0269, sugar=0.8576, salt=0.0512)\n",
      "green peppers: 12.54% => content(grams): (fat=0.1088, sat_fat=0.0371, sugar=1.5360, salt=0.0019)\n",
      "pimentos: 8.40% => content(grams): (fat=0.1287, sat_fat=0.0193, sugar=1.1626, salt=0.0060)\n",
      "mayonnaise: 12.54% => content(grams): (fat=49.7920, sat_fat=6.9018, sugar=0.1920, salt=0.3110)\n",
      "vinegar: 2.80% => content(grams): (fat=0.0000, sat_fat=0.0000, sugar=2.1379, salt=0.0033)\n",
      "salt: 0.62% => content(grams): (fat=0.0000, sat_fat=0.0000, sugar=0.0000, salt=1.2209)\n",
      "dry dill weed: 0.41% => content(grams): (fat=0.0235, sat_fat=0.0013, sugar=0.0000, salt=0.0013)\n"
     ]
    },
    {
     "data": {
      "text/plain": [
       "{'fat': 4, 'salt': 4, 'sat_fat': 4, 'sugar': 0, 'total': 12}"
      ]
     },
     "execution_count": 6,
     "metadata": {},
     "output_type": "execute_result"
    }
   ],
   "source": [
    "compute_healthiness(reci, mapping_usda_id, nutrients_mapping)"
   ]
  },
  {
   "cell_type": "code",
   "execution_count": 7,
   "metadata": {},
   "outputs": [
    {
     "name": "stdout",
     "output_type": "stream",
     "text": [
      "shredded coconut: 35.90% => content(grams): (fat=346.3680, sat_fat=308.7206, sugar=693.6576, salt=3.7018)\n",
      "lean ground beef: 10.60% => content(grams): (fat=12.2016, sat_fat=4.6811, sugar=0.0000, salt=0.2495)\n",
      "fresh garlic: 0.50% => content(grams): (fat=0.1073, sat_fat=0.0191, sugar=0.2145, salt=0.0036)\n",
      "kosher salt: 0.06% => content(grams): (fat=0.0000, sat_fat=0.0000, sugar=0.0000, salt=0.9690)\n",
      "lemon juice: 0.33% => content(grams): (fat=0.0343, sat_fat=0.0057, sugar=0.3604, salt=0.0001)\n",
      "soy sauce: 0.33% => content(grams): (fat=0.0143, sat_fat=0.0016, sugar=0.2431, salt=0.7988)\n",
      "cornstarch: 0.67% => content(grams): (fat=0.0143, sat_fat=0.0026, sugar=0.0000, salt=0.0026)\n",
      "pineapple chunks: 5.24% => content(grams): (fat=0.2240, sat_fat=0.0157, sugar=47.2640, salt=0.0045)\n",
      "mandarin oranges: 10.47% => content(grams): (fat=1.3888, sat_fat=0.1747, sugar=47.3984, salt=0.0090)\n",
      "cashew nuts: 35.90% => content(grams): (fat=673.5360, sat_fat=119.5469, sugar=90.7776, salt=0.1843)\n"
     ]
    },
    {
     "data": {
      "text/plain": [
       "{'fat': 20, 'salt': 0, 'sat_fat': 20, 'sugar': 4, 'total': 44}"
      ]
     },
     "execution_count": 7,
     "metadata": {},
     "output_type": "execute_result"
    }
   ],
   "source": [
    "compute_healthiness(recip2, mapping_usda_id, nutrients_mapping)"
   ]
  }
 ],
 "metadata": {
  "kernelspec": {
   "display_name": "Python 3",
   "language": "python",
   "name": "python3"
  },
  "language_info": {
   "codemirror_mode": {
    "name": "ipython",
    "version": 3
   },
   "file_extension": ".py",
   "mimetype": "text/x-python",
   "name": "python",
   "nbconvert_exporter": "python",
   "pygments_lexer": "ipython3",
   "version": "3.6.1"
  }
 },
 "nbformat": 4,
 "nbformat_minor": 2
}

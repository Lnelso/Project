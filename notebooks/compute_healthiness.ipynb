{
 "cells": [
  {
   "cell_type": "code",
   "execution_count": null,
   "metadata": {},
   "outputs": [],
   "source": [
    "import json\n",
    "import nltk\n",
    "import inflect\n",
    "import tqdm\n",
    "import time\n",
    "import requests \n",
    "from bs4 import BeautifulSoup as bs\n",
    "import gensim\n",
    "import matplotlib.pyplot as plt\n",
    "import pandas as pd\n",
    "import urllib.request\n",
    "import numpy as np\n",
    "import collections\n",
    "import json\n",
    "import sys\n",
    "sys.path.insert(0, \"/Users/Lionel/Documents/Ada/Project/python\")\n",
    "import clean_recipes_datasets as clean\n",
    "engine = inflect.engine()"
   ]
  },
  {
   "cell_type": "code",
   "execution_count": null,
   "metadata": {},
   "outputs": [],
   "source": [
    "# Load the recipes for which we have the quantity for each ingredients \n",
    "with open('../generated/1m_quant_usda_recipes.json') as json_data:\n",
    "    quantities_recipes = json.load(json_data)\n",
    "\n",
    "# Table of conversion for the unit found in 1M\n",
    "with open('../generated/convert_gr.json') as json_data:\n",
    "    convert_gr = json.load(json_data)\n",
    "    \n",
    "# Mapping from ingredient to USDA id\n",
    "with open('../generated/ing_usda_mapping_high_score_3d.json') as json_data:\n",
    "    mapping_usda_id = json.load(json_data)\n",
    "    \n",
    "nutrients_mapping = pd.read_hdf(\"../generated/nut_data_3d.h5\", 'table')"
   ]
  },
  {
   "cell_type": "code",
   "execution_count": null,
   "metadata": {
    "collapsed": true
   },
   "outputs": [],
   "source": [
    "# Get the profile of each recipes contained in 'recipes'\n",
    "def map_recipes(recipes, mapping):\n",
    "    threshold = 0.3\n",
    "    profile = []\n",
    "    mismatches_ratio_in_recipes = []\n",
    "\n",
    "    for recipe in tqdm.tqdm(recipes):\n",
    "        nb_ingr = len(recipe)\n",
    "        mismatches = 0.0\n",
    "        recipe_mapped = []\n",
    "        \n",
    "        for ingredient in recipe:\n",
    "            if ingredient.startswith('usda_id'):\n",
    "                usda_id = int(ingredient.split('=')[1])\n",
    "                res_map = nutrients_mapping.loc[usda_id]\n",
    "                recipe_mapped.append(res_map.tolist())\n",
    "            else:\n",
    "                mismatches += 1\n",
    "                \n",
    "        recipe_mapped = pd.DataFrame(recipe_mapped)\n",
    "        mismatches_ratio_in_recipes.append(mismatches / nb_ingr)\n",
    "        \n",
    "        if mismatches / nb_ingr < threshold:\n",
    "            recipe_mapped = recipe_mapped.sum(axis = 0)\n",
    "            profile.append(recipe_mapped.tolist())\n",
    "        else:\n",
    "            profile.append(list())\n",
    "\n",
    "    profile = pd.DataFrame(profile)\n",
    "    profile.columns = mapping.columns\n",
    "    \n",
    "    return profile, mismatches_ratio_in_recipes"
   ]
  },
  {
   "cell_type": "code",
   "execution_count": null,
   "metadata": {},
   "outputs": [],
   "source": [
    "# We convert every quantities units to grams, and delete the recipes that contains unconvertable unit\n",
    "to_remove = []\n",
    "to_remove_mapping = []\n",
    "for recipe in tqdm.tqdm_notebook(quantities_recipes):\n",
    "    for ingr in recipe:\n",
    "        try:\n",
    "            ingr[1] = convert_gr[ingr[1]]\n",
    "            try:\n",
    "                ingr[2] = mapping_usda_id[clean.clean_ingredient(ingr[2])]\n",
    "            except KeyError:\n",
    "                to_remove_mapping.append(recipe)\n",
    "        except KeyError:\n",
    "            to_remove.append(recipe)\n",
    "quantities_recipes = [list(map(lambda x: (x[0] * x[1], x[2]), recipe)) for recipe in tqdm.tqdm_notebook(quantities_recipes) if recipe not in to_remove]"
   ]
  },
  {
   "cell_type": "code",
   "execution_count": null,
   "metadata": {},
   "outputs": [],
   "source": [
    "len(to_remove_mapping)"
   ]
  },
  {
   "cell_type": "code",
   "execution_count": null,
   "metadata": {},
   "outputs": [],
   "source": [
    "quantities_recipes"
   ]
  },
  {
   "cell_type": "code",
   "execution_count": null,
   "metadata": {},
   "outputs": [],
   "source": [
    "# Get median weight for each ingredient\n",
    "ingredient_weight = []\n",
    "for recipe in tqdm.tqdm_notebook(quantities_recipes):\n",
    "    for ingredient in recipe:\n",
    "        ingredient_weight.append(ingredient)\n",
    "ingredient_weight = np.array(ingredient_weight)\n",
    "ingredient_weight_df = pd.DataFrame(ingredient_weight, columns=['weight', 'ingredient'])\n",
    "ingredient_weight_df = ingredient_weight_df.astype({'weight': float})\n",
    "median_weight_by_ingredient = ingredient_weight_df.groupby('ingredient').median().reset_index()"
   ]
  }
 ],
 "metadata": {
  "kernelspec": {
   "display_name": "Python 3",
   "language": "python",
   "name": "python3"
  },
  "language_info": {
   "codemirror_mode": {
    "name": "ipython",
    "version": 3
   },
   "file_extension": ".py",
   "mimetype": "text/x-python",
   "name": "python",
   "nbconvert_exporter": "python",
   "pygments_lexer": "ipython3",
   "version": "3.6.1"
  }
 },
 "nbformat": 4,
 "nbformat_minor": 2
}

{
 "cells": [
  {
   "cell_type": "code",
   "execution_count": 1,
   "metadata": {},
   "outputs": [],
   "source": [
    "import numpy as np\n",
    "import pandas as pd\n",
    "import json\n",
    "import matplotlib.pyplot as plt\n",
    "import tqdm"
   ]
  },
  {
   "cell_type": "markdown",
   "metadata": {},
   "source": [
    "### read data"
   ]
  },
  {
   "cell_type": "code",
   "execution_count": 2,
   "metadata": {},
   "outputs": [],
   "source": [
    "#whether we do the work with low_score or high_score mappings\n",
    "high_score = True"
   ]
  },
  {
   "cell_type": "code",
   "execution_count": 3,
   "metadata": {},
   "outputs": [],
   "source": [
    "#read usda mapping\n",
    "if high_score :\n",
    "    ing_mapping = json.load(open(\"./../generated/ing_usda_mapping_high_score.json\"))\n",
    "else :\n",
    "    ing_mapping = json.load(open(\"./../generated/ing_usda_mapping_low_score.json\"))\n",
    "\n",
    "#read usda id description\n",
    "item_describe = json.load(open(\"./../generated/usda_id_describe.json\"))\n",
    "\n",
    "#read cleaned recipes\n",
    "cleaned_kaggle_recipes = json.load(open(\"./../generated/clean_kaggle_recipes.json\"))['recipe']\n",
    "cleaned_cookies_recipes = json.load(open(\"./../generated/clean_cookies_recipes.json\"))['recipe']\n",
    "\n",
    "cleaned_kaggle_recipes  = [cleaned_kaggle_recipes[c]  for c in cleaned_kaggle_recipes]\n",
    "cleaned_cookies_recipes = [cleaned_cookies_recipes[c] for c in cleaned_cookies_recipes]\n",
    "\n",
    "#read ingredients count\n",
    "ingredients_count = json.load(open(\"./../generated/ingredients_count.json\"))['count']\n"
   ]
  },
  {
   "cell_type": "markdown",
   "metadata": {},
   "source": [
    "### study mapping"
   ]
  },
  {
   "cell_type": "markdown",
   "metadata": {},
   "source": [
    "> Ingredients have been mapped to USDA food items. We first identify the ingredients that have been mapped to the same food item and find a representative name for them."
   ]
  },
  {
   "cell_type": "markdown",
   "metadata": {},
   "source": [
    "#### spot collisions"
   ]
  },
  {
   "cell_type": "code",
   "execution_count": 4,
   "metadata": {},
   "outputs": [
    {
     "name": "stderr",
     "output_type": "stream",
     "text": [
      "100%|██████████| 1643/1643 [00:00<00:00, 304423.80it/s]\n"
     ]
    }
   ],
   "source": [
    "mapped_ids = [ing_mapping[k] for k in ing_mapping]\n",
    "\n",
    "#build dict to store collisions\n",
    "collisions = {}\n",
    "\n",
    "for m in tqdm.tqdm(ing_mapping) :\n",
    "    if ing_mapping[m] not in collisions.keys() :\n",
    "        collisions[ing_mapping[m]] = [m]\n",
    "        \n",
    "    else :\n",
    "        collisions[ing_mapping[m]].append(m)"
   ]
  },
  {
   "cell_type": "markdown",
   "metadata": {},
   "source": [
    "#### find representative name for each group"
   ]
  },
  {
   "cell_type": "code",
   "execution_count": 5,
   "metadata": {},
   "outputs": [
    {
     "name": "stderr",
     "output_type": "stream",
     "text": [
      "1260it [00:00, 102663.77it/s]\n"
     ]
    }
   ],
   "source": [
    "import collections\n",
    "\n",
    "\n",
    "item_number = 43\n",
    "proportion = 0.5\n",
    "\n",
    "representative_keys = dict()\n",
    "\n",
    "for i, c in tqdm.tqdm(enumerate(collisions)) :\n",
    "    \n",
    "    all_items = \" \".join(collisions[c]).split(\" \")\n",
    "    counter = collections.Counter()\n",
    "    counter.update(all_items)\n",
    "\n",
    "    #find common names\n",
    "    common_names = [x[0] for x in counter.most_common() if x[1] > len(collisions[c])*proportion]\n",
    "\n",
    "    #choose database description\n",
    "    if len(common_names) == 0 :\n",
    "        representative_keys[c] = item_describe[str(c)]\n",
    "\n",
    "    elif len(common_names) == 1 :\n",
    "        representative_keys[c] = common_names[0]\n",
    "\n",
    "    else :\n",
    "        #determine order\n",
    "\n",
    "        #case 1, there exist an entry with only wanted words\n",
    "        exact_match = [x.split(\" \") for x in collisions[c] if (len(set(common_names).difference(set(x.split(\" \"))))== 0)]\n",
    "        if len(exact_match) != 0 :\n",
    "            representative_keys[c] = \" \".join(exact_match[0])\n",
    "\n",
    "        #case 2, no exact match\n",
    "        else :\n",
    "\n",
    "            all_words_collisions = [x.split(\" \") for x in collisions[c] if set(common_names).issubset(set(x.split(\" \")))]\n",
    "\n",
    "            index_tuples = [ (word, index) for collision in all_words_collisions for index, word in enumerate(collision) if (word in common_names)]\n",
    "\n",
    "            index_counts = np.array([0]*len(common_names))\n",
    "\n",
    "            #average the relative indices\n",
    "            for it in index_tuples :\n",
    "                word_index = common_names.index(it[0])\n",
    "                index_counts[word_index] += it[1]\n",
    "\n",
    "            index_counts = index_counts\n",
    "\n",
    "            common_names_ordered = \" \".join([common_names[i] for i in np.argsort(index_counts)])\n",
    "            representative_keys[c] = common_names_ordered\n",
    "\n"
   ]
  },
  {
   "cell_type": "markdown",
   "metadata": {},
   "source": [
    "> Some ingredients may have been mapped to the same representative without having the same usda matching. Did it happened ?"
   ]
  },
  {
   "cell_type": "code",
   "execution_count": 6,
   "metadata": {},
   "outputs": [
    {
     "data": {
      "text/plain": [
       "24"
      ]
     },
     "execution_count": 6,
     "metadata": {},
     "output_type": "execute_result"
    }
   ],
   "source": [
    "con = collections.Counter()\n",
    "con.update([representative_keys[x] for x in representative_keys])\n",
    "len([c for c in con.most_common() if c[1] >=2])"
   ]
  },
  {
   "cell_type": "code",
   "execution_count": 7,
   "metadata": {},
   "outputs": [
    {
     "data": {
      "text/plain": [
       "[(2047, 'salt'),\n",
       " (11282, 'onion'),\n",
       " (1145, 'butter'),\n",
       " (14555, 'water'),\n",
       " (1123, 'egg'),\n",
       " (19908, 'turbinado sugar'),\n",
       " (2030, 'black pepper'),\n",
       " (4053, 'oil'),\n",
       " (11981, 'pepper'),\n",
       " (11215, 'garlic')]"
      ]
     },
     "execution_count": 7,
     "metadata": {},
     "output_type": "execute_result"
    }
   ],
   "source": [
    "[(c, representative_keys[c]) for c in representative_keys][:10]"
   ]
  },
  {
   "cell_type": "markdown",
   "metadata": {},
   "source": [
    "> It indeed happened, should we map them to the same usda entry ? let's look at the different ingredient sets"
   ]
  },
  {
   "cell_type": "code",
   "execution_count": 8,
   "metadata": {
    "scrolled": true
   },
   "outputs": [
    {
     "name": "stdout",
     "output_type": "stream",
     "text": [
      "Representative term :  oil  ( 3  times)\n",
      "\tusda food item :  Oil, olive, salad or cooking\n",
      "\t\tingredient :  olive oil\n",
      "\t\tingredient :  salad oil\n",
      "\n",
      "\n",
      "\tusda food item :  Oil, hazelnut\n",
      "\t\tingredient :  oil\n",
      "\t\tingredient :  hazelnut oil\n",
      "\n",
      "\n",
      "\tusda food item :  Oil, corn and canola\n",
      "\t\tingredient :  canola oil\n",
      "\t\tingredient :  corn oil\n",
      "\n",
      "\n",
      "\n",
      "\n",
      "Representative term :  flour  ( 3  times)\n",
      "\tusda food item :  Rye flour, dark\n",
      "\t\tingredient :  flour\n",
      "\n",
      "\n",
      "\tusda food item :  Wheat flour, white, cake, enriched\n",
      "\t\tingredient :  cake flour\n",
      "\t\tingredient :  white wheat flour\n",
      "\n",
      "\n",
      "\tusda food item :  Pasta, gluten-free, corn flour and quinoa flour, cooked, ANCIENT HARVEST\n",
      "\t\tingredient :  gluten-free flour\n",
      "\t\tingredient :  quinoa flour\n",
      "\n",
      "\n",
      "\n",
      "\n",
      "Representative term :  mushroom  ( 3  times)\n",
      "\tusda food item :  Mushrooms, maitake, raw\n",
      "\t\tingredient :  mushroom\n",
      "\n",
      "\n",
      "\tusda food item :  Mushrooms, brown, italian, or crimini, raw\n",
      "\t\tingredient :  crimini mushroom\n",
      "\t\tingredient :  brown mushroom\n",
      "\n",
      "\n",
      "\tusda food item :  Mushrooms, portabella, raw\n",
      "\t\tingredient :  portabello mushroom\n",
      "\t\tingredient :  portabella mushroom\n",
      "\n",
      "\n",
      "\n",
      "\n",
      "Representative term :  sauce  ( 3  times)\n",
      "\tusda food item :  Sauce, barbecue\n",
      "\t\tingredient :  sauce\n",
      "\t\tingredient :  barbecue sauce\n",
      "\n",
      "\n",
      "\tusda food item :  Spaghetti with meat sauce, frozen entree\n",
      "\t\tingredient :  spaghetti sauce\n",
      "\t\tingredient :  meat sauce\n",
      "\n",
      "\n",
      "\tusda food item :  Sauce, hot chile, sriracha\n",
      "\t\tingredient :  chile sauce\n",
      "\t\tingredient :  sriracha sauce\n",
      "\n",
      "\n",
      "\n",
      "\n",
      "Representative term :  rice  ( 3  times)\n",
      "\tusda food item :  Rice crackers\n",
      "\t\tingredient :  rice\n",
      "\t\tingredient :  rice cracker\n",
      "\n",
      "\n",
      "\tusda food item :  Rice and vermicelli mix, rice pilaf flavor, unprepared\n",
      "\t\tingredient :  rice vermicelli\n",
      "\t\tingredient :  rice pilaf\n",
      "\n",
      "\n",
      "\tusda food item :  Rice, white, medium-grain, raw, enriched\n",
      "\t\tingredient :  medium-grain rice\n",
      "\t\tingredient :  raw white rice\n",
      "\n",
      "\n",
      "\n",
      "\n",
      "Representative term :  pork  ( 3  times)\n",
      "\tusda food item :  Pork, fresh, backfat, raw\n",
      "\t\tingredient :  pork\n",
      "\n",
      "\n",
      "\tusda food item :  Pork, fresh, shoulder, whole, separable lean only, raw\n",
      "\t\tingredient :  pork shoulder\n",
      "\t\tingredient :  lean pork\n",
      "\n",
      "\n",
      "\tusda food item :  Pork, fresh, shoulder, (Boston butt), blade (steaks), separable lean and fat, raw\n",
      "\t\tingredient :  pork shoulder butt\n",
      "\t\tingredient :  pork steak\n",
      "\n",
      "\n",
      "\n",
      "\n",
      "Representative term :  steak  ( 3  times)\n",
      "\tusda food item :  Beef, grass-fed, strip steaks, lean only, raw\n",
      "\t\tingredient :  lean beef\n",
      "\t\tingredient :  beef steak\n",
      "\t\tingredient :  lean steak\n",
      "\t\tingredient :  strip steak\n",
      "\n",
      "\n",
      "\tusda food item :  Salisbury steak with gravy, frozen\n",
      "\t\tingredient :  steak\n",
      "\n",
      "\n",
      "\tusda food item :  Beef, loin, tenderloin steak, boneless, separable lean only, trimmed to 0\" fat, all grades, raw\n",
      "\t\tingredient :  beef tenderloin steak\n",
      "\t\tingredient :  beef fillet\n",
      "\t\tingredient :  steak fillet\n",
      "\t\tingredient :  tenderloin steak\n",
      "\n",
      "\n",
      "\n",
      "\n",
      "Representative term :  chocolate  ( 3  times)\n",
      "\tusda food item :  SILK Chocolate, soymilk\n",
      "\t\tingredient :  chocolate\n",
      "\n",
      "\n",
      "\tusda food item :  Baking chocolate, unsweetened, squares\n",
      "\t\tingredient :  squares chocolate\n",
      "\t\tingredient :  square chocolate\n",
      "\t\tingredient :  squares baking chocolate\n",
      "\t\tingredient :  chocolate square\n",
      "\n",
      "\n",
      "\tusda food item :  Baking chocolate, mexican, squares\n",
      "\t\tingredient :  baking chocolate\n",
      "\t\tingredient :  mexican chocolate\n",
      "\n",
      "\n",
      "\n",
      "\n",
      "Representative term :  onion  ( 2  times)\n",
      "\tusda food item :  Onions, raw\n",
      "\t\tingredient :  onion\n",
      "\t\tingredient :  raw onion\n",
      "\n",
      "\n",
      "\tusda food item :  Onions, spring or scallions (includes tops and bulb), raw\n",
      "\t\tingredient :  scallion\n",
      "\t\tingredient :  spring onion\n",
      "\t\tingredient :  or onion\n",
      "\n",
      "\n",
      "\n",
      "\n",
      "Representative term :  butter  ( 2  times)\n",
      "\tusda food item :  Butter, without salt\n",
      "\t\tingredient :  butter\n",
      "\n",
      "\n",
      "\tusda food item :  Butter, light, stick, without salt\n",
      "\t\tingredient :  stick butter\n",
      "\t\tingredient :  sticks butter\n",
      "\n",
      "\n",
      "\n",
      "\n"
     ]
    }
   ],
   "source": [
    "for c in con.most_common()[:10] :\n",
    "    print(\"Representative term : \", c[0], \" (\", c[1], \" times)\")\n",
    "    matching_keys = []\n",
    "    for key in representative_keys :\n",
    "        if representative_keys[key]== c[0] :\n",
    "            print(\"\\tusda food item : \", item_describe[str(key)])\n",
    "            \n",
    "            for ing in collisions[key] :\n",
    "                print(\"\\t\\tingredient : \", ing)\n",
    "            print(\"\\n\")\n",
    "            \n",
    "    print(\"\\n\")\n",
    "    "
   ]
  },
  {
   "cell_type": "markdown",
   "metadata": {},
   "source": [
    "> We choose to remember the representative string because we find it good"
   ]
  },
  {
   "cell_type": "code",
   "execution_count": 9,
   "metadata": {},
   "outputs": [],
   "source": [
    "if high_score :\n",
    "    json.dump(representative_keys, open(\"./../generated/high_score_key_representative.json\" , 'w'))\n",
    "else :\n",
    "    json.dump(representative_keys, open(\"./../generated/low_score_key_representative.json\" , 'w'))"
   ]
  },
  {
   "cell_type": "markdown",
   "metadata": {},
   "source": [
    "### rewrite recipes with representatives ingredients"
   ]
  },
  {
   "cell_type": "code",
   "execution_count": 10,
   "metadata": {},
   "outputs": [
    {
     "name": "stdout",
     "output_type": "stream",
     "text": [
      "representative :  79.53772509292816 %\n",
      "unmapped :  20.46227490707185 %\n"
     ]
    }
   ],
   "source": [
    "frequent_ingredients = set(ingredients_count.keys())\n",
    "usda_mapped = set([ing for ing in ing_mapping])\n",
    "representative_mapped = set([index for index in representative_keys])\n",
    "\n",
    "a = cleaned_kaggle_recipes.copy()\n",
    "a.extend(cleaned_cookies_recipes.copy())\n",
    "\n",
    "representative_count = 0\n",
    "unmapped_count = 0\n",
    "total_count = 0\n",
    "all_repr_recipes = []\n",
    "\n",
    "for recipe in a :\n",
    "    repr_ingredients = []\n",
    "\n",
    "    for ing in recipe :\n",
    "        if ing in frequent_ingredients :\n",
    "\n",
    "            total_count += 1\n",
    "\n",
    "            if ing in usda_mapped :\n",
    "                usda_id = ing_mapping[ing]\n",
    "                if usda_id in representative_mapped :\n",
    "                    repr_ingredients.append(representative_keys[usda_id])\n",
    "                    representative_count += 1\n",
    "                else :\n",
    "                    repr_ingredients.append(item_describe[str(usda_id)])\n",
    "\n",
    "            else :\n",
    "                repr_ingredients.append(ing)\n",
    "                unmapped_count += 1\n",
    "\n",
    "    if len(repr_ingredients) != 0 :\n",
    "        all_repr_recipes.append(repr_ingredients)\n",
    "    \n",
    "repr_perc = 100 * representative_count / total_count\n",
    "unmapped_perc = 100*unmapped_count / total_count\n",
    "print(\"representative : \", repr_perc, \"%\")\n",
    "print(\"unmapped : \", unmapped_perc, \"%\")\n",
    "\n",
    "#save result\n",
    "if high_score :\n",
    "    json.dump(all_repr_recipes, open(\"./../generated/high_score_repr_recipes.json\", 'w'))\n",
    "else :\n",
    "    json.dump(all_repr_recipes, open(\"./../generated/low_score_repr_recipes.json\", 'w'))"
   ]
  },
  {
   "cell_type": "code",
   "execution_count": 11,
   "metadata": {},
   "outputs": [
    {
     "name": "stdout",
     "output_type": "stream",
     "text": [
      "Final nb of ingredients :  4626\n",
      "orignial nb :  32960  (= 5422 + 27538 )\n"
     ]
    }
   ],
   "source": [
    "print(\"Final nb of ingredients : \", len(set([ingr for rec in all_repr_recipes for ingr in rec])))\n",
    "kaggle_nb = len(set([ingr for rec in cleaned_kaggle_recipes for ingr in rec]))\n",
    "cookies_nb = len(set([ingr for rec in cleaned_cookies_recipes for ingr in rec]))\n",
    "print(\"orignial nb : \", kaggle_nb + cookies_nb, \" (=\", kaggle_nb, \"+\", cookies_nb, \")\" )"
   ]
  }
 ],
 "metadata": {
  "kernelspec": {
   "display_name": "Python 3",
   "language": "python",
   "name": "python3"
  },
  "language_info": {
   "codemirror_mode": {
    "name": "ipython",
    "version": 3
   },
   "file_extension": ".py",
   "mimetype": "text/x-python",
   "name": "python",
   "nbconvert_exporter": "python",
   "pygments_lexer": "ipython3",
   "version": "3.7.0"
  }
 },
 "nbformat": 4,
 "nbformat_minor": 2
}

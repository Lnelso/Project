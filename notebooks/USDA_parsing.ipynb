{
 "cells": [
  {
   "cell_type": "markdown",
   "metadata": {},
   "source": [
    "# imports"
   ]
  },
  {
   "cell_type": "code",
   "execution_count": 1,
   "metadata": {},
   "outputs": [],
   "source": [
    "import pandas as pd\n",
    "import numpy as np\n",
    "import re\n",
    "import tqdm\n",
    "import itertools\n",
    "import json\n",
    "import inflect"
   ]
  },
  {
   "cell_type": "code",
   "execution_count": 2,
   "metadata": {},
   "outputs": [],
   "source": [
    "def print_bold(str):\n",
    "    print('\\033[1m' + str + '\\033[0m')"
   ]
  },
  {
   "cell_type": "markdown",
   "metadata": {},
   "source": [
    "# files paths"
   ]
  },
  {
   "cell_type": "code",
   "execution_count": 3,
   "metadata": {},
   "outputs": [],
   "source": [
    "#where to find useful data\n",
    "food_des_path = \"./../data/usda/FOOD_DES.txt\"\n",
    "food_groups_path = \"./../data/usda/FD_GROUP.txt\"\n",
    "nut_data_path = \"./../data/usda/NUT_DATA.txt\"\n",
    "nut_def_path = \"./../data/usda/NUTR_DEF.txt\"\n",
    "\n",
    "all_paths = [food_des_path, food_groups_path, nut_data_path, nut_def_path]"
   ]
  },
  {
   "cell_type": "markdown",
   "metadata": {},
   "source": [
    "# Load and filter food group description"
   ]
  },
  {
   "cell_type": "markdown",
   "metadata": {},
   "source": [
    "### info about the different food groups contained in the USDA database"
   ]
  },
  {
   "cell_type": "code",
   "execution_count": 4,
   "metadata": {},
   "outputs": [
    {
     "data": {
      "text/html": [
       "<div>\n",
       "<style scoped>\n",
       "    .dataframe tbody tr th:only-of-type {\n",
       "        vertical-align: middle;\n",
       "    }\n",
       "\n",
       "    .dataframe tbody tr th {\n",
       "        vertical-align: top;\n",
       "    }\n",
       "\n",
       "    .dataframe thead th {\n",
       "        text-align: right;\n",
       "    }\n",
       "</style>\n",
       "<table border=\"1\" class=\"dataframe\">\n",
       "  <thead>\n",
       "    <tr style=\"text-align: right;\">\n",
       "      <th></th>\n",
       "      <th>food_group_name</th>\n",
       "    </tr>\n",
       "    <tr>\n",
       "      <th>food_group_id</th>\n",
       "      <th></th>\n",
       "    </tr>\n",
       "  </thead>\n",
       "  <tbody>\n",
       "    <tr>\n",
       "      <th>100</th>\n",
       "      <td>Dairy and Egg Products</td>\n",
       "    </tr>\n",
       "    <tr>\n",
       "      <th>200</th>\n",
       "      <td>Spices and Herbs</td>\n",
       "    </tr>\n",
       "    <tr>\n",
       "      <th>300</th>\n",
       "      <td>Baby Foods</td>\n",
       "    </tr>\n",
       "    <tr>\n",
       "      <th>400</th>\n",
       "      <td>Fats and Oils</td>\n",
       "    </tr>\n",
       "    <tr>\n",
       "      <th>500</th>\n",
       "      <td>Poultry Products</td>\n",
       "    </tr>\n",
       "    <tr>\n",
       "      <th>600</th>\n",
       "      <td>Soups, Sauces, and Gravies</td>\n",
       "    </tr>\n",
       "    <tr>\n",
       "      <th>700</th>\n",
       "      <td>Sausages and Luncheon Meats</td>\n",
       "    </tr>\n",
       "    <tr>\n",
       "      <th>800</th>\n",
       "      <td>Breakfast Cereals</td>\n",
       "    </tr>\n",
       "    <tr>\n",
       "      <th>900</th>\n",
       "      <td>Fruits and Fruit Juices</td>\n",
       "    </tr>\n",
       "    <tr>\n",
       "      <th>1000</th>\n",
       "      <td>Pork Products</td>\n",
       "    </tr>\n",
       "    <tr>\n",
       "      <th>1100</th>\n",
       "      <td>Vegetables and Vegetable Products</td>\n",
       "    </tr>\n",
       "    <tr>\n",
       "      <th>1200</th>\n",
       "      <td>Nut and Seed Products</td>\n",
       "    </tr>\n",
       "    <tr>\n",
       "      <th>1300</th>\n",
       "      <td>Beef Products</td>\n",
       "    </tr>\n",
       "    <tr>\n",
       "      <th>1400</th>\n",
       "      <td>Beverages</td>\n",
       "    </tr>\n",
       "    <tr>\n",
       "      <th>1500</th>\n",
       "      <td>Finfish and Shellfish Products</td>\n",
       "    </tr>\n",
       "    <tr>\n",
       "      <th>1600</th>\n",
       "      <td>Legumes and Legume Products</td>\n",
       "    </tr>\n",
       "    <tr>\n",
       "      <th>1700</th>\n",
       "      <td>Lamb, Veal, and Game Products</td>\n",
       "    </tr>\n",
       "    <tr>\n",
       "      <th>1800</th>\n",
       "      <td>Baked Products</td>\n",
       "    </tr>\n",
       "    <tr>\n",
       "      <th>1900</th>\n",
       "      <td>Sweets</td>\n",
       "    </tr>\n",
       "    <tr>\n",
       "      <th>2000</th>\n",
       "      <td>Cereal Grains and Pasta</td>\n",
       "    </tr>\n",
       "    <tr>\n",
       "      <th>2100</th>\n",
       "      <td>Fast Foods</td>\n",
       "    </tr>\n",
       "    <tr>\n",
       "      <th>2200</th>\n",
       "      <td>Meals, Entrees, and Side Dishes</td>\n",
       "    </tr>\n",
       "    <tr>\n",
       "      <th>2500</th>\n",
       "      <td>Snacks</td>\n",
       "    </tr>\n",
       "    <tr>\n",
       "      <th>3500</th>\n",
       "      <td>American Indian/Alaska Native Foods</td>\n",
       "    </tr>\n",
       "    <tr>\n",
       "      <th>3600</th>\n",
       "      <td>Restaurant Foods</td>\n",
       "    </tr>\n",
       "  </tbody>\n",
       "</table>\n",
       "</div>"
      ],
      "text/plain": [
       "                                   food_group_name\n",
       "food_group_id                                     \n",
       "100                         Dairy and Egg Products\n",
       "200                               Spices and Herbs\n",
       "300                                     Baby Foods\n",
       "400                                  Fats and Oils\n",
       "500                               Poultry Products\n",
       "600                     Soups, Sauces, and Gravies\n",
       "700                    Sausages and Luncheon Meats\n",
       "800                              Breakfast Cereals\n",
       "900                        Fruits and Fruit Juices\n",
       "1000                                 Pork Products\n",
       "1100             Vegetables and Vegetable Products\n",
       "1200                         Nut and Seed Products\n",
       "1300                                 Beef Products\n",
       "1400                                     Beverages\n",
       "1500                Finfish and Shellfish Products\n",
       "1600                   Legumes and Legume Products\n",
       "1700                 Lamb, Veal, and Game Products\n",
       "1800                                Baked Products\n",
       "1900                                        Sweets\n",
       "2000                       Cereal Grains and Pasta\n",
       "2100                                    Fast Foods\n",
       "2200               Meals, Entrees, and Side Dishes\n",
       "2500                                        Snacks\n",
       "3500           American Indian/Alaska Native Foods\n",
       "3600                              Restaurant Foods"
      ]
     },
     "execution_count": 4,
     "metadata": {},
     "output_type": "execute_result"
    }
   ],
   "source": [
    "columns = [\"food_group_id\", \"food_group_name\"]\n",
    "\n",
    "food_groups = pd.read_csv(food_groups_path, sep=\"^\", encoding=\"ISO-8859-1\", names=columns, header=None)\n",
    "\n",
    "food_groups.set_index(\"food_group_id\", inplace=True)\n",
    "\n",
    "food_groups"
   ]
  },
  {
   "cell_type": "markdown",
   "metadata": {},
   "source": [
    "### we decide to drop :\n",
    "\n",
    ">* Baby food (300)\n",
    ">* dressing in 400\n",
    ">* soup in 600\n",
    ">* Breakfast Cereals (800)\n",
    ">* Beverages (1400) except water\n",
    ">* Baked products (1800) \n",
    ">* Sweets (1900) except Baking products (chocolate)\n",
    ">* Fast Foods (2100)\n",
    ">* Meals, Entrees, and Side Dishes (2200)\n",
    ">* Snacks (2500)\n",
    ">* Restaurant food (3600)\n"
   ]
  },
  {
   "cell_type": "markdown",
   "metadata": {},
   "source": [
    "# Load and clean food description table"
   ]
  },
  {
   "cell_type": "markdown",
   "metadata": {},
   "source": [
    "#### Info about each individual product"
   ]
  },
  {
   "cell_type": "code",
   "execution_count": 5,
   "metadata": {
    "collapsed": true
   },
   "outputs": [],
   "source": [
    "#take a description-like syntax and return the list of words, filtering  no negation\n",
    "def split_des_in_list(des) :\n",
    "    \n",
    "    cats = re.sub(\"[()]\", \"\", des).strip().lower().split(',')    \n",
    "    final_list = []\n",
    "    \n",
    "    for c in cats :        \n",
    "        words_list = c.strip().split(\" \")\n",
    "        \n",
    "        if ((\"no\" not in words_list) and (\"without\" not in words_list)) :\n",
    "            final_list.extend([c.strip().lower() for c in words_list if c != \"with\"])\n",
    "    \n",
    "    return final_list\n",
    "    \n",
    "    \n",
    "#return [w.strip() for c in des.split(\",\") for w in c.strip().lower().split(' ')]\n",
    "\n",
    "#singularize a word if plural\n",
    "def singularize_word(x) :\n",
    "    if engine.singular_noun(x) :\n",
    "        return engine.singular_noun(x)\n",
    "    else :\n",
    "        return x\n",
    "        \n",
    "#clean the description(lowercases, strips, singularization)\n",
    "def format_long_des(x) :\n",
    "        \n",
    "    if str(x) == \"nan\" :\n",
    "        return \"\"    \n",
    "    \n",
    "    split = split_des_in_list(x)\n",
    "    \n",
    "    #decompose description\n",
    "    words = [c for c in split]\n",
    "    \n",
    "    #singularize words\n",
    "    sing_words = [singularize_word(x) for x in words]\n",
    "    \n",
    "    #rebuild description\n",
    "    return str(\" \".join(sing_words))\n",
    "\n",
    "def concat_common_and_des(common, des) :\n",
    "    if common != \"\" :\n",
    "        return common.split(\" \") + des.split(\" \")\n",
    "    else :\n",
    "        return des.split(\" \")"
   ]
  },
  {
   "cell_type": "code",
   "execution_count": 6,
   "metadata": {},
   "outputs": [
    {
     "name": "stdout",
     "output_type": "stream",
     "text": [
      "original table format : \n",
      "   food_id  food_group_id            long_description common_names\n",
      "0     1001            100              Butter, salted          NaN\n",
      "1     1002            100  Butter, whipped, with salt          NaN\n",
      "2     1003            100       Butter oil, anhydrous          NaN\n",
      "3     1004            100                Cheese, blue          NaN\n",
      "4     1005            100               Cheese, brick          NaN\n",
      "\n",
      "\n",
      "new table format\n"
     ]
    },
    {
     "data": {
      "text/html": [
       "<div>\n",
       "<style scoped>\n",
       "    .dataframe tbody tr th:only-of-type {\n",
       "        vertical-align: middle;\n",
       "    }\n",
       "\n",
       "    .dataframe tbody tr th {\n",
       "        vertical-align: top;\n",
       "    }\n",
       "\n",
       "    .dataframe thead th {\n",
       "        text-align: right;\n",
       "    }\n",
       "</style>\n",
       "<table border=\"1\" class=\"dataframe\">\n",
       "  <thead>\n",
       "    <tr style=\"text-align: right;\">\n",
       "      <th></th>\n",
       "      <th>food_id</th>\n",
       "      <th>food_group_id</th>\n",
       "      <th>long_description</th>\n",
       "      <th>search_words</th>\n",
       "    </tr>\n",
       "  </thead>\n",
       "  <tbody>\n",
       "    <tr>\n",
       "      <th>0</th>\n",
       "      <td>1001</td>\n",
       "      <td>100</td>\n",
       "      <td>Butter, salted</td>\n",
       "      <td>[butter, salted]</td>\n",
       "    </tr>\n",
       "    <tr>\n",
       "      <th>1</th>\n",
       "      <td>1002</td>\n",
       "      <td>100</td>\n",
       "      <td>Butter, whipped, with salt</td>\n",
       "      <td>[butter, whipped, salt]</td>\n",
       "    </tr>\n",
       "    <tr>\n",
       "      <th>2</th>\n",
       "      <td>1003</td>\n",
       "      <td>100</td>\n",
       "      <td>Butter oil, anhydrous</td>\n",
       "      <td>[butter, oil, anhydrou]</td>\n",
       "    </tr>\n",
       "    <tr>\n",
       "      <th>3</th>\n",
       "      <td>1004</td>\n",
       "      <td>100</td>\n",
       "      <td>Cheese, blue</td>\n",
       "      <td>[cheese, blue]</td>\n",
       "    </tr>\n",
       "    <tr>\n",
       "      <th>4</th>\n",
       "      <td>1005</td>\n",
       "      <td>100</td>\n",
       "      <td>Cheese, brick</td>\n",
       "      <td>[cheese, brick]</td>\n",
       "    </tr>\n",
       "  </tbody>\n",
       "</table>\n",
       "</div>"
      ],
      "text/plain": [
       "   food_id  food_group_id            long_description             search_words\n",
       "0     1001            100              Butter, salted         [butter, salted]\n",
       "1     1002            100  Butter, whipped, with salt  [butter, whipped, salt]\n",
       "2     1003            100       Butter oil, anhydrous  [butter, oil, anhydrou]\n",
       "3     1004            100                Cheese, blue           [cheese, blue]\n",
       "4     1005            100               Cheese, brick          [cheese, brick]"
      ]
     },
     "execution_count": 6,
     "metadata": {},
     "output_type": "execute_result"
    }
   ],
   "source": [
    "#generate singularization engine\n",
    "engine = inflect.engine()\n",
    "\n",
    "#columns we want to retrieve from the database files\n",
    "columns = [\"food_id\", \"food_group_id\", \"long_description\", \"common_names\"]\n",
    "use_cols = [0, 1, 2, 4]\n",
    "\n",
    "#get the info from file\n",
    "food_des = pd.read_csv(food_des_path, sep=\"^\", encoding=\"ISO-8859-1\", names=columns, usecols=use_cols, header=None)\n",
    "\n",
    "#display original table format\n",
    "print_bold(\"original table format : \")\n",
    "print(food_des.head())\n",
    "\n",
    "\n",
    "# generate search_words\n",
    "food_des['search_words'] = food_des.apply(lambda row : concat_common_and_des(format_long_des(row['common_names']),\n",
    "                                                                             format_long_des(row['long_description'])),\n",
    "                                                                             axis=1)\n",
    "\n",
    "#drop common_names column\n",
    "food_des = food_des.drop(\"common_names\", axis=1)\n",
    "            \n",
    "print_bold(\"\\n\\nnew table format\")\n",
    "food_des.head()"
   ]
  },
  {
   "cell_type": "code",
   "execution_count": 7,
   "metadata": {},
   "outputs": [
    {
     "data": {
      "text/html": [
       "<div>\n",
       "<style scoped>\n",
       "    .dataframe tbody tr th:only-of-type {\n",
       "        vertical-align: middle;\n",
       "    }\n",
       "\n",
       "    .dataframe tbody tr th {\n",
       "        vertical-align: top;\n",
       "    }\n",
       "\n",
       "    .dataframe thead th {\n",
       "        text-align: right;\n",
       "    }\n",
       "</style>\n",
       "<table border=\"1\" class=\"dataframe\">\n",
       "  <thead>\n",
       "    <tr style=\"text-align: right;\">\n",
       "      <th></th>\n",
       "      <th>food_id</th>\n",
       "      <th>food_group_id</th>\n",
       "      <th>long_description</th>\n",
       "      <th>search_words</th>\n",
       "    </tr>\n",
       "  </thead>\n",
       "  <tbody>\n",
       "    <tr>\n",
       "      <th>276</th>\n",
       "      <td>2014</td>\n",
       "      <td>200</td>\n",
       "      <td>Spices, cumin seed</td>\n",
       "      <td>[spice, cumin, seed]</td>\n",
       "    </tr>\n",
       "  </tbody>\n",
       "</table>\n",
       "</div>"
      ],
      "text/plain": [
       "     food_id  food_group_id    long_description          search_words\n",
       "276     2014            200  Spices, cumin seed  [spice, cumin, seed]"
      ]
     },
     "execution_count": 7,
     "metadata": {},
     "output_type": "execute_result"
    }
   ],
   "source": [
    "food_des[food_des[\"food_id\"] == 2014]"
   ]
  },
  {
   "cell_type": "markdown",
   "metadata": {},
   "source": [
    "#### define a search function for mapping recipes ingredients"
   ]
  },
  {
   "cell_type": "code",
   "execution_count": 7,
   "metadata": {},
   "outputs": [
    {
     "name": "stdout",
     "output_type": "stream",
     "text": [
      "      food_id  food_group_id                               long_description  \\\n",
      "2439    11011           1100                                 Asparagus, raw   \n",
      "2443    11018           1100                  Asparagus, frozen, unprepared   \n",
      "2442    11015           1100              Asparagus, canned, drained solids   \n",
      "2440    11012           1100             Asparagus, cooked, boiled, drained   \n",
      "2936    11705           1100  Asparagus, cooked, boiled, drained, with salt   \n",
      "\n",
      "                                   search_words  search_score  \n",
      "2439                            [asparagu, raw]     11.000000  \n",
      "2443             [asparagu, frozen, unprepared]     10.444444  \n",
      "2442         [asparagu, canned, drained, solid]     10.333333  \n",
      "2440        [asparagu, cooked, boiled, drained]     10.333333  \n",
      "2936  [asparagu, cooked, boiled, drained, salt]     10.266667  \n"
     ]
    },
    {
     "data": {
      "text/plain": [
       "'asparagu raw'"
      ]
     },
     "execution_count": 7,
     "metadata": {},
     "output_type": "execute_result"
    }
   ],
   "source": [
    "def search_ingredient(ingredient, print_search_candidates=False) :\n",
    "    \n",
    "    #do not penalize the presence of those words, 'table' is for the salt\n",
    "    non_complexificators = set([\"fresh\", \"raw\", \"skin\", \"peel\", \"whole\"])\n",
    "    \n",
    "    def search_score(categories, ing_words) :\n",
    "        \n",
    "        # singularize search words\n",
    "        ing_words = set([singularize_word(x) for x in ing_words])\n",
    "        \n",
    "        #prioritize matching query terms\n",
    "        nb_matching = len(ing_words.intersection(set(categories)))\n",
    "        \n",
    "        #non_complexificators should not be penalized,ignore them AFTER computing number of matching words\n",
    "        categories = [c for c in categories if (c not in non_complexificators)]\n",
    "        \n",
    "        \n",
    "        #matching keywords one by one \n",
    "        matching = [len(set([x]).intersection(ing_words)) != 0 for x in categories]\n",
    "            \n",
    "        \n",
    "        #first keywords are more important\n",
    "        weights = np.linspace(2, 1, num=len(matching))\n",
    "        weights = weights / sum(weights)\n",
    "        \n",
    "        #the query should have as many ingredients words as possible\n",
    "        score = (10 * nb_matching) + sum([c[0] * c[1] for c in zip(matching, weights)])\n",
    "        \n",
    "        return score\n",
    "    \n",
    "    \n",
    "    ing_words = set(ingredient.split(\" \"))       \n",
    "    \n",
    "    #compute search score for each entry and sort them by score (descending order)\n",
    "    food_des[\"search_score\"] = food_des[\"search_words\"].apply(lambda x : search_score(x, ing_words))  \n",
    "    food_des_sorted = food_des.sort_values(by=['search_score'], ascending=False)\n",
    "\n",
    "    #print best candidates\n",
    "    if print_search_candidates :\n",
    "        print(food_des_sorted.head())\n",
    "\n",
    "    #best score\n",
    "    result = food_des_sorted[[\"food_id\", \"search_words\", \"search_score\"]].head(1)        \n",
    "\n",
    "    #check if we found a positive score\n",
    "    if result[\"search_score\"].values[0] != 0 :\n",
    "        return result, result[\"search_score\"].values[0]\n",
    "    else :\n",
    "        return None, 0\n",
    "    \n",
    "    \n",
    "\" \".join(search_ingredient(\"asparagus\", print_search_candidates=True)[0]['search_words'].values[0])"
   ]
  },
  {
   "cell_type": "code",
   "execution_count": 8,
   "metadata": {},
   "outputs": [
    {
     "name": "stderr",
     "output_type": "stream",
     "text": [
      "100%|██████████████████████████████████████████████████████████████████████████| 11233/11233 [2:29:24<00:00,  1.13it/s]\n"
     ]
    }
   ],
   "source": [
    "all_ingredients_ids = {}\n",
    "total_ing_count = 0\n",
    "mapped_at_least_one_ing_count = 0\n",
    "mapped_all_ing_count = 0\n",
    "ingredients = json.load(open(\"../generated/ingredients_count.json\"))['count']\n",
    "\n",
    "for k, v in tqdm.tqdm(ingredients.items()) :\n",
    "    #print(k, v)\n",
    "    cats, score = search_ingredient(k, print_search_candidates=False)\n",
    "    total_ing_count += v\n",
    "     \n",
    "    if score >= 10 * len(k.split(\" \")) :\n",
    "        mapped_all_ing_count += v\n",
    "        all_ingredients_ids[k] = int(cats['food_id'].values[0])\n",
    "                         \n",
    "        \n",
    "#save mapping\n",
    "json.dump(all_ingredients_ids, open(\"../generated/ing_id_mapping.json\", 'w'))"
   ]
  },
  {
   "cell_type": "markdown",
   "metadata": {},
   "source": [
    "> Good, the mapping is done ! How many ingredients were we able to map effectively ?"
   ]
  },
  {
   "cell_type": "code",
   "execution_count": 10,
   "metadata": {},
   "outputs": [
    {
     "name": "stdout",
     "output_type": "stream",
     "text": [
      "23.58% of ingredients were mapped succesfully (all words matched)\n"
     ]
    }
   ],
   "source": [
    "print_bold(\"{0:.2f}\".format(100 * len(all_ingredients_ids) / len(ingredients)) + \"% of ingredients were mapped succesfully (all words matched)\")"
   ]
  },
  {
   "cell_type": "markdown",
   "metadata": {},
   "source": [
    "> It occurs that some ingredients are much more common that others, thus, it is more important to map those ingredients than to map the less frequent ones. What if we weight the success rate given the number of times the ingredients appear in recipes ?"
   ]
  },
  {
   "cell_type": "code",
   "execution_count": 13,
   "metadata": {},
   "outputs": [
    {
     "data": {
      "text/plain": [
       "2649"
      ]
     },
     "execution_count": 13,
     "metadata": {},
     "output_type": "execute_result"
    }
   ],
   "source": [
    "len(all_ingredients_ids)"
   ]
  },
  {
   "cell_type": "code",
   "execution_count": 11,
   "metadata": {},
   "outputs": [
    {
     "name": "stdout",
     "output_type": "stream",
     "text": [
      "high score : you have 81.07% of chance to find a matching database entry for any recipe ingredients entry\n"
     ]
    }
   ],
   "source": [
    "print_bold(\"You have {0:.2f}\".format(100 * mapped_all_ing_count / total_ing_count) + \"% of chance to find a matching database entry for any recipe ingredients entry\")"
   ]
  },
  {
   "cell_type": "markdown",
   "metadata": {},
   "source": [
    "#### save the long_description for food items description purposes"
   ]
  },
  {
   "cell_type": "code",
   "execution_count": 19,
   "metadata": {},
   "outputs": [
    {
     "name": "stderr",
     "output_type": "stream",
     "text": [
      "100%|████████████████████████████████████████████████████████████████████████████| 1863/1863 [00:00<00:00, 2253.23it/s]\n"
     ]
    },
    {
     "name": "stdout",
     "output_type": "stream",
     "text": [
      "1863\n"
     ]
    }
   ],
   "source": [
    "id_describe = dict()\n",
    "high_mapping = all_ingredients_ids\n",
    "all_ids = list(set([high_mapping[c] for c in high_mapping]))\n",
    "for index in tqdm.tqdm(all_ids) :\n",
    "    id_describe[index] = food_des[food_des['food_id'] == index]['long_description'].values[0]\n",
    "    \n",
    "print(len(id_describe))\n",
    "json.dump(id_describe, open(\"../generated/id_description.json\", 'w'))"
   ]
  },
  {
   "cell_type": "markdown",
   "metadata": {},
   "source": [
    "# nutrient and RDI linking"
   ]
  },
  {
   "cell_type": "markdown",
   "metadata": {},
   "source": [
    "#### import RDI values"
   ]
  },
  {
   "cell_type": "code",
   "execution_count": 21,
   "metadata": {},
   "outputs": [
    {
     "data": {
      "text/plain": [
       "array(['alpha-linoleic acid', 'Biotin', 'Calcium', 'Carbohydrate',\n",
       "       'Chloride', 'Choline', 'Chromium', 'Copper', 'Fat', 'Fiber',\n",
       "       'Fluoride', 'Folate', 'Iodine', 'Iron', 'Linoleic acid',\n",
       "       'Magnesium', 'Manganese', 'Molybdenum', 'Monousaturated fat',\n",
       "       'Niacin', 'Pantothenic acid', 'Phosphorus', 'Polyunsaturated fat',\n",
       "       'Potassium', 'Protein', 'Riboflavin', 'Saturated fat', 'Selenium',\n",
       "       'Sodium', 'Sugar', 'Thiamin', 'Vitamin A', 'Vitamin B6',\n",
       "       'Vitamin B12', 'Vitamin C', 'Vitamin D', 'Vitamin E', 'Vitamin K',\n",
       "       'Water', 'Zinc'], dtype=object)"
      ]
     },
     "execution_count": 21,
     "metadata": {},
     "output_type": "execute_result"
    }
   ],
   "source": [
    "rdi = pd.read_excel(\"../data/RDI.xlsx\")\n",
    "rdi_nutrients = rdi['nutrient'].values\n",
    "rdi_nutrients"
   ]
  },
  {
   "cell_type": "markdown",
   "metadata": {},
   "source": [
    "#### Load and filter Nutrient definition"
   ]
  },
  {
   "cell_type": "code",
   "execution_count": 22,
   "metadata": {},
   "outputs": [
    {
     "data": {
      "text/html": [
       "<div>\n",
       "<style scoped>\n",
       "    .dataframe tbody tr th:only-of-type {\n",
       "        vertical-align: middle;\n",
       "    }\n",
       "\n",
       "    .dataframe tbody tr th {\n",
       "        vertical-align: top;\n",
       "    }\n",
       "\n",
       "    .dataframe thead th {\n",
       "        text-align: right;\n",
       "    }\n",
       "</style>\n",
       "<table border=\"1\" class=\"dataframe\">\n",
       "  <thead>\n",
       "    <tr style=\"text-align: right;\">\n",
       "      <th></th>\n",
       "      <th>nutrient_id</th>\n",
       "      <th>units</th>\n",
       "      <th>tagname</th>\n",
       "      <th>description</th>\n",
       "    </tr>\n",
       "  </thead>\n",
       "  <tbody>\n",
       "    <tr>\n",
       "      <th>0</th>\n",
       "      <td>203</td>\n",
       "      <td>g</td>\n",
       "      <td>PROCNT</td>\n",
       "      <td>Protein</td>\n",
       "    </tr>\n",
       "    <tr>\n",
       "      <th>1</th>\n",
       "      <td>204</td>\n",
       "      <td>g</td>\n",
       "      <td>FAT</td>\n",
       "      <td>Total lipid (fat)</td>\n",
       "    </tr>\n",
       "    <tr>\n",
       "      <th>2</th>\n",
       "      <td>205</td>\n",
       "      <td>g</td>\n",
       "      <td>CHOCDF</td>\n",
       "      <td>Carbohydrate, by difference</td>\n",
       "    </tr>\n",
       "    <tr>\n",
       "      <th>3</th>\n",
       "      <td>207</td>\n",
       "      <td>g</td>\n",
       "      <td>ASH</td>\n",
       "      <td>Ash</td>\n",
       "    </tr>\n",
       "    <tr>\n",
       "      <th>4</th>\n",
       "      <td>208</td>\n",
       "      <td>kcal</td>\n",
       "      <td>ENERC_KCAL</td>\n",
       "      <td>Energy</td>\n",
       "    </tr>\n",
       "  </tbody>\n",
       "</table>\n",
       "</div>"
      ],
      "text/plain": [
       "   nutrient_id units     tagname                  description\n",
       "0          203     g      PROCNT                      Protein\n",
       "1          204     g         FAT            Total lipid (fat)\n",
       "2          205     g      CHOCDF  Carbohydrate, by difference\n",
       "3          207     g         ASH                          Ash\n",
       "4          208  kcal  ENERC_KCAL                       Energy"
      ]
     },
     "execution_count": 22,
     "metadata": {},
     "output_type": "execute_result"
    }
   ],
   "source": [
    "use_cols = [0, 1, 2, 3]\n",
    "\n",
    "columns = [\"nutrient_id\", \"units\", \"tagname\", \"description\"]\n",
    "\n",
    "nut_def = pd.read_csv(nut_def_path, sep=\"^\", encoding=\"ISO-8859-1\", names=columns, usecols=use_cols, header=None)\n",
    "\n",
    "nut_def.head(5)"
   ]
  },
  {
   "cell_type": "markdown",
   "metadata": {},
   "source": [
    "#### map rdi values with corresponding USDA nutrients"
   ]
  },
  {
   "cell_type": "code",
   "execution_count": 23,
   "metadata": {},
   "outputs": [
    {
     "name": "stdout",
     "output_type": "stream",
     "text": [
      "No mapping for  alpha-linoleic acid\n",
      "No mapping for  Biotin\n",
      "No mapping for  Chloride\n",
      "No mapping for  Chromium\n",
      "\n",
      "conflict for  Fat  : \n",
      "\t-  Fatty acids, total trans\n",
      "\t-  Fatty acids, total saturated\n",
      "\t-  Fatty acids, total monounsaturated\n",
      "\t-  Fatty acids, total polyunsaturated\n",
      "\t-  Fatty acids, total trans-monoenoic\n",
      "\t-  Fatty acids, total trans-polyenoic\n",
      "\n",
      "\n",
      "\n",
      "conflict for  Folate  : \n",
      "\t-  Folate, total\n",
      "\t-  Folate, food\n",
      "\t-  Folate, DFE\n",
      "\n",
      "\n",
      "No mapping for  Iodine\n",
      "No mapping for  Linoleic acid\n",
      "No mapping for  Molybdenum\n",
      "No mapping for  Monousaturated fat\n",
      "No mapping for  Polyunsaturated fat\n",
      "No mapping for  Saturated fat\n",
      "\n",
      "conflict for  Vitamin A  : \n",
      "\t-  Vitamin A, IU\n",
      "\t-  Vitamin A, RAE\n",
      "\n",
      "\n",
      "No mapping for  Vitamin B6\n",
      "No mapping for  Vitamin B12\n",
      "\n",
      "conflict for  Vitamin D  : \n",
      "\t-  Vitamin D\n",
      "\t-  Vitamin D2 (ergocalciferol)\n",
      "\t-  Vitamin D3 (cholecalciferol)\n",
      "\t-  Vitamin D (D2 + D3)\n",
      "\n",
      "\n",
      "\n",
      "conflict for  Vitamin E  : \n",
      "\t-  Vitamin E (alpha-tocopherol)\n",
      "\t-  Vitamin E, added\n",
      "\n",
      "\n",
      "mapping found for the following nutrients : \n"
     ]
    },
    {
     "data": {
      "text/plain": [
       "{'Calcium': 'Calcium, Ca',\n",
       " 'Carbohydrate': 'Carbohydrate, by difference',\n",
       " 'Choline': 'Choline, total',\n",
       " 'Copper': 'Copper, Cu',\n",
       " 'Fiber': 'Fiber, total dietary',\n",
       " 'Fluoride': 'Fluoride, F',\n",
       " 'Iron': 'Iron, Fe',\n",
       " 'Magnesium': 'Magnesium, Mg',\n",
       " 'Manganese': 'Manganese, Mn',\n",
       " 'Niacin': 'Niacin',\n",
       " 'Pantothenic acid': 'Pantothenic acid',\n",
       " 'Phosphorus': 'Phosphorus, P',\n",
       " 'Potassium': 'Potassium, K',\n",
       " 'Protein': 'Protein',\n",
       " 'Riboflavin': 'Riboflavin',\n",
       " 'Selenium': 'Selenium, Se',\n",
       " 'Sodium': 'Sodium, Na',\n",
       " 'Sugar': 'Sugars, total',\n",
       " 'Thiamin': 'Thiamin',\n",
       " 'Vitamin C': 'Vitamin C, total ascorbic acid',\n",
       " 'Vitamin K': 'Vitamin K (phylloquinone)',\n",
       " 'Water': 'Water',\n",
       " 'Zinc': 'Zinc, Zn'}"
      ]
     },
     "execution_count": 23,
     "metadata": {},
     "output_type": "execute_result"
    }
   ],
   "source": [
    "#try to map rdi elements with database elements automatically\n",
    "mapping = {}\n",
    "still_unmapped = list(rdi_nutrients)\n",
    "\n",
    "for r in rdi_nutrients :\n",
    "    \n",
    "    mapped_count = 0\n",
    "    sev_des = []\n",
    "    \n",
    "    for des in nut_def['description'].values :\n",
    "        if ((r in des) or (des in r)) :\n",
    "            \n",
    "            sev_des.append(des)\n",
    "            mapped_count += 1\n",
    "            \n",
    "            \n",
    "    if mapped_count == 1 :\n",
    "        mapping[r] = sev_des[0]\n",
    "        still_unmapped.remove(r)\n",
    "    \n",
    "    elif mapped_count > 1:\n",
    "        print(\"\\nconflict for \", r , \" : \")\n",
    "        [print(\"\\t- \", c) for c in sev_des]\n",
    "        print(\"\\n\")\n",
    "            \n",
    "    else :\n",
    "        print(\"No mapping for \", r)\n",
    "\n",
    "print_bold(\"mapping found for the following nutrients : \")\n",
    "mapping"
   ]
  },
  {
   "cell_type": "code",
   "execution_count": 24,
   "metadata": {},
   "outputs": [
    {
     "name": "stdout",
     "output_type": "stream",
     "text": [
      "no mapping found for the following nutrients : \n"
     ]
    },
    {
     "data": {
      "text/plain": [
       "['Biotin',\n",
       " 'Chloride',\n",
       " 'Chromium',\n",
       " 'Iodine',\n",
       " 'Molybdenum',\n",
       " 'Monousaturated fat']"
      ]
     },
     "execution_count": 24,
     "metadata": {},
     "output_type": "execute_result"
    }
   ],
   "source": [
    "# solve conficlts manually\n",
    "mapping['Folate'] = \"Folate, total\"\n",
    "mapping['Vitamin A'] = \"Vitamin A, RAE\"\n",
    "mapping['Vitamin D'] = \"Vitamin D (D2 + D3)\"\n",
    "mapping[\"Vitamin E\"] = \"Vitamin E (alpha-tocopherol)\"\n",
    "mapping[\"Monounsaturated fat\"] = \"Fatty acids, total monounsaturated\"\n",
    "mapping[\"Polyunsaturated fat\"] = \"Fatty acids, total polyunsaturated\"\n",
    "mapping[\"Saturated fat\"] = \"Fatty acids, total saturated\"\n",
    "mapping['alpha-linoleic acid'] = \"Alanine\"\n",
    "mapping[\"Vitamin B6\"] = \"Vitamin B-6\"\n",
    "mapping[\"Vitamin B12\"] = \"Vitamin B-12\"\n",
    "mapping['Fat'] = \"Total lipid (fat)\"\n",
    "\n",
    "#we do not want to keep the USDA name, change it in the database\n",
    "mapping['Linoleic acid'] = \"Linoleic acid\"\n",
    "nut_def[\"description\"] = nut_def[\"description\"].replace(\"18:2 undifferentiated\", \"Linoleic acid\")\n",
    "\n",
    "\n",
    "\n",
    "conflicts_solved = [\"Folate\", \"Vitamin A\", \"Vitamin D\", \"Vitamin E\", \"Saturated fat\",\n",
    "                   \"Monounsaturated fat\", \"Polyunsaturated fat\", \"alpha-linoleic acid\",\n",
    "                   \"Vitamin B6\", \"Vitamin B12\", \"Fat\", \"Linoleic acid\"]\n",
    "\n",
    "still_unmapped = [su for su in still_unmapped if (su not in conflicts_solved)]\n",
    "\n",
    "\n",
    "print_bold(\"no mapping found for the following nutrients : \")\n",
    "\n",
    "still_unmapped"
   ]
  },
  {
   "cell_type": "markdown",
   "metadata": {},
   "source": [
    "#### change elements names in rdi data, add nutrient_id column"
   ]
  },
  {
   "cell_type": "code",
   "execution_count": 25,
   "metadata": {},
   "outputs": [],
   "source": [
    "# change rdi elements names\n",
    "rdi['nutrient'] = rdi['nutrient'].apply(lambda x : mapping[x] if x in mapping.keys() else x)\n",
    "rdi = rdi[~(rdi['nutrient'].apply(lambda x : x in still_unmapped))]\n",
    "rdi.set_index(\"nutrient\", inplace=True)\n",
    "\n",
    "#add nutrient_id column\n",
    "#rdi[\"nutrient_id\"] = rdi['element'].apply(lambda x : nut_def[nut_def['description'] == x]['nutrient_id'].values[0])\n",
    "\n",
    "rdi.head()\n",
    "\n",
    "#filter nut_def to keep only mapped elements\n",
    "nut_def = nut_def[nut_def['description'].apply(lambda x : x in rdi.index.values)]"
   ]
  },
  {
   "cell_type": "markdown",
   "metadata": {},
   "source": [
    "#### change RDI values to match USDA units"
   ]
  },
  {
   "cell_type": "code",
   "execution_count": 26,
   "metadata": {},
   "outputs": [
    {
     "data": {
      "text/html": [
       "<div>\n",
       "<style scoped>\n",
       "    .dataframe tbody tr th:only-of-type {\n",
       "        vertical-align: middle;\n",
       "    }\n",
       "\n",
       "    .dataframe tbody tr th {\n",
       "        vertical-align: top;\n",
       "    }\n",
       "\n",
       "    .dataframe thead th {\n",
       "        text-align: right;\n",
       "    }\n",
       "</style>\n",
       "<table border=\"1\" class=\"dataframe\">\n",
       "  <thead>\n",
       "    <tr style=\"text-align: right;\">\n",
       "      <th></th>\n",
       "      <th>Male_RDI(19-30)</th>\n",
       "      <th>Female_RDI(19-30)</th>\n",
       "    </tr>\n",
       "    <tr>\n",
       "      <th>nutrient</th>\n",
       "      <th></th>\n",
       "      <th></th>\n",
       "    </tr>\n",
       "  </thead>\n",
       "  <tbody>\n",
       "    <tr>\n",
       "      <th>Alanine</th>\n",
       "      <td>1.6</td>\n",
       "      <td>1.1</td>\n",
       "    </tr>\n",
       "    <tr>\n",
       "      <th>Calcium, Ca</th>\n",
       "      <td>1000.0</td>\n",
       "      <td>1000.0</td>\n",
       "    </tr>\n",
       "    <tr>\n",
       "      <th>Carbohydrate, by difference</th>\n",
       "      <td>130.0</td>\n",
       "      <td>130.0</td>\n",
       "    </tr>\n",
       "    <tr>\n",
       "      <th>Choline, total</th>\n",
       "      <td>550.0</td>\n",
       "      <td>425.0</td>\n",
       "    </tr>\n",
       "    <tr>\n",
       "      <th>Copper, Cu</th>\n",
       "      <td>0.9</td>\n",
       "      <td>0.9</td>\n",
       "    </tr>\n",
       "    <tr>\n",
       "      <th>Total lipid (fat)</th>\n",
       "      <td>65.0</td>\n",
       "      <td>65.0</td>\n",
       "    </tr>\n",
       "    <tr>\n",
       "      <th>Fiber, total dietary</th>\n",
       "      <td>38.0</td>\n",
       "      <td>25.0</td>\n",
       "    </tr>\n",
       "    <tr>\n",
       "      <th>Fluoride, F</th>\n",
       "      <td>4000.0</td>\n",
       "      <td>3000.0</td>\n",
       "    </tr>\n",
       "    <tr>\n",
       "      <th>Folate, total</th>\n",
       "      <td>400.0</td>\n",
       "      <td>400.0</td>\n",
       "    </tr>\n",
       "    <tr>\n",
       "      <th>Iron, Fe</th>\n",
       "      <td>8.0</td>\n",
       "      <td>18.0</td>\n",
       "    </tr>\n",
       "    <tr>\n",
       "      <th>Linoleic acid</th>\n",
       "      <td>17.0</td>\n",
       "      <td>12.0</td>\n",
       "    </tr>\n",
       "    <tr>\n",
       "      <th>Magnesium, Mg</th>\n",
       "      <td>400.0</td>\n",
       "      <td>310.0</td>\n",
       "    </tr>\n",
       "    <tr>\n",
       "      <th>Manganese, Mn</th>\n",
       "      <td>2.3</td>\n",
       "      <td>1.8</td>\n",
       "    </tr>\n",
       "    <tr>\n",
       "      <th>Niacin</th>\n",
       "      <td>16.0</td>\n",
       "      <td>14.0</td>\n",
       "    </tr>\n",
       "    <tr>\n",
       "      <th>Pantothenic acid</th>\n",
       "      <td>5.0</td>\n",
       "      <td>5.0</td>\n",
       "    </tr>\n",
       "    <tr>\n",
       "      <th>Phosphorus, P</th>\n",
       "      <td>700.0</td>\n",
       "      <td>700.0</td>\n",
       "    </tr>\n",
       "    <tr>\n",
       "      <th>Fatty acids, total polyunsaturated</th>\n",
       "      <td>16.0</td>\n",
       "      <td>16.0</td>\n",
       "    </tr>\n",
       "    <tr>\n",
       "      <th>Potassium, K</th>\n",
       "      <td>4700.0</td>\n",
       "      <td>4700.0</td>\n",
       "    </tr>\n",
       "    <tr>\n",
       "      <th>Protein</th>\n",
       "      <td>56.0</td>\n",
       "      <td>46.0</td>\n",
       "    </tr>\n",
       "    <tr>\n",
       "      <th>Riboflavin</th>\n",
       "      <td>1.3</td>\n",
       "      <td>1.1</td>\n",
       "    </tr>\n",
       "    <tr>\n",
       "      <th>Fatty acids, total saturated</th>\n",
       "      <td>12.0</td>\n",
       "      <td>12.0</td>\n",
       "    </tr>\n",
       "    <tr>\n",
       "      <th>Selenium, Se</th>\n",
       "      <td>55.0</td>\n",
       "      <td>55.0</td>\n",
       "    </tr>\n",
       "    <tr>\n",
       "      <th>Sodium, Na</th>\n",
       "      <td>1500.0</td>\n",
       "      <td>1500.0</td>\n",
       "    </tr>\n",
       "    <tr>\n",
       "      <th>Sugars, total</th>\n",
       "      <td>39.0</td>\n",
       "      <td>25.0</td>\n",
       "    </tr>\n",
       "    <tr>\n",
       "      <th>Thiamin</th>\n",
       "      <td>1.2</td>\n",
       "      <td>1.1</td>\n",
       "    </tr>\n",
       "    <tr>\n",
       "      <th>Vitamin A, RAE</th>\n",
       "      <td>900.0</td>\n",
       "      <td>700.0</td>\n",
       "    </tr>\n",
       "    <tr>\n",
       "      <th>Vitamin B-6</th>\n",
       "      <td>1.3</td>\n",
       "      <td>1.3</td>\n",
       "    </tr>\n",
       "    <tr>\n",
       "      <th>Vitamin B-12</th>\n",
       "      <td>2.4</td>\n",
       "      <td>2.4</td>\n",
       "    </tr>\n",
       "    <tr>\n",
       "      <th>Vitamin C, total ascorbic acid</th>\n",
       "      <td>90.0</td>\n",
       "      <td>75.0</td>\n",
       "    </tr>\n",
       "    <tr>\n",
       "      <th>Vitamin D (D2 + D3)</th>\n",
       "      <td>15.0</td>\n",
       "      <td>15.0</td>\n",
       "    </tr>\n",
       "    <tr>\n",
       "      <th>Vitamin E (alpha-tocopherol)</th>\n",
       "      <td>15.0</td>\n",
       "      <td>15.0</td>\n",
       "    </tr>\n",
       "    <tr>\n",
       "      <th>Vitamin K (phylloquinone)</th>\n",
       "      <td>120.0</td>\n",
       "      <td>90.0</td>\n",
       "    </tr>\n",
       "    <tr>\n",
       "      <th>Water</th>\n",
       "      <td>3700.0</td>\n",
       "      <td>2700.0</td>\n",
       "    </tr>\n",
       "    <tr>\n",
       "      <th>Zinc, Zn</th>\n",
       "      <td>11.0</td>\n",
       "      <td>8.0</td>\n",
       "    </tr>\n",
       "  </tbody>\n",
       "</table>\n",
       "</div>"
      ],
      "text/plain": [
       "                                    Male_RDI(19-30)  Female_RDI(19-30)\n",
       "nutrient                                                              \n",
       "Alanine                                         1.6                1.1\n",
       "Calcium, Ca                                  1000.0             1000.0\n",
       "Carbohydrate, by difference                   130.0              130.0\n",
       "Choline, total                                550.0              425.0\n",
       "Copper, Cu                                      0.9                0.9\n",
       "Total lipid (fat)                              65.0               65.0\n",
       "Fiber, total dietary                           38.0               25.0\n",
       "Fluoride, F                                  4000.0             3000.0\n",
       "Folate, total                                 400.0              400.0\n",
       "Iron, Fe                                        8.0               18.0\n",
       "Linoleic acid                                  17.0               12.0\n",
       "Magnesium, Mg                                 400.0              310.0\n",
       "Manganese, Mn                                   2.3                1.8\n",
       "Niacin                                         16.0               14.0\n",
       "Pantothenic acid                                5.0                5.0\n",
       "Phosphorus, P                                 700.0              700.0\n",
       "Fatty acids, total polyunsaturated             16.0               16.0\n",
       "Potassium, K                                 4700.0             4700.0\n",
       "Protein                                        56.0               46.0\n",
       "Riboflavin                                      1.3                1.1\n",
       "Fatty acids, total saturated                   12.0               12.0\n",
       "Selenium, Se                                   55.0               55.0\n",
       "Sodium, Na                                   1500.0             1500.0\n",
       "Sugars, total                                  39.0               25.0\n",
       "Thiamin                                         1.2                1.1\n",
       "Vitamin A, RAE                                900.0              700.0\n",
       "Vitamin B-6                                     1.3                1.3\n",
       "Vitamin B-12                                    2.4                2.4\n",
       "Vitamin C, total ascorbic acid                 90.0               75.0\n",
       "Vitamin D (D2 + D3)                            15.0               15.0\n",
       "Vitamin E (alpha-tocopherol)                   15.0               15.0\n",
       "Vitamin K (phylloquinone)                     120.0               90.0\n",
       "Water                                        3700.0             2700.0\n",
       "Zinc, Zn                                       11.0                8.0"
      ]
     },
     "execution_count": 26,
     "metadata": {},
     "output_type": "execute_result"
    }
   ],
   "source": [
    "def change_value(unit, value) :\n",
    "    \n",
    "    if unit == 'mg' or unit == 'IU' :\n",
    "        return value\n",
    "\n",
    "    elif unit == 'g' :\n",
    "        return (float(value) / 1000)\n",
    "    \n",
    "    else :\n",
    "        return (float(value) * 1000)\n",
    "\n",
    "    \n",
    "new_male_rdis = []\n",
    "new_female_rdis = []\n",
    "\n",
    "for n in rdi.index.values :\n",
    "    unit = nut_def[nut_def['description'] == n]['units'].values[0]\n",
    "    male_rdi = rdi.loc[n]['Male_RDI(19-30)']\n",
    "    female_rdi = rdi.loc[n]['Female_RDI(19-30)']\n",
    "    new_male_rdis.append(change_value(unit, male_rdi))\n",
    "    new_female_rdis.append(change_value(unit, female_rdi))\n",
    "                  \n",
    "    \n",
    "#change values\n",
    "rdi['Male_RDI(19-30)'] = pd.Series(new_male_rdis).values\n",
    "rdi['Female_RDI(19-30)'] = pd.Series(new_female_rdis).values\n",
    "\n",
    "#save new RDI file as csv\n",
    "rdi.to_csv(\"./../generated/matching_rdi.csv\")\n",
    "\n",
    "rdi"
   ]
  },
  {
   "cell_type": "markdown",
   "metadata": {},
   "source": [
    "# load and filter nutrient data"
   ]
  },
  {
   "cell_type": "markdown",
   "metadata": {},
   "source": [
    "#### load nutrient data"
   ]
  },
  {
   "cell_type": "code",
   "execution_count": 27,
   "metadata": {},
   "outputs": [
    {
     "data": {
      "text/html": [
       "<div>\n",
       "<style scoped>\n",
       "    .dataframe tbody tr th:only-of-type {\n",
       "        vertical-align: middle;\n",
       "    }\n",
       "\n",
       "    .dataframe tbody tr th {\n",
       "        vertical-align: top;\n",
       "    }\n",
       "\n",
       "    .dataframe thead th {\n",
       "        text-align: right;\n",
       "    }\n",
       "</style>\n",
       "<table border=\"1\" class=\"dataframe\">\n",
       "  <thead>\n",
       "    <tr style=\"text-align: right;\">\n",
       "      <th></th>\n",
       "      <th>food_id</th>\n",
       "      <th>nutrient_id</th>\n",
       "      <th>nutr_per_100g</th>\n",
       "    </tr>\n",
       "  </thead>\n",
       "  <tbody>\n",
       "    <tr>\n",
       "      <th>0</th>\n",
       "      <td>1001</td>\n",
       "      <td>208</td>\n",
       "      <td>717.0</td>\n",
       "    </tr>\n",
       "    <tr>\n",
       "      <th>1</th>\n",
       "      <td>1001</td>\n",
       "      <td>262</td>\n",
       "      <td>0.0</td>\n",
       "    </tr>\n",
       "    <tr>\n",
       "      <th>2</th>\n",
       "      <td>1001</td>\n",
       "      <td>263</td>\n",
       "      <td>0.0</td>\n",
       "    </tr>\n",
       "    <tr>\n",
       "      <th>3</th>\n",
       "      <td>1001</td>\n",
       "      <td>268</td>\n",
       "      <td>2999.0</td>\n",
       "    </tr>\n",
       "    <tr>\n",
       "      <th>4</th>\n",
       "      <td>1001</td>\n",
       "      <td>301</td>\n",
       "      <td>24.0</td>\n",
       "    </tr>\n",
       "  </tbody>\n",
       "</table>\n",
       "</div>"
      ],
      "text/plain": [
       "   food_id  nutrient_id  nutr_per_100g\n",
       "0     1001          208          717.0\n",
       "1     1001          262            0.0\n",
       "2     1001          263            0.0\n",
       "3     1001          268         2999.0\n",
       "4     1001          301           24.0"
      ]
     },
     "execution_count": 27,
     "metadata": {},
     "output_type": "execute_result"
    }
   ],
   "source": [
    "use_cols = [0, 1, 2]\n",
    "\n",
    "columns = [\"food_id\", \"nutrient_id\", \"nutr_per_100g\"]\n",
    "\n",
    "nut_data = pd.read_csv(nut_data_path, sep=\"^\", encoding=\"ISO-8859-1\", names=columns, usecols=use_cols, header=None)\n",
    "\n",
    "nut_data.head()"
   ]
  },
  {
   "cell_type": "markdown",
   "metadata": {},
   "source": [
    "#### keep only nutrients that are included in RDI"
   ]
  },
  {
   "cell_type": "code",
   "execution_count": 28,
   "metadata": {},
   "outputs": [
    {
     "name": "stdout",
     "output_type": "stream",
     "text": [
      "length before filtering : 644125\n",
      "length after filtering : 229821\n"
     ]
    }
   ],
   "source": [
    "print_bold(\"length before filtering : \" + str(len(nut_data)))\n",
    "\n",
    "#drop non-exploitable lines\n",
    "nut_data = nut_data[nut_data['nutrient_id'].apply(lambda x : x in nut_def['nutrient_id'].values)]\n",
    "\n",
    "print_bold(\"length after filtering : \" + str(len(nut_data)))\n",
    "\n",
    "#replace id by name to have more convenient reading\n",
    "nut_data['nutrient'] = nut_data['nutrient_id'].apply(lambda x : nut_def[nut_def['nutrient_id'] == x]['description'].values[0])\n",
    "nut_data = nut_data.drop(\"nutrient_id\", axis=1)"
   ]
  },
  {
   "cell_type": "markdown",
   "metadata": {},
   "source": [
    "#### keep only ids matching ingredients"
   ]
  },
  {
   "cell_type": "code",
   "execution_count": 29,
   "metadata": {},
   "outputs": [
    {
     "name": "stdout",
     "output_type": "stream",
     "text": [
      "length before filtering : 229821\n",
      "length after filtering : 54984\n"
     ]
    }
   ],
   "source": [
    "m = json.load(open(\"./../generated/ing_id_mapping.json\"))\n",
    "matching_ids = [str(m[k]) for k in m]\n",
    "\n",
    "print_bold(\"length before filtering : \" + str(len(nut_data)))\n",
    "\n",
    "#apply filtering\n",
    "nut_data = nut_data[nut_data['food_id'].apply( lambda x : str(x) in matching_ids)]\n",
    "\n",
    "print_bold(\"length after filtering : \" + str(len(nut_data)))"
   ]
  },
  {
   "cell_type": "code",
   "execution_count": 30,
   "metadata": {},
   "outputs": [
    {
     "name": "stdout",
     "output_type": "stream",
     "text": [
      "percentage of available nutritional information : 86.80496353130624\n"
     ]
    }
   ],
   "source": [
    "#what average percentage of info do we have per mapped food ?\n",
    "perc = 100 * nut_data.groupby('food_id').count().mean()[0] / len(rdi)\n",
    "print_bold(\"percentage of available nutritional information : \" + str(perc))"
   ]
  },
  {
   "cell_type": "markdown",
   "metadata": {},
   "source": [
    "> Pretty nice ! "
   ]
  },
  {
   "cell_type": "markdown",
   "metadata": {},
   "source": [
    "#### add rdi percentage columns"
   ]
  },
  {
   "cell_type": "code",
   "execution_count": 31,
   "metadata": {},
   "outputs": [
    {
     "data": {
      "text/html": [
       "<div>\n",
       "<style scoped>\n",
       "    .dataframe tbody tr th:only-of-type {\n",
       "        vertical-align: middle;\n",
       "    }\n",
       "\n",
       "    .dataframe tbody tr th {\n",
       "        vertical-align: top;\n",
       "    }\n",
       "\n",
       "    .dataframe thead th {\n",
       "        text-align: right;\n",
       "    }\n",
       "</style>\n",
       "<table border=\"1\" class=\"dataframe\">\n",
       "  <thead>\n",
       "    <tr style=\"text-align: right;\">\n",
       "      <th></th>\n",
       "      <th>food_id</th>\n",
       "      <th>nutr_per_100g</th>\n",
       "      <th>nutrient</th>\n",
       "      <th>percentage_male_rdi</th>\n",
       "      <th>percentage_female_rdi</th>\n",
       "    </tr>\n",
       "  </thead>\n",
       "  <tbody>\n",
       "    <tr>\n",
       "      <th>53</th>\n",
       "      <td>1003</td>\n",
       "      <td>4.0</td>\n",
       "      <td>Calcium, Ca</td>\n",
       "      <td>0.400000</td>\n",
       "      <td>0.400000</td>\n",
       "    </tr>\n",
       "    <tr>\n",
       "      <th>54</th>\n",
       "      <td>1003</td>\n",
       "      <td>0.0</td>\n",
       "      <td>Magnesium, Mg</td>\n",
       "      <td>0.000000</td>\n",
       "      <td>0.000000</td>\n",
       "    </tr>\n",
       "    <tr>\n",
       "      <th>55</th>\n",
       "      <td>1003</td>\n",
       "      <td>3.0</td>\n",
       "      <td>Phosphorus, P</td>\n",
       "      <td>0.428571</td>\n",
       "      <td>0.428571</td>\n",
       "    </tr>\n",
       "    <tr>\n",
       "      <th>56</th>\n",
       "      <td>1003</td>\n",
       "      <td>5.0</td>\n",
       "      <td>Potassium, K</td>\n",
       "      <td>0.106383</td>\n",
       "      <td>0.106383</td>\n",
       "    </tr>\n",
       "    <tr>\n",
       "      <th>57</th>\n",
       "      <td>1003</td>\n",
       "      <td>2.0</td>\n",
       "      <td>Sodium, Na</td>\n",
       "      <td>0.133333</td>\n",
       "      <td>0.133333</td>\n",
       "    </tr>\n",
       "  </tbody>\n",
       "</table>\n",
       "</div>"
      ],
      "text/plain": [
       "    food_id  nutr_per_100g       nutrient  percentage_male_rdi  \\\n",
       "53     1003            4.0    Calcium, Ca             0.400000   \n",
       "54     1003            0.0  Magnesium, Mg             0.000000   \n",
       "55     1003            3.0  Phosphorus, P             0.428571   \n",
       "56     1003            5.0   Potassium, K             0.106383   \n",
       "57     1003            2.0     Sodium, Na             0.133333   \n",
       "\n",
       "    percentage_female_rdi  \n",
       "53               0.400000  \n",
       "54               0.000000  \n",
       "55               0.428571  \n",
       "56               0.106383  \n",
       "57               0.133333  "
      ]
     },
     "execution_count": 31,
     "metadata": {},
     "output_type": "execute_result"
    }
   ],
   "source": [
    "nut_data[\"percentage_male_rdi\"] = nut_data.apply(lambda row : 100*row['nutr_per_100g'] / rdi.loc[row['nutrient']]['Male_RDI(19-30)'], axis=1)\n",
    "nut_data[\"percentage_female_rdi\"] = nut_data.apply(lambda row : 100*row['nutr_per_100g'] / rdi.loc[row['nutrient']]['Female_RDI(19-30)'], axis=1)\n",
    "nut_data.head()"
   ]
  },
  {
   "cell_type": "markdown",
   "metadata": {},
   "source": [
    "#### pivot table to facilitate search by food id, save the resulting dataframe"
   ]
  },
  {
   "cell_type": "code",
   "execution_count": 32,
   "metadata": {},
   "outputs": [],
   "source": [
    "#pivot table\n",
    "nut_data = nut_data.pivot(index='food_id', columns='nutrient', values=['nutr_per_100g', 'percentage_male_rdi', 'percentage_female_rdi'])\n",
    "\n",
    "#save table using h5 (easier for multi-index table storage)\n",
    "nut_data.to_hdf('./../generated/nut_data.h5','table', append=True)"
   ]
  },
  {
   "cell_type": "code",
   "execution_count": 33,
   "metadata": {},
   "outputs": [
    {
     "data": {
      "text/plain": [
       "nutrient\n",
       "Alanine                                 0.625000\n",
       "Calcium, Ca                             0.400000\n",
       "Carbohydrate, by difference             0.000000\n",
       "Choline, total                          4.054545\n",
       "Copper, Cu                              0.111111\n",
       "Fatty acids, total polyunsaturated     23.087500\n",
       "Fatty acids, total saturated          516.033333\n",
       "Fiber, total dietary                    0.000000\n",
       "Fluoride, F                                  NaN\n",
       "Folate, total                           0.000000\n",
       "Iron, Fe                                0.000000\n",
       "Linoleic acid                          13.217647\n",
       "Magnesium, Mg                           0.000000\n",
       "Manganese, Mn                           0.000000\n",
       "Niacin                                  0.018750\n",
       "Pantothenic acid                        0.200000\n",
       "Phosphorus, P                           0.428571\n",
       "Potassium, K                            0.106383\n",
       "Protein                                 0.500000\n",
       "Riboflavin                              0.384615\n",
       "Selenium, Se                            0.000000\n",
       "Sodium, Na                              0.133333\n",
       "Sugars, total                           0.000000\n",
       "Thiamin                                 0.083333\n",
       "Total lipid (fat)                     153.046154\n",
       "Vitamin A, RAE                         93.333333\n",
       "Vitamin B-12                            0.416667\n",
       "Vitamin B-6                             0.076923\n",
       "Vitamin C, total ascorbic acid          0.000000\n",
       "Vitamin D (D2 + D3)                     0.000000\n",
       "Vitamin E (alpha-tocopherol)           18.666667\n",
       "Vitamin K (phylloquinone)               7.166667\n",
       "Water                                   0.006486\n",
       "Zinc, Zn                                0.090909\n",
       "Name: 1003, dtype: float64"
      ]
     },
     "execution_count": 33,
     "metadata": {},
     "output_type": "execute_result"
    }
   ],
   "source": [
    "#check that the storage went fine\n",
    "a = pd.read_hdf('./../generated/nut_data_3d.h5', 'table', where=['index>2'])\n",
    "nut_data.loc[1003]['percentage_male_rdi']"
   ]
  },
  {
   "cell_type": "code",
   "execution_count": null,
   "metadata": {},
   "outputs": [],
   "source": []
  }
 ],
 "metadata": {
  "kernelspec": {
   "display_name": "Python 3",
   "language": "python",
   "name": "python3"
  },
  "language_info": {
   "codemirror_mode": {
    "name": "ipython",
    "version": 3
   },
   "file_extension": ".py",
   "mimetype": "text/x-python",
   "name": "python",
   "nbconvert_exporter": "python",
   "pygments_lexer": "ipython3",
   "version": "3.6.6"
  }
 },
 "nbformat": 4,
 "nbformat_minor": 2
}

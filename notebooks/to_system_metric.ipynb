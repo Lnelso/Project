{
 "cells": [
  {
   "cell_type": "code",
   "execution_count": 4,
   "metadata": {},
   "outputs": [],
   "source": [
    "convert_ml = {\"bushel\":  35239.1,\n",
    "              \"cup\": 236.588,\n",
    "              \"dash\": 0.92,\n",
    "              \"drop\": 0.05,\n",
    "              \"fl.\": 29.5735,\n",
    "              \"oz\": 29.5735,\n",
    "              \"gallon\": 3785.41,\n",
    "              \"glass\": 236.588,\n",
    "              \"kg\": 1000,\n",
    "              \"liter\": 1000,\n",
    "              \"ounce\": 29.5735,\n",
    "              \"c.\": 236.588,\n",
    "              \"pinch\": 0.31,\n",
    "              \"pint\": 500,\n",
    "              \"pound\": 453.5924,\n",
    "              \"lb\": 453.5924,\n",
    "              \"quart\": 946.353,\n",
    "              \"scoop\": 0.15,\n",
    "              \"shot\": 44.3603,\n",
    "              \"tablespoon\": 15,\n",
    "              \"teaspoon\": 5,\n",
    "              \"tsp\": 5,\n",
    "              \"tbsp\": 15\n",
    "            }"
   ]
  },
  {
   "cell_type": "code",
   "execution_count": 6,
   "metadata": {},
   "outputs": [],
   "source": [
    "convert_gr = {\"bushel\": 35239.0704,\n",
    "              \"cup\": 128,\n",
    "              \"dash\": 0.72,\n",
    "              \"drop\": 0.05,\n",
    "              \"fl.\": 28,\n",
    "              \"oz\": 28,\n",
    "              \"gallon\": 3753.46,\n",
    "              \"glass\": 147,\n",
    "              \"kg\": 1000,\n",
    "              \"liter\": 1000,\n",
    "              \"ounce\": 28,\n",
    "              \"c.\": 128,\n",
    "              \"pinch\": 0.36,\n",
    "              \"pint\": 450,\n",
    "              \"pound\": 453.592,\n",
    "              \"lb\": 453.592,\n",
    "              \"quart\": 946.352946,\n",
    "              \"scoop\": 29,\n",
    "              \"shot\": 29.57,\n",
    "              \"tablespoon\": 14.3,\n",
    "              \"teaspoon\": 4.2,\n",
    "              \"tsp\": 4.2,\n",
    "              \"tbsp\": 14.3\n",
    "            }"
   ]
  }
 ],
 "metadata": {
  "kernelspec": {
   "display_name": "Python 3",
   "language": "python",
   "name": "python3"
  },
  "language_info": {
   "codemirror_mode": {
    "name": "ipython",
    "version": 3
   },
   "file_extension": ".py",
   "mimetype": "text/x-python",
   "name": "python",
   "nbconvert_exporter": "python",
   "pygments_lexer": "ipython3",
   "version": "3.6.1"
  }
 },
 "nbformat": 4,
 "nbformat_minor": 2
}

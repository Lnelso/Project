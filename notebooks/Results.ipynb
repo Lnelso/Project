{
 "cells": [
  {
   "cell_type": "code",
   "execution_count": 30,
   "metadata": {},
   "outputs": [],
   "source": [
    "import json\n",
    "import numpy as np\n",
    "import pandas as pd\n",
    "import matplotlib.pyplot as plt\n",
    "import h5py\n",
    "import sys\n",
    "sys.path.insert(0, \"/home/luke/Github/Project/python\")\n",
    "import compute_healthiness as ch\n",
    "import clean_recipes_datasets as clean"
   ]
  },
  {
   "cell_type": "markdown",
   "metadata": {},
   "source": [
    "### load data"
   ]
  },
  {
   "cell_type": "code",
   "execution_count": 32,
   "metadata": {},
   "outputs": [],
   "source": [
    "embeddings = \"../generated/food_embeddings.bin\"\n",
    "\n",
    "# Table of conversion for the unit found in 1M\n",
    "with open('../generated/convert_gr.json') as json_data:\n",
    "    convert_gr = json.load(json_data)\n",
    "    \n",
    "# Mapping from ingredient to USDA id\n",
    "with open('../generated/ing_id_mapping.json') as json_data:\n",
    "    mapping_usda_id = json.load(json_data)\n",
    "    \n",
    "#nutrients table\n",
    "nutrients_mapping = pd.read_hdf(\"../generated/nut_data.h5\", 'table')\n",
    "\n",
    "id_repr = json.load(open(\"../generated/id_repr.json\"))\n",
    "repr_ids = json.load(open(\"../generated/repr_ids.json\"))"
   ]
  },
  {
   "cell_type": "markdown",
   "metadata": {},
   "source": [
    "### define example recipes"
   ]
  },
  {
   "cell_type": "code",
   "execution_count": 3,
   "metadata": {},
   "outputs": [],
   "source": [
    "recipe1 = [[1.0, 'c.', 'elbow macaroni'],\n",
    "  [1.0, 'c.', 'American cheese'],\n",
    "  [0.5, 'c.', 'celery'],\n",
    "  [0.5, 'c.', 'green peppers'],\n",
    "  [3.0, 'tbsp', 'pimentos'],\n",
    "  [0.5, 'c.', 'mayonnaise'],\n",
    "  [1.0, 'tbsp', 'vinegar'],\n",
    "  [0.75, 'teaspoon', 'salt'],\n",
    "  [0.5, 'teaspoon', 'dry dill weed']]\n",
    "\n",
    "recipe2 = [[12.0, 'cup', 'shredded coconut'],\n",
    "  [1.0, 'lb', 'lean ground beef'],\n",
    "  [1.5, 'tablespoon', 'fresh garlic'],\n",
    "  [2.5, 'g', 'kosher salt'],\n",
    "  [1.0, 'tablespoon', 'lemon juice'],\n",
    "  [1.0, 'tablespoon', 'soy sauce'],\n",
    "  [2.0, 'tablespoon', 'cornstarch'],\n",
    "  [8.0, 'ounce', 'pineapple chunks'],\n",
    "  [16.0, 'ounce', 'mandarin oranges'],\n",
    "  [12.0, 'cup', 'cashew nuts']]\n",
    "\n",
    "recipe3 = [[1.0, 'lb', 'lean ground beef'],\n",
    "    [1.0, '', 'onion'],\n",
    "    [1, 'tsp', 'chili powder'],\n",
    "    [0.5, 'tsp', 'salt'],\n",
    "    [0.5, 'tsp', 'garlic powder'],\n",
    "    [8, 'oz', 'tomato sauce'],\n",
    "    [10, 'oz', 'taco shells'],\n",
    "    [6, 'oz', 'cheddar cheese'],\n",
    "    [2, 'c.', 'lettuce'],\n",
    "    [2, '', 'tomatoes'],\n",
    "    [0.75, 'c.', 'salsa'],\n",
    "    [0.75, 'c.', 'sour cream']]"
   ]
  },
  {
   "cell_type": "markdown",
   "metadata": {},
   "source": [
    "### design recommender"
   ]
  },
  {
   "cell_type": "markdown",
   "metadata": {},
   "source": [
    "We first estmate the healthiness score for a given recipe"
   ]
  },
  {
   "cell_type": "code",
   "execution_count": 5,
   "metadata": {},
   "outputs": [
    {
     "name": "stdout",
     "output_type": "stream",
     "text": [
      "shredded coconut    : 35.90% =>  content(grams): (fat=346.3680, sat_fat=308.7206, sugar=693.6576, salt=3.7018)\n",
      "lean ground beef    : 10.60% =>  content(grams): (fat=12.2016, sat_fat= 4.6811, sugar= 0.0000, salt=0.2495)\n",
      "fresh garlic        :  0.50% =>  content(grams): (fat= 0.1073, sat_fat= 0.0191, sugar= 0.2145, salt=0.0036)\n",
      "kosher salt         :  0.06% =>  content(grams): (fat= 0.0000, sat_fat= 0.0000, sugar= 0.0000, salt=0.9690)\n",
      "lemon juice         :  0.33% =>  content(grams): (fat= 0.0343, sat_fat= 0.0057, sugar= 0.3604, salt=0.0001)\n",
      "soy sauce           :  0.33% =>  content(grams): (fat= 0.0143, sat_fat= 0.0016, sugar= 0.2431, salt=0.7988)\n",
      "cornstarch          :  0.67% =>  content(grams): (fat= 0.0143, sat_fat= 0.0026, sugar= 0.0000, salt=0.0026)\n",
      "pineapple chunks    :  5.24% =>  content(grams): (fat= 0.2240, sat_fat= 0.0157, sugar=47.2640, salt=0.0045)\n",
      "mandarin oranges    : 10.47% =>  content(grams): (fat= 1.3888, sat_fat= 0.1747, sugar=47.3984, salt=0.0090)\n",
      "cashew nuts         : 35.90% =>  content(grams): (fat=673.5360, sat_fat=119.5469, sugar=90.7776, salt=0.1843)\n"
     ]
    },
    {
     "data": {
      "text/plain": [
       "{'fat': 35.10995253309952,\n",
       " 'sat_fat': 57.20625283038799,\n",
       " 'sugar': 22.567201387697597,\n",
       " 'salt': 1.384310411798608,\n",
       " 'total': 116.26771716298371}"
      ]
     },
     "execution_count": 5,
     "metadata": {},
     "output_type": "execute_result"
    }
   ],
   "source": [
    "input_recipe = recipe2\n",
    "ch.compute_healthiness(input_recipe, mapping_usda_id, nutrients_mapping, convert_gr)"
   ]
  },
  {
   "cell_type": "markdown",
   "metadata": {},
   "source": [
    "We now design a strategy for finding replacements"
   ]
  },
  {
   "cell_type": "code",
   "execution_count": null,
   "metadata": {},
   "outputs": [],
   "source": [
    "def find_swaps(ing_id) :\n",
    "    \n",
    "    try :        \n",
    "        ing_ref = id_repr[str(ing_id)]        \n",
    "    except KeyError:\n",
    "        print(\"The ingredient with id\", ing_id, \"has never been seen before\")    "
   ]
  }
 ],
 "metadata": {
  "kernelspec": {
   "display_name": "Python 3",
   "language": "python",
   "name": "python3"
  },
  "language_info": {
   "codemirror_mode": {
    "name": "ipython",
    "version": 3
   },
   "file_extension": ".py",
   "mimetype": "text/x-python",
   "name": "python",
   "nbconvert_exporter": "python",
   "pygments_lexer": "ipython3",
   "version": "3.6.7"
  }
 },
 "nbformat": 4,
 "nbformat_minor": 2
}

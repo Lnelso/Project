{
 "cells": [
  {
   "cell_type": "code",
   "execution_count": 1,
   "metadata": {},
   "outputs": [],
   "source": [
    "import json\n",
    "import numpy as np\n",
    "import pandas as pd\n",
    "import matplotlib.pyplot as plt\n",
    "import h5py\n",
    "from gensim import models\n",
    "import sys\n",
    "sys.path.insert(0, \"/home/luke/Github/Project/python\")\n",
    "import compute_healthiness as ch\n",
    "import clean_recipes_datasets as clean"
   ]
  },
  {
   "cell_type": "markdown",
   "metadata": {},
   "source": [
    "### load data"
   ]
  },
  {
   "cell_type": "code",
   "execution_count": 2,
   "metadata": {},
   "outputs": [],
   "source": [
    "embeddings_path = \"../generated/food_embeddings.bin\"\n",
    "food_embeddings = models.Word2Vec.load(embeddings_path)\n",
    "\n",
    "# Table of conversion for the unit found in 1M\n",
    "with open('../generated/convert_gr.json') as json_data:\n",
    "    convert_gr = json.load(json_data)\n",
    "    \n",
    "# Mapping from ingredient to USDA id\n",
    "with open('../generated/ing_id_mapping.json') as json_data:\n",
    "    mapping_usda_id = json.load(json_data)\n",
    "    \n",
    "#nutrients table\n",
    "nutrients_mapping = pd.read_hdf(\"../generated/nut_data.h5\", 'table')\n",
    "\n",
    "id_repr = json.load(open(\"../generated/id_repr.json\"))\n",
    "repr_ids = json.load(open(\"../generated/repr_ids.json\"))\n",
    "unit_quantities = json.load(open(\"../generated/1m_unit_quantities.json\"))"
   ]
  },
  {
   "cell_type": "markdown",
   "metadata": {},
   "source": [
    "### define example recipes"
   ]
  },
  {
   "cell_type": "code",
   "execution_count": 3,
   "metadata": {},
   "outputs": [],
   "source": [
    "recipe1 = [[1.0, 'c.', 'elbow macaroni'],\n",
    "  [1.0, 'c.', 'American cheese'],\n",
    "  [0.5, 'c.', 'celery'],\n",
    "  [0.5, 'c.', 'green peppers'],\n",
    "  [3.0, 'tbsp', 'pimentos'],\n",
    "  [0.5, 'c.', 'mayonnaise'],\n",
    "  [1.0, 'tbsp', 'vinegar'],\n",
    "  [0.75, 'teaspoon', 'salt'],\n",
    "  [0.5, 'teaspoon', 'dry dill weed']]\n",
    "\n",
    "recipe2 = [[12.0, 'cup', 'shredded coconut'],\n",
    "  [1.0, 'lb', 'lean ground beef'],\n",
    "  [1.5, 'tablespoon', 'fresh garlic'],\n",
    "  [2.5, 'g', 'kosher salt'],\n",
    "  [1.0, 'tablespoon', 'lemon juice'],\n",
    "  [1.0, 'tablespoon', 'soy sauce'],\n",
    "  [2.0, 'tablespoon', 'cornstarch'],\n",
    "  [8.0, 'ounce', 'pineapple chunks'],\n",
    "  [16.0, 'ounce', 'mandarin oranges'],\n",
    "  [12.0, 'cup', 'cashew nuts']]\n",
    "\n",
    "recipe3 = [[1.0, 'lb', 'lean ground beef'],\n",
    "    [1.0, '', 'onion'],\n",
    "    [1, 'tsp', 'chili powder'],\n",
    "    [0.5, 'tsp', 'salt'],\n",
    "    [0.5, 'tsp', 'garlic powder'],\n",
    "    [8, 'oz', 'tomato sauce'],\n",
    "    [10, 'oz', 'taco shells'],\n",
    "    [6, 'oz', 'cheddar cheese'],\n",
    "    [2, 'c.', 'lettuce'],\n",
    "    [2, '', 'tomatoes'],\n",
    "    [0.75, 'c.', 'salsa'],\n",
    "    [0.75, 'c.', 'sour cream']]"
   ]
  },
  {
   "cell_type": "markdown",
   "metadata": {},
   "source": [
    "### design recommender"
   ]
  },
  {
   "cell_type": "markdown",
   "metadata": {},
   "source": [
    "We first estmate the healthiness score for a given recipe"
   ]
  },
  {
   "cell_type": "code",
   "execution_count": 4,
   "metadata": {},
   "outputs": [
    {
     "name": "stdout",
     "output_type": "stream",
     "text": [
      "shredded coconut    : 35.90% =>  content(grams): (fat=346.3680, sat_fat=308.7206, sugar=693.6576, salt=3.7018)\n",
      "lean ground beef    : 10.60% =>  content(grams): (fat=12.2016, sat_fat= 4.6811, sugar= 0.0000, salt=0.2495)\n",
      "fresh garlic        :  0.50% =>  content(grams): (fat= 0.1073, sat_fat= 0.0191, sugar= 0.2145, salt=0.0036)\n",
      "kosher salt         :  0.06% =>  content(grams): (fat= 0.0000, sat_fat= 0.0000, sugar= 0.0000, salt=0.9690)\n",
      "lemon juice         :  0.33% =>  content(grams): (fat= 0.0343, sat_fat= 0.0057, sugar= 0.3604, salt=0.0001)\n",
      "soy sauce           :  0.33% =>  content(grams): (fat= 0.0143, sat_fat= 0.0016, sugar= 0.2431, salt=0.7988)\n",
      "cornstarch          :  0.67% =>  content(grams): (fat= 0.0143, sat_fat= 0.0026, sugar= 0.0000, salt=0.0026)\n",
      "pineapple chunks    :  5.24% =>  content(grams): (fat= 0.2240, sat_fat= 0.0157, sugar=47.2640, salt=0.0045)\n",
      "mandarin oranges    : 10.47% =>  content(grams): (fat= 1.3888, sat_fat= 0.1747, sugar=47.3984, salt=0.0090)\n",
      "cashew nuts         : 35.90% =>  content(grams): (fat=673.5360, sat_fat=119.5469, sugar=90.7776, salt=0.1843)\n"
     ]
    },
    {
     "data": {
      "text/plain": [
       "{'fat': 35.10995253309952,\n",
       " 'sat_fat': 57.20625283038799,\n",
       " 'sugar': 22.567201387697597,\n",
       " 'salt': 1.384310411798608,\n",
       " 'total': 116.26771716298371}"
      ]
     },
     "execution_count": 4,
     "metadata": {},
     "output_type": "execute_result"
    }
   ],
   "source": [
    "input_recipe = recipe2\n",
    "ch.compute_healthiness(input_recipe, mapping_usda_id, nutrients_mapping, convert_gr, unit_quantities)"
   ]
  },
  {
   "cell_type": "markdown",
   "metadata": {},
   "source": [
    "We now design a strategy for finding replacements"
   ]
  },
  {
   "cell_type": "code",
   "execution_count": 5,
   "metadata": {},
   "outputs": [],
   "source": [
    "#the bigger the better\n",
    "def health_similarity_score(similarity, health) :\n",
    "    if health <= 7 :\n",
    "        return similarity\n",
    "    else :\n",
    "        return (similarity**2 / health) \n",
    "        \n",
    "\n",
    "def find_swaps(ing_id, threshold=0.45) : \n",
    "    \n",
    "    try :        \n",
    "        ing_ref = id_repr[str(ing_id)] \n",
    "        \n",
    "    except KeyError:\n",
    "        print(\"The ingredient with id\", ing_id, \"has never been seen before\")  \n",
    "        return None\n",
    "    \n",
    "    closest_refs = food_embeddings.wv.most_similar(ing_ref, topn=50)\n",
    "    \n",
    "    to_consider = []\n",
    "    \n",
    "    closest_refs_and_contains = list(filter(lambda x : (ing_ref     in x[0]) and (x[1] >= threshold), closest_refs))\n",
    "    closest_refs_not_contains = list(filter(lambda x : (ing_ref not in x[0]) and (x[1] >= threshold), closest_refs))\n",
    "    \n",
    "    if len(closest_refs_not_contains) == 0 :\n",
    "        to_consider = closest_refs_and_contains\n",
    "    else :\n",
    "        to_consider = closest_refs_not_contains\n",
    "        \n",
    "    if len(to_consider) == 0 :\n",
    "        return None\n",
    "    \n",
    "    else :\n",
    "        entries = []\n",
    "        fat, sat_fat, sugar, salt = ch.compute_profile([(100.0, ing_id)], nutrients_mapping)\n",
    "        base_score = ch.score(fat, sat_fat, sugar, salt)['total']\n",
    "        for ref in to_consider :\n",
    "            \n",
    "            best_id = -1\n",
    "            best_score = np.inf\n",
    "            \n",
    "            for collided_id in repr_ids[ref[0]] :\n",
    "                fat, sat_fat, sugar, salt = ch.compute_profile([(100.0, collided_id)], nutrients_mapping)\n",
    "                score = ch.score(fat, sat_fat, sugar, salt)['total']\n",
    "\n",
    "                if score < best_score :\n",
    "                    best_id = collided_id\n",
    "                    best_score = score\n",
    "            \n",
    "            \n",
    "            if (score < base_score) :\n",
    "                entries.append((ref[0], ref[1], score))\n",
    "        if len(entries) == 0 :\n",
    "            return None\n",
    "        else:\n",
    "            return sorted(entries, key=lambda x : health_similarity_score(x[1], x[2]), reverse=True)[0]"
   ]
  },
  {
   "cell_type": "code",
   "execution_count": 6,
   "metadata": {},
   "outputs": [],
   "source": [
    "def find_swapping(recipe) :\n",
    "    swappings = []\n",
    "    \n",
    "    recipe_info = ch.map_one_recipe_usda(recipe, mapping_usda_id, convert_gr, unit_quantities)\n",
    "    \n",
    "    best_score = -1\n",
    "    best_swap = (None, None) \n",
    "    \n",
    "    for e, (quant, ingr) in enumerate(recipe_info) :\n",
    "        swap = find_swaps(ingr)\n",
    "\n",
    "        if swap is not None :\n",
    "            recipe_copy = [i for i in recipe_info]  \n",
    "            recipe_copy[e] = (recipe_copy[e][0],mapping_usda_id[swap[0]])\n",
    "            \n",
    "            fat, sat_fat, sugar, salt = ch.compute_profile(recipe_copy, nutrients_mapping)\n",
    "            score = ch.score(fat, sat_fat, sugar, salt)['total']\n",
    "            score = health_similarity_score(swap[1], score)\n",
    "            \n",
    "            if score > best_score :\n",
    "                best_score = score\n",
    "                best_swap = (recipe[e][2], swap[0])\n",
    "                \n",
    "    return best_swap"
   ]
  },
  {
   "cell_type": "code",
   "execution_count": 7,
   "metadata": {},
   "outputs": [
    {
     "name": "stderr",
     "output_type": "stream",
     "text": [
      "/home/luke/anaconda3/lib/python3.6/site-packages/gensim/matutils.py:737: FutureWarning: Conversion of the second argument of issubdtype from `int` to `np.signedinteger` is deprecated. In future, it will be treated as `np.int64 == np.dtype(int).type`.\n",
      "  if np.issubdtype(vec.dtype, np.int):\n"
     ]
    },
    {
     "data": {
      "text/plain": [
       "('eggplant', 0.5672319531440735, 2.386)"
      ]
     },
     "execution_count": 7,
     "metadata": {},
     "output_type": "execute_result"
    }
   ],
   "source": [
    "find_swaps(mapping_usda_id[\"lamb\"])"
   ]
  },
  {
   "cell_type": "code",
   "execution_count": 8,
   "metadata": {},
   "outputs": [
    {
     "name": "stdout",
     "output_type": "stream",
     "text": [
      "onion\n",
      "onion\n"
     ]
    },
    {
     "ename": "TypeError",
     "evalue": "list indices must be integers or slices, not str",
     "output_type": "error",
     "traceback": [
      "\u001b[0;31m---------------------------------------------------------------------------\u001b[0m",
      "\u001b[0;31mKeyError\u001b[0m                                  Traceback (most recent call last)",
      "\u001b[0;32m~/Github/Project/python/compute_healthiness.py\u001b[0m in \u001b[0;36mmap_one_recipe_usda\u001b[0;34m(recipe, mapping_usda_id, convert_gr, unit_quantities)\u001b[0m\n\u001b[1;32m     93\u001b[0m         \u001b[0;32mtry\u001b[0m\u001b[0;34m:\u001b[0m\u001b[0;34m\u001b[0m\u001b[0;34m\u001b[0m\u001b[0m\n\u001b[0;32m---> 94\u001b[0;31m             \u001b[0mingr\u001b[0m\u001b[0;34m[\u001b[0m\u001b[0;36m1\u001b[0m\u001b[0;34m]\u001b[0m \u001b[0;34m=\u001b[0m \u001b[0mconvert_gr\u001b[0m\u001b[0;34m[\u001b[0m\u001b[0mingr\u001b[0m\u001b[0;34m[\u001b[0m\u001b[0;36m1\u001b[0m\u001b[0;34m]\u001b[0m\u001b[0;34m]\u001b[0m\u001b[0;34m\u001b[0m\u001b[0;34m\u001b[0m\u001b[0m\n\u001b[0m\u001b[1;32m     95\u001b[0m             \u001b[0;32mtry\u001b[0m\u001b[0;34m:\u001b[0m\u001b[0;34m\u001b[0m\u001b[0;34m\u001b[0m\u001b[0m\n",
      "\u001b[0;31mKeyError\u001b[0m: ''",
      "\nDuring handling of the above exception, another exception occurred:\n",
      "\u001b[0;31mTypeError\u001b[0m                                 Traceback (most recent call last)",
      "\u001b[0;32m<ipython-input-8-10cb20ee03e4>\u001b[0m in \u001b[0;36m<module>\u001b[0;34m\u001b[0m\n\u001b[0;32m----> 1\u001b[0;31m \u001b[0mfind_swapping\u001b[0m\u001b[0;34m(\u001b[0m\u001b[0mrecipe3\u001b[0m\u001b[0;34m)\u001b[0m\u001b[0;34m\u001b[0m\u001b[0;34m\u001b[0m\u001b[0m\n\u001b[0m",
      "\u001b[0;32m<ipython-input-6-40932ec96174>\u001b[0m in \u001b[0;36mfind_swapping\u001b[0;34m(recipe)\u001b[0m\n\u001b[1;32m      2\u001b[0m     \u001b[0mswappings\u001b[0m \u001b[0;34m=\u001b[0m \u001b[0;34m[\u001b[0m\u001b[0;34m]\u001b[0m\u001b[0;34m\u001b[0m\u001b[0;34m\u001b[0m\u001b[0m\n\u001b[1;32m      3\u001b[0m \u001b[0;34m\u001b[0m\u001b[0m\n\u001b[0;32m----> 4\u001b[0;31m     \u001b[0mrecipe_info\u001b[0m \u001b[0;34m=\u001b[0m \u001b[0mch\u001b[0m\u001b[0;34m.\u001b[0m\u001b[0mmap_one_recipe_usda\u001b[0m\u001b[0;34m(\u001b[0m\u001b[0mrecipe\u001b[0m\u001b[0;34m,\u001b[0m \u001b[0mmapping_usda_id\u001b[0m\u001b[0;34m,\u001b[0m \u001b[0mconvert_gr\u001b[0m\u001b[0;34m,\u001b[0m \u001b[0munit_quantities\u001b[0m\u001b[0;34m)\u001b[0m\u001b[0;34m\u001b[0m\u001b[0;34m\u001b[0m\u001b[0m\n\u001b[0m\u001b[1;32m      5\u001b[0m \u001b[0;34m\u001b[0m\u001b[0m\n\u001b[1;32m      6\u001b[0m     \u001b[0mbest_score\u001b[0m \u001b[0;34m=\u001b[0m \u001b[0;34m-\u001b[0m\u001b[0;36m1\u001b[0m\u001b[0;34m\u001b[0m\u001b[0;34m\u001b[0m\u001b[0m\n",
      "\u001b[0;32m~/Github/Project/python/compute_healthiness.py\u001b[0m in \u001b[0;36mmap_one_recipe_usda\u001b[0;34m(recipe, mapping_usda_id, convert_gr, unit_quantities)\u001b[0m\n\u001b[1;32m    102\u001b[0m                     \u001b[0mprint\u001b[0m\u001b[0;34m(\u001b[0m\u001b[0mingr\u001b[0m\u001b[0;34m[\u001b[0m\u001b[0;36m2\u001b[0m\u001b[0;34m]\u001b[0m\u001b[0;34m)\u001b[0m\u001b[0;34m\u001b[0m\u001b[0;34m\u001b[0m\u001b[0m\n\u001b[1;32m    103\u001b[0m                     \u001b[0mprint\u001b[0m\u001b[0;34m(\u001b[0m\u001b[0mclean\u001b[0m\u001b[0;34m.\u001b[0m\u001b[0mclean_ingredient\u001b[0m\u001b[0;34m(\u001b[0m\u001b[0mingr\u001b[0m\u001b[0;34m[\u001b[0m\u001b[0;36m2\u001b[0m\u001b[0;34m]\u001b[0m\u001b[0;34m)\u001b[0m\u001b[0;34m)\u001b[0m\u001b[0;34m\u001b[0m\u001b[0;34m\u001b[0m\u001b[0m\n\u001b[0;32m--> 104\u001b[0;31m                     \u001b[0mingr\u001b[0m\u001b[0;34m[\u001b[0m\u001b[0;36m1\u001b[0m\u001b[0;34m]\u001b[0m \u001b[0;34m=\u001b[0m \u001b[0munit_quantities\u001b[0m\u001b[0;34m[\u001b[0m\u001b[0mclean\u001b[0m\u001b[0;34m.\u001b[0m\u001b[0mclean_ingredient\u001b[0m\u001b[0;34m(\u001b[0m\u001b[0mingr\u001b[0m\u001b[0;34m[\u001b[0m\u001b[0;36m2\u001b[0m\u001b[0;34m]\u001b[0m\u001b[0;34m)\u001b[0m\u001b[0;34m]\u001b[0m\u001b[0;34m\u001b[0m\u001b[0;34m\u001b[0m\u001b[0m\n\u001b[0m\u001b[1;32m    105\u001b[0m                     \u001b[0;32mtry\u001b[0m\u001b[0;34m:\u001b[0m\u001b[0;34m\u001b[0m\u001b[0;34m\u001b[0m\u001b[0m\n\u001b[1;32m    106\u001b[0m                         \u001b[0mingr\u001b[0m\u001b[0;34m[\u001b[0m\u001b[0;36m2\u001b[0m\u001b[0;34m]\u001b[0m \u001b[0;34m=\u001b[0m \u001b[0mmapping_usda_id\u001b[0m\u001b[0;34m[\u001b[0m\u001b[0mclean\u001b[0m\u001b[0;34m.\u001b[0m\u001b[0mclean_ingredient\u001b[0m\u001b[0;34m(\u001b[0m\u001b[0mingr\u001b[0m\u001b[0;34m[\u001b[0m\u001b[0;36m2\u001b[0m\u001b[0;34m]\u001b[0m\u001b[0;34m)\u001b[0m\u001b[0;34m]\u001b[0m\u001b[0;34m\u001b[0m\u001b[0;34m\u001b[0m\u001b[0m\n",
      "\u001b[0;31mTypeError\u001b[0m: list indices must be integers or slices, not str"
     ]
    }
   ],
   "source": [
    "find_swapping(recipe3)"
   ]
  },
  {
   "cell_type": "code",
   "execution_count": null,
   "metadata": {},
   "outputs": [],
   "source": [
    "ing_ref = \"carrot\"\n",
    "closest_refs = food_embeddings.wv.most_similar(ing_ref, topn=50)\n",
    "    \n",
    "print(list(filter(lambda x : ing_ref     in x[0], closest_refs)))\n",
    "print(\"\\n\\n\")\n",
    "print(list(filter(lambda x : ing_ref not in x[0], closest_refs)))"
   ]
  }
 ],
 "metadata": {
  "kernelspec": {
   "display_name": "Python 3",
   "language": "python",
   "name": "python3"
  },
  "language_info": {
   "codemirror_mode": {
    "name": "ipython",
    "version": 3
   },
   "file_extension": ".py",
   "mimetype": "text/x-python",
   "name": "python",
   "nbconvert_exporter": "python",
   "pygments_lexer": "ipython3",
   "version": "3.6.7"
  }
 },
 "nbformat": 4,
 "nbformat_minor": 2
}

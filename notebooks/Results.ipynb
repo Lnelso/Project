{
 "cells": [
  {
   "cell_type": "code",
   "execution_count": 1,
   "metadata": {},
   "outputs": [],
   "source": [
    "import json\n",
    "import numpy as np\n",
    "import pandas as pd\n",
    "import matplotlib.pyplot as plt\n",
    "import h5py\n",
    "from gensim import models\n",
    "import sys\n",
    "sys.path.insert(0, \"/home/luke/Github/Project/python\")\n",
    "import compute_healthiness as ch\n",
    "import clean_recipes_datasets as clean"
   ]
  },
  {
   "cell_type": "markdown",
   "metadata": {},
   "source": [
    "### load data"
   ]
  },
  {
   "cell_type": "code",
   "execution_count": 2,
   "metadata": {},
   "outputs": [],
   "source": [
    "embeddings_path = \"../generated/food_embeddings.bin\"\n",
    "food_embeddings = models.Word2Vec.load(embeddings_path)\n",
    "\n",
    "# Table of conversion for the unit found in 1M\n",
    "with open('../generated/convert_gr.json') as json_data:\n",
    "    convert_gr = json.load(json_data)\n",
    "    \n",
    "# Mapping from ingredient to USDA id\n",
    "with open('../generated/ing_id_mapping.json') as json_data:\n",
    "    mapping_usda_id = json.load(json_data)\n",
    "    \n",
    "#nutrients table\n",
    "nutrients_mapping = pd.read_hdf(\"../generated/nut_data.h5\", 'table')\n",
    "\n",
    "id_repr = json.load(open(\"../generated/id_repr.json\"))\n",
    "repr_ids = json.load(open(\"../generated/repr_ids.json\"))"
   ]
  },
  {
   "cell_type": "markdown",
   "metadata": {},
   "source": [
    "### define example recipes"
   ]
  },
  {
   "cell_type": "code",
   "execution_count": 3,
   "metadata": {},
   "outputs": [],
   "source": [
    "recipe1 = [[1.0, 'c.', 'elbow macaroni'],\n",
    "  [1.0, 'c.', 'American cheese'],\n",
    "  [0.5, 'c.', 'celery'],\n",
    "  [0.5, 'c.', 'green peppers'],\n",
    "  [3.0, 'tbsp', 'pimentos'],\n",
    "  [0.5, 'c.', 'mayonnaise'],\n",
    "  [1.0, 'tbsp', 'vinegar'],\n",
    "  [0.75, 'teaspoon', 'salt'],\n",
    "  [0.5, 'teaspoon', 'dry dill weed']]\n",
    "\n",
    "recipe2 = [[12.0, 'cup', 'shredded coconut'],\n",
    "  [1.0, 'lb', 'lean ground beef'],\n",
    "  [1.5, 'tablespoon', 'fresh garlic'],\n",
    "  [2.5, 'g', 'kosher salt'],\n",
    "  [1.0, 'tablespoon', 'lemon juice'],\n",
    "  [1.0, 'tablespoon', 'soy sauce'],\n",
    "  [2.0, 'tablespoon', 'cornstarch'],\n",
    "  [8.0, 'ounce', 'pineapple chunks'],\n",
    "  [16.0, 'ounce', 'mandarin oranges'],\n",
    "  [12.0, 'cup', 'cashew nuts']]\n",
    "\n",
    "recipe3 = [[1.0, 'lb', 'lean ground beef'],\n",
    "    [1.0, '', 'onion'],\n",
    "    [1, 'tsp', 'chili powder'],\n",
    "    [0.5, 'tsp', 'salt'],\n",
    "    [0.5, 'tsp', 'garlic powder'],\n",
    "    [8, 'oz', 'tomato sauce'],\n",
    "    [10, 'oz', 'taco shells'],\n",
    "    [6, 'oz', 'cheddar cheese'],\n",
    "    [2, 'c.', 'lettuce'],\n",
    "    [2, '', 'tomatoes'],\n",
    "    [0.75, 'c.', 'salsa'],\n",
    "    [0.75, 'c.', 'sour cream']]"
   ]
  },
  {
   "cell_type": "markdown",
   "metadata": {},
   "source": [
    "### design recommender"
   ]
  },
  {
   "cell_type": "markdown",
   "metadata": {},
   "source": [
    "We first estmate the healthiness score for a given recipe"
   ]
  },
  {
   "cell_type": "code",
   "execution_count": 4,
   "metadata": {},
   "outputs": [
    {
     "name": "stdout",
     "output_type": "stream",
     "text": [
      "shredded coconut    : 35.90% =>  content(grams): (fat=346.3680, sat_fat=308.7206, sugar=693.6576, salt=3.7018)\n",
      "lean ground beef    : 10.60% =>  content(grams): (fat=12.2016, sat_fat= 4.6811, sugar= 0.0000, salt=0.2495)\n",
      "fresh garlic        :  0.50% =>  content(grams): (fat= 0.1073, sat_fat= 0.0191, sugar= 0.2145, salt=0.0036)\n",
      "kosher salt         :  0.06% =>  content(grams): (fat= 0.0000, sat_fat= 0.0000, sugar= 0.0000, salt=0.9690)\n",
      "lemon juice         :  0.33% =>  content(grams): (fat= 0.0343, sat_fat= 0.0057, sugar= 0.3604, salt=0.0001)\n",
      "soy sauce           :  0.33% =>  content(grams): (fat= 0.0143, sat_fat= 0.0016, sugar= 0.2431, salt=0.7988)\n",
      "cornstarch          :  0.67% =>  content(grams): (fat= 0.0143, sat_fat= 0.0026, sugar= 0.0000, salt=0.0026)\n",
      "pineapple chunks    :  5.24% =>  content(grams): (fat= 0.2240, sat_fat= 0.0157, sugar=47.2640, salt=0.0045)\n",
      "mandarin oranges    : 10.47% =>  content(grams): (fat= 1.3888, sat_fat= 0.1747, sugar=47.3984, salt=0.0090)\n",
      "cashew nuts         : 35.90% =>  content(grams): (fat=673.5360, sat_fat=119.5469, sugar=90.7776, salt=0.1843)\n"
     ]
    },
    {
     "data": {
      "text/plain": [
       "{'fat': 35.10995253309952,\n",
       " 'sat_fat': 57.20625283038799,\n",
       " 'sugar': 22.567201387697597,\n",
       " 'salt': 1.384310411798608,\n",
       " 'total': 116.26771716298371}"
      ]
     },
     "execution_count": 4,
     "metadata": {},
     "output_type": "execute_result"
    }
   ],
   "source": [
    "input_recipe = recipe2\n",
    "ch.compute_healthiness(input_recipe, mapping_usda_id, nutrients_mapping, convert_gr)"
   ]
  },
  {
   "cell_type": "markdown",
   "metadata": {},
   "source": [
    "We now design a strategy for finding replacements"
   ]
  },
  {
   "cell_type": "code",
   "execution_count": 31,
   "metadata": {},
   "outputs": [],
   "source": [
    "def health_similarity_score(similarity, health) :\n",
    "    if health <= 7 :\n",
    "        return similarity\n",
    "    else :\n",
    "        return (similarity**2 / health) \n",
    "        \n",
    "\n",
    "def find_swaps(ing_id, threshold=0.45) : \n",
    "    \n",
    "    try :        \n",
    "        ing_ref = id_repr[str(ing_id)] \n",
    "        \n",
    "    except KeyError:\n",
    "        print(\"The ingredient with id\", ing_id, \"has never been seen before\")  \n",
    "        return None\n",
    "    \n",
    "    closest_refs = food_embeddings.wv.most_similar(ing_ref, topn=50)\n",
    "    \n",
    "    to_consider = []\n",
    "    \n",
    "    closest_refs_and_contains = list(filter(lambda x : (ing_ref     in x[0]) and (x[1] >= threshold), closest_refs))\n",
    "    closest_refs_not_contains = list(filter(lambda x : (ing_ref not in x[0]) and (x[1] >= threshold), closest_refs))\n",
    "    \n",
    "    if len(closest_refs_not_contains) == 0 :\n",
    "        to_consider = closest_refs_and_contains\n",
    "    else :\n",
    "        to_consider = closest_refs_not_contains\n",
    "        \n",
    "    if len(to_consider) == 0 :\n",
    "        return None\n",
    "    \n",
    "    else :\n",
    "        entries = []\n",
    "        fat, sat_fat, sugar, salt = ch.compute_profile([(100, ing_id)], nutrients_mapping)\n",
    "        base_score = ch.score(fat, sat_fat, sugar, salt)['total']\n",
    "        \n",
    "        for ref in to_consider :\n",
    "            \n",
    "            best_id = -1\n",
    "            best_score = np.inf\n",
    "            \n",
    "            for collided_id in repr_ids[ref[0]] :\n",
    "                fat, sat_fat, sugar, salt = ch.compute_profile([(100, collided_id)], nutrients_mapping)\n",
    "                score = ch.score(fat, sat_fat, sugar, salt)['total']\n",
    "                \n",
    "                if score < best_score :\n",
    "                    best_id = collided_id\n",
    "                    best_score = score\n",
    "            \n",
    "            \n",
    "            if (score < base_score) :\n",
    "                entries.append((ref[0], ref[1], score))\n",
    "                \n",
    "        return sorted(entries, key=lambda x : health_similarity_score(x[1], x[2]), reverse=True)[0]"
   ]
  },
  {
   "cell_type": "code",
   "execution_count": null,
   "metadata": {},
   "outputs": [],
   "source": [
    "def "
   ]
  },
  {
   "cell_type": "code",
   "execution_count": 37,
   "metadata": {},
   "outputs": [
    {
     "data": {
      "text/plain": [
       "('eggplant', 0.5672319531440735, 2.386)"
      ]
     },
     "execution_count": 37,
     "metadata": {},
     "output_type": "execute_result"
    }
   ],
   "source": [
    "find_swaps(mapping_usda_id[\"lamb\"])"
   ]
  },
  {
   "cell_type": "code",
   "execution_count": 13,
   "metadata": {},
   "outputs": [
    {
     "name": "stdout",
     "output_type": "stream",
     "text": [
      "[]\n",
      "\n",
      "\n",
      "\n",
      "[('marrow', 0.5013813972473145), ('barley', 0.49812817573547363), ('turnip', 0.4500754475593567), ('vegetable', 0.4114275872707367), ('beef shank', 0.4037729501724243), ('leek', 0.39629676938056946), ('bouillon', 0.3956068158149719), ('kielbasa', 0.3881249725818634), ('fava bean', 0.38158679008483887), ('parsnip', 0.36232221126556396), ('yellow bean', 0.36217039823532104), ('cranberry bean', 0.35601702332496643), ('lamb neck', 0.35586971044540405), ('celeriac', 0.35531941056251526), ('lentil', 0.3484030067920685), ('white potato', 0.34645459055900574), ('rutabaga', 0.3420451283454895), ('lima bean', 0.34195131063461304), ('salt pork', 0.3323369026184082), ('french lentil', 0.33201396465301514), ('rice', 0.32865625619888306), ('stewing chicken', 0.32775914669036865), ('enoki mushroom', 0.3265804350376129), ('broth', 0.3265687823295593), ('fish bone', 0.32590949535369873), ('beef sausage', 0.3233147859573364), ('medium-grain rice', 0.32107189297676086), ('chicken giblet', 0.3209991753101349), ('corn cob', 0.32065412402153015), ('kohlrabi', 0.31699419021606445), ('miso', 0.31675034761428833), ('chicken noodle soup', 0.3153720498085022), ('pork hock', 0.3144797086715698), ('millet', 0.31339162588119507), ('chicken noodle soup mix', 0.31305545568466187), ('sausage', 0.3127533793449402), ('chicken neck', 0.31178027391433716), ('polish sausage', 0.31099116802215576), ('black rice', 0.3106710910797119), ('savory', 0.3082682490348816), ('pork belly', 0.3077329993247986), ('soybean', 0.30626821517944336), ('garbanzo bean', 0.30388420820236206), ('dumpling', 0.3038332462310791), ('chard', 0.30130648612976074), ('shoyu', 0.2991991639137268), ('gravy', 0.29802072048187256), ('chinese vegetable', 0.29785680770874023), ('squash', 0.2968143820762634), ('tempeh', 0.2966303825378418)]\n"
     ]
    }
   ],
   "source": [
    "ing_ref = \"carrot\"\n",
    "closest_refs = food_embeddings.wv.most_similar(ing_ref, topn=50)\n",
    "    \n",
    "print(list(filter(lambda x : ing_ref     in x[0], closest_refs)))\n",
    "print(\"\\n\\n\")\n",
    "print(list(filter(lambda x : ing_ref not in x[0], closest_refs)))"
   ]
  }
 ],
 "metadata": {
  "kernelspec": {
   "display_name": "Python 3",
   "language": "python",
   "name": "python3"
  },
  "language_info": {
   "codemirror_mode": {
    "name": "ipython",
    "version": 3
   },
   "file_extension": ".py",
   "mimetype": "text/x-python",
   "name": "python",
   "nbconvert_exporter": "python",
   "pygments_lexer": "ipython3",
   "version": "3.6.7"
  }
 },
 "nbformat": 4,
 "nbformat_minor": 2
}

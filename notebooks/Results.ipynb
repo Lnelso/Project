{
 "cells": [
  {
   "cell_type": "code",
   "execution_count": 1,
   "metadata": {},
   "outputs": [],
   "source": [
    "import json\n",
    "import numpy as np\n",
    "import pandas as pd\n",
    "import matplotlib.pyplot as plt\n",
    "import h5py\n",
    "from gensim import models\n",
    "import sys\n",
    "sys.path.insert(0, \"/home/luke/Github/Project/python\")\n",
    "import compute_healthiness as ch\n",
    "import clean_recipes_datasets as clean"
   ]
  },
  {
   "cell_type": "markdown",
   "metadata": {},
   "source": [
    "### load data"
   ]
  },
  {
   "cell_type": "code",
   "execution_count": 2,
   "metadata": {},
   "outputs": [],
   "source": [
    "embeddings_path = \"../generated/food_embeddings.bin\"\n",
    "food_embeddings = models.Word2Vec.load(embeddings_path)\n",
    "\n",
    "# Table of conversion for the unit found in 1M\n",
    "with open('../generated/convert_gr.json') as json_data:\n",
    "    convert_gr = json.load(json_data)\n",
    "    \n",
    "# Mapping from ingredient to USDA id\n",
    "with open('../generated/ing_id_mapping.json') as json_data:\n",
    "    mapping_usda_id = json.load(json_data)\n",
    "    \n",
    "#nutrients table\n",
    "nutrients_mapping = pd.read_hdf(\"../generated/nut_data.h5\", 'table')\n",
    "\n",
    "id_repr = json.load(open(\"../generated/id_repr.json\"))\n",
    "repr_ids = json.load(open(\"../generated/repr_ids.json\"))\n",
    "unit_quantities = json.load(open(\"../generated/1m_unit_quantities.json\"))"
   ]
  },
  {
   "cell_type": "markdown",
   "metadata": {},
   "source": [
    "### define example recipes"
   ]
  },
  {
   "cell_type": "code",
   "execution_count": 18,
   "metadata": {},
   "outputs": [],
   "source": [
    "recipe1 = [[1.0, 'c.', 'elbow macaroni'],\n",
    "  [1.0, 'c.', 'American cheese'],\n",
    "  [0.5, 'c.', 'celery'],\n",
    "  [0.5, 'c.', 'green peppers'],\n",
    "  [3.0, 'tbsp', 'pimentos'],\n",
    "  [0.5, 'c.', 'mayonnaise'],\n",
    "  [1.0, 'tbsp', 'vinegar'],\n",
    "  [0.75, 'teaspoon', 'salt'],\n",
    "  [0.5, 'teaspoon', 'dry dill weed']]\n",
    "\n",
    "recipe2 = [[12.0, 'cup', 'shredded coconut'],\n",
    "  [1.0, 'lb', 'lean ground beef'],\n",
    "  [1.5, 'tablespoon', 'fresh garlic'],\n",
    "  [2.5, 'g', 'kosher salt'],\n",
    "  [1.0, 'tablespoon', 'lemon juice'],\n",
    "  [1.0, 'tablespoon', 'soy sauce'],\n",
    "  [2.0, 'tablespoon', 'cornstarch'],\n",
    "  [8.0, 'ounce', 'pineapple chunks'],\n",
    "  [16.0, 'ounce', 'mandarin oranges'],\n",
    "  [12.0, 'cup', 'cashew nuts']]\n",
    "\n",
    "recipe3 = [[1.0, 'lb', 'lean ground beef'],\n",
    "    [1.0, '', 'onion'],\n",
    "    [1, 'tsp', 'chili powder'],\n",
    "    [0.5, 'tsp', 'salt'],\n",
    "    [0.5, 'tsp', 'garlic powder'],\n",
    "    [8, 'oz', 'tomato sauce'],\n",
    "    [10, 'oz', 'taco shells'],\n",
    "    [6, 'oz', 'cheddar cheese'],\n",
    "    [2, 'c.', 'lettuce'],\n",
    "    [2, '', 'tomatoes'],\n",
    "    [0.75, 'c.', 'salsa'],\n",
    "    [0.75, 'c.', 'sour cream']]"
   ]
  },
  {
   "cell_type": "markdown",
   "metadata": {},
   "source": [
    "### design recommender"
   ]
  },
  {
   "cell_type": "markdown",
   "metadata": {},
   "source": [
    "We first estmate the healthiness score for a given recipe"
   ]
  },
  {
   "cell_type": "code",
   "execution_count": 4,
   "metadata": {},
   "outputs": [
    {
     "name": "stdout",
     "output_type": "stream",
     "text": [
      "shredded coconut    : 35.90% =>  content(grams): (fat=346.3680, sat_fat=308.7206, sugar=693.6576, salt=3.7018, energy=7065.6000)\n",
      "lean ground beef    : 10.60% =>  content(grams): (fat=12.2016, sat_fat= 4.6811, sugar= 0.0000, salt=0.2495, energy=530.7026)\n",
      "fresh garlic        :  0.50% =>  content(grams): (fat= 0.1073, sat_fat= 0.0191, sugar= 0.2145, salt=0.0036, energy=31.9605)\n",
      "kosher salt         :  0.06% =>  content(grams): (fat= 0.0000, sat_fat= 0.0000, sugar= 0.0000, salt=0.9690, energy=0.0000)\n",
      "lemon juice         :  0.33% =>  content(grams): (fat= 0.0343, sat_fat= 0.0057, sugar= 0.3604, salt=0.0001, energy=3.1460)\n",
      "soy sauce           :  0.33% =>  content(grams): (fat= 0.0143, sat_fat= 0.0016, sugar= 0.2431, salt=0.7988, energy=8.5800)\n",
      "cornstarch          :  0.67% =>  content(grams): (fat= 0.0143, sat_fat= 0.0026, sugar= 0.0000, salt=0.0026, energy=108.9660)\n",
      "pineapple chunks    :  5.24% =>  content(grams): (fat= 0.2240, sat_fat= 0.0157, sugar=47.2640, salt=0.0045, energy=192.6400)\n",
      "mandarin oranges    : 10.47% =>  content(grams): (fat= 1.3888, sat_fat= 0.1747, sugar=47.3984, salt=0.0090, energy=237.4400)\n",
      "cashew nuts         : 35.90% =>  content(grams): (fat=673.5360, sat_fat=119.5469, sugar=90.7776, salt=0.1843, energy=8494.0800)\n"
     ]
    },
    {
     "data": {
      "text/plain": [
       "{'fat': 35.10995253309952,\n",
       " 'sat_fat': 57.20625283038799,\n",
       " 'sugar': 22.567201387697597,\n",
       " 'salt': 1.384310411798608,\n",
       " 'energy': 23.864062974584588,\n",
       " 'total': 140.1317801375683}"
      ]
     },
     "execution_count": 4,
     "metadata": {},
     "output_type": "execute_result"
    }
   ],
   "source": [
    "input_recipe = recipe2\n",
    "ch.compute_healthiness(input_recipe, mapping_usda_id, nutrients_mapping, convert_gr, unit_quantities)"
   ]
  },
  {
   "cell_type": "markdown",
   "metadata": {},
   "source": [
    "We now design a strategy for finding replacements"
   ]
  },
  {
   "cell_type": "code",
   "execution_count": 5,
   "metadata": {},
   "outputs": [],
   "source": [
    "#the bigger the better\n",
    "def health_similarity_score(similarity, health) :\n",
    "    if health <= 7 :\n",
    "        return similarity\n",
    "    else :\n",
    "        return (similarity**2 / health) \n",
    "        \n",
    "\n",
    "def find_swaps(ing_id, threshold=0.45, nb=1) : \n",
    "    \n",
    "    try :        \n",
    "        ing_ref = id_repr[str(ing_id)] \n",
    "        \n",
    "    except KeyError:\n",
    "        print(\"The ingredient with id\", ing_id, \"has never been seen before\")  \n",
    "        return None\n",
    "    \n",
    "    closest_refs = food_embeddings.wv.most_similar(ing_ref, topn=50)\n",
    "    \n",
    "    to_consider = []\n",
    "    \n",
    "    closest_refs_and_contains = list(filter(lambda x : (ing_ref     in x[0]) and (x[1] >= threshold), closest_refs))\n",
    "    closest_refs_not_contains = list(filter(lambda x : (ing_ref not in x[0]) and (x[1] >= threshold), closest_refs))\n",
    "    \n",
    "    if len(closest_refs_not_contains) == 0 :\n",
    "        to_consider = closest_refs_and_contains\n",
    "    else :\n",
    "        to_consider = closest_refs_not_contains\n",
    "        \n",
    "    if len(to_consider) == 0 :\n",
    "        return None\n",
    "    \n",
    "    else :\n",
    "        entries = []\n",
    "        fat, sat_fat, sugar, salt, energy = ch.compute_profile([(100.0, ing_id)], nutrients_mapping)\n",
    "        base_score = ch.score(fat, sat_fat, sugar, salt, energy)['total']\n",
    "        for ref in to_consider :\n",
    "            \n",
    "            best_id = -1\n",
    "            best_score = np.inf\n",
    "            \n",
    "            for collided_id in repr_ids[ref[0]] :\n",
    "                fat, sat_fat, sugar, salt, energy = ch.compute_profile([(100.0, collided_id)], nutrients_mapping)\n",
    "                score = ch.score(fat, sat_fat, sugar, salt, energy)['total']\n",
    "\n",
    "                if score < best_score :\n",
    "                    best_id = collided_id\n",
    "                    best_score = score\n",
    "            \n",
    "            \n",
    "            if (score < base_score) :\n",
    "                entries.append((ref[0], ref[1], score))\n",
    "        if len(entries) == 0 :\n",
    "            return None\n",
    "        else:\n",
    "            return sorted(entries, key=lambda x : health_similarity_score(x[1], x[2]), reverse=True)[:nb]"
   ]
  },
  {
   "cell_type": "code",
   "execution_count": 12,
   "metadata": {},
   "outputs": [],
   "source": [
    "def find_swapping(recipe) :\n",
    "    swappings = []\n",
    "    \n",
    "    recipe_info = ch.map_one_recipe_usda(recipe, mapping_usda_id, convert_gr, unit_quantities)\n",
    "    if recipe_info is None :\n",
    "        print(\"No swapping found\")\n",
    "    \n",
    "    best_score = -1\n",
    "    best_swap = (None, None) \n",
    "    \n",
    "    for e, (quant, ingr) in enumerate(recipe_info) :\n",
    "        print\n",
    "        swap = find_swaps(ingr)\n",
    "\n",
    "        if swap is not None :\n",
    "            swap = swap[0]\n",
    "            recipe_copy = [i for i in recipe_info]\n",
    "            recipe_copy[e] = (recipe_copy[e][0],mapping_usda_id[swap[0]])\n",
    "            \n",
    "            fat, sat_fat, sugar, salt, energy = ch.compute_profile(recipe_copy, nutrients_mapping)\n",
    "            score = ch.score(fat, sat_fat, sugar, salt, energy)['total']\n",
    "            score = health_similarity_score(swap[1], score)\n",
    "            \n",
    "            if score > best_score :\n",
    "                best_score = score\n",
    "                best_swap = (recipe[e][2], swap[0])\n",
    "                \n",
    "    return best_swap\n",
    "\n",
    "def find_consecutive_swappings(recipe, nb_swaps=3) :\n",
    "    recipe_copy = [ing.copy() for ing in recipe]\n",
    "    swaps = []\n",
    "    \n",
    "    for swap_iter in range(nb_swaps) :\n",
    "        current_swap = find_swapping(recipe)\n",
    "        swaps.append(current_swap)\n",
    "        \n",
    "        #replace ingredient in recipe\n",
    "        for e, ing in enumerate(recipe) :\n",
    "            if ing[2] == current_swap[0] :\n",
    "                recipe[e][2] = current_swap[1]\n",
    "                \n",
    "    return swaps, recipe"
   ]
  },
  {
   "cell_type": "code",
   "execution_count": 20,
   "metadata": {},
   "outputs": [
    {
     "name": "stdout",
     "output_type": "stream",
     "text": [
      "[('artichoke', 'asparagu'), ('asparagu', 'fiddlehead'), ('tuna in water', 'surimi'), ('surimi', 'alfalfa'), ('alfalfa', 'green lettuce'), ('green lettuce', 'lettuce'), ('green peppers', 'kidney bean'), ('kidney bean', 'tomato'), ('tomato', 'yellow pepper'), (None, None), (None, None), (None, None), (None, None), (None, None), (None, None), (None, None), (None, None), (None, None), (None, None), (None, None), (None, None), (None, None), (None, None), (None, None), (None, None), (None, None), (None, None), (None, None), (None, None), (None, None), (None, None), (None, None), (None, None), (None, None), (None, None), (None, None), (None, None), (None, None), (None, None), (None, None), (None, None), (None, None), (None, None), (None, None), (None, None), (None, None), (None, None), (None, None), (None, None), (None, None), (None, None), (None, None), (None, None), (None, None), (None, None), (None, None), (None, None), (None, None), (None, None), (None, None), (None, None), (None, None), (None, None), (None, None), (None, None), (None, None), (None, None), (None, None), (None, None), (None, None), (None, None), (None, None), (None, None), (None, None), (None, None), (None, None), (None, None), (None, None), (None, None), (None, None), (None, None), (None, None), (None, None), (None, None), (None, None), (None, None), (None, None), (None, None), (None, None), (None, None), (None, None), (None, None), (None, None), (None, None), (None, None), (None, None), (None, None), (None, None), (None, None), (None, None)]\n",
      "\n",
      "[[1.0, 'c.', 'yellow pepper'], [1.0, 'c.', 'lettuce'], [0.5, 'c.', 'celery'], [0.5, 'c.', 'yellow pepper'], [3.0, 'tbsp', 'pimentos'], [0.5, 'c.', 'lettuce'], [1.0, 'tbsp', 'wine vinegar'], [0.75, 'teaspoon', 'salt'], [0.5, 'teaspoon', 'fiddlehead']]\n"
     ]
    }
   ],
   "source": [
    "swaps, recipe = find_consecutive_swappings(recipe1, nb_swaps=100)\n",
    "print(swaps)\n",
    "print()\n",
    "print(recipe)"
   ]
  },
  {
   "cell_type": "code",
   "execution_count": 7,
   "metadata": {},
   "outputs": [
    {
     "name": "stderr",
     "output_type": "stream",
     "text": [
      "/home/luke/anaconda3/lib/python3.6/site-packages/gensim/matutils.py:737: FutureWarning: Conversion of the second argument of issubdtype from `int` to `np.signedinteger` is deprecated. In future, it will be treated as `np.int64 == np.dtype(int).type`.\n",
      "  if np.issubdtype(vec.dtype, np.int):\n"
     ]
    },
    {
     "data": {
      "text/plain": [
       "[('raspberry puree', 0.5070383548736572, 6.920142857142857),\n",
       " ('gooseberry', 0.4925079643726349, 1.326),\n",
       " ('raspberry', 0.4789777994155884, 4.13),\n",
       " ('boysenberry', 0.4786318242549896, 6.414),\n",
       " ('cherry pie filling', 0.4575006067752838, 2.011),\n",
       " ('espresso', 0.450120210647583, 0.639),\n",
       " ('cream of tartar', 0.6337701082229614, 9.899999999999999),\n",
       " ('sour cherry', 0.46027106046676636, 8.603428571428573),\n",
       " ('black cherry', 0.49835866689682007, 14.118285714285713),\n",
       " ('pudding rice', 0.5060806274414062, 18.440571428571428)]"
      ]
     },
     "execution_count": 7,
     "metadata": {},
     "output_type": "execute_result"
    }
   ],
   "source": [
    "find_swaps(mapping_usda_id[\"egg yolk\"], nb=10)"
   ]
  },
  {
   "cell_type": "code",
   "execution_count": 11,
   "metadata": {},
   "outputs": [
    {
     "data": {
      "text/plain": [
       "('elbow macaroni', 'pasta')"
      ]
     },
     "execution_count": 11,
     "metadata": {},
     "output_type": "execute_result"
    }
   ],
   "source": [
    "find_swapping(recipe1)"
   ]
  },
  {
   "cell_type": "code",
   "execution_count": 10,
   "metadata": {},
   "outputs": [
    {
     "name": "stdout",
     "output_type": "stream",
     "text": [
      "We suggest to replace veal by rabbit\n"
     ]
    }
   ],
   "source": [
    "marmiton_top1 = [[1000, \"g\", \"veal\"], \n",
    "                 [1, \"tsp\", \"chicken broth\"], \n",
    "                 [2, \"\", \"carrots\"], \n",
    "                 [1, \"\", \"onion\"],\n",
    "                [1, \"cup\", \"mushrooms\"], \n",
    "                [1, \"cup\", \"cream\"],\n",
    "                [1, \"\", \"lemon\"],\n",
    "                [1, \"\", \"egg yolk\"],\n",
    "                [1, \"cup\", \"flour\"],\n",
    "                [250, \"g\", \"white wine\"],\n",
    "                [2.5, \"g\", \"kosher salt\"],\n",
    "                [2.5, \"g\", \"pepper\"]]\n",
    "\n",
    "best_swap = find_swapping(marmiton_top1)\n",
    "print(\"We suggest to replace \" + best_swap[0] + \" by \" + best_swap[1])"
   ]
  }
 ],
 "metadata": {
  "kernelspec": {
   "display_name": "Python 3",
   "language": "python",
   "name": "python3"
  },
  "language_info": {
   "codemirror_mode": {
    "name": "ipython",
    "version": 3
   },
   "file_extension": ".py",
   "mimetype": "text/x-python",
   "name": "python",
   "nbconvert_exporter": "python",
   "pygments_lexer": "ipython3",
   "version": "3.6.7"
  }
 },
 "nbformat": 4,
 "nbformat_minor": 2
}
